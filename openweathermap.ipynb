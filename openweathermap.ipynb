{
 "cells": [
  {
   "cell_type": "code",
   "execution_count": 2,
   "metadata": {},
   "outputs": [],
   "source": [
    "import requests\n",
    "import pandas as pd\n",
    "import my_key as key\n",
    "import csv\n",
    "import json\n",
    "import plotly.express as px"
   ]
  },
  {
   "cell_type": "code",
   "execution_count": 3,
   "metadata": {},
   "outputs": [],
   "source": [
    "api_key = key.api_key"
   ]
  },
  {
   "cell_type": "code",
   "execution_count": 4,
   "metadata": {},
   "outputs": [
    {
     "data": {
      "text/html": [
       "<div>\n",
       "<style scoped>\n",
       "    .dataframe tbody tr th:only-of-type {\n",
       "        vertical-align: middle;\n",
       "    }\n",
       "\n",
       "    .dataframe tbody tr th {\n",
       "        vertical-align: top;\n",
       "    }\n",
       "\n",
       "    .dataframe thead th {\n",
       "        text-align: right;\n",
       "    }\n",
       "</style>\n",
       "<table border=\"1\" class=\"dataframe\">\n",
       "  <thead>\n",
       "    <tr style=\"text-align: right;\">\n",
       "      <th></th>\n",
       "      <th>City</th>\n",
       "      <th>Latitude</th>\n",
       "      <th>Longitude</th>\n",
       "    </tr>\n",
       "  </thead>\n",
       "  <tbody>\n",
       "    <tr>\n",
       "      <th>0</th>\n",
       "      <td>Mont Saint Michel</td>\n",
       "      <td>48.635954</td>\n",
       "      <td>-1.511460</td>\n",
       "    </tr>\n",
       "    <tr>\n",
       "      <th>1</th>\n",
       "      <td>Saint Malo</td>\n",
       "      <td>48.649518</td>\n",
       "      <td>-2.026041</td>\n",
       "    </tr>\n",
       "    <tr>\n",
       "      <th>2</th>\n",
       "      <td>Bayeux</td>\n",
       "      <td>49.276462</td>\n",
       "      <td>-0.702474</td>\n",
       "    </tr>\n",
       "    <tr>\n",
       "      <th>3</th>\n",
       "      <td>Le Havre</td>\n",
       "      <td>49.493898</td>\n",
       "      <td>0.107973</td>\n",
       "    </tr>\n",
       "    <tr>\n",
       "      <th>4</th>\n",
       "      <td>Rouen</td>\n",
       "      <td>49.440459</td>\n",
       "      <td>1.093966</td>\n",
       "    </tr>\n",
       "  </tbody>\n",
       "</table>\n",
       "</div>"
      ],
      "text/plain": [
       "                City   Latitude  Longitude\n",
       "0  Mont Saint Michel  48.635954  -1.511460\n",
       "1         Saint Malo  48.649518  -2.026041\n",
       "2             Bayeux  49.276462  -0.702474\n",
       "3           Le Havre  49.493898   0.107973\n",
       "4              Rouen  49.440459   1.093966"
      ]
     },
     "execution_count": 4,
     "metadata": {},
     "output_type": "execute_result"
    }
   ],
   "source": [
    "# Changer le chemin du fichier si nécessaire\n",
    "\n",
    "df_gps_data = pd.read_csv(\"gps_data.csv\")\n",
    "df_gps_data.head()\n"
   ]
  },
  {
   "cell_type": "code",
   "execution_count": 5,
   "metadata": {},
   "outputs": [],
   "source": [
    "# Récupère la température et la météo\n",
    "def get_temperature_humidity_weather(latitude, longitude):\n",
    "    url = f\"https://api.openweathermap.org/data/3.0/onecall?lat={latitude}&lon={longitude}&appid={api_key}\"\n",
    "    response = requests.get(url)\n",
    "    data = response.json()\n",
    "    if \"current\" in data:\n",
    "        temperature = data[\"current\"][\"temp\"] - 273.15  # Convertit la température en Celcius\n",
    "        humidity = data[\"current\"][\"humidity\"]\n",
    "        weather = data[\"current\"][\"weather\"][0][\"main\"]\n",
    "        return temperature, humidity, weather\n",
    "    else:\n",
    "        return None, None, None"
   ]
  },
  {
   "cell_type": "code",
   "execution_count": 6,
   "metadata": {},
   "outputs": [
    {
     "name": "stdout",
     "output_type": "stream",
     "text": [
      "City: Mont Saint Michel, Temperature : 16°C, Humidity : 89%, Weather: Clouds\n",
      "City: Saint Malo, Temperature : 16°C, Humidity : 88%, Weather: Clouds\n",
      "City: Bayeux, Temperature : 15°C, Humidity : 91%, Weather: Clouds\n",
      "City: Le Havre, Temperature : 16°C, Humidity : 100%, Weather: Mist\n",
      "City: Rouen, Temperature : 16°C, Humidity : 86%, Weather: Clouds\n",
      "City: Paris, Temperature : 16°C, Humidity : 81%, Weather: Clouds\n",
      "City: Amiens, Temperature : 15°C, Humidity : 83%, Weather: Rain\n",
      "City: Lille, Temperature : 15°C, Humidity : 86%, Weather: Rain\n",
      "City: Strasbourg, Temperature : 16°C, Humidity : 67%, Weather: Clouds\n",
      "City: Chateau du Haut Koenigsbourg, Temperature : 11°C, Humidity : 77%, Weather: Clear\n",
      "City: Colmar, Temperature : 14°C, Humidity : 79%, Weather: Clear\n",
      "City: Eguisheim, Temperature : 14°C, Humidity : 79%, Weather: Clear\n",
      "City: Besancon, Temperature : 10°C, Humidity : 96%, Weather: Clouds\n",
      "City: Dijon, Temperature : 14°C, Humidity : 77%, Weather: Clouds\n",
      "City: Annecy, Temperature : 12°C, Humidity : 87%, Weather: Clear\n",
      "City: Grenoble, Temperature : 13°C, Humidity : 84%, Weather: Clear\n",
      "City: Lyon, Temperature : 13°C, Humidity : 82%, Weather: Rain\n",
      "City: Gorges du Verdon, Temperature : 13°C, Humidity : 72%, Weather: Clear\n",
      "City: Bormes les Mimosas, Temperature : 22°C, Humidity : 44%, Weather: Clear\n",
      "City: Cassis, Temperature : 20°C, Humidity : 42%, Weather: Clear\n",
      "City: Marseille, Temperature : 21°C, Humidity : 46%, Weather: Clouds\n",
      "City: Aix en Provence, Temperature : 19°C, Humidity : 50%, Weather: Clear\n",
      "City: Avignon, Temperature : 19°C, Humidity : 57%, Weather: Clear\n",
      "City: Uzes, Temperature : 18°C, Humidity : 62%, Weather: Clear\n",
      "City: Nimes, Temperature : 18°C, Humidity : 59%, Weather: Clear\n",
      "City: Aigues Mortes, Temperature : 21°C, Humidity : 46%, Weather: Clear\n",
      "City: Saintes Maries de la mer, Temperature : 19°C, Humidity : 56%, Weather: Rain\n",
      "City: Collioure, Temperature : 21°C, Humidity : 62%, Weather: Clear\n",
      "City: Carcassonne, Temperature : 17°C, Humidity : 67%, Weather: Clear\n",
      "City: Ariege, Temperature : 7°C, Humidity : 91%, Weather: Clouds\n",
      "City: Toulouse, Temperature : 17°C, Humidity : 72%, Weather: Clouds\n",
      "City: Montauban, Temperature : 17°C, Humidity : 78%, Weather: Clear\n",
      "City: Biarritz, Temperature : 19°C, Humidity : 63%, Weather: Clouds\n",
      "City: Bayonne, Temperature : 19°C, Humidity : 63%, Weather: Clouds\n",
      "City: La Rochelle, Temperature : 17°C, Humidity : 87%, Weather: Clouds\n",
      "Les résultats ont été enregistrés dans 'meteo_data.csv'\n"
     ]
    }
   ],
   "source": [
    "csv_filename = \"meteo_data.csv\"\n",
    "\n",
    "# Créer un fichier CSV\n",
    "with open('meteo_data.csv', 'w', newline='') as csvfile:\n",
    "    fieldnames = ['City', 'Temperature (°C)', 'Humidity (%)', 'Weather']\n",
    "    writer = csv.DictWriter(csvfile, fieldnames=fieldnames)\n",
    "    writer.writeheader()\n",
    "\n",
    "    # Parcourir les lignes du DataFrame\n",
    "    for index, row in df_gps_data.iterrows():\n",
    "        city = row['City']\n",
    "        latitude = row['Latitude']\n",
    "        longitude = row['Longitude']\n",
    "        temperature, humidity, weather = get_temperature_humidity_weather(latitude, longitude)\n",
    "        if temperature is not None:\n",
    "            temperature = round(temperature)  # Arrondir la température à l'entier le plus proche\n",
    "            writer.writerow({'City': city, 'Temperature (°C)': temperature, 'Humidity (%)': humidity, 'Weather': weather})\n",
    "            print(f\"City: {city}, Temperature : {temperature}°C, Humidity : {humidity}%, Weather: {weather}\")\n",
    "        else:\n",
    "            writer.writerow({'City': city, 'Temperature (°C)': 'N/A', 'Humidity (%)': 'N/A', 'Weather': 'N/A'})\n",
    "\n",
    "print(\"Les résultats ont été enregistrés dans 'meteo_data.csv'\")"
   ]
  },
  {
   "cell_type": "code",
   "execution_count": 7,
   "metadata": {},
   "outputs": [
    {
     "data": {
      "text/html": [
       "<div>\n",
       "<style scoped>\n",
       "    .dataframe tbody tr th:only-of-type {\n",
       "        vertical-align: middle;\n",
       "    }\n",
       "\n",
       "    .dataframe tbody tr th {\n",
       "        vertical-align: top;\n",
       "    }\n",
       "\n",
       "    .dataframe thead th {\n",
       "        text-align: right;\n",
       "    }\n",
       "</style>\n",
       "<table border=\"1\" class=\"dataframe\">\n",
       "  <thead>\n",
       "    <tr style=\"text-align: right;\">\n",
       "      <th></th>\n",
       "      <th>City</th>\n",
       "      <th>Temperature (°C)</th>\n",
       "      <th>Humidity (%)</th>\n",
       "      <th>Weather</th>\n",
       "    </tr>\n",
       "  </thead>\n",
       "  <tbody>\n",
       "    <tr>\n",
       "      <th>0</th>\n",
       "      <td>Mont Saint Michel</td>\n",
       "      <td>16</td>\n",
       "      <td>89</td>\n",
       "      <td>Clouds</td>\n",
       "    </tr>\n",
       "    <tr>\n",
       "      <th>1</th>\n",
       "      <td>Saint Malo</td>\n",
       "      <td>16</td>\n",
       "      <td>88</td>\n",
       "      <td>Clouds</td>\n",
       "    </tr>\n",
       "    <tr>\n",
       "      <th>2</th>\n",
       "      <td>Bayeux</td>\n",
       "      <td>15</td>\n",
       "      <td>91</td>\n",
       "      <td>Clouds</td>\n",
       "    </tr>\n",
       "    <tr>\n",
       "      <th>3</th>\n",
       "      <td>Le Havre</td>\n",
       "      <td>16</td>\n",
       "      <td>100</td>\n",
       "      <td>Mist</td>\n",
       "    </tr>\n",
       "    <tr>\n",
       "      <th>4</th>\n",
       "      <td>Rouen</td>\n",
       "      <td>16</td>\n",
       "      <td>86</td>\n",
       "      <td>Clouds</td>\n",
       "    </tr>\n",
       "  </tbody>\n",
       "</table>\n",
       "</div>"
      ],
      "text/plain": [
       "                City  Temperature (°C)  Humidity (%) Weather\n",
       "0  Mont Saint Michel                16            89  Clouds\n",
       "1         Saint Malo                16            88  Clouds\n",
       "2             Bayeux                15            91  Clouds\n",
       "3           Le Havre                16           100    Mist\n",
       "4              Rouen                16            86  Clouds"
      ]
     },
     "execution_count": 7,
     "metadata": {},
     "output_type": "execute_result"
    }
   ],
   "source": [
    "df_meteo = pd.read_csv(\"meteo_data.csv\")\n",
    "df_meteo.head()"
   ]
  },
  {
   "cell_type": "code",
   "execution_count": 8,
   "metadata": {},
   "outputs": [
    {
     "data": {
      "text/html": [
       "<div>\n",
       "<style scoped>\n",
       "    .dataframe tbody tr th:only-of-type {\n",
       "        vertical-align: middle;\n",
       "    }\n",
       "\n",
       "    .dataframe tbody tr th {\n",
       "        vertical-align: top;\n",
       "    }\n",
       "\n",
       "    .dataframe thead th {\n",
       "        text-align: right;\n",
       "    }\n",
       "</style>\n",
       "<table border=\"1\" class=\"dataframe\">\n",
       "  <thead>\n",
       "    <tr style=\"text-align: right;\">\n",
       "      <th></th>\n",
       "      <th>City</th>\n",
       "      <th>Temperature (°C)</th>\n",
       "      <th>Humidity (%)</th>\n",
       "      <th>Weather</th>\n",
       "    </tr>\n",
       "  </thead>\n",
       "  <tbody>\n",
       "    <tr>\n",
       "      <th>0</th>\n",
       "      <td>Mont Saint Michel</td>\n",
       "      <td>16</td>\n",
       "      <td>89</td>\n",
       "      <td>Clouds</td>\n",
       "    </tr>\n",
       "    <tr>\n",
       "      <th>1</th>\n",
       "      <td>Saint Malo</td>\n",
       "      <td>16</td>\n",
       "      <td>88</td>\n",
       "      <td>Clouds</td>\n",
       "    </tr>\n",
       "    <tr>\n",
       "      <th>2</th>\n",
       "      <td>Bayeux</td>\n",
       "      <td>15</td>\n",
       "      <td>91</td>\n",
       "      <td>Clouds</td>\n",
       "    </tr>\n",
       "    <tr>\n",
       "      <th>3</th>\n",
       "      <td>Le Havre</td>\n",
       "      <td>16</td>\n",
       "      <td>100</td>\n",
       "      <td>Mist</td>\n",
       "    </tr>\n",
       "    <tr>\n",
       "      <th>4</th>\n",
       "      <td>Rouen</td>\n",
       "      <td>16</td>\n",
       "      <td>86</td>\n",
       "      <td>Clouds</td>\n",
       "    </tr>\n",
       "  </tbody>\n",
       "</table>\n",
       "</div>"
      ],
      "text/plain": [
       "                City  Temperature (°C)  Humidity (%) Weather\n",
       "0  Mont Saint Michel                16            89  Clouds\n",
       "1         Saint Malo                16            88  Clouds\n",
       "2             Bayeux                15            91  Clouds\n",
       "3           Le Havre                16           100    Mist\n",
       "4              Rouen                16            86  Clouds"
      ]
     },
     "execution_count": 8,
     "metadata": {},
     "output_type": "execute_result"
    }
   ],
   "source": [
    "df_meteo.rename(columns={'temperature (°C)': 'temperature', 'humidite (%)': 'humidite'}, inplace=True)\n",
    "df_meteo.head()"
   ]
  },
  {
   "cell_type": "markdown",
   "metadata": {},
   "source": [
    "Création d'un seul fichier csv avec toute les données"
   ]
  },
  {
   "cell_type": "code",
   "execution_count": 9,
   "metadata": {},
   "outputs": [],
   "source": [
    "with open('booking.json') as f:\n",
    "    data_json = json.load(f)"
   ]
  },
  {
   "cell_type": "code",
   "execution_count": 10,
   "metadata": {},
   "outputs": [],
   "source": [
    "# Modifier les noms de ville dans le JSON\n",
    "for entry in data_json:\n",
    "    if 'ville' in entry:\n",
    "        entry['ville'] = entry['ville'].replace('+', ' ')"
   ]
  },
  {
   "cell_type": "code",
   "execution_count": 11,
   "metadata": {},
   "outputs": [
    {
     "data": {
      "text/html": [
       "<div>\n",
       "<style scoped>\n",
       "    .dataframe tbody tr th:only-of-type {\n",
       "        vertical-align: middle;\n",
       "    }\n",
       "\n",
       "    .dataframe tbody tr th {\n",
       "        vertical-align: top;\n",
       "    }\n",
       "\n",
       "    .dataframe thead th {\n",
       "        text-align: right;\n",
       "    }\n",
       "</style>\n",
       "<table border=\"1\" class=\"dataframe\">\n",
       "  <thead>\n",
       "    <tr style=\"text-align: right;\">\n",
       "      <th></th>\n",
       "      <th>ville</th>\n",
       "      <th>name</th>\n",
       "      <th>website</th>\n",
       "      <th>score</th>\n",
       "      <th>desc</th>\n",
       "      <th>lat</th>\n",
       "      <th>lon</th>\n",
       "    </tr>\n",
       "  </thead>\n",
       "  <tbody>\n",
       "    <tr>\n",
       "      <th>0</th>\n",
       "      <td>Aigues-Mortes%2C Languedoc-Roussillon%2C France</td>\n",
       "      <td>appartement n2 centre village, clim, parking g...</td>\n",
       "      <td>https://www.booking.com/hotel/fr/appartement-n...</td>\n",
       "      <td>3 sur 5</td>\n",
       "      <td>Hébergement géré par un particulier</td>\n",
       "      <td>43.56724070</td>\n",
       "      <td>4.19380070</td>\n",
       "    </tr>\n",
       "    <tr>\n",
       "      <th>1</th>\n",
       "      <td>Aigues-Mortes%2C Languedoc-Roussillon%2C France</td>\n",
       "      <td>Cabane STELLA Aigues-Mortes</td>\n",
       "      <td>https://www.booking.com/hotel/fr/la-cabane-du-...</td>\n",
       "      <td>3 sur 5</td>\n",
       "      <td>Hébergement géré par un particulier</td>\n",
       "      <td>43.57930210</td>\n",
       "      <td>4.21283370</td>\n",
       "    </tr>\n",
       "    <tr>\n",
       "      <th>2</th>\n",
       "      <td>Aigues-Mortes%2C Languedoc-Roussillon%2C France</td>\n",
       "      <td>LE FLAMANT ROSE - COSYKAZ</td>\n",
       "      <td>https://www.booking.com/hotel/fr/le-flamant-ro...</td>\n",
       "      <td>3 sur 5</td>\n",
       "      <td>Hébergement géré par un particulier</td>\n",
       "      <td>43.57152370</td>\n",
       "      <td>4.17889910</td>\n",
       "    </tr>\n",
       "    <tr>\n",
       "      <th>3</th>\n",
       "      <td>Aigues-Mortes%2C Languedoc-Roussillon%2C France</td>\n",
       "      <td>B&amp;B La Terre Brûlée</td>\n",
       "      <td>https://www.booking.com/hotel/fr/b-amp-b-la-te...</td>\n",
       "      <td>3 sur 5</td>\n",
       "      <td>Situé à Aigues-Mortes, le B&amp;B La Terre Brûlée ...</td>\n",
       "      <td>43.56197612</td>\n",
       "      <td>4.20767969</td>\n",
       "    </tr>\n",
       "    <tr>\n",
       "      <th>4</th>\n",
       "      <td>Aigues-Mortes%2C Languedoc-Roussillon%2C France</td>\n",
       "      <td>Au Cœur des Remparts</td>\n",
       "      <td>https://www.booking.com/hotel/fr/au-coeur-des-...</td>\n",
       "      <td>3 sur 5</td>\n",
       "      <td>Hébergement géré par un particulier</td>\n",
       "      <td>43.56540100</td>\n",
       "      <td>4.19297300</td>\n",
       "    </tr>\n",
       "  </tbody>\n",
       "</table>\n",
       "</div>"
      ],
      "text/plain": [
       "                                             ville  \\\n",
       "0  Aigues-Mortes%2C Languedoc-Roussillon%2C France   \n",
       "1  Aigues-Mortes%2C Languedoc-Roussillon%2C France   \n",
       "2  Aigues-Mortes%2C Languedoc-Roussillon%2C France   \n",
       "3  Aigues-Mortes%2C Languedoc-Roussillon%2C France   \n",
       "4  Aigues-Mortes%2C Languedoc-Roussillon%2C France   \n",
       "\n",
       "                                                name  \\\n",
       "0  appartement n2 centre village, clim, parking g...   \n",
       "1                        Cabane STELLA Aigues-Mortes   \n",
       "2                          LE FLAMANT ROSE - COSYKAZ   \n",
       "3                                B&B La Terre Brûlée   \n",
       "4                               Au Cœur des Remparts   \n",
       "\n",
       "                                             website    score  \\\n",
       "0  https://www.booking.com/hotel/fr/appartement-n...  3 sur 5   \n",
       "1  https://www.booking.com/hotel/fr/la-cabane-du-...  3 sur 5   \n",
       "2  https://www.booking.com/hotel/fr/le-flamant-ro...  3 sur 5   \n",
       "3  https://www.booking.com/hotel/fr/b-amp-b-la-te...  3 sur 5   \n",
       "4  https://www.booking.com/hotel/fr/au-coeur-des-...  3 sur 5   \n",
       "\n",
       "                                                desc          lat         lon  \n",
       "0                Hébergement géré par un particulier  43.56724070  4.19380070  \n",
       "1                Hébergement géré par un particulier  43.57930210  4.21283370  \n",
       "2                Hébergement géré par un particulier  43.57152370  4.17889910  \n",
       "3  Situé à Aigues-Mortes, le B&B La Terre Brûlée ...  43.56197612  4.20767969  \n",
       "4                Hébergement géré par un particulier  43.56540100  4.19297300  "
      ]
     },
     "execution_count": 11,
     "metadata": {},
     "output_type": "execute_result"
    }
   ],
   "source": [
    "# Créer un DataFrame à partir du JSON\n",
    "df_json = pd.DataFrame(data_json)\n",
    "df_json.head()"
   ]
  },
  {
   "cell_type": "code",
   "execution_count": 12,
   "metadata": {},
   "outputs": [],
   "source": [
    "df_json.rename(columns={\"ville\" : \"City\"}, inplace=True)"
   ]
  },
  {
   "cell_type": "code",
   "execution_count": 13,
   "metadata": {},
   "outputs": [
    {
     "data": {
      "text/html": [
       "<div>\n",
       "<style scoped>\n",
       "    .dataframe tbody tr th:only-of-type {\n",
       "        vertical-align: middle;\n",
       "    }\n",
       "\n",
       "    .dataframe tbody tr th {\n",
       "        vertical-align: top;\n",
       "    }\n",
       "\n",
       "    .dataframe thead th {\n",
       "        text-align: right;\n",
       "    }\n",
       "</style>\n",
       "<table border=\"1\" class=\"dataframe\">\n",
       "  <thead>\n",
       "    <tr style=\"text-align: right;\">\n",
       "      <th></th>\n",
       "      <th>City</th>\n",
       "      <th>Temperature (°C)</th>\n",
       "      <th>Humidity (%)</th>\n",
       "      <th>Weather</th>\n",
       "      <th>name</th>\n",
       "      <th>website</th>\n",
       "      <th>score</th>\n",
       "      <th>desc</th>\n",
       "      <th>lat</th>\n",
       "      <th>lon</th>\n",
       "    </tr>\n",
       "  </thead>\n",
       "  <tbody>\n",
       "    <tr>\n",
       "      <th>0</th>\n",
       "      <td>Mont Saint Michel</td>\n",
       "      <td>16</td>\n",
       "      <td>89</td>\n",
       "      <td>Clouds</td>\n",
       "      <td>Hôtel Vert</td>\n",
       "      <td>https://www.booking.com/hotel/fr/vert.fr.html?...</td>\n",
       "      <td>2 sur 5</td>\n",
       "      <td>L’Hotel Vert vous propose des chambres décorée...</td>\n",
       "      <td>48.61470049</td>\n",
       "      <td>-1.50961697</td>\n",
       "    </tr>\n",
       "    <tr>\n",
       "      <th>1</th>\n",
       "      <td>Mont Saint Michel</td>\n",
       "      <td>16</td>\n",
       "      <td>89</td>\n",
       "      <td>Clouds</td>\n",
       "      <td>La Greve Saint Michel</td>\n",
       "      <td>https://www.booking.com/hotel/fr/la-greve-sain...</td>\n",
       "      <td>3 sur 5</td>\n",
       "      <td>Hébergement géré par un particulier</td>\n",
       "      <td>48.59775819</td>\n",
       "      <td>-1.51228422</td>\n",
       "    </tr>\n",
       "    <tr>\n",
       "      <th>2</th>\n",
       "      <td>Mont Saint Michel</td>\n",
       "      <td>16</td>\n",
       "      <td>89</td>\n",
       "      <td>Clouds</td>\n",
       "      <td>Maison au pied du Mont Saint Michel 2</td>\n",
       "      <td>https://www.booking.com/hotel/fr/maison-au-pie...</td>\n",
       "      <td>3 sur 5</td>\n",
       "      <td>Hébergement géré par un particulier</td>\n",
       "      <td>48.61561170</td>\n",
       "      <td>-1.48851210</td>\n",
       "    </tr>\n",
       "    <tr>\n",
       "      <th>3</th>\n",
       "      <td>Mont Saint Michel</td>\n",
       "      <td>16</td>\n",
       "      <td>89</td>\n",
       "      <td>Clouds</td>\n",
       "      <td>Gîte Caribou</td>\n",
       "      <td>https://www.booking.com/hotel/fr/gite-caribou....</td>\n",
       "      <td>3 sur 5</td>\n",
       "      <td>Hébergement géré par un particulier</td>\n",
       "      <td>48.62259438</td>\n",
       "      <td>-1.39050267</td>\n",
       "    </tr>\n",
       "    <tr>\n",
       "      <th>4</th>\n",
       "      <td>Mont Saint Michel</td>\n",
       "      <td>16</td>\n",
       "      <td>89</td>\n",
       "      <td>Clouds</td>\n",
       "      <td>Les Hortensias</td>\n",
       "      <td>https://www.booking.com/hotel/fr/les-hortensia...</td>\n",
       "      <td>3 sur 5</td>\n",
       "      <td>Hébergement géré par un particulier</td>\n",
       "      <td>48.59456300</td>\n",
       "      <td>-1.61772500</td>\n",
       "    </tr>\n",
       "  </tbody>\n",
       "</table>\n",
       "</div>"
      ],
      "text/plain": [
       "                City  Temperature (°C)  Humidity (%) Weather  \\\n",
       "0  Mont Saint Michel                16            89  Clouds   \n",
       "1  Mont Saint Michel                16            89  Clouds   \n",
       "2  Mont Saint Michel                16            89  Clouds   \n",
       "3  Mont Saint Michel                16            89  Clouds   \n",
       "4  Mont Saint Michel                16            89  Clouds   \n",
       "\n",
       "                                    name  \\\n",
       "0                             Hôtel Vert   \n",
       "1                  La Greve Saint Michel   \n",
       "2  Maison au pied du Mont Saint Michel 2   \n",
       "3                           Gîte Caribou   \n",
       "4                         Les Hortensias   \n",
       "\n",
       "                                             website    score  \\\n",
       "0  https://www.booking.com/hotel/fr/vert.fr.html?...  2 sur 5   \n",
       "1  https://www.booking.com/hotel/fr/la-greve-sain...  3 sur 5   \n",
       "2  https://www.booking.com/hotel/fr/maison-au-pie...  3 sur 5   \n",
       "3  https://www.booking.com/hotel/fr/gite-caribou....  3 sur 5   \n",
       "4  https://www.booking.com/hotel/fr/les-hortensia...  3 sur 5   \n",
       "\n",
       "                                                desc          lat          lon  \n",
       "0  L’Hotel Vert vous propose des chambres décorée...  48.61470049  -1.50961697  \n",
       "1                Hébergement géré par un particulier  48.59775819  -1.51228422  \n",
       "2                Hébergement géré par un particulier  48.61561170  -1.48851210  \n",
       "3                Hébergement géré par un particulier  48.62259438  -1.39050267  \n",
       "4                Hébergement géré par un particulier  48.59456300  -1.61772500  "
      ]
     },
     "execution_count": 13,
     "metadata": {},
     "output_type": "execute_result"
    }
   ],
   "source": [
    "df_fusionne = df_meteo.merge(df_json, on='City', how='left')\n",
    "df_fusionne.head()"
   ]
  },
  {
   "cell_type": "code",
   "execution_count": 14,
   "metadata": {},
   "outputs": [],
   "source": [
    "new_col_names = {\n",
    "    'City': 'city',\n",
    "    'Temperature (°C)': 'temperature',\n",
    "    'Humidity (%)': 'humidity',\n",
    "    'Weather': 'weather',\n",
    "    'name': 'hotel',\n",
    "    'website': 'website',\n",
    "    'score': 'score',\n",
    "    'desc': 'description',\n",
    "    'lat': 'lat',\n",
    "    'lon': 'lon',\n",
    "}\n"
   ]
  },
  {
   "cell_type": "code",
   "execution_count": 15,
   "metadata": {},
   "outputs": [
    {
     "data": {
      "text/html": [
       "<div>\n",
       "<style scoped>\n",
       "    .dataframe tbody tr th:only-of-type {\n",
       "        vertical-align: middle;\n",
       "    }\n",
       "\n",
       "    .dataframe tbody tr th {\n",
       "        vertical-align: top;\n",
       "    }\n",
       "\n",
       "    .dataframe thead th {\n",
       "        text-align: right;\n",
       "    }\n",
       "</style>\n",
       "<table border=\"1\" class=\"dataframe\">\n",
       "  <thead>\n",
       "    <tr style=\"text-align: right;\">\n",
       "      <th></th>\n",
       "      <th>city</th>\n",
       "      <th>temperature</th>\n",
       "      <th>humidity</th>\n",
       "      <th>weather</th>\n",
       "      <th>hotel</th>\n",
       "      <th>website</th>\n",
       "      <th>score</th>\n",
       "      <th>description</th>\n",
       "      <th>lat</th>\n",
       "      <th>lon</th>\n",
       "    </tr>\n",
       "  </thead>\n",
       "  <tbody>\n",
       "    <tr>\n",
       "      <th>0</th>\n",
       "      <td>Mont Saint Michel</td>\n",
       "      <td>16</td>\n",
       "      <td>89</td>\n",
       "      <td>Clouds</td>\n",
       "      <td>Hôtel Vert</td>\n",
       "      <td>https://www.booking.com/hotel/fr/vert.fr.html?...</td>\n",
       "      <td>2 sur 5</td>\n",
       "      <td>L’Hotel Vert vous propose des chambres décorée...</td>\n",
       "      <td>48.61470049</td>\n",
       "      <td>-1.50961697</td>\n",
       "    </tr>\n",
       "    <tr>\n",
       "      <th>1</th>\n",
       "      <td>Mont Saint Michel</td>\n",
       "      <td>16</td>\n",
       "      <td>89</td>\n",
       "      <td>Clouds</td>\n",
       "      <td>La Greve Saint Michel</td>\n",
       "      <td>https://www.booking.com/hotel/fr/la-greve-sain...</td>\n",
       "      <td>3 sur 5</td>\n",
       "      <td>Hébergement géré par un particulier</td>\n",
       "      <td>48.59775819</td>\n",
       "      <td>-1.51228422</td>\n",
       "    </tr>\n",
       "    <tr>\n",
       "      <th>2</th>\n",
       "      <td>Mont Saint Michel</td>\n",
       "      <td>16</td>\n",
       "      <td>89</td>\n",
       "      <td>Clouds</td>\n",
       "      <td>Maison au pied du Mont Saint Michel 2</td>\n",
       "      <td>https://www.booking.com/hotel/fr/maison-au-pie...</td>\n",
       "      <td>3 sur 5</td>\n",
       "      <td>Hébergement géré par un particulier</td>\n",
       "      <td>48.61561170</td>\n",
       "      <td>-1.48851210</td>\n",
       "    </tr>\n",
       "    <tr>\n",
       "      <th>3</th>\n",
       "      <td>Mont Saint Michel</td>\n",
       "      <td>16</td>\n",
       "      <td>89</td>\n",
       "      <td>Clouds</td>\n",
       "      <td>Gîte Caribou</td>\n",
       "      <td>https://www.booking.com/hotel/fr/gite-caribou....</td>\n",
       "      <td>3 sur 5</td>\n",
       "      <td>Hébergement géré par un particulier</td>\n",
       "      <td>48.62259438</td>\n",
       "      <td>-1.39050267</td>\n",
       "    </tr>\n",
       "    <tr>\n",
       "      <th>4</th>\n",
       "      <td>Mont Saint Michel</td>\n",
       "      <td>16</td>\n",
       "      <td>89</td>\n",
       "      <td>Clouds</td>\n",
       "      <td>Les Hortensias</td>\n",
       "      <td>https://www.booking.com/hotel/fr/les-hortensia...</td>\n",
       "      <td>3 sur 5</td>\n",
       "      <td>Hébergement géré par un particulier</td>\n",
       "      <td>48.59456300</td>\n",
       "      <td>-1.61772500</td>\n",
       "    </tr>\n",
       "  </tbody>\n",
       "</table>\n",
       "</div>"
      ],
      "text/plain": [
       "                city  temperature  humidity weather  \\\n",
       "0  Mont Saint Michel           16        89  Clouds   \n",
       "1  Mont Saint Michel           16        89  Clouds   \n",
       "2  Mont Saint Michel           16        89  Clouds   \n",
       "3  Mont Saint Michel           16        89  Clouds   \n",
       "4  Mont Saint Michel           16        89  Clouds   \n",
       "\n",
       "                                   hotel  \\\n",
       "0                             Hôtel Vert   \n",
       "1                  La Greve Saint Michel   \n",
       "2  Maison au pied du Mont Saint Michel 2   \n",
       "3                           Gîte Caribou   \n",
       "4                         Les Hortensias   \n",
       "\n",
       "                                             website    score  \\\n",
       "0  https://www.booking.com/hotel/fr/vert.fr.html?...  2 sur 5   \n",
       "1  https://www.booking.com/hotel/fr/la-greve-sain...  3 sur 5   \n",
       "2  https://www.booking.com/hotel/fr/maison-au-pie...  3 sur 5   \n",
       "3  https://www.booking.com/hotel/fr/gite-caribou....  3 sur 5   \n",
       "4  https://www.booking.com/hotel/fr/les-hortensia...  3 sur 5   \n",
       "\n",
       "                                         description          lat          lon  \n",
       "0  L’Hotel Vert vous propose des chambres décorée...  48.61470049  -1.50961697  \n",
       "1                Hébergement géré par un particulier  48.59775819  -1.51228422  \n",
       "2                Hébergement géré par un particulier  48.61561170  -1.48851210  \n",
       "3                Hébergement géré par un particulier  48.62259438  -1.39050267  \n",
       "4                Hébergement géré par un particulier  48.59456300  -1.61772500  "
      ]
     },
     "execution_count": 15,
     "metadata": {},
     "output_type": "execute_result"
    }
   ],
   "source": [
    "df_fusionne = df_fusionne.rename(columns=new_col_names)\n",
    "df_fusionne.head()"
   ]
  },
  {
   "cell_type": "code",
   "execution_count": 16,
   "metadata": {},
   "outputs": [],
   "source": [
    "df_final = df_fusionne[\n",
    "    ['city', 'temperature', 'humidity', 'weather', \n",
    "     'hotel','website','score','description','lat','lon'\n",
    "     ]\n",
    "    ]\n"
   ]
  },
  {
   "cell_type": "code",
   "execution_count": 17,
   "metadata": {},
   "outputs": [],
   "source": [
    "df_final.to_csv('data_final.csv', index=True, index_label='id')\n"
   ]
  },
  {
   "cell_type": "code",
   "execution_count": 18,
   "metadata": {},
   "outputs": [
    {
     "data": {
      "text/html": [
       "<div>\n",
       "<style scoped>\n",
       "    .dataframe tbody tr th:only-of-type {\n",
       "        vertical-align: middle;\n",
       "    }\n",
       "\n",
       "    .dataframe tbody tr th {\n",
       "        vertical-align: top;\n",
       "    }\n",
       "\n",
       "    .dataframe thead th {\n",
       "        text-align: right;\n",
       "    }\n",
       "</style>\n",
       "<table border=\"1\" class=\"dataframe\">\n",
       "  <thead>\n",
       "    <tr style=\"text-align: right;\">\n",
       "      <th></th>\n",
       "      <th>id</th>\n",
       "      <th>city</th>\n",
       "      <th>temperature</th>\n",
       "      <th>humidity</th>\n",
       "      <th>weather</th>\n",
       "      <th>hotel</th>\n",
       "      <th>website</th>\n",
       "      <th>score</th>\n",
       "      <th>description</th>\n",
       "      <th>lat</th>\n",
       "      <th>lon</th>\n",
       "    </tr>\n",
       "  </thead>\n",
       "  <tbody>\n",
       "    <tr>\n",
       "      <th>0</th>\n",
       "      <td>0</td>\n",
       "      <td>Mont Saint Michel</td>\n",
       "      <td>16</td>\n",
       "      <td>89</td>\n",
       "      <td>Clouds</td>\n",
       "      <td>Hôtel Vert</td>\n",
       "      <td>https://www.booking.com/hotel/fr/vert.fr.html?...</td>\n",
       "      <td>2 sur 5</td>\n",
       "      <td>L’Hotel Vert vous propose des chambres décorée...</td>\n",
       "      <td>48.614700</td>\n",
       "      <td>-1.509617</td>\n",
       "    </tr>\n",
       "    <tr>\n",
       "      <th>1</th>\n",
       "      <td>1</td>\n",
       "      <td>Mont Saint Michel</td>\n",
       "      <td>16</td>\n",
       "      <td>89</td>\n",
       "      <td>Clouds</td>\n",
       "      <td>La Greve Saint Michel</td>\n",
       "      <td>https://www.booking.com/hotel/fr/la-greve-sain...</td>\n",
       "      <td>3 sur 5</td>\n",
       "      <td>Hébergement géré par un particulier</td>\n",
       "      <td>48.597758</td>\n",
       "      <td>-1.512284</td>\n",
       "    </tr>\n",
       "    <tr>\n",
       "      <th>2</th>\n",
       "      <td>2</td>\n",
       "      <td>Mont Saint Michel</td>\n",
       "      <td>16</td>\n",
       "      <td>89</td>\n",
       "      <td>Clouds</td>\n",
       "      <td>Maison au pied du Mont Saint Michel 2</td>\n",
       "      <td>https://www.booking.com/hotel/fr/maison-au-pie...</td>\n",
       "      <td>3 sur 5</td>\n",
       "      <td>Hébergement géré par un particulier</td>\n",
       "      <td>48.615612</td>\n",
       "      <td>-1.488512</td>\n",
       "    </tr>\n",
       "    <tr>\n",
       "      <th>3</th>\n",
       "      <td>3</td>\n",
       "      <td>Mont Saint Michel</td>\n",
       "      <td>16</td>\n",
       "      <td>89</td>\n",
       "      <td>Clouds</td>\n",
       "      <td>Gîte Caribou</td>\n",
       "      <td>https://www.booking.com/hotel/fr/gite-caribou....</td>\n",
       "      <td>3 sur 5</td>\n",
       "      <td>Hébergement géré par un particulier</td>\n",
       "      <td>48.622594</td>\n",
       "      <td>-1.390503</td>\n",
       "    </tr>\n",
       "    <tr>\n",
       "      <th>4</th>\n",
       "      <td>4</td>\n",
       "      <td>Mont Saint Michel</td>\n",
       "      <td>16</td>\n",
       "      <td>89</td>\n",
       "      <td>Clouds</td>\n",
       "      <td>Les Hortensias</td>\n",
       "      <td>https://www.booking.com/hotel/fr/les-hortensia...</td>\n",
       "      <td>3 sur 5</td>\n",
       "      <td>Hébergement géré par un particulier</td>\n",
       "      <td>48.594563</td>\n",
       "      <td>-1.617725</td>\n",
       "    </tr>\n",
       "  </tbody>\n",
       "</table>\n",
       "</div>"
      ],
      "text/plain": [
       "   id               city  temperature  humidity weather  \\\n",
       "0   0  Mont Saint Michel           16        89  Clouds   \n",
       "1   1  Mont Saint Michel           16        89  Clouds   \n",
       "2   2  Mont Saint Michel           16        89  Clouds   \n",
       "3   3  Mont Saint Michel           16        89  Clouds   \n",
       "4   4  Mont Saint Michel           16        89  Clouds   \n",
       "\n",
       "                                   hotel  \\\n",
       "0                             Hôtel Vert   \n",
       "1                  La Greve Saint Michel   \n",
       "2  Maison au pied du Mont Saint Michel 2   \n",
       "3                           Gîte Caribou   \n",
       "4                         Les Hortensias   \n",
       "\n",
       "                                             website    score  \\\n",
       "0  https://www.booking.com/hotel/fr/vert.fr.html?...  2 sur 5   \n",
       "1  https://www.booking.com/hotel/fr/la-greve-sain...  3 sur 5   \n",
       "2  https://www.booking.com/hotel/fr/maison-au-pie...  3 sur 5   \n",
       "3  https://www.booking.com/hotel/fr/gite-caribou....  3 sur 5   \n",
       "4  https://www.booking.com/hotel/fr/les-hortensia...  3 sur 5   \n",
       "\n",
       "                                         description        lat       lon  \n",
       "0  L’Hotel Vert vous propose des chambres décorée...  48.614700 -1.509617  \n",
       "1                Hébergement géré par un particulier  48.597758 -1.512284  \n",
       "2                Hébergement géré par un particulier  48.615612 -1.488512  \n",
       "3                Hébergement géré par un particulier  48.622594 -1.390503  \n",
       "4                Hébergement géré par un particulier  48.594563 -1.617725  "
      ]
     },
     "execution_count": 18,
     "metadata": {},
     "output_type": "execute_result"
    }
   ],
   "source": [
    "df_fichier_final = pd.read_csv(\"data_final.csv\")\n",
    "df_fichier_final.head()"
   ]
  },
  {
   "cell_type": "code",
   "execution_count": 19,
   "metadata": {},
   "outputs": [
    {
     "data": {
      "text/html": [
       "<div>\n",
       "<style scoped>\n",
       "    .dataframe tbody tr th:only-of-type {\n",
       "        vertical-align: middle;\n",
       "    }\n",
       "\n",
       "    .dataframe tbody tr th {\n",
       "        vertical-align: top;\n",
       "    }\n",
       "\n",
       "    .dataframe thead th {\n",
       "        text-align: right;\n",
       "    }\n",
       "</style>\n",
       "<table border=\"1\" class=\"dataframe\">\n",
       "  <thead>\n",
       "    <tr style=\"text-align: right;\">\n",
       "      <th></th>\n",
       "      <th>City</th>\n",
       "      <th>Temperature (°C)</th>\n",
       "      <th>Humidity (%)</th>\n",
       "      <th>Weather</th>\n",
       "    </tr>\n",
       "  </thead>\n",
       "  <tbody>\n",
       "    <tr>\n",
       "      <th>0</th>\n",
       "      <td>Mont Saint Michel</td>\n",
       "      <td>16</td>\n",
       "      <td>89</td>\n",
       "      <td>Clouds</td>\n",
       "    </tr>\n",
       "    <tr>\n",
       "      <th>1</th>\n",
       "      <td>Saint Malo</td>\n",
       "      <td>16</td>\n",
       "      <td>88</td>\n",
       "      <td>Clouds</td>\n",
       "    </tr>\n",
       "    <tr>\n",
       "      <th>2</th>\n",
       "      <td>Bayeux</td>\n",
       "      <td>15</td>\n",
       "      <td>91</td>\n",
       "      <td>Clouds</td>\n",
       "    </tr>\n",
       "    <tr>\n",
       "      <th>3</th>\n",
       "      <td>Le Havre</td>\n",
       "      <td>16</td>\n",
       "      <td>100</td>\n",
       "      <td>Mist</td>\n",
       "    </tr>\n",
       "    <tr>\n",
       "      <th>4</th>\n",
       "      <td>Rouen</td>\n",
       "      <td>16</td>\n",
       "      <td>86</td>\n",
       "      <td>Clouds</td>\n",
       "    </tr>\n",
       "  </tbody>\n",
       "</table>\n",
       "</div>"
      ],
      "text/plain": [
       "                City  Temperature (°C)  Humidity (%) Weather\n",
       "0  Mont Saint Michel                16            89  Clouds\n",
       "1         Saint Malo                16            88  Clouds\n",
       "2             Bayeux                15            91  Clouds\n",
       "3           Le Havre                16           100    Mist\n",
       "4              Rouen                16            86  Clouds"
      ]
     },
     "execution_count": 19,
     "metadata": {},
     "output_type": "execute_result"
    }
   ],
   "source": [
    "df_meteo.head()"
   ]
  },
  {
   "cell_type": "markdown",
   "metadata": {},
   "source": [
    "Top 5 weather localization"
   ]
  },
  {
   "cell_type": "code",
   "execution_count": 20,
   "metadata": {},
   "outputs": [
    {
     "data": {
      "text/html": [
       "<div>\n",
       "<style scoped>\n",
       "    .dataframe tbody tr th:only-of-type {\n",
       "        vertical-align: middle;\n",
       "    }\n",
       "\n",
       "    .dataframe tbody tr th {\n",
       "        vertical-align: top;\n",
       "    }\n",
       "\n",
       "    .dataframe thead th {\n",
       "        text-align: right;\n",
       "    }\n",
       "</style>\n",
       "<table border=\"1\" class=\"dataframe\">\n",
       "  <thead>\n",
       "    <tr style=\"text-align: right;\">\n",
       "      <th></th>\n",
       "      <th>id</th>\n",
       "      <th>city</th>\n",
       "      <th>temperature</th>\n",
       "      <th>humidity</th>\n",
       "      <th>weather</th>\n",
       "      <th>hotel</th>\n",
       "      <th>website</th>\n",
       "      <th>score</th>\n",
       "      <th>description</th>\n",
       "      <th>lat</th>\n",
       "      <th>lon</th>\n",
       "    </tr>\n",
       "  </thead>\n",
       "  <tbody>\n",
       "    <tr>\n",
       "      <th>161</th>\n",
       "      <td>161</td>\n",
       "      <td>Chateau du Haut Koenigsbourg</td>\n",
       "      <td>11</td>\n",
       "      <td>77</td>\n",
       "      <td>Clear</td>\n",
       "      <td>Domaine du Haut-Koenigsbourg</td>\n",
       "      <td>https://www.booking.com/hotel/fr/les-chambres-...</td>\n",
       "      <td>3 sur 5</td>\n",
       "      <td>Le Domaine du Haut-Koenigsbourg est situé à Or...</td>\n",
       "      <td>48.247023</td>\n",
       "      <td>7.346321</td>\n",
       "    </tr>\n",
       "    <tr>\n",
       "      <th>162</th>\n",
       "      <td>162</td>\n",
       "      <td>Chateau du Haut Koenigsbourg</td>\n",
       "      <td>11</td>\n",
       "      <td>77</td>\n",
       "      <td>Clear</td>\n",
       "      <td>Hôtel Winzenberg</td>\n",
       "      <td>https://www.booking.com/hotel/fr/winzenberg.fr...</td>\n",
       "      <td>2 sur 5</td>\n",
       "      <td>L'Hôtel Winzenberg est situé dans le village v...</td>\n",
       "      <td>48.341664</td>\n",
       "      <td>7.418982</td>\n",
       "    </tr>\n",
       "    <tr>\n",
       "      <th>163</th>\n",
       "      <td>163</td>\n",
       "      <td>Chateau du Haut Koenigsbourg</td>\n",
       "      <td>11</td>\n",
       "      <td>77</td>\n",
       "      <td>Clear</td>\n",
       "      <td>Gîte MARTINS</td>\n",
       "      <td>https://www.booking.com/hotel/fr/gite-martins....</td>\n",
       "      <td>2 sur 5</td>\n",
       "      <td>Hébergement géré par un particulier</td>\n",
       "      <td>48.232325</td>\n",
       "      <td>7.300680</td>\n",
       "    </tr>\n",
       "    <tr>\n",
       "      <th>164</th>\n",
       "      <td>164</td>\n",
       "      <td>Chateau du Haut Koenigsbourg</td>\n",
       "      <td>11</td>\n",
       "      <td>77</td>\n",
       "      <td>Clear</td>\n",
       "      <td>Gite Au Nid De Cigognes</td>\n",
       "      <td>https://www.booking.com/hotel/fr/gite-au-nid-d...</td>\n",
       "      <td>2 sur 5</td>\n",
       "      <td>Hébergement géré par un particulier</td>\n",
       "      <td>48.309825</td>\n",
       "      <td>7.418319</td>\n",
       "    </tr>\n",
       "    <tr>\n",
       "      <th>165</th>\n",
       "      <td>165</td>\n",
       "      <td>Chateau du Haut Koenigsbourg</td>\n",
       "      <td>11</td>\n",
       "      <td>77</td>\n",
       "      <td>Clear</td>\n",
       "      <td>Les Apparts du Gewur'z</td>\n",
       "      <td>https://www.booking.com/hotel/fr/les-apparts-d...</td>\n",
       "      <td>2 sur 5</td>\n",
       "      <td>Hébergement géré par un particulier</td>\n",
       "      <td>48.205307</td>\n",
       "      <td>7.363375</td>\n",
       "    </tr>\n",
       "    <tr>\n",
       "      <th>...</th>\n",
       "      <td>...</td>\n",
       "      <td>...</td>\n",
       "      <td>...</td>\n",
       "      <td>...</td>\n",
       "      <td>...</td>\n",
       "      <td>...</td>\n",
       "      <td>...</td>\n",
       "      <td>...</td>\n",
       "      <td>...</td>\n",
       "      <td>...</td>\n",
       "      <td>...</td>\n",
       "    </tr>\n",
       "    <tr>\n",
       "      <th>597</th>\n",
       "      <td>597</td>\n",
       "      <td>Montauban</td>\n",
       "      <td>17</td>\n",
       "      <td>78</td>\n",
       "      <td>Clear</td>\n",
       "      <td>Hôtel du Commerce</td>\n",
       "      <td>https://www.booking.com/hotel/fr/hotel-du-comm...</td>\n",
       "      <td>3 sur 5</td>\n",
       "      <td>Situé dans le centre de Montauban, l'Hôtel du ...</td>\n",
       "      <td>44.015426</td>\n",
       "      <td>1.354073</td>\n",
       "    </tr>\n",
       "    <tr>\n",
       "      <th>598</th>\n",
       "      <td>598</td>\n",
       "      <td>Montauban</td>\n",
       "      <td>17</td>\n",
       "      <td>78</td>\n",
       "      <td>Clear</td>\n",
       "      <td>Sure Hotel by Best Western Les Portes de Monta...</td>\n",
       "      <td>https://www.booking.com/hotel/fr/sure-by-best-...</td>\n",
       "      <td>3 sur 5</td>\n",
       "      <td>Situé à Montauban, à 42 km de l'amphithéâtre P...</td>\n",
       "      <td>43.936287</td>\n",
       "      <td>1.322098</td>\n",
       "    </tr>\n",
       "    <tr>\n",
       "      <th>599</th>\n",
       "      <td>599</td>\n",
       "      <td>Montauban</td>\n",
       "      <td>17</td>\n",
       "      <td>78</td>\n",
       "      <td>Clear</td>\n",
       "      <td>L'Amarelo</td>\n",
       "      <td>https://www.booking.com/hotel/fr/amarelo.fr.ht...</td>\n",
       "      <td>2 sur 5</td>\n",
       "      <td>Hébergement géré par un particulier</td>\n",
       "      <td>44.021308</td>\n",
       "      <td>1.351224</td>\n",
       "    </tr>\n",
       "    <tr>\n",
       "      <th>600</th>\n",
       "      <td>600</td>\n",
       "      <td>Montauban</td>\n",
       "      <td>17</td>\n",
       "      <td>78</td>\n",
       "      <td>Clear</td>\n",
       "      <td>Cosy Red 4 Pers - Neuf et au Calme - Fibre-Net...</td>\n",
       "      <td>https://www.booking.com/hotel/fr/cosy-red.fr.h...</td>\n",
       "      <td>3 sur 5</td>\n",
       "      <td>Situé à Montauban, en Midi-Pyrénées, le Cosy R...</td>\n",
       "      <td>44.013431</td>\n",
       "      <td>1.360972</td>\n",
       "    </tr>\n",
       "    <tr>\n",
       "      <th>601</th>\n",
       "      <td>601</td>\n",
       "      <td>Montauban</td>\n",
       "      <td>17</td>\n",
       "      <td>78</td>\n",
       "      <td>Clear</td>\n",
       "      <td>Le Studio</td>\n",
       "      <td>https://www.booking.com/hotel/fr/le-studio-mon...</td>\n",
       "      <td>1 sur 5</td>\n",
       "      <td>Hébergement géré par un particulier</td>\n",
       "      <td>44.021355</td>\n",
       "      <td>1.351288</td>\n",
       "    </tr>\n",
       "  </tbody>\n",
       "</table>\n",
       "<p>301 rows × 11 columns</p>\n",
       "</div>"
      ],
      "text/plain": [
       "      id                          city  temperature  humidity weather  \\\n",
       "161  161  Chateau du Haut Koenigsbourg           11        77   Clear   \n",
       "162  162  Chateau du Haut Koenigsbourg           11        77   Clear   \n",
       "163  163  Chateau du Haut Koenigsbourg           11        77   Clear   \n",
       "164  164  Chateau du Haut Koenigsbourg           11        77   Clear   \n",
       "165  165  Chateau du Haut Koenigsbourg           11        77   Clear   \n",
       "..   ...                           ...          ...       ...     ...   \n",
       "597  597                     Montauban           17        78   Clear   \n",
       "598  598                     Montauban           17        78   Clear   \n",
       "599  599                     Montauban           17        78   Clear   \n",
       "600  600                     Montauban           17        78   Clear   \n",
       "601  601                     Montauban           17        78   Clear   \n",
       "\n",
       "                                                 hotel  \\\n",
       "161                       Domaine du Haut-Koenigsbourg   \n",
       "162                                   Hôtel Winzenberg   \n",
       "163                                       Gîte MARTINS   \n",
       "164                            Gite Au Nid De Cigognes   \n",
       "165                             Les Apparts du Gewur'z   \n",
       "..                                                 ...   \n",
       "597                                  Hôtel du Commerce   \n",
       "598  Sure Hotel by Best Western Les Portes de Monta...   \n",
       "599                                          L'Amarelo   \n",
       "600  Cosy Red 4 Pers - Neuf et au Calme - Fibre-Net...   \n",
       "601                                          Le Studio   \n",
       "\n",
       "                                               website    score  \\\n",
       "161  https://www.booking.com/hotel/fr/les-chambres-...  3 sur 5   \n",
       "162  https://www.booking.com/hotel/fr/winzenberg.fr...  2 sur 5   \n",
       "163  https://www.booking.com/hotel/fr/gite-martins....  2 sur 5   \n",
       "164  https://www.booking.com/hotel/fr/gite-au-nid-d...  2 sur 5   \n",
       "165  https://www.booking.com/hotel/fr/les-apparts-d...  2 sur 5   \n",
       "..                                                 ...      ...   \n",
       "597  https://www.booking.com/hotel/fr/hotel-du-comm...  3 sur 5   \n",
       "598  https://www.booking.com/hotel/fr/sure-by-best-...  3 sur 5   \n",
       "599  https://www.booking.com/hotel/fr/amarelo.fr.ht...  2 sur 5   \n",
       "600  https://www.booking.com/hotel/fr/cosy-red.fr.h...  3 sur 5   \n",
       "601  https://www.booking.com/hotel/fr/le-studio-mon...  1 sur 5   \n",
       "\n",
       "                                           description        lat       lon  \n",
       "161  Le Domaine du Haut-Koenigsbourg est situé à Or...  48.247023  7.346321  \n",
       "162  L'Hôtel Winzenberg est situé dans le village v...  48.341664  7.418982  \n",
       "163                Hébergement géré par un particulier  48.232325  7.300680  \n",
       "164                Hébergement géré par un particulier  48.309825  7.418319  \n",
       "165                Hébergement géré par un particulier  48.205307  7.363375  \n",
       "..                                                 ...        ...       ...  \n",
       "597  Situé dans le centre de Montauban, l'Hôtel du ...  44.015426  1.354073  \n",
       "598  Situé à Montauban, à 42 km de l'amphithéâtre P...  43.936287  1.322098  \n",
       "599                Hébergement géré par un particulier  44.021308  1.351224  \n",
       "600  Situé à Montauban, en Midi-Pyrénées, le Cosy R...  44.013431  1.360972  \n",
       "601                Hébergement géré par un particulier  44.021355  1.351288  \n",
       "\n",
       "[301 rows x 11 columns]"
      ]
     },
     "execution_count": 20,
     "metadata": {},
     "output_type": "execute_result"
    }
   ],
   "source": [
    "filtered_df = df_fichier_final[(df_fichier_final[\"weather\"] == \"Clear\") | (df_fichier_final[\"weather\"] == \"light rain\")]\n",
    "filtered_df"
   ]
  },
  {
   "cell_type": "code",
   "execution_count": 21,
   "metadata": {},
   "outputs": [
    {
     "data": {
      "text/html": [
       "<div>\n",
       "<style scoped>\n",
       "    .dataframe tbody tr th:only-of-type {\n",
       "        vertical-align: middle;\n",
       "    }\n",
       "\n",
       "    .dataframe tbody tr th {\n",
       "        vertical-align: top;\n",
       "    }\n",
       "\n",
       "    .dataframe thead th {\n",
       "        text-align: right;\n",
       "    }\n",
       "</style>\n",
       "<table border=\"1\" class=\"dataframe\">\n",
       "  <thead>\n",
       "    <tr style=\"text-align: right;\">\n",
       "      <th></th>\n",
       "      <th>city</th>\n",
       "      <th>id</th>\n",
       "      <th>temperature</th>\n",
       "      <th>humidity</th>\n",
       "      <th>weather</th>\n",
       "      <th>hotel</th>\n",
       "      <th>website</th>\n",
       "      <th>score</th>\n",
       "      <th>description</th>\n",
       "      <th>lat</th>\n",
       "      <th>lon</th>\n",
       "    </tr>\n",
       "  </thead>\n",
       "  <tbody>\n",
       "    <tr>\n",
       "      <th>0</th>\n",
       "      <td>Bormes les Mimosas</td>\n",
       "      <td>341</td>\n",
       "      <td>22</td>\n",
       "      <td>44</td>\n",
       "      <td>Clear</td>\n",
       "      <td>Hotel des Arts - Cite Bergere</td>\n",
       "      <td>https://www.booking.com/hotel/fr/des-arts-pari...</td>\n",
       "      <td>2 sur 5</td>\n",
       "      <td>L'Hotel des Arts est situé dans le centre de P...</td>\n",
       "      <td>48.871880</td>\n",
       "      <td>2.344655</td>\n",
       "    </tr>\n",
       "    <tr>\n",
       "      <th>1</th>\n",
       "      <td>Aigues Mortes</td>\n",
       "      <td>481</td>\n",
       "      <td>21</td>\n",
       "      <td>46</td>\n",
       "      <td>Clear</td>\n",
       "      <td>None</td>\n",
       "      <td>None</td>\n",
       "      <td>None</td>\n",
       "      <td>None</td>\n",
       "      <td>NaN</td>\n",
       "      <td>NaN</td>\n",
       "    </tr>\n",
       "    <tr>\n",
       "      <th>2</th>\n",
       "      <td>Collioure</td>\n",
       "      <td>502</td>\n",
       "      <td>21</td>\n",
       "      <td>62</td>\n",
       "      <td>Clear</td>\n",
       "      <td>Grand Hotel des Balcons</td>\n",
       "      <td>https://www.booking.com/hotel/fr/grand-des-bal...</td>\n",
       "      <td>2 sur 5</td>\n",
       "      <td>Situé dans le quartier chic de Saint-Germain à...</td>\n",
       "      <td>48.850422</td>\n",
       "      <td>2.339299</td>\n",
       "    </tr>\n",
       "    <tr>\n",
       "      <th>3</th>\n",
       "      <td>Cassis</td>\n",
       "      <td>361</td>\n",
       "      <td>20</td>\n",
       "      <td>42</td>\n",
       "      <td>Clear</td>\n",
       "      <td>LE SEPT charmant studio aux portes des calanques</td>\n",
       "      <td>https://www.booking.com/hotel/fr/le-sept-charm...</td>\n",
       "      <td>3 sur 5</td>\n",
       "      <td>Hébergement géré par un particulier</td>\n",
       "      <td>43.217600</td>\n",
       "      <td>5.532350</td>\n",
       "    </tr>\n",
       "    <tr>\n",
       "      <th>4</th>\n",
       "      <td>Aix en Provence</td>\n",
       "      <td>401</td>\n",
       "      <td>19</td>\n",
       "      <td>50</td>\n",
       "      <td>Clear</td>\n",
       "      <td>La Suite Albertas</td>\n",
       "      <td>https://www.booking.com/hotel/fr/le-555-mirabe...</td>\n",
       "      <td>3 sur 5</td>\n",
       "      <td>Situé à Aix-en-Provence, à 100 mètres du cours...</td>\n",
       "      <td>43.527418</td>\n",
       "      <td>5.447695</td>\n",
       "    </tr>\n",
       "  </tbody>\n",
       "</table>\n",
       "</div>"
      ],
      "text/plain": [
       "                 city   id  temperature  humidity weather  \\\n",
       "0  Bormes les Mimosas  341           22        44   Clear   \n",
       "1       Aigues Mortes  481           21        46   Clear   \n",
       "2           Collioure  502           21        62   Clear   \n",
       "3              Cassis  361           20        42   Clear   \n",
       "4     Aix en Provence  401           19        50   Clear   \n",
       "\n",
       "                                              hotel  \\\n",
       "0                     Hotel des Arts - Cite Bergere   \n",
       "1                                              None   \n",
       "2                           Grand Hotel des Balcons   \n",
       "3  LE SEPT charmant studio aux portes des calanques   \n",
       "4                                 La Suite Albertas   \n",
       "\n",
       "                                             website    score  \\\n",
       "0  https://www.booking.com/hotel/fr/des-arts-pari...  2 sur 5   \n",
       "1                                               None     None   \n",
       "2  https://www.booking.com/hotel/fr/grand-des-bal...  2 sur 5   \n",
       "3  https://www.booking.com/hotel/fr/le-sept-charm...  3 sur 5   \n",
       "4  https://www.booking.com/hotel/fr/le-555-mirabe...  3 sur 5   \n",
       "\n",
       "                                         description        lat       lon  \n",
       "0  L'Hotel des Arts est situé dans le centre de P...  48.871880  2.344655  \n",
       "1                                               None        NaN       NaN  \n",
       "2  Situé dans le quartier chic de Saint-Germain à...  48.850422  2.339299  \n",
       "3                Hébergement géré par un particulier  43.217600  5.532350  \n",
       "4  Situé à Aix-en-Provence, à 100 mètres du cours...  43.527418  5.447695  "
      ]
     },
     "execution_count": 21,
     "metadata": {},
     "output_type": "execute_result"
    }
   ],
   "source": [
    "# Best weather\n",
    "filtered_df = df_fichier_final[(df_fichier_final[\"weather\"] == \"Clear\") | (df_fichier_final[\"weather\"] == \"light rain\")]\n",
    "\n",
    "# Then group by 'city', select the first entry, sort by 'temperature', and take the top 5\n",
    "df_top_five = filtered_df.groupby(by='city').first().sort_values(by=['temperature'], ascending=False).reset_index().head(10)\n",
    "\n",
    "df_top_five.head()"
   ]
  },
  {
   "cell_type": "code",
   "execution_count": 22,
   "metadata": {},
   "outputs": [
    {
     "name": "stdout",
     "output_type": "stream",
     "text": [
      "City: Bormes les Mimosas, Temperature : 22°C, Weather: Clear\n",
      "City: Aigues Mortes, Temperature : 21°C, Weather: Clear\n",
      "City: Collioure, Temperature : 21°C, Weather: Clear\n",
      "City: Cassis, Temperature : 20°C, Weather: Clear\n",
      "City: Aix en Provence, Temperature : 19°C, Weather: Clear\n",
      "City: Avignon, Temperature : 19°C, Weather: Clear\n",
      "City: Nimes, Temperature : 18°C, Weather: Clear\n",
      "City: Uzes, Temperature : 18°C, Weather: Clear\n",
      "City: Carcassonne, Temperature : 17°C, Weather: Clear\n",
      "City: Montauban, Temperature : 17°C, Weather: Clear\n",
      "Les résultats ont été enregistrés dans 'meteo_data.csv'\n"
     ]
    }
   ],
   "source": [
    "csv_filename = \"top_five_weather.csv\"\n",
    "\n",
    "# Créer un fichier CSV\n",
    "with open(csv_filename, 'w', newline='') as csvfile:\n",
    "    fieldnames = ['City', 'Temperature (°C)', 'Weather']\n",
    "    writer = csv.DictWriter(csvfile, fieldnames=fieldnames)\n",
    "    writer.writeheader()\n",
    "\n",
    "    # Parcourir les lignes du DataFrame\n",
    "    for index, row in df_top_five.iterrows():\n",
    "        city = row['city']\n",
    "        temperature = row['temperature']\n",
    "        weather = row['weather']\n",
    "        writer.writerow({'City': city, 'Temperature (°C)': temperature, 'Weather': weather})\n",
    "        print(f\"City: {city}, Temperature : {temperature}°C, Weather: {weather}\")\n",
    "   \n",
    "\n",
    "print(\"Les résultats ont été enregistrés dans 'meteo_data.csv'\")"
   ]
  },
  {
   "cell_type": "markdown",
   "metadata": {},
   "source": [
    "Top 5 map"
   ]
  },
  {
   "cell_type": "code",
   "execution_count": 23,
   "metadata": {},
   "outputs": [
    {
     "data": {
      "text/html": [
       "<div>\n",
       "<style scoped>\n",
       "    .dataframe tbody tr th:only-of-type {\n",
       "        vertical-align: middle;\n",
       "    }\n",
       "\n",
       "    .dataframe tbody tr th {\n",
       "        vertical-align: top;\n",
       "    }\n",
       "\n",
       "    .dataframe thead th {\n",
       "        text-align: right;\n",
       "    }\n",
       "</style>\n",
       "<table border=\"1\" class=\"dataframe\">\n",
       "  <thead>\n",
       "    <tr style=\"text-align: right;\">\n",
       "      <th></th>\n",
       "      <th>city</th>\n",
       "      <th>id</th>\n",
       "      <th>temperature</th>\n",
       "      <th>humidity</th>\n",
       "      <th>weather</th>\n",
       "      <th>hotel</th>\n",
       "      <th>website</th>\n",
       "      <th>score</th>\n",
       "      <th>description</th>\n",
       "      <th>lat</th>\n",
       "      <th>lon</th>\n",
       "    </tr>\n",
       "  </thead>\n",
       "  <tbody>\n",
       "    <tr>\n",
       "      <th>0</th>\n",
       "      <td>Bormes les Mimosas</td>\n",
       "      <td>341</td>\n",
       "      <td>22</td>\n",
       "      <td>44</td>\n",
       "      <td>Clear</td>\n",
       "      <td>Hotel des Arts - Cite Bergere</td>\n",
       "      <td>https://www.booking.com/hotel/fr/des-arts-pari...</td>\n",
       "      <td>2 sur 5</td>\n",
       "      <td>L'Hotel des Arts est situé dans le centre de P...</td>\n",
       "      <td>48.871880</td>\n",
       "      <td>2.344655</td>\n",
       "    </tr>\n",
       "    <tr>\n",
       "      <th>1</th>\n",
       "      <td>Aigues Mortes</td>\n",
       "      <td>481</td>\n",
       "      <td>21</td>\n",
       "      <td>46</td>\n",
       "      <td>Clear</td>\n",
       "      <td>None</td>\n",
       "      <td>None</td>\n",
       "      <td>None</td>\n",
       "      <td>None</td>\n",
       "      <td>NaN</td>\n",
       "      <td>NaN</td>\n",
       "    </tr>\n",
       "    <tr>\n",
       "      <th>2</th>\n",
       "      <td>Collioure</td>\n",
       "      <td>502</td>\n",
       "      <td>21</td>\n",
       "      <td>62</td>\n",
       "      <td>Clear</td>\n",
       "      <td>Grand Hotel des Balcons</td>\n",
       "      <td>https://www.booking.com/hotel/fr/grand-des-bal...</td>\n",
       "      <td>2 sur 5</td>\n",
       "      <td>Situé dans le quartier chic de Saint-Germain à...</td>\n",
       "      <td>48.850422</td>\n",
       "      <td>2.339299</td>\n",
       "    </tr>\n",
       "    <tr>\n",
       "      <th>3</th>\n",
       "      <td>Cassis</td>\n",
       "      <td>361</td>\n",
       "      <td>20</td>\n",
       "      <td>42</td>\n",
       "      <td>Clear</td>\n",
       "      <td>LE SEPT charmant studio aux portes des calanques</td>\n",
       "      <td>https://www.booking.com/hotel/fr/le-sept-charm...</td>\n",
       "      <td>3 sur 5</td>\n",
       "      <td>Hébergement géré par un particulier</td>\n",
       "      <td>43.217600</td>\n",
       "      <td>5.532350</td>\n",
       "    </tr>\n",
       "    <tr>\n",
       "      <th>4</th>\n",
       "      <td>Aix en Provence</td>\n",
       "      <td>401</td>\n",
       "      <td>19</td>\n",
       "      <td>50</td>\n",
       "      <td>Clear</td>\n",
       "      <td>La Suite Albertas</td>\n",
       "      <td>https://www.booking.com/hotel/fr/le-555-mirabe...</td>\n",
       "      <td>3 sur 5</td>\n",
       "      <td>Situé à Aix-en-Provence, à 100 mètres du cours...</td>\n",
       "      <td>43.527418</td>\n",
       "      <td>5.447695</td>\n",
       "    </tr>\n",
       "  </tbody>\n",
       "</table>\n",
       "</div>"
      ],
      "text/plain": [
       "                 city   id  temperature  humidity weather  \\\n",
       "0  Bormes les Mimosas  341           22        44   Clear   \n",
       "1       Aigues Mortes  481           21        46   Clear   \n",
       "2           Collioure  502           21        62   Clear   \n",
       "3              Cassis  361           20        42   Clear   \n",
       "4     Aix en Provence  401           19        50   Clear   \n",
       "\n",
       "                                              hotel  \\\n",
       "0                     Hotel des Arts - Cite Bergere   \n",
       "1                                              None   \n",
       "2                           Grand Hotel des Balcons   \n",
       "3  LE SEPT charmant studio aux portes des calanques   \n",
       "4                                 La Suite Albertas   \n",
       "\n",
       "                                             website    score  \\\n",
       "0  https://www.booking.com/hotel/fr/des-arts-pari...  2 sur 5   \n",
       "1                                               None     None   \n",
       "2  https://www.booking.com/hotel/fr/grand-des-bal...  2 sur 5   \n",
       "3  https://www.booking.com/hotel/fr/le-sept-charm...  3 sur 5   \n",
       "4  https://www.booking.com/hotel/fr/le-555-mirabe...  3 sur 5   \n",
       "\n",
       "                                         description        lat       lon  \n",
       "0  L'Hotel des Arts est situé dans le centre de P...  48.871880  2.344655  \n",
       "1                                               None        NaN       NaN  \n",
       "2  Situé dans le quartier chic de Saint-Germain à...  48.850422  2.339299  \n",
       "3                Hébergement géré par un particulier  43.217600  5.532350  \n",
       "4  Situé à Aix-en-Provence, à 100 mètres du cours...  43.527418  5.447695  "
      ]
     },
     "execution_count": 23,
     "metadata": {},
     "output_type": "execute_result"
    }
   ],
   "source": [
    "df_top_five.head()"
   ]
  },
  {
   "cell_type": "code",
   "execution_count": 24,
   "metadata": {},
   "outputs": [
    {
     "data": {
      "application/vnd.plotly.v1+json": {
       "config": {
        "plotlyServerURL": "https://plot.ly"
       },
       "data": [
        {
         "hovertemplate": "humidity=%{marker.size}<br>lat=%{lat}<br>lon=%{lon}<br>temperature=%{marker.color}<extra></extra>",
         "lat": [
          48.87188026,
          null,
          48.85042234,
          43.2175997,
          43.527418,
          43.9454205,
          43.8306183,
          44.0119373,
          48.85042234,
          44.0186177
         ],
         "legendgroup": "",
         "lon": [
          2.34465466,
          null,
          2.33929932,
          5.53235,
          5.447695,
          4.8042644,
          4.3695378,
          4.4131642,
          2.33929932,
          1.3543484
         ],
         "marker": {
          "color": [
           22,
           21,
           21,
           20,
           19,
           19,
           18,
           18,
           17,
           17
          ],
          "coloraxis": "coloraxis",
          "size": [
           44,
           46,
           62,
           42,
           50,
           57,
           59,
           62,
           67,
           78
          ],
          "sizemode": "area",
          "sizeref": 0.195
         },
         "mode": "markers",
         "name": "",
         "showlegend": false,
         "subplot": "mapbox",
         "type": "scattermapbox"
        }
       ],
       "layout": {
        "coloraxis": {
         "colorbar": {
          "title": {
           "text": "temperature"
          }
         },
         "colorscale": [
          [
           0,
           "rgb(57, 162, 225)"
          ],
          [
           1,
           "rgb(234, 32, 41)"
          ]
         ]
        },
        "height": 510,
        "legend": {
         "itemsizing": "constant",
         "tracegroupgap": 0
        },
        "mapbox": {
         "center": {
          "lat": 45.45825960444445,
          "lon": 3.6605125666666662
         },
         "domain": {
          "x": [
           0,
           1
          ],
          "y": [
           0,
           1
          ]
         },
         "style": "open-street-map",
         "zoom": 4
        },
        "margin": {
         "t": 60
        },
        "template": {
         "data": {
          "bar": [
           {
            "error_x": {
             "color": "#2a3f5f"
            },
            "error_y": {
             "color": "#2a3f5f"
            },
            "marker": {
             "line": {
              "color": "#E5ECF6",
              "width": 0.5
             },
             "pattern": {
              "fillmode": "overlay",
              "size": 10,
              "solidity": 0.2
             }
            },
            "type": "bar"
           }
          ],
          "barpolar": [
           {
            "marker": {
             "line": {
              "color": "#E5ECF6",
              "width": 0.5
             },
             "pattern": {
              "fillmode": "overlay",
              "size": 10,
              "solidity": 0.2
             }
            },
            "type": "barpolar"
           }
          ],
          "carpet": [
           {
            "aaxis": {
             "endlinecolor": "#2a3f5f",
             "gridcolor": "white",
             "linecolor": "white",
             "minorgridcolor": "white",
             "startlinecolor": "#2a3f5f"
            },
            "baxis": {
             "endlinecolor": "#2a3f5f",
             "gridcolor": "white",
             "linecolor": "white",
             "minorgridcolor": "white",
             "startlinecolor": "#2a3f5f"
            },
            "type": "carpet"
           }
          ],
          "choropleth": [
           {
            "colorbar": {
             "outlinewidth": 0,
             "ticks": ""
            },
            "type": "choropleth"
           }
          ],
          "contour": [
           {
            "colorbar": {
             "outlinewidth": 0,
             "ticks": ""
            },
            "colorscale": [
             [
              0,
              "#0d0887"
             ],
             [
              0.1111111111111111,
              "#46039f"
             ],
             [
              0.2222222222222222,
              "#7201a8"
             ],
             [
              0.3333333333333333,
              "#9c179e"
             ],
             [
              0.4444444444444444,
              "#bd3786"
             ],
             [
              0.5555555555555556,
              "#d8576b"
             ],
             [
              0.6666666666666666,
              "#ed7953"
             ],
             [
              0.7777777777777778,
              "#fb9f3a"
             ],
             [
              0.8888888888888888,
              "#fdca26"
             ],
             [
              1,
              "#f0f921"
             ]
            ],
            "type": "contour"
           }
          ],
          "contourcarpet": [
           {
            "colorbar": {
             "outlinewidth": 0,
             "ticks": ""
            },
            "type": "contourcarpet"
           }
          ],
          "heatmap": [
           {
            "colorbar": {
             "outlinewidth": 0,
             "ticks": ""
            },
            "colorscale": [
             [
              0,
              "#0d0887"
             ],
             [
              0.1111111111111111,
              "#46039f"
             ],
             [
              0.2222222222222222,
              "#7201a8"
             ],
             [
              0.3333333333333333,
              "#9c179e"
             ],
             [
              0.4444444444444444,
              "#bd3786"
             ],
             [
              0.5555555555555556,
              "#d8576b"
             ],
             [
              0.6666666666666666,
              "#ed7953"
             ],
             [
              0.7777777777777778,
              "#fb9f3a"
             ],
             [
              0.8888888888888888,
              "#fdca26"
             ],
             [
              1,
              "#f0f921"
             ]
            ],
            "type": "heatmap"
           }
          ],
          "heatmapgl": [
           {
            "colorbar": {
             "outlinewidth": 0,
             "ticks": ""
            },
            "colorscale": [
             [
              0,
              "#0d0887"
             ],
             [
              0.1111111111111111,
              "#46039f"
             ],
             [
              0.2222222222222222,
              "#7201a8"
             ],
             [
              0.3333333333333333,
              "#9c179e"
             ],
             [
              0.4444444444444444,
              "#bd3786"
             ],
             [
              0.5555555555555556,
              "#d8576b"
             ],
             [
              0.6666666666666666,
              "#ed7953"
             ],
             [
              0.7777777777777778,
              "#fb9f3a"
             ],
             [
              0.8888888888888888,
              "#fdca26"
             ],
             [
              1,
              "#f0f921"
             ]
            ],
            "type": "heatmapgl"
           }
          ],
          "histogram": [
           {
            "marker": {
             "pattern": {
              "fillmode": "overlay",
              "size": 10,
              "solidity": 0.2
             }
            },
            "type": "histogram"
           }
          ],
          "histogram2d": [
           {
            "colorbar": {
             "outlinewidth": 0,
             "ticks": ""
            },
            "colorscale": [
             [
              0,
              "#0d0887"
             ],
             [
              0.1111111111111111,
              "#46039f"
             ],
             [
              0.2222222222222222,
              "#7201a8"
             ],
             [
              0.3333333333333333,
              "#9c179e"
             ],
             [
              0.4444444444444444,
              "#bd3786"
             ],
             [
              0.5555555555555556,
              "#d8576b"
             ],
             [
              0.6666666666666666,
              "#ed7953"
             ],
             [
              0.7777777777777778,
              "#fb9f3a"
             ],
             [
              0.8888888888888888,
              "#fdca26"
             ],
             [
              1,
              "#f0f921"
             ]
            ],
            "type": "histogram2d"
           }
          ],
          "histogram2dcontour": [
           {
            "colorbar": {
             "outlinewidth": 0,
             "ticks": ""
            },
            "colorscale": [
             [
              0,
              "#0d0887"
             ],
             [
              0.1111111111111111,
              "#46039f"
             ],
             [
              0.2222222222222222,
              "#7201a8"
             ],
             [
              0.3333333333333333,
              "#9c179e"
             ],
             [
              0.4444444444444444,
              "#bd3786"
             ],
             [
              0.5555555555555556,
              "#d8576b"
             ],
             [
              0.6666666666666666,
              "#ed7953"
             ],
             [
              0.7777777777777778,
              "#fb9f3a"
             ],
             [
              0.8888888888888888,
              "#fdca26"
             ],
             [
              1,
              "#f0f921"
             ]
            ],
            "type": "histogram2dcontour"
           }
          ],
          "mesh3d": [
           {
            "colorbar": {
             "outlinewidth": 0,
             "ticks": ""
            },
            "type": "mesh3d"
           }
          ],
          "parcoords": [
           {
            "line": {
             "colorbar": {
              "outlinewidth": 0,
              "ticks": ""
             }
            },
            "type": "parcoords"
           }
          ],
          "pie": [
           {
            "automargin": true,
            "type": "pie"
           }
          ],
          "scatter": [
           {
            "fillpattern": {
             "fillmode": "overlay",
             "size": 10,
             "solidity": 0.2
            },
            "type": "scatter"
           }
          ],
          "scatter3d": [
           {
            "line": {
             "colorbar": {
              "outlinewidth": 0,
              "ticks": ""
             }
            },
            "marker": {
             "colorbar": {
              "outlinewidth": 0,
              "ticks": ""
             }
            },
            "type": "scatter3d"
           }
          ],
          "scattercarpet": [
           {
            "marker": {
             "colorbar": {
              "outlinewidth": 0,
              "ticks": ""
             }
            },
            "type": "scattercarpet"
           }
          ],
          "scattergeo": [
           {
            "marker": {
             "colorbar": {
              "outlinewidth": 0,
              "ticks": ""
             }
            },
            "type": "scattergeo"
           }
          ],
          "scattergl": [
           {
            "marker": {
             "colorbar": {
              "outlinewidth": 0,
              "ticks": ""
             }
            },
            "type": "scattergl"
           }
          ],
          "scattermapbox": [
           {
            "marker": {
             "colorbar": {
              "outlinewidth": 0,
              "ticks": ""
             }
            },
            "type": "scattermapbox"
           }
          ],
          "scatterpolar": [
           {
            "marker": {
             "colorbar": {
              "outlinewidth": 0,
              "ticks": ""
             }
            },
            "type": "scatterpolar"
           }
          ],
          "scatterpolargl": [
           {
            "marker": {
             "colorbar": {
              "outlinewidth": 0,
              "ticks": ""
             }
            },
            "type": "scatterpolargl"
           }
          ],
          "scatterternary": [
           {
            "marker": {
             "colorbar": {
              "outlinewidth": 0,
              "ticks": ""
             }
            },
            "type": "scatterternary"
           }
          ],
          "surface": [
           {
            "colorbar": {
             "outlinewidth": 0,
             "ticks": ""
            },
            "colorscale": [
             [
              0,
              "#0d0887"
             ],
             [
              0.1111111111111111,
              "#46039f"
             ],
             [
              0.2222222222222222,
              "#7201a8"
             ],
             [
              0.3333333333333333,
              "#9c179e"
             ],
             [
              0.4444444444444444,
              "#bd3786"
             ],
             [
              0.5555555555555556,
              "#d8576b"
             ],
             [
              0.6666666666666666,
              "#ed7953"
             ],
             [
              0.7777777777777778,
              "#fb9f3a"
             ],
             [
              0.8888888888888888,
              "#fdca26"
             ],
             [
              1,
              "#f0f921"
             ]
            ],
            "type": "surface"
           }
          ],
          "table": [
           {
            "cells": {
             "fill": {
              "color": "#EBF0F8"
             },
             "line": {
              "color": "white"
             }
            },
            "header": {
             "fill": {
              "color": "#C8D4E3"
             },
             "line": {
              "color": "white"
             }
            },
            "type": "table"
           }
          ]
         },
         "layout": {
          "annotationdefaults": {
           "arrowcolor": "#2a3f5f",
           "arrowhead": 0,
           "arrowwidth": 1
          },
          "autotypenumbers": "strict",
          "coloraxis": {
           "colorbar": {
            "outlinewidth": 0,
            "ticks": ""
           }
          },
          "colorscale": {
           "diverging": [
            [
             0,
             "#8e0152"
            ],
            [
             0.1,
             "#c51b7d"
            ],
            [
             0.2,
             "#de77ae"
            ],
            [
             0.3,
             "#f1b6da"
            ],
            [
             0.4,
             "#fde0ef"
            ],
            [
             0.5,
             "#f7f7f7"
            ],
            [
             0.6,
             "#e6f5d0"
            ],
            [
             0.7,
             "#b8e186"
            ],
            [
             0.8,
             "#7fbc41"
            ],
            [
             0.9,
             "#4d9221"
            ],
            [
             1,
             "#276419"
            ]
           ],
           "sequential": [
            [
             0,
             "#0d0887"
            ],
            [
             0.1111111111111111,
             "#46039f"
            ],
            [
             0.2222222222222222,
             "#7201a8"
            ],
            [
             0.3333333333333333,
             "#9c179e"
            ],
            [
             0.4444444444444444,
             "#bd3786"
            ],
            [
             0.5555555555555556,
             "#d8576b"
            ],
            [
             0.6666666666666666,
             "#ed7953"
            ],
            [
             0.7777777777777778,
             "#fb9f3a"
            ],
            [
             0.8888888888888888,
             "#fdca26"
            ],
            [
             1,
             "#f0f921"
            ]
           ],
           "sequentialminus": [
            [
             0,
             "#0d0887"
            ],
            [
             0.1111111111111111,
             "#46039f"
            ],
            [
             0.2222222222222222,
             "#7201a8"
            ],
            [
             0.3333333333333333,
             "#9c179e"
            ],
            [
             0.4444444444444444,
             "#bd3786"
            ],
            [
             0.5555555555555556,
             "#d8576b"
            ],
            [
             0.6666666666666666,
             "#ed7953"
            ],
            [
             0.7777777777777778,
             "#fb9f3a"
            ],
            [
             0.8888888888888888,
             "#fdca26"
            ],
            [
             1,
             "#f0f921"
            ]
           ]
          },
          "colorway": [
           "#636efa",
           "#EF553B",
           "#00cc96",
           "#ab63fa",
           "#FFA15A",
           "#19d3f3",
           "#FF6692",
           "#B6E880",
           "#FF97FF",
           "#FECB52"
          ],
          "font": {
           "color": "#2a3f5f"
          },
          "geo": {
           "bgcolor": "white",
           "lakecolor": "white",
           "landcolor": "#E5ECF6",
           "showlakes": true,
           "showland": true,
           "subunitcolor": "white"
          },
          "hoverlabel": {
           "align": "left"
          },
          "hovermode": "closest",
          "mapbox": {
           "style": "light"
          },
          "paper_bgcolor": "white",
          "plot_bgcolor": "#E5ECF6",
          "polar": {
           "angularaxis": {
            "gridcolor": "white",
            "linecolor": "white",
            "ticks": ""
           },
           "bgcolor": "#E5ECF6",
           "radialaxis": {
            "gridcolor": "white",
            "linecolor": "white",
            "ticks": ""
           }
          },
          "scene": {
           "xaxis": {
            "backgroundcolor": "#E5ECF6",
            "gridcolor": "white",
            "gridwidth": 2,
            "linecolor": "white",
            "showbackground": true,
            "ticks": "",
            "zerolinecolor": "white"
           },
           "yaxis": {
            "backgroundcolor": "#E5ECF6",
            "gridcolor": "white",
            "gridwidth": 2,
            "linecolor": "white",
            "showbackground": true,
            "ticks": "",
            "zerolinecolor": "white"
           },
           "zaxis": {
            "backgroundcolor": "#E5ECF6",
            "gridcolor": "white",
            "gridwidth": 2,
            "linecolor": "white",
            "showbackground": true,
            "ticks": "",
            "zerolinecolor": "white"
           }
          },
          "shapedefaults": {
           "line": {
            "color": "#2a3f5f"
           }
          },
          "ternary": {
           "aaxis": {
            "gridcolor": "white",
            "linecolor": "white",
            "ticks": ""
           },
           "baxis": {
            "gridcolor": "white",
            "linecolor": "white",
            "ticks": ""
           },
           "bgcolor": "#E5ECF6",
           "caxis": {
            "gridcolor": "white",
            "linecolor": "white",
            "ticks": ""
           }
          },
          "title": {
           "x": 0.05
          },
          "xaxis": {
           "automargin": true,
           "gridcolor": "white",
           "linecolor": "white",
           "ticks": "",
           "title": {
            "standoff": 15
           },
           "zerolinecolor": "white",
           "zerolinewidth": 2
          },
          "yaxis": {
           "automargin": true,
           "gridcolor": "white",
           "linecolor": "white",
           "ticks": "",
           "title": {
            "standoff": 15
           },
           "zerolinecolor": "white",
           "zerolinewidth": 2
          }
         }
        },
        "width": 700
       }
      }
     },
     "metadata": {},
     "output_type": "display_data"
    }
   ],
   "source": [
    "colorscale = [\n",
    "[0, 'rgb(57, 162, 225)'],\n",
    "[1, 'rgb(234, 32, 41)']\n",
    "]\n",
    "fig = px.scatter_mapbox(df_top_five, lat=\"lat\", lon=\"lon\", color=\"temperature\", size=\"humidity\",\n",
    "                         mapbox_style=\"open-street-map\", zoom = 4, color_continuous_scale=colorscale, height=510, width=700)\n",
    "fig.show()"
   ]
  },
  {
   "cell_type": "markdown",
   "metadata": {},
   "source": [
    "Top 20 map"
   ]
  },
  {
   "cell_type": "code",
   "execution_count": 25,
   "metadata": {},
   "outputs": [],
   "source": [
    "pd.set_option('display.max_rows', None)"
   ]
  },
  {
   "cell_type": "code",
   "execution_count": 26,
   "metadata": {},
   "outputs": [
    {
     "data": {
      "text/html": [
       "<div>\n",
       "<style scoped>\n",
       "    .dataframe tbody tr th:only-of-type {\n",
       "        vertical-align: middle;\n",
       "    }\n",
       "\n",
       "    .dataframe tbody tr th {\n",
       "        vertical-align: top;\n",
       "    }\n",
       "\n",
       "    .dataframe thead th {\n",
       "        text-align: right;\n",
       "    }\n",
       "</style>\n",
       "<table border=\"1\" class=\"dataframe\">\n",
       "  <thead>\n",
       "    <tr style=\"text-align: right;\">\n",
       "      <th></th>\n",
       "      <th>city</th>\n",
       "      <th>hotel</th>\n",
       "      <th>score</th>\n",
       "      <th>lat</th>\n",
       "      <th>lon</th>\n",
       "      <th>temperature</th>\n",
       "    </tr>\n",
       "  </thead>\n",
       "  <tbody>\n",
       "    <tr>\n",
       "      <th>341</th>\n",
       "      <td>Bormes les Mimosas</td>\n",
       "      <td>Hotel des Arts - Cite Bergere</td>\n",
       "      <td>2 sur 5</td>\n",
       "      <td>48.87188026</td>\n",
       "      <td>2.34465466</td>\n",
       "      <td>22</td>\n",
       "    </tr>\n",
       "    <tr>\n",
       "      <th>342</th>\n",
       "      <td>Bormes les Mimosas</td>\n",
       "      <td>Hotel Audran</td>\n",
       "      <td>2 sur 5</td>\n",
       "      <td>48.88532693</td>\n",
       "      <td>2.33602367</td>\n",
       "      <td>22</td>\n",
       "    </tr>\n",
       "    <tr>\n",
       "      <th>343</th>\n",
       "      <td>Bormes les Mimosas</td>\n",
       "      <td>Hôtel De Venise</td>\n",
       "      <td>2 sur 5</td>\n",
       "      <td>48.84527191</td>\n",
       "      <td>2.38361210</td>\n",
       "      <td>22</td>\n",
       "    </tr>\n",
       "    <tr>\n",
       "      <th>344</th>\n",
       "      <td>Bormes les Mimosas</td>\n",
       "      <td>Hotel De La Cite Rougemont</td>\n",
       "      <td>2 sur 5</td>\n",
       "      <td>48.87209209</td>\n",
       "      <td>2.34528860</td>\n",
       "      <td>22</td>\n",
       "    </tr>\n",
       "    <tr>\n",
       "      <th>345</th>\n",
       "      <td>Bormes les Mimosas</td>\n",
       "      <td>Boutik Boheme L'Atelier Père Lachaise</td>\n",
       "      <td>1 sur 5</td>\n",
       "      <td>48.86668920</td>\n",
       "      <td>2.38539240</td>\n",
       "      <td>22</td>\n",
       "    </tr>\n",
       "    <tr>\n",
       "      <th>346</th>\n",
       "      <td>Bormes les Mimosas</td>\n",
       "      <td>Beautiful 1BR6P - Montorgueil RDC</td>\n",
       "      <td>1 sur 5</td>\n",
       "      <td>48.86676680</td>\n",
       "      <td>2.35161800</td>\n",
       "      <td>22</td>\n",
       "    </tr>\n",
       "    <tr>\n",
       "      <th>347</th>\n",
       "      <td>Bormes les Mimosas</td>\n",
       "      <td>District Nation</td>\n",
       "      <td>2 sur 5</td>\n",
       "      <td>48.85131070</td>\n",
       "      <td>2.39241260</td>\n",
       "      <td>22</td>\n",
       "    </tr>\n",
       "    <tr>\n",
       "      <th>348</th>\n",
       "      <td>Bormes les Mimosas</td>\n",
       "      <td>Hotel Diana Paris</td>\n",
       "      <td>2 sur 5</td>\n",
       "      <td>48.84989342</td>\n",
       "      <td>2.34510066</td>\n",
       "      <td>22</td>\n",
       "    </tr>\n",
       "    <tr>\n",
       "      <th>349</th>\n",
       "      <td>Bormes les Mimosas</td>\n",
       "      <td>HIGHSTAY - Luxury Serviced Apartments - Le Mar...</td>\n",
       "      <td>1 sur 5</td>\n",
       "      <td>48.86308680</td>\n",
       "      <td>2.35656140</td>\n",
       "      <td>22</td>\n",
       "    </tr>\n",
       "    <tr>\n",
       "      <th>350</th>\n",
       "      <td>Bormes les Mimosas</td>\n",
       "      <td>The Sleeping Lion</td>\n",
       "      <td>1 sur 5</td>\n",
       "      <td>48.85228200</td>\n",
       "      <td>2.36253100</td>\n",
       "      <td>22</td>\n",
       "    </tr>\n",
       "    <tr>\n",
       "      <th>351</th>\n",
       "      <td>Bormes les Mimosas</td>\n",
       "      <td>NOTRE DAME - STYLISH APARTMENT</td>\n",
       "      <td>None</td>\n",
       "      <td>48.85304200</td>\n",
       "      <td>2.34492200</td>\n",
       "      <td>22</td>\n",
       "    </tr>\n",
       "    <tr>\n",
       "      <th>352</th>\n",
       "      <td>Bormes les Mimosas</td>\n",
       "      <td>Boutik Boheme - Triplex Monceau</td>\n",
       "      <td>1 sur 5</td>\n",
       "      <td>48.88481110</td>\n",
       "      <td>2.31696500</td>\n",
       "      <td>22</td>\n",
       "    </tr>\n",
       "    <tr>\n",
       "      <th>353</th>\n",
       "      <td>Bormes les Mimosas</td>\n",
       "      <td>Boutik Boheme Le jardin Montmartre</td>\n",
       "      <td>1 sur 5</td>\n",
       "      <td>48.88686100</td>\n",
       "      <td>2.33986300</td>\n",
       "      <td>22</td>\n",
       "    </tr>\n",
       "    <tr>\n",
       "      <th>354</th>\n",
       "      <td>Bormes les Mimosas</td>\n",
       "      <td>Newly Refurbished Home in the Heart of Paris</td>\n",
       "      <td>1 sur 5</td>\n",
       "      <td>48.86745540</td>\n",
       "      <td>2.33622000</td>\n",
       "      <td>22</td>\n",
       "    </tr>\n",
       "    <tr>\n",
       "      <th>355</th>\n",
       "      <td>Bormes les Mimosas</td>\n",
       "      <td>Boutik Boheme Le Loft Batignolles</td>\n",
       "      <td>1 sur 5</td>\n",
       "      <td>48.88847380</td>\n",
       "      <td>2.32072220</td>\n",
       "      <td>22</td>\n",
       "    </tr>\n",
       "    <tr>\n",
       "      <th>356</th>\n",
       "      <td>Bormes les Mimosas</td>\n",
       "      <td>Apt full of charm with a terrace -15th Paris</td>\n",
       "      <td>1 sur 5</td>\n",
       "      <td>48.84314550</td>\n",
       "      <td>2.29983980</td>\n",
       "      <td>22</td>\n",
       "    </tr>\n",
       "    <tr>\n",
       "      <th>357</th>\n",
       "      <td>Bormes les Mimosas</td>\n",
       "      <td>GuestReady - Modern flat near Latin Quarter!</td>\n",
       "      <td>1 sur 5</td>\n",
       "      <td>48.83179940</td>\n",
       "      <td>2.34674050</td>\n",
       "      <td>22</td>\n",
       "    </tr>\n",
       "    <tr>\n",
       "      <th>358</th>\n",
       "      <td>Bormes les Mimosas</td>\n",
       "      <td>Résidence Palais Étoile</td>\n",
       "      <td>1 sur 5</td>\n",
       "      <td>48.87838937</td>\n",
       "      <td>2.28467211</td>\n",
       "      <td>22</td>\n",
       "    </tr>\n",
       "    <tr>\n",
       "      <th>359</th>\n",
       "      <td>Bormes les Mimosas</td>\n",
       "      <td>Hotel Zora</td>\n",
       "      <td>1 sur 5</td>\n",
       "      <td>48.86645888</td>\n",
       "      <td>2.34674074</td>\n",
       "      <td>22</td>\n",
       "    </tr>\n",
       "    <tr>\n",
       "      <th>360</th>\n",
       "      <td>Bormes les Mimosas</td>\n",
       "      <td>Hôtel Marignan</td>\n",
       "      <td>1 sur 5</td>\n",
       "      <td>48.84992330</td>\n",
       "      <td>2.34652720</td>\n",
       "      <td>22</td>\n",
       "    </tr>\n",
       "    <tr>\n",
       "      <th>361</th>\n",
       "      <td>Cassis</td>\n",
       "      <td>LE SEPT charmant studio aux portes des calanques</td>\n",
       "      <td>3 sur 5</td>\n",
       "      <td>43.21759970</td>\n",
       "      <td>5.53235000</td>\n",
       "      <td>20</td>\n",
       "    </tr>\n",
       "    <tr>\n",
       "      <th>362</th>\n",
       "      <td>Cassis</td>\n",
       "      <td>L'ODYSSÉE BLEUE VUE MER</td>\n",
       "      <td>3 sur 5</td>\n",
       "      <td>43.21178372</td>\n",
       "      <td>5.53087160</td>\n",
       "      <td>20</td>\n",
       "    </tr>\n",
       "    <tr>\n",
       "      <th>363</th>\n",
       "      <td>Cassis</td>\n",
       "      <td>Chez Jacques par Dodo-a-Cassis</td>\n",
       "      <td>3 sur 5</td>\n",
       "      <td>43.21545860</td>\n",
       "      <td>5.53449760</td>\n",
       "      <td>20</td>\n",
       "    </tr>\n",
       "    <tr>\n",
       "      <th>364</th>\n",
       "      <td>Cassis</td>\n",
       "      <td>appartement cosy à 10 mètres du port de Cassis</td>\n",
       "      <td>3 sur 5</td>\n",
       "      <td>43.21533507</td>\n",
       "      <td>5.53686093</td>\n",
       "      <td>20</td>\n",
       "    </tr>\n",
       "    <tr>\n",
       "      <th>365</th>\n",
       "      <td>Cassis</td>\n",
       "      <td>Giovannina N1</td>\n",
       "      <td>3 sur 5</td>\n",
       "      <td>43.22131700</td>\n",
       "      <td>5.53613800</td>\n",
       "      <td>20</td>\n",
       "    </tr>\n",
       "    <tr>\n",
       "      <th>366</th>\n",
       "      <td>Cassis</td>\n",
       "      <td>appartement du pêcheur à Cassis à 10 mètres du...</td>\n",
       "      <td>3 sur 5</td>\n",
       "      <td>43.21534046</td>\n",
       "      <td>5.53685820</td>\n",
       "      <td>20</td>\n",
       "    </tr>\n",
       "    <tr>\n",
       "      <th>367</th>\n",
       "      <td>Cassis</td>\n",
       "      <td>SunSet Cassis</td>\n",
       "      <td>3 sur 5</td>\n",
       "      <td>43.21545600</td>\n",
       "      <td>5.53573400</td>\n",
       "      <td>20</td>\n",
       "    </tr>\n",
       "    <tr>\n",
       "      <th>368</th>\n",
       "      <td>Cassis</td>\n",
       "      <td>L’Aiguade, appartement d'exception à Cassis</td>\n",
       "      <td>3 sur 5</td>\n",
       "      <td>43.21411540</td>\n",
       "      <td>5.53382110</td>\n",
       "      <td>20</td>\n",
       "    </tr>\n",
       "    <tr>\n",
       "      <th>369</th>\n",
       "      <td>Cassis</td>\n",
       "      <td>La Demeure Insoupçonnée</td>\n",
       "      <td>3 sur 5</td>\n",
       "      <td>43.21919990</td>\n",
       "      <td>5.54713650</td>\n",
       "      <td>20</td>\n",
       "    </tr>\n",
       "    <tr>\n",
       "      <th>370</th>\n",
       "      <td>Cassis</td>\n",
       "      <td>MISTRAL Gagnant</td>\n",
       "      <td>3 sur 5</td>\n",
       "      <td>43.21537000</td>\n",
       "      <td>5.53719000</td>\n",
       "      <td>20</td>\n",
       "    </tr>\n",
       "    <tr>\n",
       "      <th>371</th>\n",
       "      <td>Cassis</td>\n",
       "      <td>Appart Bianca T2 - Terrasse - Parking - Calme ...</td>\n",
       "      <td>3 sur 5</td>\n",
       "      <td>43.20774700</td>\n",
       "      <td>5.52219180</td>\n",
       "      <td>20</td>\n",
       "    </tr>\n",
       "    <tr>\n",
       "      <th>372</th>\n",
       "      <td>Cassis</td>\n",
       "      <td>UNE TERRASSE SUR LA MER 3 pers 2 chambres VUE MER</td>\n",
       "      <td>3 sur 5</td>\n",
       "      <td>43.21407197</td>\n",
       "      <td>5.53062182</td>\n",
       "      <td>20</td>\n",
       "    </tr>\n",
       "    <tr>\n",
       "      <th>373</th>\n",
       "      <td>Cassis</td>\n",
       "      <td>La douceur de Cassis</td>\n",
       "      <td>3 sur 5</td>\n",
       "      <td>43.21500900</td>\n",
       "      <td>5.53095600</td>\n",
       "      <td>20</td>\n",
       "    </tr>\n",
       "    <tr>\n",
       "      <th>374</th>\n",
       "      <td>Cassis</td>\n",
       "      <td>Home Cassis - Maison Mediterranée - Piscine ch...</td>\n",
       "      <td>3 sur 5</td>\n",
       "      <td>43.21977635</td>\n",
       "      <td>5.53745873</td>\n",
       "      <td>20</td>\n",
       "    </tr>\n",
       "    <tr>\n",
       "      <th>375</th>\n",
       "      <td>Cassis</td>\n",
       "      <td>HôTEL LES VOLETS ROUGES - CASSIS</td>\n",
       "      <td>2 sur 5</td>\n",
       "      <td>43.23482930</td>\n",
       "      <td>5.51191052</td>\n",
       "      <td>20</td>\n",
       "    </tr>\n",
       "    <tr>\n",
       "      <th>376</th>\n",
       "      <td>Cassis</td>\n",
       "      <td>le Camelia</td>\n",
       "      <td>2 sur 5</td>\n",
       "      <td>43.21838725</td>\n",
       "      <td>5.53568370</td>\n",
       "      <td>20</td>\n",
       "    </tr>\n",
       "    <tr>\n",
       "      <th>377</th>\n",
       "      <td>Cassis</td>\n",
       "      <td>Hotel Le Golfe</td>\n",
       "      <td>2 sur 5</td>\n",
       "      <td>43.21443438</td>\n",
       "      <td>5.53529486</td>\n",
       "      <td>20</td>\n",
       "    </tr>\n",
       "    <tr>\n",
       "      <th>378</th>\n",
       "      <td>Cassis</td>\n",
       "      <td>Appartement le Mehari</td>\n",
       "      <td>1 sur 5</td>\n",
       "      <td>43.21440980</td>\n",
       "      <td>5.53942750</td>\n",
       "      <td>20</td>\n",
       "    </tr>\n",
       "    <tr>\n",
       "      <th>379</th>\n",
       "      <td>Cassis</td>\n",
       "      <td>Studio 29 Cassis</td>\n",
       "      <td>1 sur 5</td>\n",
       "      <td>43.22784980</td>\n",
       "      <td>5.53319290</td>\n",
       "      <td>20</td>\n",
       "    </tr>\n",
       "    <tr>\n",
       "      <th>380</th>\n",
       "      <td>Cassis</td>\n",
       "      <td>Au son des Cigales</td>\n",
       "      <td>1 sur 5</td>\n",
       "      <td>43.21508678</td>\n",
       "      <td>5.53094902</td>\n",
       "      <td>20</td>\n",
       "    </tr>\n",
       "    <tr>\n",
       "      <th>401</th>\n",
       "      <td>Aix en Provence</td>\n",
       "      <td>La Suite Albertas</td>\n",
       "      <td>3 sur 5</td>\n",
       "      <td>43.52741800</td>\n",
       "      <td>5.44769500</td>\n",
       "      <td>19</td>\n",
       "    </tr>\n",
       "    <tr>\n",
       "      <th>402</th>\n",
       "      <td>Aix en Provence</td>\n",
       "      <td>Toits Vieil - Appartement de charme avec terra...</td>\n",
       "      <td>3 sur 5</td>\n",
       "      <td>43.53045120</td>\n",
       "      <td>5.44866370</td>\n",
       "      <td>19</td>\n",
       "    </tr>\n",
       "    <tr>\n",
       "      <th>403</th>\n",
       "      <td>Aix en Provence</td>\n",
       "      <td>Maison Du Collectionneur</td>\n",
       "      <td>3 sur 5</td>\n",
       "      <td>43.52505700</td>\n",
       "      <td>5.45295800</td>\n",
       "      <td>19</td>\n",
       "    </tr>\n",
       "    <tr>\n",
       "      <th>404</th>\n",
       "      <td>Aix en Provence</td>\n",
       "      <td>Maison provençale au calme de la campagne avec...</td>\n",
       "      <td>3 sur 5</td>\n",
       "      <td>43.56496530</td>\n",
       "      <td>5.49066450</td>\n",
       "      <td>19</td>\n",
       "    </tr>\n",
       "    <tr>\n",
       "      <th>405</th>\n",
       "      <td>Aix en Provence</td>\n",
       "      <td>Domaine de Carraire</td>\n",
       "      <td>3 sur 5</td>\n",
       "      <td>43.56606250</td>\n",
       "      <td>5.38444770</td>\n",
       "      <td>19</td>\n",
       "    </tr>\n",
       "    <tr>\n",
       "      <th>406</th>\n",
       "      <td>Aix en Provence</td>\n",
       "      <td>Pavillon de Beauregard</td>\n",
       "      <td>3 sur 5</td>\n",
       "      <td>43.54451280</td>\n",
       "      <td>5.46810520</td>\n",
       "      <td>19</td>\n",
       "    </tr>\n",
       "    <tr>\n",
       "      <th>407</th>\n",
       "      <td>Aix en Provence</td>\n",
       "      <td>Loft Rotonde WIFI CLIM SMART TV RUE CALME</td>\n",
       "      <td>3 sur 5</td>\n",
       "      <td>43.52380859</td>\n",
       "      <td>5.44577092</td>\n",
       "      <td>19</td>\n",
       "    </tr>\n",
       "    <tr>\n",
       "      <th>408</th>\n",
       "      <td>Aix en Provence</td>\n",
       "      <td>Port Royal</td>\n",
       "      <td>3 sur 5</td>\n",
       "      <td>43.52498055</td>\n",
       "      <td>5.44155085</td>\n",
       "      <td>19</td>\n",
       "    </tr>\n",
       "    <tr>\n",
       "      <th>409</th>\n",
       "      <td>Aix en Provence</td>\n",
       "      <td>Hote-Aix-Centre-garage-piscine</td>\n",
       "      <td>3 sur 5</td>\n",
       "      <td>43.51664446</td>\n",
       "      <td>5.44180333</td>\n",
       "      <td>19</td>\n",
       "    </tr>\n",
       "    <tr>\n",
       "      <th>410</th>\n",
       "      <td>Aix en Provence</td>\n",
       "      <td>Les Quatre Dauphins</td>\n",
       "      <td>3 sur 5</td>\n",
       "      <td>43.52490880</td>\n",
       "      <td>5.45042306</td>\n",
       "      <td>19</td>\n",
       "    </tr>\n",
       "    <tr>\n",
       "      <th>411</th>\n",
       "      <td>Aix en Provence</td>\n",
       "      <td>Les suites de Montigny</td>\n",
       "      <td>3 sur 5</td>\n",
       "      <td>43.52962460</td>\n",
       "      <td>5.45038930</td>\n",
       "      <td>19</td>\n",
       "    </tr>\n",
       "    <tr>\n",
       "      <th>412</th>\n",
       "      <td>Aix en Provence</td>\n",
       "      <td>Hôtel Escaletto</td>\n",
       "      <td>3 sur 5</td>\n",
       "      <td>43.53004967</td>\n",
       "      <td>5.44414669</td>\n",
       "      <td>19</td>\n",
       "    </tr>\n",
       "    <tr>\n",
       "      <th>413</th>\n",
       "      <td>Aix en Provence</td>\n",
       "      <td>Bed and Breakfast Jardin de Marie</td>\n",
       "      <td>3 sur 5</td>\n",
       "      <td>43.52490233</td>\n",
       "      <td>5.45054108</td>\n",
       "      <td>19</td>\n",
       "    </tr>\n",
       "    <tr>\n",
       "      <th>414</th>\n",
       "      <td>Aix en Provence</td>\n",
       "      <td>APPART AIX MAZARIN</td>\n",
       "      <td>3 sur 5</td>\n",
       "      <td>43.52596364</td>\n",
       "      <td>5.45189139</td>\n",
       "      <td>19</td>\n",
       "    </tr>\n",
       "    <tr>\n",
       "      <th>415</th>\n",
       "      <td>Aix en Provence</td>\n",
       "      <td>Hôtel Le Mozart</td>\n",
       "      <td>3 sur 5</td>\n",
       "      <td>43.52191762</td>\n",
       "      <td>5.45787156</td>\n",
       "      <td>19</td>\n",
       "    </tr>\n",
       "    <tr>\n",
       "      <th>416</th>\n",
       "      <td>Aix en Provence</td>\n",
       "      <td>Appartement de charme</td>\n",
       "      <td>3 sur 5</td>\n",
       "      <td>43.52913070</td>\n",
       "      <td>5.45298500</td>\n",
       "      <td>19</td>\n",
       "    </tr>\n",
       "    <tr>\n",
       "      <th>417</th>\n",
       "      <td>Aix en Provence</td>\n",
       "      <td>Hôtel des Augustins</td>\n",
       "      <td>3 sur 5</td>\n",
       "      <td>43.52688664</td>\n",
       "      <td>5.44727147</td>\n",
       "      <td>19</td>\n",
       "    </tr>\n",
       "    <tr>\n",
       "      <th>418</th>\n",
       "      <td>Aix en Provence</td>\n",
       "      <td>B&amp;B Villa Roumanille</td>\n",
       "      <td>3 sur 5</td>\n",
       "      <td>43.51783611</td>\n",
       "      <td>5.44283509</td>\n",
       "      <td>19</td>\n",
       "    </tr>\n",
       "    <tr>\n",
       "      <th>419</th>\n",
       "      <td>Aix en Provence</td>\n",
       "      <td>Hôtel Paul</td>\n",
       "      <td>2 sur 5</td>\n",
       "      <td>43.53336324</td>\n",
       "      <td>5.44605643</td>\n",
       "      <td>19</td>\n",
       "    </tr>\n",
       "    <tr>\n",
       "      <th>420</th>\n",
       "      <td>Aix en Provence</td>\n",
       "      <td>Hotel Cardinal</td>\n",
       "      <td>2 sur 5</td>\n",
       "      <td>43.52559870</td>\n",
       "      <td>5.45172080</td>\n",
       "      <td>19</td>\n",
       "    </tr>\n",
       "    <tr>\n",
       "      <th>421</th>\n",
       "      <td>Avignon</td>\n",
       "      <td>Le Saint-Laurent - Parking Gratuit - Terrasse ...</td>\n",
       "      <td>3 sur 5</td>\n",
       "      <td>43.94542050</td>\n",
       "      <td>4.80426440</td>\n",
       "      <td>19</td>\n",
       "    </tr>\n",
       "    <tr>\n",
       "      <th>422</th>\n",
       "      <td>Avignon</td>\n",
       "      <td>L'Olivier - 2 terrasses - Clim AC - WIFI - PRO...</td>\n",
       "      <td>3 sur 5</td>\n",
       "      <td>43.94575240</td>\n",
       "      <td>4.81405670</td>\n",
       "      <td>19</td>\n",
       "    </tr>\n",
       "    <tr>\n",
       "      <th>423</th>\n",
       "      <td>Avignon</td>\n",
       "      <td>L'Oriflamme</td>\n",
       "      <td>3 sur 5</td>\n",
       "      <td>43.94960410</td>\n",
       "      <td>4.81154160</td>\n",
       "      <td>19</td>\n",
       "    </tr>\n",
       "    <tr>\n",
       "      <th>424</th>\n",
       "      <td>Avignon</td>\n",
       "      <td>Maison d'hôtes L'îlot bambou</td>\n",
       "      <td>3 sur 5</td>\n",
       "      <td>43.95108984</td>\n",
       "      <td>4.79801933</td>\n",
       "      <td>19</td>\n",
       "    </tr>\n",
       "    <tr>\n",
       "      <th>425</th>\n",
       "      <td>Avignon</td>\n",
       "      <td>Duplex-Ceiling height 1,9m-Free private parkin...</td>\n",
       "      <td>3 sur 5</td>\n",
       "      <td>43.94651160</td>\n",
       "      <td>4.80351180</td>\n",
       "      <td>19</td>\n",
       "    </tr>\n",
       "    <tr>\n",
       "      <th>426</th>\n",
       "      <td>Avignon</td>\n",
       "      <td>Le Magnan</td>\n",
       "      <td>3 sur 5</td>\n",
       "      <td>43.94362946</td>\n",
       "      <td>4.81217131</td>\n",
       "      <td>19</td>\n",
       "    </tr>\n",
       "    <tr>\n",
       "      <th>427</th>\n",
       "      <td>Avignon</td>\n",
       "      <td>My Pad Provence 2</td>\n",
       "      <td>3 sur 5</td>\n",
       "      <td>43.95140587</td>\n",
       "      <td>4.80340572</td>\n",
       "      <td>19</td>\n",
       "    </tr>\n",
       "    <tr>\n",
       "      <th>428</th>\n",
       "      <td>Avignon</td>\n",
       "      <td>Maison XIXe et Jardin en Intramuros</td>\n",
       "      <td>3 sur 5</td>\n",
       "      <td>43.95034438</td>\n",
       "      <td>4.81153785</td>\n",
       "      <td>19</td>\n",
       "    </tr>\n",
       "    <tr>\n",
       "      <th>429</th>\n",
       "      <td>Avignon</td>\n",
       "      <td>Maison Rascas</td>\n",
       "      <td>3 sur 5</td>\n",
       "      <td>43.95035860</td>\n",
       "      <td>4.81676920</td>\n",
       "      <td>19</td>\n",
       "    </tr>\n",
       "    <tr>\n",
       "      <th>430</th>\n",
       "      <td>Avignon</td>\n",
       "      <td>CLIMATISATION-Hypercentre-PARKING-COSY CARNOT-...</td>\n",
       "      <td>3 sur 5</td>\n",
       "      <td>43.94917757</td>\n",
       "      <td>4.81083119</td>\n",
       "      <td>19</td>\n",
       "    </tr>\n",
       "    <tr>\n",
       "      <th>431</th>\n",
       "      <td>Avignon</td>\n",
       "      <td>Les petits poissons</td>\n",
       "      <td>3 sur 5</td>\n",
       "      <td>43.93619550</td>\n",
       "      <td>4.82600075</td>\n",
       "      <td>19</td>\n",
       "    </tr>\n",
       "    <tr>\n",
       "      <th>432</th>\n",
       "      <td>Avignon</td>\n",
       "      <td>Chambre et appartements entre le Pont d Avigno...</td>\n",
       "      <td>3 sur 5</td>\n",
       "      <td>43.95070950</td>\n",
       "      <td>4.80338430</td>\n",
       "      <td>19</td>\n",
       "    </tr>\n",
       "    <tr>\n",
       "      <th>433</th>\n",
       "      <td>Avignon</td>\n",
       "      <td>CLIM - 4 chambres 4 salles de bains - Spacieux...</td>\n",
       "      <td>3 sur 5</td>\n",
       "      <td>43.94318560</td>\n",
       "      <td>4.81940080</td>\n",
       "      <td>19</td>\n",
       "    </tr>\n",
       "    <tr>\n",
       "      <th>434</th>\n",
       "      <td>Avignon</td>\n",
       "      <td>Au cœur des Papes, dans bâtisse de charme stud...</td>\n",
       "      <td>3 sur 5</td>\n",
       "      <td>43.94617060</td>\n",
       "      <td>4.81018870</td>\n",
       "      <td>19</td>\n",
       "    </tr>\n",
       "    <tr>\n",
       "      <th>435</th>\n",
       "      <td>Avignon</td>\n",
       "      <td>LE PETIT AVIGNONNAIS - APHRODITE - INTRAMUROS ...</td>\n",
       "      <td>2 sur 5</td>\n",
       "      <td>43.94515960</td>\n",
       "      <td>4.80815720</td>\n",
       "      <td>19</td>\n",
       "    </tr>\n",
       "    <tr>\n",
       "      <th>436</th>\n",
       "      <td>Avignon</td>\n",
       "      <td>Aventure Avignonnaise - AUTHENTIQUE - INTRAMUR...</td>\n",
       "      <td>2 sur 5</td>\n",
       "      <td>43.94459000</td>\n",
       "      <td>4.81000200</td>\n",
       "      <td>19</td>\n",
       "    </tr>\n",
       "    <tr>\n",
       "      <th>437</th>\n",
       "      <td>Avignon</td>\n",
       "      <td>Aventure Avignonnaise - ROOFTOP TERRASSE - INT...</td>\n",
       "      <td>2 sur 5</td>\n",
       "      <td>43.94459000</td>\n",
       "      <td>4.81000200</td>\n",
       "      <td>19</td>\n",
       "    </tr>\n",
       "    <tr>\n",
       "      <th>438</th>\n",
       "      <td>Avignon</td>\n",
       "      <td>La BONNETERIE - LES HALLES - HYPERCENTRE - AVI...</td>\n",
       "      <td>2 sur 5</td>\n",
       "      <td>43.94697670</td>\n",
       "      <td>4.81029060</td>\n",
       "      <td>19</td>\n",
       "    </tr>\n",
       "    <tr>\n",
       "      <th>439</th>\n",
       "      <td>Avignon</td>\n",
       "      <td>55 VERNET</td>\n",
       "      <td>2 sur 5</td>\n",
       "      <td>43.94734700</td>\n",
       "      <td>4.80346100</td>\n",
       "      <td>19</td>\n",
       "    </tr>\n",
       "    <tr>\n",
       "      <th>440</th>\n",
       "      <td>Avignon</td>\n",
       "      <td>LE PALAIS DES PAPES - AVIGNONSMILE</td>\n",
       "      <td>2 sur 5</td>\n",
       "      <td>43.95130865</td>\n",
       "      <td>4.81073503</td>\n",
       "      <td>19</td>\n",
       "    </tr>\n",
       "    <tr>\n",
       "      <th>441</th>\n",
       "      <td>Uzes</td>\n",
       "      <td>appartement en résidence très bien situé</td>\n",
       "      <td>3 sur 5</td>\n",
       "      <td>44.01193730</td>\n",
       "      <td>4.41316420</td>\n",
       "      <td>18</td>\n",
       "    </tr>\n",
       "    <tr>\n",
       "      <th>442</th>\n",
       "      <td>Uzes</td>\n",
       "      <td>Résidence La Bastide d'Uzes</td>\n",
       "      <td>3 sur 5</td>\n",
       "      <td>44.00141200</td>\n",
       "      <td>4.41978300</td>\n",
       "      <td>18</td>\n",
       "    </tr>\n",
       "    <tr>\n",
       "      <th>443</th>\n",
       "      <td>Uzes</td>\n",
       "      <td>GOLF CLUB D'UZES</td>\n",
       "      <td>3 sur 5</td>\n",
       "      <td>43.98241900</td>\n",
       "      <td>4.43796300</td>\n",
       "      <td>18</td>\n",
       "    </tr>\n",
       "    <tr>\n",
       "      <th>444</th>\n",
       "      <td>Uzes</td>\n",
       "      <td>La Taverne</td>\n",
       "      <td>2 sur 5</td>\n",
       "      <td>44.01465900</td>\n",
       "      <td>4.42005150</td>\n",
       "      <td>18</td>\n",
       "    </tr>\n",
       "    <tr>\n",
       "      <th>445</th>\n",
       "      <td>Uzes</td>\n",
       "      <td>Le Pré Aux Cigales</td>\n",
       "      <td>3 sur 5</td>\n",
       "      <td>44.01544515</td>\n",
       "      <td>4.40987000</td>\n",
       "      <td>18</td>\n",
       "    </tr>\n",
       "    <tr>\n",
       "      <th>446</th>\n",
       "      <td>Uzes</td>\n",
       "      <td>La Casita - Studio Confort avec Parking privé ...</td>\n",
       "      <td>3 sur 5</td>\n",
       "      <td>44.01215210</td>\n",
       "      <td>4.41697010</td>\n",
       "      <td>18</td>\n",
       "    </tr>\n",
       "    <tr>\n",
       "      <th>447</th>\n",
       "      <td>Uzes</td>\n",
       "      <td>Les Gîtes de Cayenne - Gîte Olivia</td>\n",
       "      <td>3 sur 5</td>\n",
       "      <td>44.01217860</td>\n",
       "      <td>4.40631810</td>\n",
       "      <td>18</td>\n",
       "    </tr>\n",
       "    <tr>\n",
       "      <th>448</th>\n",
       "      <td>Uzes</td>\n",
       "      <td>Appartement Ulysse</td>\n",
       "      <td>3 sur 5</td>\n",
       "      <td>44.01322390</td>\n",
       "      <td>4.42226820</td>\n",
       "      <td>18</td>\n",
       "    </tr>\n",
       "    <tr>\n",
       "      <th>449</th>\n",
       "      <td>Uzes</td>\n",
       "      <td>Le Cherche Midi - Appartement centre historiqu...</td>\n",
       "      <td>3 sur 5</td>\n",
       "      <td>44.01271040</td>\n",
       "      <td>4.41850030</td>\n",
       "      <td>18</td>\n",
       "    </tr>\n",
       "    <tr>\n",
       "      <th>450</th>\n",
       "      <td>Uzes</td>\n",
       "      <td>Appartement moderne central avec piscine, gara...</td>\n",
       "      <td>3 sur 5</td>\n",
       "      <td>44.01276520</td>\n",
       "      <td>4.41432310</td>\n",
       "      <td>18</td>\n",
       "    </tr>\n",
       "    <tr>\n",
       "      <th>451</th>\n",
       "      <td>Uzes</td>\n",
       "      <td>Maison de Roche-Uzès Centre Historique L' Ucetia</td>\n",
       "      <td>3 sur 5</td>\n",
       "      <td>44.01122460</td>\n",
       "      <td>4.41992260</td>\n",
       "      <td>18</td>\n",
       "    </tr>\n",
       "    <tr>\n",
       "      <th>452</th>\n",
       "      <td>Uzes</td>\n",
       "      <td>La bohème place aux herbes</td>\n",
       "      <td>3 sur 5</td>\n",
       "      <td>44.01167638</td>\n",
       "      <td>4.41908838</td>\n",
       "      <td>18</td>\n",
       "    </tr>\n",
       "    <tr>\n",
       "      <th>453</th>\n",
       "      <td>Uzes</td>\n",
       "      <td>Coeur d'Uzès</td>\n",
       "      <td>3 sur 5</td>\n",
       "      <td>44.01334110</td>\n",
       "      <td>4.41971600</td>\n",
       "      <td>18</td>\n",
       "    </tr>\n",
       "    <tr>\n",
       "      <th>454</th>\n",
       "      <td>Uzes</td>\n",
       "      <td>Une chambre à Uzès</td>\n",
       "      <td>3 sur 5</td>\n",
       "      <td>44.01183230</td>\n",
       "      <td>4.41850050</td>\n",
       "      <td>18</td>\n",
       "    </tr>\n",
       "    <tr>\n",
       "      <th>455</th>\n",
       "      <td>Uzes</td>\n",
       "      <td>Le trente trois</td>\n",
       "      <td>3 sur 5</td>\n",
       "      <td>44.00964195</td>\n",
       "      <td>4.41788524</td>\n",
       "      <td>18</td>\n",
       "    </tr>\n",
       "    <tr>\n",
       "      <th>456</th>\n",
       "      <td>Uzes</td>\n",
       "      <td>Hôtel Le Saint-Geniès</td>\n",
       "      <td>3 sur 5</td>\n",
       "      <td>44.02305334</td>\n",
       "      <td>4.42047223</td>\n",
       "      <td>18</td>\n",
       "    </tr>\n",
       "    <tr>\n",
       "      <th>457</th>\n",
       "      <td>Uzes</td>\n",
       "      <td>Les cèdres</td>\n",
       "      <td>3 sur 5</td>\n",
       "      <td>44.01184741</td>\n",
       "      <td>4.41413619</td>\n",
       "      <td>18</td>\n",
       "    </tr>\n",
       "    <tr>\n",
       "      <th>458</th>\n",
       "      <td>Uzes</td>\n",
       "      <td>La DAME de FLAUX</td>\n",
       "      <td>3 sur 5</td>\n",
       "      <td>44.01205040</td>\n",
       "      <td>4.41924380</td>\n",
       "      <td>18</td>\n",
       "    </tr>\n",
       "    <tr>\n",
       "      <th>459</th>\n",
       "      <td>Uzes</td>\n",
       "      <td>appartement 3 min a pied du centre d'Uzès park...</td>\n",
       "      <td>3 sur 5</td>\n",
       "      <td>44.01276500</td>\n",
       "      <td>4.41432300</td>\n",
       "      <td>18</td>\n",
       "    </tr>\n",
       "    <tr>\n",
       "      <th>460</th>\n",
       "      <td>Uzes</td>\n",
       "      <td>LOGIS HOTEL RESTAURANT L' Auberge d'Uzes</td>\n",
       "      <td>2 sur 5</td>\n",
       "      <td>43.99277827</td>\n",
       "      <td>4.42427516</td>\n",
       "      <td>18</td>\n",
       "    </tr>\n",
       "  </tbody>\n",
       "</table>\n",
       "</div>"
      ],
      "text/plain": [
       "                   city                                              hotel  \\\n",
       "341  Bormes les Mimosas                      Hotel des Arts - Cite Bergere   \n",
       "342  Bormes les Mimosas                                       Hotel Audran   \n",
       "343  Bormes les Mimosas                                    Hôtel De Venise   \n",
       "344  Bormes les Mimosas                         Hotel De La Cite Rougemont   \n",
       "345  Bormes les Mimosas              Boutik Boheme L'Atelier Père Lachaise   \n",
       "346  Bormes les Mimosas                  Beautiful 1BR6P - Montorgueil RDC   \n",
       "347  Bormes les Mimosas                                    District Nation   \n",
       "348  Bormes les Mimosas                                  Hotel Diana Paris   \n",
       "349  Bormes les Mimosas  HIGHSTAY - Luxury Serviced Apartments - Le Mar...   \n",
       "350  Bormes les Mimosas                                  The Sleeping Lion   \n",
       "351  Bormes les Mimosas                     NOTRE DAME - STYLISH APARTMENT   \n",
       "352  Bormes les Mimosas                    Boutik Boheme - Triplex Monceau   \n",
       "353  Bormes les Mimosas                 Boutik Boheme Le jardin Montmartre   \n",
       "354  Bormes les Mimosas       Newly Refurbished Home in the Heart of Paris   \n",
       "355  Bormes les Mimosas                  Boutik Boheme Le Loft Batignolles   \n",
       "356  Bormes les Mimosas       Apt full of charm with a terrace -15th Paris   \n",
       "357  Bormes les Mimosas       GuestReady - Modern flat near Latin Quarter!   \n",
       "358  Bormes les Mimosas                            Résidence Palais Étoile   \n",
       "359  Bormes les Mimosas                                         Hotel Zora   \n",
       "360  Bormes les Mimosas                                     Hôtel Marignan   \n",
       "361              Cassis   LE SEPT charmant studio aux portes des calanques   \n",
       "362              Cassis                            L'ODYSSÉE BLEUE VUE MER   \n",
       "363              Cassis                     Chez Jacques par Dodo-a-Cassis   \n",
       "364              Cassis     appartement cosy à 10 mètres du port de Cassis   \n",
       "365              Cassis                                      Giovannina N1   \n",
       "366              Cassis  appartement du pêcheur à Cassis à 10 mètres du...   \n",
       "367              Cassis                                      SunSet Cassis   \n",
       "368              Cassis        L’Aiguade, appartement d'exception à Cassis   \n",
       "369              Cassis                            La Demeure Insoupçonnée   \n",
       "370              Cassis                                    MISTRAL Gagnant   \n",
       "371              Cassis  Appart Bianca T2 - Terrasse - Parking - Calme ...   \n",
       "372              Cassis  UNE TERRASSE SUR LA MER 3 pers 2 chambres VUE MER   \n",
       "373              Cassis                               La douceur de Cassis   \n",
       "374              Cassis  Home Cassis - Maison Mediterranée - Piscine ch...   \n",
       "375              Cassis                   HôTEL LES VOLETS ROUGES - CASSIS   \n",
       "376              Cassis                                         le Camelia   \n",
       "377              Cassis                                     Hotel Le Golfe   \n",
       "378              Cassis                              Appartement le Mehari   \n",
       "379              Cassis                                   Studio 29 Cassis   \n",
       "380              Cassis                                 Au son des Cigales   \n",
       "401     Aix en Provence                                  La Suite Albertas   \n",
       "402     Aix en Provence  Toits Vieil - Appartement de charme avec terra...   \n",
       "403     Aix en Provence                           Maison Du Collectionneur   \n",
       "404     Aix en Provence  Maison provençale au calme de la campagne avec...   \n",
       "405     Aix en Provence                                Domaine de Carraire   \n",
       "406     Aix en Provence                             Pavillon de Beauregard   \n",
       "407     Aix en Provence          Loft Rotonde WIFI CLIM SMART TV RUE CALME   \n",
       "408     Aix en Provence                                         Port Royal   \n",
       "409     Aix en Provence                     Hote-Aix-Centre-garage-piscine   \n",
       "410     Aix en Provence                                Les Quatre Dauphins   \n",
       "411     Aix en Provence                             Les suites de Montigny   \n",
       "412     Aix en Provence                                    Hôtel Escaletto   \n",
       "413     Aix en Provence                  Bed and Breakfast Jardin de Marie   \n",
       "414     Aix en Provence                                 APPART AIX MAZARIN   \n",
       "415     Aix en Provence                                    Hôtel Le Mozart   \n",
       "416     Aix en Provence                              Appartement de charme   \n",
       "417     Aix en Provence                                Hôtel des Augustins   \n",
       "418     Aix en Provence                               B&B Villa Roumanille   \n",
       "419     Aix en Provence                                         Hôtel Paul   \n",
       "420     Aix en Provence                                     Hotel Cardinal   \n",
       "421             Avignon  Le Saint-Laurent - Parking Gratuit - Terrasse ...   \n",
       "422             Avignon  L'Olivier - 2 terrasses - Clim AC - WIFI - PRO...   \n",
       "423             Avignon                                        L'Oriflamme   \n",
       "424             Avignon                       Maison d'hôtes L'îlot bambou   \n",
       "425             Avignon  Duplex-Ceiling height 1,9m-Free private parkin...   \n",
       "426             Avignon                                          Le Magnan   \n",
       "427             Avignon                                  My Pad Provence 2   \n",
       "428             Avignon                Maison XIXe et Jardin en Intramuros   \n",
       "429             Avignon                                      Maison Rascas   \n",
       "430             Avignon  CLIMATISATION-Hypercentre-PARKING-COSY CARNOT-...   \n",
       "431             Avignon                                Les petits poissons   \n",
       "432             Avignon  Chambre et appartements entre le Pont d Avigno...   \n",
       "433             Avignon  CLIM - 4 chambres 4 salles de bains - Spacieux...   \n",
       "434             Avignon  Au cœur des Papes, dans bâtisse de charme stud...   \n",
       "435             Avignon  LE PETIT AVIGNONNAIS - APHRODITE - INTRAMUROS ...   \n",
       "436             Avignon  Aventure Avignonnaise - AUTHENTIQUE - INTRAMUR...   \n",
       "437             Avignon  Aventure Avignonnaise - ROOFTOP TERRASSE - INT...   \n",
       "438             Avignon  La BONNETERIE - LES HALLES - HYPERCENTRE - AVI...   \n",
       "439             Avignon                                          55 VERNET   \n",
       "440             Avignon                 LE PALAIS DES PAPES - AVIGNONSMILE   \n",
       "441                Uzes           appartement en résidence très bien situé   \n",
       "442                Uzes                        Résidence La Bastide d'Uzes   \n",
       "443                Uzes                                   GOLF CLUB D'UZES   \n",
       "444                Uzes                                         La Taverne   \n",
       "445                Uzes                                 Le Pré Aux Cigales   \n",
       "446                Uzes  La Casita - Studio Confort avec Parking privé ...   \n",
       "447                Uzes                 Les Gîtes de Cayenne - Gîte Olivia   \n",
       "448                Uzes                                 Appartement Ulysse   \n",
       "449                Uzes  Le Cherche Midi - Appartement centre historiqu...   \n",
       "450                Uzes  Appartement moderne central avec piscine, gara...   \n",
       "451                Uzes   Maison de Roche-Uzès Centre Historique L' Ucetia   \n",
       "452                Uzes                         La bohème place aux herbes   \n",
       "453                Uzes                                       Coeur d'Uzès   \n",
       "454                Uzes                                 Une chambre à Uzès   \n",
       "455                Uzes                                    Le trente trois   \n",
       "456                Uzes                              Hôtel Le Saint-Geniès   \n",
       "457                Uzes                                         Les cèdres   \n",
       "458                Uzes                                   La DAME de FLAUX   \n",
       "459                Uzes  appartement 3 min a pied du centre d'Uzès park...   \n",
       "460                Uzes           LOGIS HOTEL RESTAURANT L' Auberge d'Uzes   \n",
       "\n",
       "       score          lat         lon  temperature  \n",
       "341  2 sur 5  48.87188026  2.34465466           22  \n",
       "342  2 sur 5  48.88532693  2.33602367           22  \n",
       "343  2 sur 5  48.84527191  2.38361210           22  \n",
       "344  2 sur 5  48.87209209  2.34528860           22  \n",
       "345  1 sur 5  48.86668920  2.38539240           22  \n",
       "346  1 sur 5  48.86676680  2.35161800           22  \n",
       "347  2 sur 5  48.85131070  2.39241260           22  \n",
       "348  2 sur 5  48.84989342  2.34510066           22  \n",
       "349  1 sur 5  48.86308680  2.35656140           22  \n",
       "350  1 sur 5  48.85228200  2.36253100           22  \n",
       "351     None  48.85304200  2.34492200           22  \n",
       "352  1 sur 5  48.88481110  2.31696500           22  \n",
       "353  1 sur 5  48.88686100  2.33986300           22  \n",
       "354  1 sur 5  48.86745540  2.33622000           22  \n",
       "355  1 sur 5  48.88847380  2.32072220           22  \n",
       "356  1 sur 5  48.84314550  2.29983980           22  \n",
       "357  1 sur 5  48.83179940  2.34674050           22  \n",
       "358  1 sur 5  48.87838937  2.28467211           22  \n",
       "359  1 sur 5  48.86645888  2.34674074           22  \n",
       "360  1 sur 5  48.84992330  2.34652720           22  \n",
       "361  3 sur 5  43.21759970  5.53235000           20  \n",
       "362  3 sur 5  43.21178372  5.53087160           20  \n",
       "363  3 sur 5  43.21545860  5.53449760           20  \n",
       "364  3 sur 5  43.21533507  5.53686093           20  \n",
       "365  3 sur 5  43.22131700  5.53613800           20  \n",
       "366  3 sur 5  43.21534046  5.53685820           20  \n",
       "367  3 sur 5  43.21545600  5.53573400           20  \n",
       "368  3 sur 5  43.21411540  5.53382110           20  \n",
       "369  3 sur 5  43.21919990  5.54713650           20  \n",
       "370  3 sur 5  43.21537000  5.53719000           20  \n",
       "371  3 sur 5  43.20774700  5.52219180           20  \n",
       "372  3 sur 5  43.21407197  5.53062182           20  \n",
       "373  3 sur 5  43.21500900  5.53095600           20  \n",
       "374  3 sur 5  43.21977635  5.53745873           20  \n",
       "375  2 sur 5  43.23482930  5.51191052           20  \n",
       "376  2 sur 5  43.21838725  5.53568370           20  \n",
       "377  2 sur 5  43.21443438  5.53529486           20  \n",
       "378  1 sur 5  43.21440980  5.53942750           20  \n",
       "379  1 sur 5  43.22784980  5.53319290           20  \n",
       "380  1 sur 5  43.21508678  5.53094902           20  \n",
       "401  3 sur 5  43.52741800  5.44769500           19  \n",
       "402  3 sur 5  43.53045120  5.44866370           19  \n",
       "403  3 sur 5  43.52505700  5.45295800           19  \n",
       "404  3 sur 5  43.56496530  5.49066450           19  \n",
       "405  3 sur 5  43.56606250  5.38444770           19  \n",
       "406  3 sur 5  43.54451280  5.46810520           19  \n",
       "407  3 sur 5  43.52380859  5.44577092           19  \n",
       "408  3 sur 5  43.52498055  5.44155085           19  \n",
       "409  3 sur 5  43.51664446  5.44180333           19  \n",
       "410  3 sur 5  43.52490880  5.45042306           19  \n",
       "411  3 sur 5  43.52962460  5.45038930           19  \n",
       "412  3 sur 5  43.53004967  5.44414669           19  \n",
       "413  3 sur 5  43.52490233  5.45054108           19  \n",
       "414  3 sur 5  43.52596364  5.45189139           19  \n",
       "415  3 sur 5  43.52191762  5.45787156           19  \n",
       "416  3 sur 5  43.52913070  5.45298500           19  \n",
       "417  3 sur 5  43.52688664  5.44727147           19  \n",
       "418  3 sur 5  43.51783611  5.44283509           19  \n",
       "419  2 sur 5  43.53336324  5.44605643           19  \n",
       "420  2 sur 5  43.52559870  5.45172080           19  \n",
       "421  3 sur 5  43.94542050  4.80426440           19  \n",
       "422  3 sur 5  43.94575240  4.81405670           19  \n",
       "423  3 sur 5  43.94960410  4.81154160           19  \n",
       "424  3 sur 5  43.95108984  4.79801933           19  \n",
       "425  3 sur 5  43.94651160  4.80351180           19  \n",
       "426  3 sur 5  43.94362946  4.81217131           19  \n",
       "427  3 sur 5  43.95140587  4.80340572           19  \n",
       "428  3 sur 5  43.95034438  4.81153785           19  \n",
       "429  3 sur 5  43.95035860  4.81676920           19  \n",
       "430  3 sur 5  43.94917757  4.81083119           19  \n",
       "431  3 sur 5  43.93619550  4.82600075           19  \n",
       "432  3 sur 5  43.95070950  4.80338430           19  \n",
       "433  3 sur 5  43.94318560  4.81940080           19  \n",
       "434  3 sur 5  43.94617060  4.81018870           19  \n",
       "435  2 sur 5  43.94515960  4.80815720           19  \n",
       "436  2 sur 5  43.94459000  4.81000200           19  \n",
       "437  2 sur 5  43.94459000  4.81000200           19  \n",
       "438  2 sur 5  43.94697670  4.81029060           19  \n",
       "439  2 sur 5  43.94734700  4.80346100           19  \n",
       "440  2 sur 5  43.95130865  4.81073503           19  \n",
       "441  3 sur 5  44.01193730  4.41316420           18  \n",
       "442  3 sur 5  44.00141200  4.41978300           18  \n",
       "443  3 sur 5  43.98241900  4.43796300           18  \n",
       "444  2 sur 5  44.01465900  4.42005150           18  \n",
       "445  3 sur 5  44.01544515  4.40987000           18  \n",
       "446  3 sur 5  44.01215210  4.41697010           18  \n",
       "447  3 sur 5  44.01217860  4.40631810           18  \n",
       "448  3 sur 5  44.01322390  4.42226820           18  \n",
       "449  3 sur 5  44.01271040  4.41850030           18  \n",
       "450  3 sur 5  44.01276520  4.41432310           18  \n",
       "451  3 sur 5  44.01122460  4.41992260           18  \n",
       "452  3 sur 5  44.01167638  4.41908838           18  \n",
       "453  3 sur 5  44.01334110  4.41971600           18  \n",
       "454  3 sur 5  44.01183230  4.41850050           18  \n",
       "455  3 sur 5  44.00964195  4.41788524           18  \n",
       "456  3 sur 5  44.02305334  4.42047223           18  \n",
       "457  3 sur 5  44.01184741  4.41413619           18  \n",
       "458  3 sur 5  44.01205040  4.41924380           18  \n",
       "459  3 sur 5  44.01276500  4.41432300           18  \n",
       "460  2 sur 5  43.99277827  4.42427516           18  "
      ]
     },
     "execution_count": 26,
     "metadata": {},
     "output_type": "execute_result"
    }
   ],
   "source": [
    "df_top_20 =  df_final[df_final['city'].isin(df_top_five.loc[:,'city'].to_list())].loc[1:,['city', 'hotel', 'score', 'lat', 'lon', 'temperature']]\n",
    "df_top_20.head(100)"
   ]
  },
  {
   "cell_type": "code",
   "execution_count": 27,
   "metadata": {},
   "outputs": [
    {
     "data": {
      "text/html": [
       "<div>\n",
       "<style scoped>\n",
       "    .dataframe tbody tr th:only-of-type {\n",
       "        vertical-align: middle;\n",
       "    }\n",
       "\n",
       "    .dataframe tbody tr th {\n",
       "        vertical-align: top;\n",
       "    }\n",
       "\n",
       "    .dataframe thead th {\n",
       "        text-align: right;\n",
       "    }\n",
       "</style>\n",
       "<table border=\"1\" class=\"dataframe\">\n",
       "  <thead>\n",
       "    <tr style=\"text-align: right;\">\n",
       "      <th></th>\n",
       "      <th>city</th>\n",
       "      <th>hotel</th>\n",
       "      <th>score</th>\n",
       "      <th>lat</th>\n",
       "      <th>lon</th>\n",
       "      <th>temperature</th>\n",
       "    </tr>\n",
       "  </thead>\n",
       "  <tbody>\n",
       "    <tr>\n",
       "      <th>341</th>\n",
       "      <td>Bormes les Mimosas</td>\n",
       "      <td>Hotel des Arts - Cite Bergere</td>\n",
       "      <td>2.0</td>\n",
       "      <td>48.87188026</td>\n",
       "      <td>2.34465466</td>\n",
       "      <td>22</td>\n",
       "    </tr>\n",
       "    <tr>\n",
       "      <th>342</th>\n",
       "      <td>Bormes les Mimosas</td>\n",
       "      <td>Hotel Audran</td>\n",
       "      <td>2.0</td>\n",
       "      <td>48.88532693</td>\n",
       "      <td>2.33602367</td>\n",
       "      <td>22</td>\n",
       "    </tr>\n",
       "    <tr>\n",
       "      <th>343</th>\n",
       "      <td>Bormes les Mimosas</td>\n",
       "      <td>Hôtel De Venise</td>\n",
       "      <td>2.0</td>\n",
       "      <td>48.84527191</td>\n",
       "      <td>2.38361210</td>\n",
       "      <td>22</td>\n",
       "    </tr>\n",
       "    <tr>\n",
       "      <th>344</th>\n",
       "      <td>Bormes les Mimosas</td>\n",
       "      <td>Hotel De La Cite Rougemont</td>\n",
       "      <td>2.0</td>\n",
       "      <td>48.87209209</td>\n",
       "      <td>2.34528860</td>\n",
       "      <td>22</td>\n",
       "    </tr>\n",
       "    <tr>\n",
       "      <th>345</th>\n",
       "      <td>Bormes les Mimosas</td>\n",
       "      <td>Boutik Boheme L'Atelier Père Lachaise</td>\n",
       "      <td>1.0</td>\n",
       "      <td>48.86668920</td>\n",
       "      <td>2.38539240</td>\n",
       "      <td>22</td>\n",
       "    </tr>\n",
       "  </tbody>\n",
       "</table>\n",
       "</div>"
      ],
      "text/plain": [
       "                   city                                  hotel  score  \\\n",
       "341  Bormes les Mimosas          Hotel des Arts - Cite Bergere    2.0   \n",
       "342  Bormes les Mimosas                           Hotel Audran    2.0   \n",
       "343  Bormes les Mimosas                        Hôtel De Venise    2.0   \n",
       "344  Bormes les Mimosas             Hotel De La Cite Rougemont    2.0   \n",
       "345  Bormes les Mimosas  Boutik Boheme L'Atelier Père Lachaise    1.0   \n",
       "\n",
       "             lat         lon  temperature  \n",
       "341  48.87188026  2.34465466           22  \n",
       "342  48.88532693  2.33602367           22  \n",
       "343  48.84527191  2.38361210           22  \n",
       "344  48.87209209  2.34528860           22  \n",
       "345  48.86668920  2.38539240           22  "
      ]
     },
     "execution_count": 27,
     "metadata": {},
     "output_type": "execute_result"
    }
   ],
   "source": [
    "df_top_20['score'] = df_top_20['score'].astype(str).str[0]\n",
    "df_top_20['score'] = pd.to_numeric(df_top_20['score'], errors='coerce')\n",
    "df_top_20.head()\n"
   ]
  },
  {
   "cell_type": "code",
   "execution_count": 28,
   "metadata": {},
   "outputs": [],
   "source": [
    "df_top_20['lat'] = pd.to_numeric(df_top_20['lat'], errors='coerce')\n",
    "df_top_20['lon'] = pd.to_numeric(df_top_20['lon'], errors='coerce')"
   ]
  },
  {
   "cell_type": "code",
   "execution_count": 29,
   "metadata": {},
   "outputs": [
    {
     "data": {
      "application/vnd.plotly.v1+json": {
       "config": {
        "plotlyServerURL": "https://plot.ly"
       },
       "data": [
        {
         "customdata": [
          [
           "Bormes les Mimosas",
           "Hotel des Arts - Cite Bergere",
           48.87188026,
           2.34465466
          ],
          [
           "Bormes les Mimosas",
           "Hotel Audran",
           48.88532693,
           2.33602367
          ],
          [
           "Bormes les Mimosas",
           "Hôtel De Venise",
           48.84527191,
           2.3836121
          ],
          [
           "Bormes les Mimosas",
           "Hotel De La Cite Rougemont",
           48.87209209,
           2.3452886
          ],
          [
           "Bormes les Mimosas",
           "Boutik Boheme L'Atelier Père Lachaise",
           48.8666892,
           2.3853924
          ],
          [
           "Bormes les Mimosas",
           "Beautiful 1BR6P - Montorgueil RDC",
           48.8667668,
           2.351618
          ],
          [
           "Bormes les Mimosas",
           "District Nation",
           48.8513107,
           2.3924126
          ],
          [
           "Bormes les Mimosas",
           "Hotel Diana Paris",
           48.84989342,
           2.34510066
          ],
          [
           "Bormes les Mimosas",
           "HIGHSTAY - Luxury Serviced Apartments - Le Marais Area",
           48.8630868,
           2.3565614
          ],
          [
           "Bormes les Mimosas",
           "The Sleeping Lion",
           48.852282,
           2.362531
          ],
          [
           "Bormes les Mimosas",
           "NOTRE DAME - STYLISH APARTMENT",
           48.853042,
           2.344922
          ],
          [
           "Bormes les Mimosas",
           "Boutik Boheme - Triplex Monceau",
           48.8848111,
           2.316965
          ],
          [
           "Bormes les Mimosas",
           "Boutik Boheme Le jardin Montmartre",
           48.886861,
           2.339863
          ],
          [
           "Bormes les Mimosas",
           "Newly Refurbished Home in the Heart of Paris",
           48.8674554,
           2.33622
          ],
          [
           "Bormes les Mimosas",
           "Boutik Boheme Le Loft Batignolles",
           48.8884738,
           2.3207222
          ],
          [
           "Bormes les Mimosas",
           "Apt full of charm with a terrace -15th Paris",
           48.8431455,
           2.2998398
          ],
          [
           "Bormes les Mimosas",
           "GuestReady - Modern flat near Latin Quarter!",
           48.8317994,
           2.3467405
          ],
          [
           "Bormes les Mimosas",
           "Résidence Palais Étoile",
           48.87838937,
           2.28467211
          ],
          [
           "Bormes les Mimosas",
           "Hotel Zora",
           48.86645888,
           2.34674074
          ],
          [
           "Bormes les Mimosas",
           "Hôtel Marignan",
           48.8499233,
           2.3465272
          ],
          [
           "Cassis",
           "LE SEPT charmant studio aux portes des calanques",
           43.2175997,
           5.53235
          ],
          [
           "Cassis",
           "L'ODYSSÉE BLEUE VUE MER",
           43.21178372,
           5.5308716
          ],
          [
           "Cassis",
           "Chez Jacques par Dodo-a-Cassis",
           43.2154586,
           5.5344976
          ],
          [
           "Cassis",
           "appartement cosy à 10 mètres du port de Cassis",
           43.21533507,
           5.53686093
          ],
          [
           "Cassis",
           "Giovannina N1",
           43.221317,
           5.536138
          ],
          [
           "Cassis",
           "appartement du pêcheur à Cassis à 10 mètres du port",
           43.21534046,
           5.5368582
          ],
          [
           "Cassis",
           "SunSet Cassis",
           43.215456,
           5.535734
          ],
          [
           "Cassis",
           "L’Aiguade, appartement d'exception à Cassis",
           43.2141154,
           5.5338211
          ],
          [
           "Cassis",
           "La Demeure Insoupçonnée",
           43.2191999,
           5.5471365
          ],
          [
           "Cassis",
           "MISTRAL Gagnant",
           43.21537,
           5.53719
          ],
          [
           "Cassis",
           "Appart Bianca T2 - Terrasse - Parking - Calme - 1mn de la mer",
           43.207747,
           5.5221918
          ],
          [
           "Cassis",
           "UNE TERRASSE SUR LA MER 3 pers 2 chambres VUE MER",
           43.21407197,
           5.53062182
          ],
          [
           "Cassis",
           "La douceur de Cassis",
           43.215009,
           5.530956
          ],
          [
           "Cassis",
           "Home Cassis - Maison Mediterranée - Piscine chauffée",
           43.21977635,
           5.53745873
          ],
          [
           "Cassis",
           "HôTEL LES VOLETS ROUGES - CASSIS",
           43.2348293,
           5.51191052
          ],
          [
           "Cassis",
           "le Camelia",
           43.21838725,
           5.5356837
          ],
          [
           "Cassis",
           "Hotel Le Golfe",
           43.21443438,
           5.53529486
          ],
          [
           "Cassis",
           "Appartement le Mehari",
           43.2144098,
           5.5394275
          ],
          [
           "Cassis",
           "Studio 29 Cassis",
           43.2278498,
           5.5331929
          ],
          [
           "Cassis",
           "Au son des Cigales",
           43.21508678,
           5.53094902
          ],
          [
           "Aix en Provence",
           "La Suite Albertas",
           43.527418,
           5.447695
          ],
          [
           "Aix en Provence",
           "Toits Vieil - Appartement de charme avec terrasse d'exception Aix-en-Provence",
           43.5304512,
           5.4486637
          ],
          [
           "Aix en Provence",
           "Maison Du Collectionneur",
           43.525057,
           5.452958
          ],
          [
           "Aix en Provence",
           "Maison provençale au calme de la campagne avec Jacuzzi",
           43.5649653,
           5.4906645
          ],
          [
           "Aix en Provence",
           "Domaine de Carraire",
           43.5660625,
           5.3844477
          ],
          [
           "Aix en Provence",
           "Pavillon de Beauregard",
           43.5445128,
           5.4681052
          ],
          [
           "Aix en Provence",
           "Loft Rotonde WIFI CLIM SMART TV RUE CALME",
           43.52380859,
           5.44577092
          ],
          [
           "Aix en Provence",
           "Port Royal",
           43.52498055,
           5.44155085
          ],
          [
           "Aix en Provence",
           "Hote-Aix-Centre-garage-piscine",
           43.51664446,
           5.44180333
          ],
          [
           "Aix en Provence",
           "Les Quatre Dauphins",
           43.5249088,
           5.45042306
          ],
          [
           "Aix en Provence",
           "Les suites de Montigny",
           43.5296246,
           5.4503893
          ],
          [
           "Aix en Provence",
           "Hôtel Escaletto",
           43.53004967,
           5.44414669
          ],
          [
           "Aix en Provence",
           "Bed and Breakfast Jardin de Marie",
           43.52490233,
           5.45054108
          ],
          [
           "Aix en Provence",
           "APPART AIX MAZARIN",
           43.52596364,
           5.45189139
          ],
          [
           "Aix en Provence",
           "Hôtel Le Mozart",
           43.52191762,
           5.45787156
          ],
          [
           "Aix en Provence",
           "Appartement de charme",
           43.5291307,
           5.452985
          ],
          [
           "Aix en Provence",
           "Hôtel des Augustins",
           43.52688664,
           5.44727147
          ],
          [
           "Aix en Provence",
           "B&B Villa Roumanille",
           43.51783611,
           5.44283509
          ],
          [
           "Aix en Provence",
           "Hôtel Paul",
           43.53336324,
           5.44605643
          ],
          [
           "Aix en Provence",
           "Hotel Cardinal",
           43.5255987,
           5.4517208
          ],
          [
           "Avignon",
           "Le Saint-Laurent - Parking Gratuit - Terrasse - Wi-Fi",
           43.9454205,
           4.8042644
          ],
          [
           "Avignon",
           "L'Olivier - 2 terrasses - Clim AC - WIFI - PROCHE THEATRES",
           43.9457524,
           4.8140567
          ],
          [
           "Avignon",
           "L'Oriflamme",
           43.9496041,
           4.8115416
          ],
          [
           "Avignon",
           "Maison d'hôtes L'îlot bambou",
           43.95108984,
           4.79801933
          ],
          [
           "Avignon",
           "Duplex-Ceiling height 1,9m-Free private parking-Netflix-Self check in !! Duplex climatisé-Hauteur sous plafond 1,9m-Parking privé gratuit-Netflix-Arrivée autonome !!",
           43.9465116,
           4.8035118
          ],
          [
           "Avignon",
           "Le Magnan",
           43.94362946,
           4.81217131
          ],
          [
           "Avignon",
           "My Pad Provence 2",
           43.95140587,
           4.80340572
          ],
          [
           "Avignon",
           "Maison XIXe et Jardin en Intramuros",
           43.95034438,
           4.81153785
          ],
          [
           "Avignon",
           "Maison Rascas",
           43.9503586,
           4.8167692
          ],
          [
           "Avignon",
           "CLIMATISATION-Hypercentre-PARKING-COSY CARNOT-AVIGNONSMILE",
           43.94917757,
           4.81083119
          ],
          [
           "Avignon",
           "Les petits poissons",
           43.9361955,
           4.82600075
          ],
          [
           "Avignon",
           "Chambre et appartements entre le Pont d Avignon et le Palais des Papes",
           43.9507095,
           4.8033843
          ],
          [
           "Avignon",
           "CLIM - 4 chambres 4 salles de bains - Spacieux Appartement - 113m",
           43.9431856,
           4.8194008
          ],
          [
           "Avignon",
           "Au cœur des Papes, dans bâtisse de charme studios & appartements en cœur de ville",
           43.9461706,
           4.8101887
          ],
          [
           "Avignon",
           "LE PETIT AVIGNONNAIS - APHRODITE - INTRAMUROS - CENTER -",
           43.9451596,
           4.8081572
          ],
          [
           "Avignon",
           "Aventure Avignonnaise - AUTHENTIQUE - INTRAMUROS - CITY CENTER",
           43.94459,
           4.810002
          ],
          [
           "Avignon",
           "Aventure Avignonnaise - ROOFTOP TERRASSE - INTRAMUROS - CITY CENTER",
           43.94459,
           4.810002
          ],
          [
           "Avignon",
           "La BONNETERIE - LES HALLES - HYPERCENTRE - AVIGNONSMILE",
           43.9469767,
           4.8102906
          ],
          [
           "Avignon",
           "55 VERNET",
           43.947347,
           4.803461
          ],
          [
           "Avignon",
           "LE PALAIS DES PAPES - AVIGNONSMILE",
           43.95130865,
           4.81073503
          ],
          [
           "Uzes",
           "appartement en résidence très bien situé",
           44.0119373,
           4.4131642
          ],
          [
           "Uzes",
           "Résidence La Bastide d'Uzes",
           44.001412,
           4.419783
          ],
          [
           "Uzes",
           "GOLF CLUB D'UZES",
           43.982419,
           4.437963
          ],
          [
           "Uzes",
           "La Taverne",
           44.014659,
           4.4200515
          ],
          [
           "Uzes",
           "Le Pré Aux Cigales",
           44.01544515,
           4.40987
          ],
          [
           "Uzes",
           "La Casita - Studio Confort avec Parking privé - Lit douillet - Centre Uzès, Pont du Gard",
           44.0121521,
           4.4169701
          ],
          [
           "Uzes",
           "Les Gîtes de Cayenne - Gîte Olivia",
           44.0121786,
           4.4063181
          ],
          [
           "Uzes",
           "Appartement Ulysse",
           44.0132239,
           4.4222682
          ],
          [
           "Uzes",
           "Le Cherche Midi - Appartement centre historique d'Uzès",
           44.0127104,
           4.4185003
          ],
          [
           "Uzes",
           "Appartement moderne central avec piscine, garage privé et terrasse sud",
           44.0127652,
           4.4143231
          ],
          [
           "Uzes",
           "Maison de Roche-Uzès Centre Historique L' Ucetia",
           44.0112246,
           4.4199226
          ],
          [
           "Uzes",
           "La bohème place aux herbes",
           44.01167638,
           4.41908838
          ],
          [
           "Uzes",
           "Coeur d'Uzès",
           44.0133411,
           4.419716
          ],
          [
           "Uzes",
           "Une chambre à Uzès",
           44.0118323,
           4.4185005
          ],
          [
           "Uzes",
           "Le trente trois",
           44.00964195,
           4.41788524
          ],
          [
           "Uzes",
           "Hôtel Le Saint-Geniès",
           44.02305334,
           4.42047223
          ],
          [
           "Uzes",
           "Les cèdres",
           44.01184741,
           4.41413619
          ],
          [
           "Uzes",
           "La DAME de FLAUX",
           44.0120504,
           4.4192438
          ],
          [
           "Uzes",
           "appartement 3 min a pied du centre d'Uzès parking piscine",
           44.012765,
           4.414323
          ],
          [
           "Uzes",
           "LOGIS HOTEL RESTAURANT L' Auberge d'Uzes",
           43.99277827,
           4.42427516
          ],
          [
           "Nimes",
           "Superbe appartement avec Patio",
           43.8306183,
           4.3695378
          ],
          [
           "Nimes",
           "Chambres d'Hôtes Lovely Planette",
           43.857101,
           4.347915
          ],
          [
           "Nimes",
           "L'escapade Nîmoise",
           43.8311178,
           4.3558908
          ],
          [
           "Nimes",
           "Loft calme à la Maison Carrée - Une Nuit à Nîmes",
           43.8375758,
           4.3561496
          ],
          [
           "Nimes",
           "entre arènes et maison carrée",
           43.83628985,
           4.35639625
          ],
          [
           "Nimes",
           "Nîmes Centre - A 5 minutes des Arènes",
           43.83305972,
           4.35522823
          ],
          [
           "Nimes",
           "L'Ecluse - Clim - Parking - Central",
           43.837507,
           4.3651684
          ],
          [
           "Nimes",
           "Superbe appartement avec parking sur place",
           43.8379994,
           4.3709063
          ],
          [
           "Nimes",
           "Maison dans les Arbres, SPA, Tennis, Parking",
           43.764496,
           4.363017
          ],
          [
           "Nimes",
           "Hôtel De L'Amphithéâtre",
           43.83581534,
           4.35914017
          ],
          [
           "Nimes",
           "Spa Nimeslodge",
           43.81742735,
           4.30728994
          ],
          [
           "Nimes",
           "Les Madones",
           43.7646229,
           4.360898
          ],
          [
           "Nimes",
           "Nîmes Appartement de charme Terracotta",
           43.8359086,
           4.3582994
          ],
          [
           "Nimes",
           "Hotel Majestic",
           43.83436329,
           4.36533675
          ],
          [
           "Nimes",
           "Royal Hôtel",
           43.8388151,
           4.35481846
          ],
          [
           "Nimes",
           "ibis budget Nimes Centre Gare",
           43.8320559,
           4.3673645
          ],
          [
           "Nimes",
           "Appart Le Massillon Arenes Centre",
           43.83149498,
           4.35929775
          ],
          [
           "Nimes",
           "Appart Cosy Terrasse gare de Nîmes",
           43.8302457,
           4.3644799
          ],
          [
           "Nimes",
           "Les Gites du Mas des Cigales",
           43.8495003,
           4.3276656
          ],
          [
           "Nimes",
           "Mezza'Nîmes",
           43.8389888,
           4.3684168
          ],
          [
           "Aigues Mortes",
           null,
           null,
           null
          ],
          [
           "Collioure",
           "Grand Hotel des Balcons",
           48.85042234,
           2.33929932
          ],
          [
           "Collioure",
           "Hotel des Arts - Cite Bergere",
           48.87188026,
           2.34465466
          ],
          [
           "Collioure",
           "Hôtel de la Place des Alpes",
           48.83215691,
           2.35884726
          ],
          [
           "Collioure",
           "Hotel France Albion",
           48.87749886,
           2.33832166
          ],
          [
           "Collioure",
           "Hôtel De Venise",
           48.84527191,
           2.3836121
          ],
          [
           "Collioure",
           "Au Pacific Hotel",
           48.84866308,
           2.29187276
          ],
          [
           "Collioure",
           "NOTRE DAME - STYLISH APARTMENT",
           48.853042,
           2.344922
          ],
          [
           "Collioure",
           "Apt full of charm with a terrace -15th Paris",
           48.8431455,
           2.2998398
          ],
          [
           "Collioure",
           "HIGHSTAY - Luxury Serviced Apartments - Le Marais Area",
           48.8630868,
           2.3565614
          ],
          [
           "Collioure",
           "Boutik Boheme L'Atelier Père Lachaise",
           48.8666892,
           2.3853924
          ],
          [
           "Collioure",
           "Newly Refurbished Home in the Heart of Paris",
           48.8674554,
           2.33622
          ],
          [
           "Collioure",
           "GuestReady - Modern flat near Latin Quarter!",
           48.8317994,
           2.3467405
          ],
          [
           "Collioure",
           "Boutik Boheme - Triplex Monceau",
           48.8848111,
           2.316965
          ],
          [
           "Collioure",
           "Boutik Boheme Le jardin Montmartre",
           48.886861,
           2.339863
          ],
          [
           "Collioure",
           "Boutik Boheme Le Loft Batignolles",
           48.8884738,
           2.3207222
          ],
          [
           "Collioure",
           "Beautiful 1BR6P - Montorgueil RDC",
           48.8667668,
           2.351618
          ],
          [
           "Collioure",
           "The Sleeping Lion",
           48.852282,
           2.362531
          ],
          [
           "Collioure",
           "Résidence Palais Étoile",
           48.87838937,
           2.28467211
          ],
          [
           "Collioure",
           "Hôtel Marignan",
           48.8499233,
           2.3465272
          ],
          [
           "Collioure",
           "Hotel Zora",
           48.86645888,
           2.34674074
          ],
          [
           "Carcassonne",
           "Grand Hotel des Balcons",
           48.85042234,
           2.33929932
          ],
          [
           "Carcassonne",
           "Hotel des Arts - Cite Bergere",
           48.87188026,
           2.34465466
          ],
          [
           "Carcassonne",
           "Hôtel de la Place des Alpes",
           48.83215691,
           2.35884726
          ],
          [
           "Carcassonne",
           "Hotel France Albion",
           48.87749886,
           2.33832166
          ],
          [
           "Carcassonne",
           "Hôtel De Venise",
           48.84527191,
           2.3836121
          ],
          [
           "Carcassonne",
           "Newly Refurbished Home in the Heart of Paris",
           48.8674554,
           2.33622
          ],
          [
           "Carcassonne",
           "HIGHSTAY - Luxury Serviced Apartments - Le Marais Area",
           48.8630868,
           2.3565614
          ],
          [
           "Carcassonne",
           "NOTRE DAME - STYLISH APARTMENT",
           48.853042,
           2.344922
          ],
          [
           "Carcassonne",
           "Boutik Boheme L'Atelier Père Lachaise",
           48.8666892,
           2.3853924
          ],
          [
           "Carcassonne",
           "Au Pacific Hotel",
           48.84866308,
           2.29187276
          ],
          [
           "Carcassonne",
           "Boutik Boheme - Triplex Monceau",
           48.8848111,
           2.316965
          ],
          [
           "Carcassonne",
           "Boutik Boheme Le Loft Batignolles",
           48.8884738,
           2.3207222
          ],
          [
           "Carcassonne",
           "Boutik Boheme Le jardin Montmartre",
           48.886861,
           2.339863
          ],
          [
           "Carcassonne",
           "Beautiful 1BR6P - Montorgueil RDC",
           48.8667668,
           2.351618
          ],
          [
           "Carcassonne",
           "The Sleeping Lion",
           48.852282,
           2.362531
          ],
          [
           "Carcassonne",
           "Apt full of charm with a terrace -15th Paris",
           48.8431455,
           2.2998398
          ],
          [
           "Carcassonne",
           "GuestReady - Modern flat near Latin Quarter!",
           48.8317994,
           2.3467405
          ],
          [
           "Carcassonne",
           "Résidence Palais Étoile",
           48.87838937,
           2.28467211
          ],
          [
           "Carcassonne",
           "Hotel Zora",
           48.86645888,
           2.34674074
          ],
          [
           "Carcassonne",
           "Hôtel Marignan",
           48.8499233,
           2.3465272
          ],
          [
           "Montauban",
           "Sublime cocon pour 2 aux portes de la Place Nationale - Proximité immédiate toutes commodités et sites d'intérêts",
           44.0186177,
           1.3543484
          ],
          [
           "Montauban",
           "Chez Bouch",
           44.01605871,
           1.35493123
          ],
          [
           "Montauban",
           "Le Clos de Saint Amour",
           44.02487667,
           1.3928175
          ],
          [
           "Montauban",
           "En toute intimité dans le centre historique",
           44.0175635,
           1.3551575
          ],
          [
           "Montauban",
           "STUDIO 40 m² avec parking",
           44.01653005,
           1.34697353
          ],
          [
           "Montauban",
           "Cocon de Charline - charme et élégance dans le centre",
           44.0181464,
           1.3534034
          ],
          [
           "Montauban",
           "La Maison de Maxou",
           44.0252096,
           1.3338553
          ],
          [
           "Montauban",
           "Studio plein Sud au calme",
           44.0077748,
           1.3266783
          ],
          [
           "Montauban",
           "46FM : Montauban Guest House",
           44.012775,
           1.35639
          ],
          [
           "Montauban",
           "Château de Loubéjac",
           44.08944141,
           1.34851889
          ],
          [
           "Montauban",
           "Apparemment cosy et chaleureux",
           44.0170616,
           1.3579445
          ],
          [
           "Montauban",
           "Chambre indépendante, privée climatisée avec parking",
           44.04252148,
           1.37297755
          ],
          [
           "Montauban",
           "Vanille Bourbon",
           44.01324,
           1.344591
          ],
          [
           "Montauban",
           "DORMIR A MONTAUBAN Logements Carreyrat Calme et Verdoyant",
           43.98098686,
           1.38958597
          ],
          [
           "Montauban",
           "Petit coin de paradis, calme et confort garantie !",
           43.9728701,
           1.3423632
          ],
          [
           "Montauban",
           "Hôtel du Commerce",
           44.01542573,
           1.35407299
          ],
          [
           "Montauban",
           "Sure Hotel by Best Western Les Portes de Montauban",
           43.93628721,
           1.32209783
          ],
          [
           "Montauban",
           "L'Amarelo",
           44.0213084,
           1.3512237
          ],
          [
           "Montauban",
           "Cosy Red 4 Pers - Neuf et au Calme - Fibre-Netflix",
           44.013431,
           1.3609724
          ],
          [
           "Montauban",
           "Le Studio",
           44.02135469,
           1.35128807
          ]
         ],
         "hovertemplate": "temperature=%{marker.size}<br>city=%{customdata[0]}<br>hotel=%{customdata[1]}<br>score=%{marker.color}<extra></extra>",
         "lat": [
          48.87188026,
          48.88532693,
          48.84527191,
          48.87209209,
          48.8666892,
          48.8667668,
          48.8513107,
          48.84989342,
          48.8630868,
          48.852282,
          48.853042,
          48.8848111,
          48.886861,
          48.8674554,
          48.8884738,
          48.8431455,
          48.8317994,
          48.87838937,
          48.86645888,
          48.8499233,
          43.2175997,
          43.21178372,
          43.2154586,
          43.21533507,
          43.221317,
          43.21534046,
          43.215456,
          43.2141154,
          43.2191999,
          43.21537,
          43.207747,
          43.21407197,
          43.215009,
          43.21977635,
          43.2348293,
          43.21838725,
          43.21443438,
          43.2144098,
          43.2278498,
          43.21508678,
          43.527418,
          43.5304512,
          43.525057,
          43.5649653,
          43.5660625,
          43.5445128,
          43.52380859,
          43.52498055,
          43.51664446,
          43.5249088,
          43.5296246,
          43.53004967,
          43.52490233,
          43.52596364,
          43.52191762,
          43.5291307,
          43.52688664,
          43.51783611,
          43.53336324,
          43.5255987,
          43.9454205,
          43.9457524,
          43.9496041,
          43.95108984,
          43.9465116,
          43.94362946,
          43.95140587,
          43.95034438,
          43.9503586,
          43.94917757,
          43.9361955,
          43.9507095,
          43.9431856,
          43.9461706,
          43.9451596,
          43.94459,
          43.94459,
          43.9469767,
          43.947347,
          43.95130865,
          44.0119373,
          44.001412,
          43.982419,
          44.014659,
          44.01544515,
          44.0121521,
          44.0121786,
          44.0132239,
          44.0127104,
          44.0127652,
          44.0112246,
          44.01167638,
          44.0133411,
          44.0118323,
          44.00964195,
          44.02305334,
          44.01184741,
          44.0120504,
          44.012765,
          43.99277827,
          43.8306183,
          43.857101,
          43.8311178,
          43.8375758,
          43.83628985,
          43.83305972,
          43.837507,
          43.8379994,
          43.764496,
          43.83581534,
          43.81742735,
          43.7646229,
          43.8359086,
          43.83436329,
          43.8388151,
          43.8320559,
          43.83149498,
          43.8302457,
          43.8495003,
          43.8389888,
          null,
          48.85042234,
          48.87188026,
          48.83215691,
          48.87749886,
          48.84527191,
          48.84866308,
          48.853042,
          48.8431455,
          48.8630868,
          48.8666892,
          48.8674554,
          48.8317994,
          48.8848111,
          48.886861,
          48.8884738,
          48.8667668,
          48.852282,
          48.87838937,
          48.8499233,
          48.86645888,
          48.85042234,
          48.87188026,
          48.83215691,
          48.87749886,
          48.84527191,
          48.8674554,
          48.8630868,
          48.853042,
          48.8666892,
          48.84866308,
          48.8848111,
          48.8884738,
          48.886861,
          48.8667668,
          48.852282,
          48.8431455,
          48.8317994,
          48.87838937,
          48.86645888,
          48.8499233,
          44.0186177,
          44.01605871,
          44.02487667,
          44.0175635,
          44.01653005,
          44.0181464,
          44.0252096,
          44.0077748,
          44.012775,
          44.08944141,
          44.0170616,
          44.04252148,
          44.01324,
          43.98098686,
          43.9728701,
          44.01542573,
          43.93628721,
          44.0213084,
          44.013431,
          44.02135469
         ],
         "legendgroup": "",
         "lon": [
          2.34465466,
          2.33602367,
          2.3836121,
          2.3452886,
          2.3853924,
          2.351618,
          2.3924126,
          2.34510066,
          2.3565614,
          2.362531,
          2.344922,
          2.316965,
          2.339863,
          2.33622,
          2.3207222,
          2.2998398,
          2.3467405,
          2.28467211,
          2.34674074,
          2.3465272,
          5.53235,
          5.5308716,
          5.5344976,
          5.53686093,
          5.536138,
          5.5368582,
          5.535734,
          5.5338211,
          5.5471365,
          5.53719,
          5.5221918,
          5.53062182,
          5.530956,
          5.53745873,
          5.51191052,
          5.5356837,
          5.53529486,
          5.5394275,
          5.5331929,
          5.53094902,
          5.447695,
          5.4486637,
          5.452958,
          5.4906645,
          5.3844477,
          5.4681052,
          5.44577092,
          5.44155085,
          5.44180333,
          5.45042306,
          5.4503893,
          5.44414669,
          5.45054108,
          5.45189139,
          5.45787156,
          5.452985,
          5.44727147,
          5.44283509,
          5.44605643,
          5.4517208,
          4.8042644,
          4.8140567,
          4.8115416,
          4.79801933,
          4.8035118,
          4.81217131,
          4.80340572,
          4.81153785,
          4.8167692,
          4.81083119,
          4.82600075,
          4.8033843,
          4.8194008,
          4.8101887,
          4.8081572,
          4.810002,
          4.810002,
          4.8102906,
          4.803461,
          4.81073503,
          4.4131642,
          4.419783,
          4.437963,
          4.4200515,
          4.40987,
          4.4169701,
          4.4063181,
          4.4222682,
          4.4185003,
          4.4143231,
          4.4199226,
          4.41908838,
          4.419716,
          4.4185005,
          4.41788524,
          4.42047223,
          4.41413619,
          4.4192438,
          4.414323,
          4.42427516,
          4.3695378,
          4.347915,
          4.3558908,
          4.3561496,
          4.35639625,
          4.35522823,
          4.3651684,
          4.3709063,
          4.363017,
          4.35914017,
          4.30728994,
          4.360898,
          4.3582994,
          4.36533675,
          4.35481846,
          4.3673645,
          4.35929775,
          4.3644799,
          4.3276656,
          4.3684168,
          null,
          2.33929932,
          2.34465466,
          2.35884726,
          2.33832166,
          2.3836121,
          2.29187276,
          2.344922,
          2.2998398,
          2.3565614,
          2.3853924,
          2.33622,
          2.3467405,
          2.316965,
          2.339863,
          2.3207222,
          2.351618,
          2.362531,
          2.28467211,
          2.3465272,
          2.34674074,
          2.33929932,
          2.34465466,
          2.35884726,
          2.33832166,
          2.3836121,
          2.33622,
          2.3565614,
          2.344922,
          2.3853924,
          2.29187276,
          2.316965,
          2.3207222,
          2.339863,
          2.351618,
          2.362531,
          2.2998398,
          2.3467405,
          2.28467211,
          2.34674074,
          2.3465272,
          1.3543484,
          1.35493123,
          1.3928175,
          1.3551575,
          1.34697353,
          1.3534034,
          1.3338553,
          1.3266783,
          1.35639,
          1.34851889,
          1.3579445,
          1.37297755,
          1.344591,
          1.38958597,
          1.3423632,
          1.35407299,
          1.32209783,
          1.3512237,
          1.3609724,
          1.35128807
         ],
         "marker": {
          "color": [
           2,
           2,
           2,
           2,
           1,
           1,
           2,
           2,
           1,
           1,
           null,
           1,
           1,
           1,
           1,
           1,
           1,
           1,
           1,
           1,
           3,
           3,
           3,
           3,
           3,
           3,
           3,
           3,
           3,
           3,
           3,
           3,
           3,
           3,
           2,
           2,
           2,
           1,
           1,
           1,
           3,
           3,
           3,
           3,
           3,
           3,
           3,
           3,
           3,
           3,
           3,
           3,
           3,
           3,
           3,
           3,
           3,
           3,
           2,
           2,
           3,
           3,
           3,
           3,
           3,
           3,
           3,
           3,
           3,
           3,
           3,
           3,
           3,
           3,
           2,
           2,
           2,
           2,
           2,
           2,
           3,
           3,
           3,
           2,
           3,
           3,
           3,
           3,
           3,
           3,
           3,
           3,
           3,
           3,
           3,
           3,
           3,
           3,
           3,
           2,
           3,
           3,
           3,
           3,
           3,
           3,
           3,
           3,
           3,
           3,
           3,
           3,
           3,
           3,
           3,
           2,
           2,
           2,
           1,
           1,
           null,
           2,
           2,
           2,
           2,
           2,
           2,
           null,
           1,
           1,
           1,
           1,
           1,
           1,
           1,
           1,
           1,
           1,
           1,
           1,
           1,
           2,
           2,
           2,
           2,
           2,
           1,
           1,
           null,
           1,
           2,
           1,
           1,
           1,
           1,
           1,
           1,
           1,
           1,
           1,
           1,
           3,
           3,
           3,
           3,
           3,
           3,
           3,
           3,
           3,
           3,
           3,
           3,
           3,
           3,
           3,
           3,
           3,
           2,
           3,
           1
          ],
          "coloraxis": "coloraxis",
          "size": [
           22,
           22,
           22,
           22,
           22,
           22,
           22,
           22,
           22,
           22,
           22,
           22,
           22,
           22,
           22,
           22,
           22,
           22,
           22,
           22,
           20,
           20,
           20,
           20,
           20,
           20,
           20,
           20,
           20,
           20,
           20,
           20,
           20,
           20,
           20,
           20,
           20,
           20,
           20,
           20,
           19,
           19,
           19,
           19,
           19,
           19,
           19,
           19,
           19,
           19,
           19,
           19,
           19,
           19,
           19,
           19,
           19,
           19,
           19,
           19,
           19,
           19,
           19,
           19,
           19,
           19,
           19,
           19,
           19,
           19,
           19,
           19,
           19,
           19,
           19,
           19,
           19,
           19,
           19,
           19,
           18,
           18,
           18,
           18,
           18,
           18,
           18,
           18,
           18,
           18,
           18,
           18,
           18,
           18,
           18,
           18,
           18,
           18,
           18,
           18,
           18,
           18,
           18,
           18,
           18,
           18,
           18,
           18,
           18,
           18,
           18,
           18,
           18,
           18,
           18,
           18,
           18,
           18,
           18,
           18,
           21,
           21,
           21,
           21,
           21,
           21,
           21,
           21,
           21,
           21,
           21,
           21,
           21,
           21,
           21,
           21,
           21,
           21,
           21,
           21,
           21,
           17,
           17,
           17,
           17,
           17,
           17,
           17,
           17,
           17,
           17,
           17,
           17,
           17,
           17,
           17,
           17,
           17,
           17,
           17,
           17,
           17,
           17,
           17,
           17,
           17,
           17,
           17,
           17,
           17,
           17,
           17,
           17,
           17,
           17,
           17,
           17,
           17,
           17,
           17,
           17
          ],
          "sizemode": "area",
          "sizeref": 0.055
         },
         "mode": "markers",
         "name": "",
         "showlegend": false,
         "subplot": "mapbox",
         "type": "scattermapbox"
        }
       ],
       "layout": {
        "coloraxis": {
         "colorbar": {
          "title": {
           "text": "score"
          }
         },
         "colorscale": [
          [
           0,
           "rgb(255,245,235)"
          ],
          [
           0.125,
           "rgb(254,230,206)"
          ],
          [
           0.25,
           "rgb(253,208,162)"
          ],
          [
           0.375,
           "rgb(253,174,107)"
          ],
          [
           0.5,
           "rgb(253,141,60)"
          ],
          [
           0.625,
           "rgb(241,105,19)"
          ],
          [
           0.75,
           "rgb(217,72,1)"
          ],
          [
           0.875,
           "rgb(166,54,3)"
          ],
          [
           1,
           "rgb(127,39,4)"
          ]
         ]
        },
        "height": 510,
        "legend": {
         "itemsizing": "constant",
         "tracegroupgap": 0
        },
        "mapbox": {
         "center": {
          "lat": 45.459316114,
          "lon": 3.660461687222222
         },
         "domain": {
          "x": [
           0,
           1
          ],
          "y": [
           0,
           1
          ]
         },
         "style": "open-street-map",
         "zoom": 10
        },
        "margin": {
         "t": 60
        },
        "template": {
         "data": {
          "bar": [
           {
            "error_x": {
             "color": "#2a3f5f"
            },
            "error_y": {
             "color": "#2a3f5f"
            },
            "marker": {
             "line": {
              "color": "#E5ECF6",
              "width": 0.5
             },
             "pattern": {
              "fillmode": "overlay",
              "size": 10,
              "solidity": 0.2
             }
            },
            "type": "bar"
           }
          ],
          "barpolar": [
           {
            "marker": {
             "line": {
              "color": "#E5ECF6",
              "width": 0.5
             },
             "pattern": {
              "fillmode": "overlay",
              "size": 10,
              "solidity": 0.2
             }
            },
            "type": "barpolar"
           }
          ],
          "carpet": [
           {
            "aaxis": {
             "endlinecolor": "#2a3f5f",
             "gridcolor": "white",
             "linecolor": "white",
             "minorgridcolor": "white",
             "startlinecolor": "#2a3f5f"
            },
            "baxis": {
             "endlinecolor": "#2a3f5f",
             "gridcolor": "white",
             "linecolor": "white",
             "minorgridcolor": "white",
             "startlinecolor": "#2a3f5f"
            },
            "type": "carpet"
           }
          ],
          "choropleth": [
           {
            "colorbar": {
             "outlinewidth": 0,
             "ticks": ""
            },
            "type": "choropleth"
           }
          ],
          "contour": [
           {
            "colorbar": {
             "outlinewidth": 0,
             "ticks": ""
            },
            "colorscale": [
             [
              0,
              "#0d0887"
             ],
             [
              0.1111111111111111,
              "#46039f"
             ],
             [
              0.2222222222222222,
              "#7201a8"
             ],
             [
              0.3333333333333333,
              "#9c179e"
             ],
             [
              0.4444444444444444,
              "#bd3786"
             ],
             [
              0.5555555555555556,
              "#d8576b"
             ],
             [
              0.6666666666666666,
              "#ed7953"
             ],
             [
              0.7777777777777778,
              "#fb9f3a"
             ],
             [
              0.8888888888888888,
              "#fdca26"
             ],
             [
              1,
              "#f0f921"
             ]
            ],
            "type": "contour"
           }
          ],
          "contourcarpet": [
           {
            "colorbar": {
             "outlinewidth": 0,
             "ticks": ""
            },
            "type": "contourcarpet"
           }
          ],
          "heatmap": [
           {
            "colorbar": {
             "outlinewidth": 0,
             "ticks": ""
            },
            "colorscale": [
             [
              0,
              "#0d0887"
             ],
             [
              0.1111111111111111,
              "#46039f"
             ],
             [
              0.2222222222222222,
              "#7201a8"
             ],
             [
              0.3333333333333333,
              "#9c179e"
             ],
             [
              0.4444444444444444,
              "#bd3786"
             ],
             [
              0.5555555555555556,
              "#d8576b"
             ],
             [
              0.6666666666666666,
              "#ed7953"
             ],
             [
              0.7777777777777778,
              "#fb9f3a"
             ],
             [
              0.8888888888888888,
              "#fdca26"
             ],
             [
              1,
              "#f0f921"
             ]
            ],
            "type": "heatmap"
           }
          ],
          "heatmapgl": [
           {
            "colorbar": {
             "outlinewidth": 0,
             "ticks": ""
            },
            "colorscale": [
             [
              0,
              "#0d0887"
             ],
             [
              0.1111111111111111,
              "#46039f"
             ],
             [
              0.2222222222222222,
              "#7201a8"
             ],
             [
              0.3333333333333333,
              "#9c179e"
             ],
             [
              0.4444444444444444,
              "#bd3786"
             ],
             [
              0.5555555555555556,
              "#d8576b"
             ],
             [
              0.6666666666666666,
              "#ed7953"
             ],
             [
              0.7777777777777778,
              "#fb9f3a"
             ],
             [
              0.8888888888888888,
              "#fdca26"
             ],
             [
              1,
              "#f0f921"
             ]
            ],
            "type": "heatmapgl"
           }
          ],
          "histogram": [
           {
            "marker": {
             "pattern": {
              "fillmode": "overlay",
              "size": 10,
              "solidity": 0.2
             }
            },
            "type": "histogram"
           }
          ],
          "histogram2d": [
           {
            "colorbar": {
             "outlinewidth": 0,
             "ticks": ""
            },
            "colorscale": [
             [
              0,
              "#0d0887"
             ],
             [
              0.1111111111111111,
              "#46039f"
             ],
             [
              0.2222222222222222,
              "#7201a8"
             ],
             [
              0.3333333333333333,
              "#9c179e"
             ],
             [
              0.4444444444444444,
              "#bd3786"
             ],
             [
              0.5555555555555556,
              "#d8576b"
             ],
             [
              0.6666666666666666,
              "#ed7953"
             ],
             [
              0.7777777777777778,
              "#fb9f3a"
             ],
             [
              0.8888888888888888,
              "#fdca26"
             ],
             [
              1,
              "#f0f921"
             ]
            ],
            "type": "histogram2d"
           }
          ],
          "histogram2dcontour": [
           {
            "colorbar": {
             "outlinewidth": 0,
             "ticks": ""
            },
            "colorscale": [
             [
              0,
              "#0d0887"
             ],
             [
              0.1111111111111111,
              "#46039f"
             ],
             [
              0.2222222222222222,
              "#7201a8"
             ],
             [
              0.3333333333333333,
              "#9c179e"
             ],
             [
              0.4444444444444444,
              "#bd3786"
             ],
             [
              0.5555555555555556,
              "#d8576b"
             ],
             [
              0.6666666666666666,
              "#ed7953"
             ],
             [
              0.7777777777777778,
              "#fb9f3a"
             ],
             [
              0.8888888888888888,
              "#fdca26"
             ],
             [
              1,
              "#f0f921"
             ]
            ],
            "type": "histogram2dcontour"
           }
          ],
          "mesh3d": [
           {
            "colorbar": {
             "outlinewidth": 0,
             "ticks": ""
            },
            "type": "mesh3d"
           }
          ],
          "parcoords": [
           {
            "line": {
             "colorbar": {
              "outlinewidth": 0,
              "ticks": ""
             }
            },
            "type": "parcoords"
           }
          ],
          "pie": [
           {
            "automargin": true,
            "type": "pie"
           }
          ],
          "scatter": [
           {
            "fillpattern": {
             "fillmode": "overlay",
             "size": 10,
             "solidity": 0.2
            },
            "type": "scatter"
           }
          ],
          "scatter3d": [
           {
            "line": {
             "colorbar": {
              "outlinewidth": 0,
              "ticks": ""
             }
            },
            "marker": {
             "colorbar": {
              "outlinewidth": 0,
              "ticks": ""
             }
            },
            "type": "scatter3d"
           }
          ],
          "scattercarpet": [
           {
            "marker": {
             "colorbar": {
              "outlinewidth": 0,
              "ticks": ""
             }
            },
            "type": "scattercarpet"
           }
          ],
          "scattergeo": [
           {
            "marker": {
             "colorbar": {
              "outlinewidth": 0,
              "ticks": ""
             }
            },
            "type": "scattergeo"
           }
          ],
          "scattergl": [
           {
            "marker": {
             "colorbar": {
              "outlinewidth": 0,
              "ticks": ""
             }
            },
            "type": "scattergl"
           }
          ],
          "scattermapbox": [
           {
            "marker": {
             "colorbar": {
              "outlinewidth": 0,
              "ticks": ""
             }
            },
            "type": "scattermapbox"
           }
          ],
          "scatterpolar": [
           {
            "marker": {
             "colorbar": {
              "outlinewidth": 0,
              "ticks": ""
             }
            },
            "type": "scatterpolar"
           }
          ],
          "scatterpolargl": [
           {
            "marker": {
             "colorbar": {
              "outlinewidth": 0,
              "ticks": ""
             }
            },
            "type": "scatterpolargl"
           }
          ],
          "scatterternary": [
           {
            "marker": {
             "colorbar": {
              "outlinewidth": 0,
              "ticks": ""
             }
            },
            "type": "scatterternary"
           }
          ],
          "surface": [
           {
            "colorbar": {
             "outlinewidth": 0,
             "ticks": ""
            },
            "colorscale": [
             [
              0,
              "#0d0887"
             ],
             [
              0.1111111111111111,
              "#46039f"
             ],
             [
              0.2222222222222222,
              "#7201a8"
             ],
             [
              0.3333333333333333,
              "#9c179e"
             ],
             [
              0.4444444444444444,
              "#bd3786"
             ],
             [
              0.5555555555555556,
              "#d8576b"
             ],
             [
              0.6666666666666666,
              "#ed7953"
             ],
             [
              0.7777777777777778,
              "#fb9f3a"
             ],
             [
              0.8888888888888888,
              "#fdca26"
             ],
             [
              1,
              "#f0f921"
             ]
            ],
            "type": "surface"
           }
          ],
          "table": [
           {
            "cells": {
             "fill": {
              "color": "#EBF0F8"
             },
             "line": {
              "color": "white"
             }
            },
            "header": {
             "fill": {
              "color": "#C8D4E3"
             },
             "line": {
              "color": "white"
             }
            },
            "type": "table"
           }
          ]
         },
         "layout": {
          "annotationdefaults": {
           "arrowcolor": "#2a3f5f",
           "arrowhead": 0,
           "arrowwidth": 1
          },
          "autotypenumbers": "strict",
          "coloraxis": {
           "colorbar": {
            "outlinewidth": 0,
            "ticks": ""
           }
          },
          "colorscale": {
           "diverging": [
            [
             0,
             "#8e0152"
            ],
            [
             0.1,
             "#c51b7d"
            ],
            [
             0.2,
             "#de77ae"
            ],
            [
             0.3,
             "#f1b6da"
            ],
            [
             0.4,
             "#fde0ef"
            ],
            [
             0.5,
             "#f7f7f7"
            ],
            [
             0.6,
             "#e6f5d0"
            ],
            [
             0.7,
             "#b8e186"
            ],
            [
             0.8,
             "#7fbc41"
            ],
            [
             0.9,
             "#4d9221"
            ],
            [
             1,
             "#276419"
            ]
           ],
           "sequential": [
            [
             0,
             "#0d0887"
            ],
            [
             0.1111111111111111,
             "#46039f"
            ],
            [
             0.2222222222222222,
             "#7201a8"
            ],
            [
             0.3333333333333333,
             "#9c179e"
            ],
            [
             0.4444444444444444,
             "#bd3786"
            ],
            [
             0.5555555555555556,
             "#d8576b"
            ],
            [
             0.6666666666666666,
             "#ed7953"
            ],
            [
             0.7777777777777778,
             "#fb9f3a"
            ],
            [
             0.8888888888888888,
             "#fdca26"
            ],
            [
             1,
             "#f0f921"
            ]
           ],
           "sequentialminus": [
            [
             0,
             "#0d0887"
            ],
            [
             0.1111111111111111,
             "#46039f"
            ],
            [
             0.2222222222222222,
             "#7201a8"
            ],
            [
             0.3333333333333333,
             "#9c179e"
            ],
            [
             0.4444444444444444,
             "#bd3786"
            ],
            [
             0.5555555555555556,
             "#d8576b"
            ],
            [
             0.6666666666666666,
             "#ed7953"
            ],
            [
             0.7777777777777778,
             "#fb9f3a"
            ],
            [
             0.8888888888888888,
             "#fdca26"
            ],
            [
             1,
             "#f0f921"
            ]
           ]
          },
          "colorway": [
           "#636efa",
           "#EF553B",
           "#00cc96",
           "#ab63fa",
           "#FFA15A",
           "#19d3f3",
           "#FF6692",
           "#B6E880",
           "#FF97FF",
           "#FECB52"
          ],
          "font": {
           "color": "#2a3f5f"
          },
          "geo": {
           "bgcolor": "white",
           "lakecolor": "white",
           "landcolor": "#E5ECF6",
           "showlakes": true,
           "showland": true,
           "subunitcolor": "white"
          },
          "hoverlabel": {
           "align": "left"
          },
          "hovermode": "closest",
          "mapbox": {
           "style": "light"
          },
          "paper_bgcolor": "white",
          "plot_bgcolor": "#E5ECF6",
          "polar": {
           "angularaxis": {
            "gridcolor": "white",
            "linecolor": "white",
            "ticks": ""
           },
           "bgcolor": "#E5ECF6",
           "radialaxis": {
            "gridcolor": "white",
            "linecolor": "white",
            "ticks": ""
           }
          },
          "scene": {
           "xaxis": {
            "backgroundcolor": "#E5ECF6",
            "gridcolor": "white",
            "gridwidth": 2,
            "linecolor": "white",
            "showbackground": true,
            "ticks": "",
            "zerolinecolor": "white"
           },
           "yaxis": {
            "backgroundcolor": "#E5ECF6",
            "gridcolor": "white",
            "gridwidth": 2,
            "linecolor": "white",
            "showbackground": true,
            "ticks": "",
            "zerolinecolor": "white"
           },
           "zaxis": {
            "backgroundcolor": "#E5ECF6",
            "gridcolor": "white",
            "gridwidth": 2,
            "linecolor": "white",
            "showbackground": true,
            "ticks": "",
            "zerolinecolor": "white"
           }
          },
          "shapedefaults": {
           "line": {
            "color": "#2a3f5f"
           }
          },
          "ternary": {
           "aaxis": {
            "gridcolor": "white",
            "linecolor": "white",
            "ticks": ""
           },
           "baxis": {
            "gridcolor": "white",
            "linecolor": "white",
            "ticks": ""
           },
           "bgcolor": "#E5ECF6",
           "caxis": {
            "gridcolor": "white",
            "linecolor": "white",
            "ticks": ""
           }
          },
          "title": {
           "x": 0.05
          },
          "xaxis": {
           "automargin": true,
           "gridcolor": "white",
           "linecolor": "white",
           "ticks": "",
           "title": {
            "standoff": 15
           },
           "zerolinecolor": "white",
           "zerolinewidth": 2
          },
          "yaxis": {
           "automargin": true,
           "gridcolor": "white",
           "linecolor": "white",
           "ticks": "",
           "title": {
            "standoff": 15
           },
           "zerolinecolor": "white",
           "zerolinewidth": 2
          }
         }
        },
        "width": 700
       }
      }
     },
     "metadata": {},
     "output_type": "display_data"
    }
   ],
   "source": [
    "fig = px.scatter_mapbox(df_top_20, lat=\"lat\", lon=\"lon\", color=\"score\", mapbox_style=\"open-street-map\", zoom = 10, size = \"temperature\", color_continuous_scale=\"oranges\", \n",
    "                        hover_data={\"city\": True, \"hotel\": True, \"lat\": False, \"lon\": False}, height=510, width=700)\n",
    "fig.show()"
   ]
  }
 ],
 "metadata": {
  "kernelspec": {
   "display_name": "base",
   "language": "python",
   "name": "python3"
  },
  "language_info": {
   "codemirror_mode": {
    "name": "ipython",
    "version": 3
   },
   "file_extension": ".py",
   "mimetype": "text/x-python",
   "name": "python",
   "nbconvert_exporter": "python",
   "pygments_lexer": "ipython3",
   "version": "3.12.4"
  }
 },
 "nbformat": 4,
 "nbformat_minor": 2
}
