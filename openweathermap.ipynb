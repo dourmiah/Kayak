{
 "cells": [
  {
   "cell_type": "code",
   "execution_count": 211,
   "metadata": {},
   "outputs": [],
   "source": [
    "import requests\n",
    "import pandas as pd\n",
    "import my_key as key\n",
    "import csv\n",
    "import json\n",
    "import plotly.express as px"
   ]
  },
  {
   "cell_type": "code",
   "execution_count": 212,
   "metadata": {},
   "outputs": [],
   "source": [
    "api_key = key.api_key"
   ]
  },
  {
   "cell_type": "code",
   "execution_count": 213,
   "metadata": {},
   "outputs": [
    {
     "data": {
      "text/html": [
       "<div>\n",
       "<style scoped>\n",
       "    .dataframe tbody tr th:only-of-type {\n",
       "        vertical-align: middle;\n",
       "    }\n",
       "\n",
       "    .dataframe tbody tr th {\n",
       "        vertical-align: top;\n",
       "    }\n",
       "\n",
       "    .dataframe thead th {\n",
       "        text-align: right;\n",
       "    }\n",
       "</style>\n",
       "<table border=\"1\" class=\"dataframe\">\n",
       "  <thead>\n",
       "    <tr style=\"text-align: right;\">\n",
       "      <th></th>\n",
       "      <th>City</th>\n",
       "      <th>Latitude</th>\n",
       "      <th>Longitude</th>\n",
       "    </tr>\n",
       "  </thead>\n",
       "  <tbody>\n",
       "    <tr>\n",
       "      <th>0</th>\n",
       "      <td>Mont Saint Michel</td>\n",
       "      <td>48.635954</td>\n",
       "      <td>-1.511460</td>\n",
       "    </tr>\n",
       "    <tr>\n",
       "      <th>1</th>\n",
       "      <td>Saint Malo</td>\n",
       "      <td>48.649518</td>\n",
       "      <td>-2.026041</td>\n",
       "    </tr>\n",
       "    <tr>\n",
       "      <th>2</th>\n",
       "      <td>Bayeux</td>\n",
       "      <td>49.276462</td>\n",
       "      <td>-0.702474</td>\n",
       "    </tr>\n",
       "    <tr>\n",
       "      <th>3</th>\n",
       "      <td>Le Havre</td>\n",
       "      <td>49.493898</td>\n",
       "      <td>0.107973</td>\n",
       "    </tr>\n",
       "    <tr>\n",
       "      <th>4</th>\n",
       "      <td>Rouen</td>\n",
       "      <td>49.440459</td>\n",
       "      <td>1.093966</td>\n",
       "    </tr>\n",
       "  </tbody>\n",
       "</table>\n",
       "</div>"
      ],
      "text/plain": [
       "                City   Latitude  Longitude\n",
       "0  Mont Saint Michel  48.635954  -1.511460\n",
       "1         Saint Malo  48.649518  -2.026041\n",
       "2             Bayeux  49.276462  -0.702474\n",
       "3           Le Havre  49.493898   0.107973\n",
       "4              Rouen  49.440459   1.093966"
      ]
     },
     "execution_count": 213,
     "metadata": {},
     "output_type": "execute_result"
    }
   ],
   "source": [
    "# Changer le chemin du fichier si nécessaire\n",
    "\n",
    "df_gps_data = pd.read_csv(\"gps_data.csv\")\n",
    "df_gps_data.head()\n"
   ]
  },
  {
   "cell_type": "code",
   "execution_count": 214,
   "metadata": {},
   "outputs": [],
   "source": [
    "# Get weather, temperature and weather\n",
    "def get_temperature_humidity_weather(latitude, longitude):\n",
    "    url = f\"https://api.openweathermap.org/data/3.0/onecall?lat={latitude}&lon={longitude}&appid={api_key}\"\n",
    "    response = requests.get(url)\n",
    "    data = response.json()\n",
    "    if \"current\" in data:\n",
    "        temperature = data[\"current\"][\"temp\"] - 273.15  # Round temperature to the nearest whole number\n",
    "        humidity = data[\"current\"][\"humidity\"]\n",
    "        weather = data[\"current\"][\"weather\"][0][\"main\"]\n",
    "        return temperature, humidity, weather\n",
    "    else:\n",
    "        return None, None, None"
   ]
  },
  {
   "cell_type": "code",
   "execution_count": 215,
   "metadata": {},
   "outputs": [
    {
     "name": "stdout",
     "output_type": "stream",
     "text": [
      "City: Mont Saint Michel, Temperature : 12°C, Humidity : 96%, Weather: Clouds\n",
      "City: Saint Malo, Temperature : 12°C, Humidity : 100%, Weather: Clear\n",
      "City: Bayeux, Temperature : 13°C, Humidity : 84%, Weather: Clouds\n",
      "City: Le Havre, Temperature : 17°C, Humidity : 94%, Weather: Clouds\n",
      "City: Rouen, Temperature : 13°C, Humidity : 92%, Weather: Clouds\n",
      "City: Paris, Temperature : 14°C, Humidity : 92%, Weather: Clear\n",
      "City: Amiens, Temperature : 13°C, Humidity : 79%, Weather: Clear\n",
      "City: Lille, Temperature : 14°C, Humidity : 84%, Weather: Clouds\n",
      "City: Strasbourg, Temperature : 17°C, Humidity : 85%, Weather: Clouds\n",
      "City: Chateau du Haut Koenigsbourg, Temperature : 15°C, Humidity : 82%, Weather: Clear\n",
      "City: Colmar, Temperature : 18°C, Humidity : 86%, Weather: Clear\n",
      "City: Eguisheim, Temperature : 18°C, Humidity : 86%, Weather: Clear\n",
      "City: Besancon, Temperature : 15°C, Humidity : 96%, Weather: Clouds\n",
      "City: Dijon, Temperature : 16°C, Humidity : 77%, Weather: Clouds\n",
      "City: Annecy, Temperature : 18°C, Humidity : 77%, Weather: Clouds\n",
      "City: Grenoble, Temperature : 18°C, Humidity : 97%, Weather: Clouds\n",
      "City: Lyon, Temperature : 17°C, Humidity : 72%, Weather: Clear\n",
      "City: Gorges du Verdon, Temperature : 17°C, Humidity : 57%, Weather: Clouds\n",
      "City: Bormes les Mimosas, Temperature : 23°C, Humidity : 53%, Weather: Clear\n",
      "City: Cassis, Temperature : 22°C, Humidity : 56%, Weather: Clouds\n",
      "City: Marseille, Temperature : 22°C, Humidity : 59%, Weather: Clear\n",
      "City: Aix en Provence, Temperature : 20°C, Humidity : 59%, Weather: Clouds\n",
      "City: Avignon, Temperature : 21°C, Humidity : 64%, Weather: Clear\n",
      "City: Uzes, Temperature : 20°C, Humidity : 52%, Weather: Clear\n",
      "City: Nimes, Temperature : 21°C, Humidity : 56%, Weather: Clear\n",
      "City: Aigues Mortes, Temperature : 22°C, Humidity : 53%, Weather: Clear\n",
      "City: Saintes Maries de la mer, Temperature : 22°C, Humidity : 57%, Weather: Clear\n",
      "City: Collioure, Temperature : 21°C, Humidity : 55%, Weather: Clear\n",
      "City: Carcassonne, Temperature : 16°C, Humidity : 82%, Weather: Clear\n",
      "City: Ariege, Temperature : 12°C, Humidity : 82%, Weather: Clear\n",
      "City: Toulouse, Temperature : 15°C, Humidity : 88%, Weather: Clear\n",
      "City: Montauban, Temperature : 15°C, Humidity : 66%, Weather: Clear\n",
      "City: Biarritz, Temperature : 14°C, Humidity : 100%, Weather: Clear\n",
      "City: Bayonne, Temperature : 14°C, Humidity : 100%, Weather: Clear\n",
      "City: La Rochelle, Temperature : 15°C, Humidity : 94%, Weather: Clear\n",
      "Les résultats ont été enregistrés dans 'meteo_data.csv'\n"
     ]
    }
   ],
   "source": [
    "csv_filename = \"meteo_data.csv\"\n",
    "\n",
    "# Créer un fichier CSV\n",
    "with open('meteo_data.csv', 'w', newline='') as csvfile:\n",
    "    fieldnames = ['City', 'Temperature (°C)', 'Humidity (%)', 'Weather']\n",
    "    writer = csv.DictWriter(csvfile, fieldnames=fieldnames)\n",
    "    writer.writeheader()\n",
    "\n",
    "    # Parcourir les lignes du DataFrame\n",
    "    for index, row in df_gps_data.iterrows():\n",
    "        city = row['City']\n",
    "        latitude = row['Latitude']\n",
    "        longitude = row['Longitude']\n",
    "        temperature, humidity, weather = get_temperature_humidity_weather(latitude, longitude)\n",
    "        if temperature is not None:\n",
    "            temperature = round(temperature)  # Arrondir la température à l'entier le plus proche\n",
    "            writer.writerow({'City': city, 'Temperature (°C)': temperature, 'Humidity (%)': humidity, 'Weather': weather})\n",
    "            print(f\"City: {city}, Temperature : {temperature}°C, Humidity : {humidity}%, Weather: {weather}\")\n",
    "        else:\n",
    "            writer.writerow({'City': city, 'Temperature (°C)': 'N/A', 'Humidity (%)': 'N/A', 'Weather': 'N/A'})\n",
    "\n",
    "print(\"Les résultats ont été enregistrés dans 'meteo_data.csv'\")"
   ]
  },
  {
   "cell_type": "code",
   "execution_count": 216,
   "metadata": {},
   "outputs": [
    {
     "data": {
      "text/html": [
       "<div>\n",
       "<style scoped>\n",
       "    .dataframe tbody tr th:only-of-type {\n",
       "        vertical-align: middle;\n",
       "    }\n",
       "\n",
       "    .dataframe tbody tr th {\n",
       "        vertical-align: top;\n",
       "    }\n",
       "\n",
       "    .dataframe thead th {\n",
       "        text-align: right;\n",
       "    }\n",
       "</style>\n",
       "<table border=\"1\" class=\"dataframe\">\n",
       "  <thead>\n",
       "    <tr style=\"text-align: right;\">\n",
       "      <th></th>\n",
       "      <th>City</th>\n",
       "      <th>Temperature (°C)</th>\n",
       "      <th>Humidity (%)</th>\n",
       "      <th>Weather</th>\n",
       "    </tr>\n",
       "  </thead>\n",
       "  <tbody>\n",
       "    <tr>\n",
       "      <th>0</th>\n",
       "      <td>Mont Saint Michel</td>\n",
       "      <td>12</td>\n",
       "      <td>96</td>\n",
       "      <td>Clouds</td>\n",
       "    </tr>\n",
       "    <tr>\n",
       "      <th>1</th>\n",
       "      <td>Saint Malo</td>\n",
       "      <td>12</td>\n",
       "      <td>100</td>\n",
       "      <td>Clear</td>\n",
       "    </tr>\n",
       "    <tr>\n",
       "      <th>2</th>\n",
       "      <td>Bayeux</td>\n",
       "      <td>13</td>\n",
       "      <td>84</td>\n",
       "      <td>Clouds</td>\n",
       "    </tr>\n",
       "    <tr>\n",
       "      <th>3</th>\n",
       "      <td>Le Havre</td>\n",
       "      <td>17</td>\n",
       "      <td>94</td>\n",
       "      <td>Clouds</td>\n",
       "    </tr>\n",
       "    <tr>\n",
       "      <th>4</th>\n",
       "      <td>Rouen</td>\n",
       "      <td>13</td>\n",
       "      <td>92</td>\n",
       "      <td>Clouds</td>\n",
       "    </tr>\n",
       "  </tbody>\n",
       "</table>\n",
       "</div>"
      ],
      "text/plain": [
       "                City  Temperature (°C)  Humidity (%) Weather\n",
       "0  Mont Saint Michel                12            96  Clouds\n",
       "1         Saint Malo                12           100   Clear\n",
       "2             Bayeux                13            84  Clouds\n",
       "3           Le Havre                17            94  Clouds\n",
       "4              Rouen                13            92  Clouds"
      ]
     },
     "execution_count": 216,
     "metadata": {},
     "output_type": "execute_result"
    }
   ],
   "source": [
    "# Changer le chemin du fichier si nécessaire\n",
    "\n",
    "df_meteo = pd.read_csv(\"meteo_data.csv\")\n",
    "df_meteo.head()"
   ]
  },
  {
   "cell_type": "code",
   "execution_count": 217,
   "metadata": {},
   "outputs": [
    {
     "data": {
      "text/html": [
       "<div>\n",
       "<style scoped>\n",
       "    .dataframe tbody tr th:only-of-type {\n",
       "        vertical-align: middle;\n",
       "    }\n",
       "\n",
       "    .dataframe tbody tr th {\n",
       "        vertical-align: top;\n",
       "    }\n",
       "\n",
       "    .dataframe thead th {\n",
       "        text-align: right;\n",
       "    }\n",
       "</style>\n",
       "<table border=\"1\" class=\"dataframe\">\n",
       "  <thead>\n",
       "    <tr style=\"text-align: right;\">\n",
       "      <th></th>\n",
       "      <th>City</th>\n",
       "      <th>Temperature (°C)</th>\n",
       "      <th>Humidity (%)</th>\n",
       "      <th>Weather</th>\n",
       "    </tr>\n",
       "  </thead>\n",
       "  <tbody>\n",
       "    <tr>\n",
       "      <th>0</th>\n",
       "      <td>Mont Saint Michel</td>\n",
       "      <td>12</td>\n",
       "      <td>96</td>\n",
       "      <td>Clouds</td>\n",
       "    </tr>\n",
       "    <tr>\n",
       "      <th>1</th>\n",
       "      <td>Saint Malo</td>\n",
       "      <td>12</td>\n",
       "      <td>100</td>\n",
       "      <td>Clear</td>\n",
       "    </tr>\n",
       "    <tr>\n",
       "      <th>2</th>\n",
       "      <td>Bayeux</td>\n",
       "      <td>13</td>\n",
       "      <td>84</td>\n",
       "      <td>Clouds</td>\n",
       "    </tr>\n",
       "    <tr>\n",
       "      <th>3</th>\n",
       "      <td>Le Havre</td>\n",
       "      <td>17</td>\n",
       "      <td>94</td>\n",
       "      <td>Clouds</td>\n",
       "    </tr>\n",
       "    <tr>\n",
       "      <th>4</th>\n",
       "      <td>Rouen</td>\n",
       "      <td>13</td>\n",
       "      <td>92</td>\n",
       "      <td>Clouds</td>\n",
       "    </tr>\n",
       "  </tbody>\n",
       "</table>\n",
       "</div>"
      ],
      "text/plain": [
       "                City  Temperature (°C)  Humidity (%) Weather\n",
       "0  Mont Saint Michel                12            96  Clouds\n",
       "1         Saint Malo                12           100   Clear\n",
       "2             Bayeux                13            84  Clouds\n",
       "3           Le Havre                17            94  Clouds\n",
       "4              Rouen                13            92  Clouds"
      ]
     },
     "execution_count": 217,
     "metadata": {},
     "output_type": "execute_result"
    }
   ],
   "source": [
    "df_meteo.rename(columns={'temperature (°C)': 'temperature', 'humidite (%)': 'humidite'}, inplace=True)\n",
    "df_meteo.head()"
   ]
  },
  {
   "cell_type": "markdown",
   "metadata": {},
   "source": [
    "Création d'un seul fichier csv avec toute les données"
   ]
  },
  {
   "cell_type": "code",
   "execution_count": 218,
   "metadata": {},
   "outputs": [],
   "source": [
    "with open('booking.json') as f:\n",
    "    data_json = json.load(f)"
   ]
  },
  {
   "cell_type": "code",
   "execution_count": 219,
   "metadata": {},
   "outputs": [],
   "source": [
    "# Modifier les noms de ville dans le JSON\n",
    "for entry in data_json:\n",
    "    if 'ville' in entry:\n",
    "        entry['ville'] = entry['ville'].replace('+', ' ')"
   ]
  },
  {
   "cell_type": "code",
   "execution_count": 220,
   "metadata": {},
   "outputs": [
    {
     "data": {
      "text/html": [
       "<div>\n",
       "<style scoped>\n",
       "    .dataframe tbody tr th:only-of-type {\n",
       "        vertical-align: middle;\n",
       "    }\n",
       "\n",
       "    .dataframe tbody tr th {\n",
       "        vertical-align: top;\n",
       "    }\n",
       "\n",
       "    .dataframe thead th {\n",
       "        text-align: right;\n",
       "    }\n",
       "</style>\n",
       "<table border=\"1\" class=\"dataframe\">\n",
       "  <thead>\n",
       "    <tr style=\"text-align: right;\">\n",
       "      <th></th>\n",
       "      <th>ville</th>\n",
       "      <th>name</th>\n",
       "      <th>website</th>\n",
       "      <th>score</th>\n",
       "      <th>desc</th>\n",
       "      <th>lat</th>\n",
       "      <th>lon</th>\n",
       "    </tr>\n",
       "  </thead>\n",
       "  <tbody>\n",
       "    <tr>\n",
       "      <th>0</th>\n",
       "      <td>Aigues-Mortes%2C Languedoc-Roussillon%2C France</td>\n",
       "      <td>appartement n2 centre village, clim, parking g...</td>\n",
       "      <td>https://www.booking.com/hotel/fr/appartement-n...</td>\n",
       "      <td>3 sur 5</td>\n",
       "      <td>Hébergement géré par un particulier</td>\n",
       "      <td>43.56724070</td>\n",
       "      <td>4.19380070</td>\n",
       "    </tr>\n",
       "    <tr>\n",
       "      <th>1</th>\n",
       "      <td>Aigues-Mortes%2C Languedoc-Roussillon%2C France</td>\n",
       "      <td>Cabane STELLA Aigues-Mortes</td>\n",
       "      <td>https://www.booking.com/hotel/fr/la-cabane-du-...</td>\n",
       "      <td>3 sur 5</td>\n",
       "      <td>Hébergement géré par un particulier</td>\n",
       "      <td>43.57930210</td>\n",
       "      <td>4.21283370</td>\n",
       "    </tr>\n",
       "    <tr>\n",
       "      <th>2</th>\n",
       "      <td>Aigues-Mortes%2C Languedoc-Roussillon%2C France</td>\n",
       "      <td>LE FLAMANT ROSE - COSYKAZ</td>\n",
       "      <td>https://www.booking.com/hotel/fr/le-flamant-ro...</td>\n",
       "      <td>3 sur 5</td>\n",
       "      <td>Hébergement géré par un particulier</td>\n",
       "      <td>43.57152370</td>\n",
       "      <td>4.17889910</td>\n",
       "    </tr>\n",
       "    <tr>\n",
       "      <th>3</th>\n",
       "      <td>Aigues-Mortes%2C Languedoc-Roussillon%2C France</td>\n",
       "      <td>B&amp;B La Terre Brûlée</td>\n",
       "      <td>https://www.booking.com/hotel/fr/b-amp-b-la-te...</td>\n",
       "      <td>3 sur 5</td>\n",
       "      <td>Situé à Aigues-Mortes, le B&amp;B La Terre Brûlée ...</td>\n",
       "      <td>43.56197612</td>\n",
       "      <td>4.20767969</td>\n",
       "    </tr>\n",
       "    <tr>\n",
       "      <th>4</th>\n",
       "      <td>Aigues-Mortes%2C Languedoc-Roussillon%2C France</td>\n",
       "      <td>Au Cœur des Remparts</td>\n",
       "      <td>https://www.booking.com/hotel/fr/au-coeur-des-...</td>\n",
       "      <td>3 sur 5</td>\n",
       "      <td>Hébergement géré par un particulier</td>\n",
       "      <td>43.56540100</td>\n",
       "      <td>4.19297300</td>\n",
       "    </tr>\n",
       "  </tbody>\n",
       "</table>\n",
       "</div>"
      ],
      "text/plain": [
       "                                             ville  \\\n",
       "0  Aigues-Mortes%2C Languedoc-Roussillon%2C France   \n",
       "1  Aigues-Mortes%2C Languedoc-Roussillon%2C France   \n",
       "2  Aigues-Mortes%2C Languedoc-Roussillon%2C France   \n",
       "3  Aigues-Mortes%2C Languedoc-Roussillon%2C France   \n",
       "4  Aigues-Mortes%2C Languedoc-Roussillon%2C France   \n",
       "\n",
       "                                                name  \\\n",
       "0  appartement n2 centre village, clim, parking g...   \n",
       "1                        Cabane STELLA Aigues-Mortes   \n",
       "2                          LE FLAMANT ROSE - COSYKAZ   \n",
       "3                                B&B La Terre Brûlée   \n",
       "4                               Au Cœur des Remparts   \n",
       "\n",
       "                                             website    score  \\\n",
       "0  https://www.booking.com/hotel/fr/appartement-n...  3 sur 5   \n",
       "1  https://www.booking.com/hotel/fr/la-cabane-du-...  3 sur 5   \n",
       "2  https://www.booking.com/hotel/fr/le-flamant-ro...  3 sur 5   \n",
       "3  https://www.booking.com/hotel/fr/b-amp-b-la-te...  3 sur 5   \n",
       "4  https://www.booking.com/hotel/fr/au-coeur-des-...  3 sur 5   \n",
       "\n",
       "                                                desc          lat         lon  \n",
       "0                Hébergement géré par un particulier  43.56724070  4.19380070  \n",
       "1                Hébergement géré par un particulier  43.57930210  4.21283370  \n",
       "2                Hébergement géré par un particulier  43.57152370  4.17889910  \n",
       "3  Situé à Aigues-Mortes, le B&B La Terre Brûlée ...  43.56197612  4.20767969  \n",
       "4                Hébergement géré par un particulier  43.56540100  4.19297300  "
      ]
     },
     "execution_count": 220,
     "metadata": {},
     "output_type": "execute_result"
    }
   ],
   "source": [
    "# Créer un DataFrame à partir du JSON\n",
    "df_json = pd.DataFrame(data_json)\n",
    "df_json.head()"
   ]
  },
  {
   "cell_type": "code",
   "execution_count": 221,
   "metadata": {},
   "outputs": [],
   "source": [
    "df_json.rename(columns={\"ville\" : \"City\"}, inplace=True)"
   ]
  },
  {
   "cell_type": "code",
   "execution_count": 222,
   "metadata": {},
   "outputs": [
    {
     "data": {
      "text/html": [
       "<div>\n",
       "<style scoped>\n",
       "    .dataframe tbody tr th:only-of-type {\n",
       "        vertical-align: middle;\n",
       "    }\n",
       "\n",
       "    .dataframe tbody tr th {\n",
       "        vertical-align: top;\n",
       "    }\n",
       "\n",
       "    .dataframe thead th {\n",
       "        text-align: right;\n",
       "    }\n",
       "</style>\n",
       "<table border=\"1\" class=\"dataframe\">\n",
       "  <thead>\n",
       "    <tr style=\"text-align: right;\">\n",
       "      <th></th>\n",
       "      <th>City</th>\n",
       "      <th>Temperature (°C)</th>\n",
       "      <th>Humidity (%)</th>\n",
       "      <th>Weather</th>\n",
       "      <th>name</th>\n",
       "      <th>website</th>\n",
       "      <th>score</th>\n",
       "      <th>desc</th>\n",
       "      <th>lat</th>\n",
       "      <th>lon</th>\n",
       "    </tr>\n",
       "  </thead>\n",
       "  <tbody>\n",
       "    <tr>\n",
       "      <th>0</th>\n",
       "      <td>Mont Saint Michel</td>\n",
       "      <td>12</td>\n",
       "      <td>96</td>\n",
       "      <td>Clouds</td>\n",
       "      <td>Hôtel Vert</td>\n",
       "      <td>https://www.booking.com/hotel/fr/vert.fr.html?...</td>\n",
       "      <td>2 sur 5</td>\n",
       "      <td>L’Hotel Vert vous propose des chambres décorée...</td>\n",
       "      <td>48.61470049</td>\n",
       "      <td>-1.50961697</td>\n",
       "    </tr>\n",
       "    <tr>\n",
       "      <th>1</th>\n",
       "      <td>Mont Saint Michel</td>\n",
       "      <td>12</td>\n",
       "      <td>96</td>\n",
       "      <td>Clouds</td>\n",
       "      <td>La Greve Saint Michel</td>\n",
       "      <td>https://www.booking.com/hotel/fr/la-greve-sain...</td>\n",
       "      <td>3 sur 5</td>\n",
       "      <td>Hébergement géré par un particulier</td>\n",
       "      <td>48.59775819</td>\n",
       "      <td>-1.51228422</td>\n",
       "    </tr>\n",
       "    <tr>\n",
       "      <th>2</th>\n",
       "      <td>Mont Saint Michel</td>\n",
       "      <td>12</td>\n",
       "      <td>96</td>\n",
       "      <td>Clouds</td>\n",
       "      <td>Maison au pied du Mont Saint Michel 2</td>\n",
       "      <td>https://www.booking.com/hotel/fr/maison-au-pie...</td>\n",
       "      <td>3 sur 5</td>\n",
       "      <td>Hébergement géré par un particulier</td>\n",
       "      <td>48.61561170</td>\n",
       "      <td>-1.48851210</td>\n",
       "    </tr>\n",
       "    <tr>\n",
       "      <th>3</th>\n",
       "      <td>Mont Saint Michel</td>\n",
       "      <td>12</td>\n",
       "      <td>96</td>\n",
       "      <td>Clouds</td>\n",
       "      <td>Gîte Caribou</td>\n",
       "      <td>https://www.booking.com/hotel/fr/gite-caribou....</td>\n",
       "      <td>3 sur 5</td>\n",
       "      <td>Hébergement géré par un particulier</td>\n",
       "      <td>48.62259438</td>\n",
       "      <td>-1.39050267</td>\n",
       "    </tr>\n",
       "    <tr>\n",
       "      <th>4</th>\n",
       "      <td>Mont Saint Michel</td>\n",
       "      <td>12</td>\n",
       "      <td>96</td>\n",
       "      <td>Clouds</td>\n",
       "      <td>Les Hortensias</td>\n",
       "      <td>https://www.booking.com/hotel/fr/les-hortensia...</td>\n",
       "      <td>3 sur 5</td>\n",
       "      <td>Hébergement géré par un particulier</td>\n",
       "      <td>48.59456300</td>\n",
       "      <td>-1.61772500</td>\n",
       "    </tr>\n",
       "  </tbody>\n",
       "</table>\n",
       "</div>"
      ],
      "text/plain": [
       "                City  Temperature (°C)  Humidity (%) Weather  \\\n",
       "0  Mont Saint Michel                12            96  Clouds   \n",
       "1  Mont Saint Michel                12            96  Clouds   \n",
       "2  Mont Saint Michel                12            96  Clouds   \n",
       "3  Mont Saint Michel                12            96  Clouds   \n",
       "4  Mont Saint Michel                12            96  Clouds   \n",
       "\n",
       "                                    name  \\\n",
       "0                             Hôtel Vert   \n",
       "1                  La Greve Saint Michel   \n",
       "2  Maison au pied du Mont Saint Michel 2   \n",
       "3                           Gîte Caribou   \n",
       "4                         Les Hortensias   \n",
       "\n",
       "                                             website    score  \\\n",
       "0  https://www.booking.com/hotel/fr/vert.fr.html?...  2 sur 5   \n",
       "1  https://www.booking.com/hotel/fr/la-greve-sain...  3 sur 5   \n",
       "2  https://www.booking.com/hotel/fr/maison-au-pie...  3 sur 5   \n",
       "3  https://www.booking.com/hotel/fr/gite-caribou....  3 sur 5   \n",
       "4  https://www.booking.com/hotel/fr/les-hortensia...  3 sur 5   \n",
       "\n",
       "                                                desc          lat          lon  \n",
       "0  L’Hotel Vert vous propose des chambres décorée...  48.61470049  -1.50961697  \n",
       "1                Hébergement géré par un particulier  48.59775819  -1.51228422  \n",
       "2                Hébergement géré par un particulier  48.61561170  -1.48851210  \n",
       "3                Hébergement géré par un particulier  48.62259438  -1.39050267  \n",
       "4                Hébergement géré par un particulier  48.59456300  -1.61772500  "
      ]
     },
     "execution_count": 222,
     "metadata": {},
     "output_type": "execute_result"
    }
   ],
   "source": [
    "df_fusionne = df_meteo.merge(df_json, on='City', how='left')\n",
    "df_fusionne.head()"
   ]
  },
  {
   "cell_type": "code",
   "execution_count": 223,
   "metadata": {},
   "outputs": [],
   "source": [
    "new_col_names = {\n",
    "    'City': 'city',\n",
    "    'Temperature (°C)': 'temperature',\n",
    "    'Humidity (%)': 'humidity',\n",
    "    'Weather': 'weather',\n",
    "    'name': 'hotel',\n",
    "    'website': 'website',\n",
    "    'score': 'score',\n",
    "    'desc': 'description',\n",
    "    'lat': 'lat',\n",
    "    'lon': 'lon',\n",
    "}\n"
   ]
  },
  {
   "cell_type": "code",
   "execution_count": 224,
   "metadata": {},
   "outputs": [
    {
     "data": {
      "text/html": [
       "<div>\n",
       "<style scoped>\n",
       "    .dataframe tbody tr th:only-of-type {\n",
       "        vertical-align: middle;\n",
       "    }\n",
       "\n",
       "    .dataframe tbody tr th {\n",
       "        vertical-align: top;\n",
       "    }\n",
       "\n",
       "    .dataframe thead th {\n",
       "        text-align: right;\n",
       "    }\n",
       "</style>\n",
       "<table border=\"1\" class=\"dataframe\">\n",
       "  <thead>\n",
       "    <tr style=\"text-align: right;\">\n",
       "      <th></th>\n",
       "      <th>city</th>\n",
       "      <th>temperature</th>\n",
       "      <th>humidity</th>\n",
       "      <th>weather</th>\n",
       "      <th>hotel</th>\n",
       "      <th>website</th>\n",
       "      <th>score</th>\n",
       "      <th>description</th>\n",
       "      <th>lat</th>\n",
       "      <th>lon</th>\n",
       "    </tr>\n",
       "  </thead>\n",
       "  <tbody>\n",
       "    <tr>\n",
       "      <th>0</th>\n",
       "      <td>Mont Saint Michel</td>\n",
       "      <td>12</td>\n",
       "      <td>96</td>\n",
       "      <td>Clouds</td>\n",
       "      <td>Hôtel Vert</td>\n",
       "      <td>https://www.booking.com/hotel/fr/vert.fr.html?...</td>\n",
       "      <td>2 sur 5</td>\n",
       "      <td>L’Hotel Vert vous propose des chambres décorée...</td>\n",
       "      <td>48.61470049</td>\n",
       "      <td>-1.50961697</td>\n",
       "    </tr>\n",
       "    <tr>\n",
       "      <th>1</th>\n",
       "      <td>Mont Saint Michel</td>\n",
       "      <td>12</td>\n",
       "      <td>96</td>\n",
       "      <td>Clouds</td>\n",
       "      <td>La Greve Saint Michel</td>\n",
       "      <td>https://www.booking.com/hotel/fr/la-greve-sain...</td>\n",
       "      <td>3 sur 5</td>\n",
       "      <td>Hébergement géré par un particulier</td>\n",
       "      <td>48.59775819</td>\n",
       "      <td>-1.51228422</td>\n",
       "    </tr>\n",
       "    <tr>\n",
       "      <th>2</th>\n",
       "      <td>Mont Saint Michel</td>\n",
       "      <td>12</td>\n",
       "      <td>96</td>\n",
       "      <td>Clouds</td>\n",
       "      <td>Maison au pied du Mont Saint Michel 2</td>\n",
       "      <td>https://www.booking.com/hotel/fr/maison-au-pie...</td>\n",
       "      <td>3 sur 5</td>\n",
       "      <td>Hébergement géré par un particulier</td>\n",
       "      <td>48.61561170</td>\n",
       "      <td>-1.48851210</td>\n",
       "    </tr>\n",
       "    <tr>\n",
       "      <th>3</th>\n",
       "      <td>Mont Saint Michel</td>\n",
       "      <td>12</td>\n",
       "      <td>96</td>\n",
       "      <td>Clouds</td>\n",
       "      <td>Gîte Caribou</td>\n",
       "      <td>https://www.booking.com/hotel/fr/gite-caribou....</td>\n",
       "      <td>3 sur 5</td>\n",
       "      <td>Hébergement géré par un particulier</td>\n",
       "      <td>48.62259438</td>\n",
       "      <td>-1.39050267</td>\n",
       "    </tr>\n",
       "    <tr>\n",
       "      <th>4</th>\n",
       "      <td>Mont Saint Michel</td>\n",
       "      <td>12</td>\n",
       "      <td>96</td>\n",
       "      <td>Clouds</td>\n",
       "      <td>Les Hortensias</td>\n",
       "      <td>https://www.booking.com/hotel/fr/les-hortensia...</td>\n",
       "      <td>3 sur 5</td>\n",
       "      <td>Hébergement géré par un particulier</td>\n",
       "      <td>48.59456300</td>\n",
       "      <td>-1.61772500</td>\n",
       "    </tr>\n",
       "  </tbody>\n",
       "</table>\n",
       "</div>"
      ],
      "text/plain": [
       "                city  temperature  humidity weather  \\\n",
       "0  Mont Saint Michel           12        96  Clouds   \n",
       "1  Mont Saint Michel           12        96  Clouds   \n",
       "2  Mont Saint Michel           12        96  Clouds   \n",
       "3  Mont Saint Michel           12        96  Clouds   \n",
       "4  Mont Saint Michel           12        96  Clouds   \n",
       "\n",
       "                                   hotel  \\\n",
       "0                             Hôtel Vert   \n",
       "1                  La Greve Saint Michel   \n",
       "2  Maison au pied du Mont Saint Michel 2   \n",
       "3                           Gîte Caribou   \n",
       "4                         Les Hortensias   \n",
       "\n",
       "                                             website    score  \\\n",
       "0  https://www.booking.com/hotel/fr/vert.fr.html?...  2 sur 5   \n",
       "1  https://www.booking.com/hotel/fr/la-greve-sain...  3 sur 5   \n",
       "2  https://www.booking.com/hotel/fr/maison-au-pie...  3 sur 5   \n",
       "3  https://www.booking.com/hotel/fr/gite-caribou....  3 sur 5   \n",
       "4  https://www.booking.com/hotel/fr/les-hortensia...  3 sur 5   \n",
       "\n",
       "                                         description          lat          lon  \n",
       "0  L’Hotel Vert vous propose des chambres décorée...  48.61470049  -1.50961697  \n",
       "1                Hébergement géré par un particulier  48.59775819  -1.51228422  \n",
       "2                Hébergement géré par un particulier  48.61561170  -1.48851210  \n",
       "3                Hébergement géré par un particulier  48.62259438  -1.39050267  \n",
       "4                Hébergement géré par un particulier  48.59456300  -1.61772500  "
      ]
     },
     "execution_count": 224,
     "metadata": {},
     "output_type": "execute_result"
    }
   ],
   "source": [
    "df_fusionne = df_fusionne.rename(columns=new_col_names)\n",
    "df_fusionne.head()"
   ]
  },
  {
   "cell_type": "code",
   "execution_count": 225,
   "metadata": {},
   "outputs": [],
   "source": [
    "df_final = df_fusionne[\n",
    "    ['city', 'temperature', 'humidity', 'weather', \n",
    "     'hotel','website','score','description','lat','lon'\n",
    "     ]\n",
    "    ]\n"
   ]
  },
  {
   "cell_type": "code",
   "execution_count": 226,
   "metadata": {},
   "outputs": [],
   "source": [
    "df_final.to_csv('data_final.csv', index=True, index_label='id')\n"
   ]
  },
  {
   "cell_type": "code",
   "execution_count": 227,
   "metadata": {},
   "outputs": [
    {
     "data": {
      "text/html": [
       "<div>\n",
       "<style scoped>\n",
       "    .dataframe tbody tr th:only-of-type {\n",
       "        vertical-align: middle;\n",
       "    }\n",
       "\n",
       "    .dataframe tbody tr th {\n",
       "        vertical-align: top;\n",
       "    }\n",
       "\n",
       "    .dataframe thead th {\n",
       "        text-align: right;\n",
       "    }\n",
       "</style>\n",
       "<table border=\"1\" class=\"dataframe\">\n",
       "  <thead>\n",
       "    <tr style=\"text-align: right;\">\n",
       "      <th></th>\n",
       "      <th>id</th>\n",
       "      <th>city</th>\n",
       "      <th>temperature</th>\n",
       "      <th>humidity</th>\n",
       "      <th>weather</th>\n",
       "      <th>hotel</th>\n",
       "      <th>website</th>\n",
       "      <th>score</th>\n",
       "      <th>description</th>\n",
       "      <th>lat</th>\n",
       "      <th>lon</th>\n",
       "    </tr>\n",
       "  </thead>\n",
       "  <tbody>\n",
       "    <tr>\n",
       "      <th>0</th>\n",
       "      <td>0</td>\n",
       "      <td>Mont Saint Michel</td>\n",
       "      <td>12</td>\n",
       "      <td>96</td>\n",
       "      <td>Clouds</td>\n",
       "      <td>Hôtel Vert</td>\n",
       "      <td>https://www.booking.com/hotel/fr/vert.fr.html?...</td>\n",
       "      <td>2 sur 5</td>\n",
       "      <td>L’Hotel Vert vous propose des chambres décorée...</td>\n",
       "      <td>48.614700</td>\n",
       "      <td>-1.509617</td>\n",
       "    </tr>\n",
       "    <tr>\n",
       "      <th>1</th>\n",
       "      <td>1</td>\n",
       "      <td>Mont Saint Michel</td>\n",
       "      <td>12</td>\n",
       "      <td>96</td>\n",
       "      <td>Clouds</td>\n",
       "      <td>La Greve Saint Michel</td>\n",
       "      <td>https://www.booking.com/hotel/fr/la-greve-sain...</td>\n",
       "      <td>3 sur 5</td>\n",
       "      <td>Hébergement géré par un particulier</td>\n",
       "      <td>48.597758</td>\n",
       "      <td>-1.512284</td>\n",
       "    </tr>\n",
       "    <tr>\n",
       "      <th>2</th>\n",
       "      <td>2</td>\n",
       "      <td>Mont Saint Michel</td>\n",
       "      <td>12</td>\n",
       "      <td>96</td>\n",
       "      <td>Clouds</td>\n",
       "      <td>Maison au pied du Mont Saint Michel 2</td>\n",
       "      <td>https://www.booking.com/hotel/fr/maison-au-pie...</td>\n",
       "      <td>3 sur 5</td>\n",
       "      <td>Hébergement géré par un particulier</td>\n",
       "      <td>48.615612</td>\n",
       "      <td>-1.488512</td>\n",
       "    </tr>\n",
       "    <tr>\n",
       "      <th>3</th>\n",
       "      <td>3</td>\n",
       "      <td>Mont Saint Michel</td>\n",
       "      <td>12</td>\n",
       "      <td>96</td>\n",
       "      <td>Clouds</td>\n",
       "      <td>Gîte Caribou</td>\n",
       "      <td>https://www.booking.com/hotel/fr/gite-caribou....</td>\n",
       "      <td>3 sur 5</td>\n",
       "      <td>Hébergement géré par un particulier</td>\n",
       "      <td>48.622594</td>\n",
       "      <td>-1.390503</td>\n",
       "    </tr>\n",
       "    <tr>\n",
       "      <th>4</th>\n",
       "      <td>4</td>\n",
       "      <td>Mont Saint Michel</td>\n",
       "      <td>12</td>\n",
       "      <td>96</td>\n",
       "      <td>Clouds</td>\n",
       "      <td>Les Hortensias</td>\n",
       "      <td>https://www.booking.com/hotel/fr/les-hortensia...</td>\n",
       "      <td>3 sur 5</td>\n",
       "      <td>Hébergement géré par un particulier</td>\n",
       "      <td>48.594563</td>\n",
       "      <td>-1.617725</td>\n",
       "    </tr>\n",
       "  </tbody>\n",
       "</table>\n",
       "</div>"
      ],
      "text/plain": [
       "   id               city  temperature  humidity weather  \\\n",
       "0   0  Mont Saint Michel           12        96  Clouds   \n",
       "1   1  Mont Saint Michel           12        96  Clouds   \n",
       "2   2  Mont Saint Michel           12        96  Clouds   \n",
       "3   3  Mont Saint Michel           12        96  Clouds   \n",
       "4   4  Mont Saint Michel           12        96  Clouds   \n",
       "\n",
       "                                   hotel  \\\n",
       "0                             Hôtel Vert   \n",
       "1                  La Greve Saint Michel   \n",
       "2  Maison au pied du Mont Saint Michel 2   \n",
       "3                           Gîte Caribou   \n",
       "4                         Les Hortensias   \n",
       "\n",
       "                                             website    score  \\\n",
       "0  https://www.booking.com/hotel/fr/vert.fr.html?...  2 sur 5   \n",
       "1  https://www.booking.com/hotel/fr/la-greve-sain...  3 sur 5   \n",
       "2  https://www.booking.com/hotel/fr/maison-au-pie...  3 sur 5   \n",
       "3  https://www.booking.com/hotel/fr/gite-caribou....  3 sur 5   \n",
       "4  https://www.booking.com/hotel/fr/les-hortensia...  3 sur 5   \n",
       "\n",
       "                                         description        lat       lon  \n",
       "0  L’Hotel Vert vous propose des chambres décorée...  48.614700 -1.509617  \n",
       "1                Hébergement géré par un particulier  48.597758 -1.512284  \n",
       "2                Hébergement géré par un particulier  48.615612 -1.488512  \n",
       "3                Hébergement géré par un particulier  48.622594 -1.390503  \n",
       "4                Hébergement géré par un particulier  48.594563 -1.617725  "
      ]
     },
     "execution_count": 227,
     "metadata": {},
     "output_type": "execute_result"
    }
   ],
   "source": [
    "# Changer le chemin du fichier si nécessaire\n",
    "\n",
    "df_fichier_final = pd.read_csv(\"data_final.csv\")\n",
    "df_fichier_final.head()"
   ]
  },
  {
   "cell_type": "code",
   "execution_count": 228,
   "metadata": {},
   "outputs": [
    {
     "data": {
      "text/html": [
       "<div>\n",
       "<style scoped>\n",
       "    .dataframe tbody tr th:only-of-type {\n",
       "        vertical-align: middle;\n",
       "    }\n",
       "\n",
       "    .dataframe tbody tr th {\n",
       "        vertical-align: top;\n",
       "    }\n",
       "\n",
       "    .dataframe thead th {\n",
       "        text-align: right;\n",
       "    }\n",
       "</style>\n",
       "<table border=\"1\" class=\"dataframe\">\n",
       "  <thead>\n",
       "    <tr style=\"text-align: right;\">\n",
       "      <th></th>\n",
       "      <th>City</th>\n",
       "      <th>Temperature (°C)</th>\n",
       "      <th>Humidity (%)</th>\n",
       "      <th>Weather</th>\n",
       "    </tr>\n",
       "  </thead>\n",
       "  <tbody>\n",
       "    <tr>\n",
       "      <th>0</th>\n",
       "      <td>Mont Saint Michel</td>\n",
       "      <td>12</td>\n",
       "      <td>96</td>\n",
       "      <td>Clouds</td>\n",
       "    </tr>\n",
       "    <tr>\n",
       "      <th>1</th>\n",
       "      <td>Saint Malo</td>\n",
       "      <td>12</td>\n",
       "      <td>100</td>\n",
       "      <td>Clear</td>\n",
       "    </tr>\n",
       "    <tr>\n",
       "      <th>2</th>\n",
       "      <td>Bayeux</td>\n",
       "      <td>13</td>\n",
       "      <td>84</td>\n",
       "      <td>Clouds</td>\n",
       "    </tr>\n",
       "    <tr>\n",
       "      <th>3</th>\n",
       "      <td>Le Havre</td>\n",
       "      <td>17</td>\n",
       "      <td>94</td>\n",
       "      <td>Clouds</td>\n",
       "    </tr>\n",
       "    <tr>\n",
       "      <th>4</th>\n",
       "      <td>Rouen</td>\n",
       "      <td>13</td>\n",
       "      <td>92</td>\n",
       "      <td>Clouds</td>\n",
       "    </tr>\n",
       "  </tbody>\n",
       "</table>\n",
       "</div>"
      ],
      "text/plain": [
       "                City  Temperature (°C)  Humidity (%) Weather\n",
       "0  Mont Saint Michel                12            96  Clouds\n",
       "1         Saint Malo                12           100   Clear\n",
       "2             Bayeux                13            84  Clouds\n",
       "3           Le Havre                17            94  Clouds\n",
       "4              Rouen                13            92  Clouds"
      ]
     },
     "execution_count": 228,
     "metadata": {},
     "output_type": "execute_result"
    }
   ],
   "source": [
    "df_meteo.head()"
   ]
  },
  {
   "cell_type": "markdown",
   "metadata": {},
   "source": [
    "Top 5 weather localization"
   ]
  },
  {
   "cell_type": "code",
   "execution_count": 229,
   "metadata": {},
   "outputs": [
    {
     "data": {
      "text/html": [
       "<div>\n",
       "<style scoped>\n",
       "    .dataframe tbody tr th:only-of-type {\n",
       "        vertical-align: middle;\n",
       "    }\n",
       "\n",
       "    .dataframe tbody tr th {\n",
       "        vertical-align: top;\n",
       "    }\n",
       "\n",
       "    .dataframe thead th {\n",
       "        text-align: right;\n",
       "    }\n",
       "</style>\n",
       "<table border=\"1\" class=\"dataframe\">\n",
       "  <thead>\n",
       "    <tr style=\"text-align: right;\">\n",
       "      <th></th>\n",
       "      <th>id</th>\n",
       "      <th>city</th>\n",
       "      <th>temperature</th>\n",
       "      <th>humidity</th>\n",
       "      <th>weather</th>\n",
       "      <th>hotel</th>\n",
       "      <th>website</th>\n",
       "      <th>score</th>\n",
       "      <th>description</th>\n",
       "      <th>lat</th>\n",
       "      <th>lon</th>\n",
       "    </tr>\n",
       "  </thead>\n",
       "  <tbody>\n",
       "    <tr>\n",
       "      <th>20</th>\n",
       "      <td>20</td>\n",
       "      <td>Saint Malo</td>\n",
       "      <td>12</td>\n",
       "      <td>100</td>\n",
       "      <td>Clear</td>\n",
       "      <td>NaN</td>\n",
       "      <td>NaN</td>\n",
       "      <td>NaN</td>\n",
       "      <td>NaN</td>\n",
       "      <td>NaN</td>\n",
       "      <td>NaN</td>\n",
       "    </tr>\n",
       "    <tr>\n",
       "      <th>81</th>\n",
       "      <td>81</td>\n",
       "      <td>Paris</td>\n",
       "      <td>14</td>\n",
       "      <td>92</td>\n",
       "      <td>Clear</td>\n",
       "      <td>District Nation</td>\n",
       "      <td>https://www.booking.com/hotel/fr/alfa-paris-na...</td>\n",
       "      <td>2 sur 5</td>\n",
       "      <td>Situé à Paris, à 500 mètres de la place de la ...</td>\n",
       "      <td>48.851311</td>\n",
       "      <td>2.392413</td>\n",
       "    </tr>\n",
       "    <tr>\n",
       "      <th>82</th>\n",
       "      <td>82</td>\n",
       "      <td>Paris</td>\n",
       "      <td>14</td>\n",
       "      <td>92</td>\n",
       "      <td>Clear</td>\n",
       "      <td>Hôtel De Venise</td>\n",
       "      <td>https://www.booking.com/hotel/fr/de-venise.fr....</td>\n",
       "      <td>2 sur 5</td>\n",
       "      <td>Situé à proximité de la Bastille et de la Gare...</td>\n",
       "      <td>48.845272</td>\n",
       "      <td>2.383612</td>\n",
       "    </tr>\n",
       "    <tr>\n",
       "      <th>83</th>\n",
       "      <td>83</td>\n",
       "      <td>Paris</td>\n",
       "      <td>14</td>\n",
       "      <td>92</td>\n",
       "      <td>Clear</td>\n",
       "      <td>La Maison Montparnasse</td>\n",
       "      <td>https://www.booking.com/hotel/fr/la-maison-mon...</td>\n",
       "      <td>2 sur 5</td>\n",
       "      <td>La Maison Montparnasse est située à 10 minutes...</td>\n",
       "      <td>48.832519</td>\n",
       "      <td>2.316845</td>\n",
       "    </tr>\n",
       "    <tr>\n",
       "      <th>84</th>\n",
       "      <td>84</td>\n",
       "      <td>Paris</td>\n",
       "      <td>14</td>\n",
       "      <td>92</td>\n",
       "      <td>Clear</td>\n",
       "      <td>Grand Hotel des Balcons</td>\n",
       "      <td>https://www.booking.com/hotel/fr/grand-des-bal...</td>\n",
       "      <td>2 sur 5</td>\n",
       "      <td>Situé dans le quartier chic de Saint-Germain à...</td>\n",
       "      <td>48.850422</td>\n",
       "      <td>2.339299</td>\n",
       "    </tr>\n",
       "    <tr>\n",
       "      <th>...</th>\n",
       "      <td>...</td>\n",
       "      <td>...</td>\n",
       "      <td>...</td>\n",
       "      <td>...</td>\n",
       "      <td>...</td>\n",
       "      <td>...</td>\n",
       "      <td>...</td>\n",
       "      <td>...</td>\n",
       "      <td>...</td>\n",
       "      <td>...</td>\n",
       "      <td>...</td>\n",
       "    </tr>\n",
       "    <tr>\n",
       "      <th>657</th>\n",
       "      <td>657</td>\n",
       "      <td>La Rochelle</td>\n",
       "      <td>15</td>\n",
       "      <td>94</td>\n",
       "      <td>Clear</td>\n",
       "      <td>Hôtel Le Bord'O Vieux Port</td>\n",
       "      <td>https://www.booking.com/hotel/fr/hoteldebordea...</td>\n",
       "      <td>2 sur 5</td>\n",
       "      <td>Occupant un bâtiment du XVIIIe siècle, le Hôte...</td>\n",
       "      <td>46.156877</td>\n",
       "      <td>-1.149112</td>\n",
       "    </tr>\n",
       "    <tr>\n",
       "      <th>658</th>\n",
       "      <td>658</td>\n",
       "      <td>La Rochelle</td>\n",
       "      <td>15</td>\n",
       "      <td>94</td>\n",
       "      <td>Clear</td>\n",
       "      <td>Accostage Hôtel Plage de la Concurrence</td>\n",
       "      <td>https://www.booking.com/hotel/fr/accostage.fr....</td>\n",
       "      <td>2 sur 5</td>\n",
       "      <td>L'Accostage Hôtel Plage de la Concurrence est ...</td>\n",
       "      <td>46.157124</td>\n",
       "      <td>-1.166042</td>\n",
       "    </tr>\n",
       "    <tr>\n",
       "      <th>659</th>\n",
       "      <td>659</td>\n",
       "      <td>La Rochelle</td>\n",
       "      <td>15</td>\n",
       "      <td>94</td>\n",
       "      <td>Clear</td>\n",
       "      <td>Hôtel de l'Océan</td>\n",
       "      <td>https://www.booking.com/hotel/fr/de-l-ocean-la...</td>\n",
       "      <td>2 sur 5</td>\n",
       "      <td>Construit en 1646, l'Hôtel de l'Océan se trouv...</td>\n",
       "      <td>46.157020</td>\n",
       "      <td>-1.154128</td>\n",
       "    </tr>\n",
       "    <tr>\n",
       "      <th>660</th>\n",
       "      <td>660</td>\n",
       "      <td>La Rochelle</td>\n",
       "      <td>15</td>\n",
       "      <td>94</td>\n",
       "      <td>Clear</td>\n",
       "      <td>Hotel La Marine, Vieux Port</td>\n",
       "      <td>https://www.booking.com/hotel/fr/la-marine-la-...</td>\n",
       "      <td>2 sur 5</td>\n",
       "      <td>L'Hôtel La Marine est situé dans le centre-vil...</td>\n",
       "      <td>46.158159</td>\n",
       "      <td>-1.152671</td>\n",
       "    </tr>\n",
       "    <tr>\n",
       "      <th>661</th>\n",
       "      <td>661</td>\n",
       "      <td>La Rochelle</td>\n",
       "      <td>15</td>\n",
       "      <td>94</td>\n",
       "      <td>Clear</td>\n",
       "      <td>Appartement La Rochelle, 2 pièces, 4 personnes...</td>\n",
       "      <td>https://www.booking.com/hotel/fr/appartement-l...</td>\n",
       "      <td>1 sur 5</td>\n",
       "      <td>L'Appartement La Rochelle, 2 pièces, 4 personn...</td>\n",
       "      <td>46.141130</td>\n",
       "      <td>-1.165159</td>\n",
       "    </tr>\n",
       "  </tbody>\n",
       "</table>\n",
       "<p>402 rows × 11 columns</p>\n",
       "</div>"
      ],
      "text/plain": [
       "      id         city  temperature  humidity weather  \\\n",
       "20    20   Saint Malo           12       100   Clear   \n",
       "81    81        Paris           14        92   Clear   \n",
       "82    82        Paris           14        92   Clear   \n",
       "83    83        Paris           14        92   Clear   \n",
       "84    84        Paris           14        92   Clear   \n",
       "..   ...          ...          ...       ...     ...   \n",
       "657  657  La Rochelle           15        94   Clear   \n",
       "658  658  La Rochelle           15        94   Clear   \n",
       "659  659  La Rochelle           15        94   Clear   \n",
       "660  660  La Rochelle           15        94   Clear   \n",
       "661  661  La Rochelle           15        94   Clear   \n",
       "\n",
       "                                                 hotel  \\\n",
       "20                                                 NaN   \n",
       "81                                     District Nation   \n",
       "82                                     Hôtel De Venise   \n",
       "83                              La Maison Montparnasse   \n",
       "84                             Grand Hotel des Balcons   \n",
       "..                                                 ...   \n",
       "657                         Hôtel Le Bord'O Vieux Port   \n",
       "658            Accostage Hôtel Plage de la Concurrence   \n",
       "659                                   Hôtel de l'Océan   \n",
       "660                        Hotel La Marine, Vieux Port   \n",
       "661  Appartement La Rochelle, 2 pièces, 4 personnes...   \n",
       "\n",
       "                                               website    score  \\\n",
       "20                                                 NaN      NaN   \n",
       "81   https://www.booking.com/hotel/fr/alfa-paris-na...  2 sur 5   \n",
       "82   https://www.booking.com/hotel/fr/de-venise.fr....  2 sur 5   \n",
       "83   https://www.booking.com/hotel/fr/la-maison-mon...  2 sur 5   \n",
       "84   https://www.booking.com/hotel/fr/grand-des-bal...  2 sur 5   \n",
       "..                                                 ...      ...   \n",
       "657  https://www.booking.com/hotel/fr/hoteldebordea...  2 sur 5   \n",
       "658  https://www.booking.com/hotel/fr/accostage.fr....  2 sur 5   \n",
       "659  https://www.booking.com/hotel/fr/de-l-ocean-la...  2 sur 5   \n",
       "660  https://www.booking.com/hotel/fr/la-marine-la-...  2 sur 5   \n",
       "661  https://www.booking.com/hotel/fr/appartement-l...  1 sur 5   \n",
       "\n",
       "                                           description        lat       lon  \n",
       "20                                                 NaN        NaN       NaN  \n",
       "81   Situé à Paris, à 500 mètres de la place de la ...  48.851311  2.392413  \n",
       "82   Situé à proximité de la Bastille et de la Gare...  48.845272  2.383612  \n",
       "83   La Maison Montparnasse est située à 10 minutes...  48.832519  2.316845  \n",
       "84   Situé dans le quartier chic de Saint-Germain à...  48.850422  2.339299  \n",
       "..                                                 ...        ...       ...  \n",
       "657  Occupant un bâtiment du XVIIIe siècle, le Hôte...  46.156877 -1.149112  \n",
       "658  L'Accostage Hôtel Plage de la Concurrence est ...  46.157124 -1.166042  \n",
       "659  Construit en 1646, l'Hôtel de l'Océan se trouv...  46.157020 -1.154128  \n",
       "660  L'Hôtel La Marine est situé dans le centre-vil...  46.158159 -1.152671  \n",
       "661  L'Appartement La Rochelle, 2 pièces, 4 personn...  46.141130 -1.165159  \n",
       "\n",
       "[402 rows x 11 columns]"
      ]
     },
     "execution_count": 229,
     "metadata": {},
     "output_type": "execute_result"
    }
   ],
   "source": [
    "filtered_df = df_fichier_final[(df_fichier_final[\"weather\"] == \"Clear\") | (df_fichier_final[\"weather\"] == \"light rain\")]\n",
    "filtered_df"
   ]
  },
  {
   "cell_type": "code",
   "execution_count": 249,
   "metadata": {},
   "outputs": [
    {
     "data": {
      "text/html": [
       "<div>\n",
       "<style scoped>\n",
       "    .dataframe tbody tr th:only-of-type {\n",
       "        vertical-align: middle;\n",
       "    }\n",
       "\n",
       "    .dataframe tbody tr th {\n",
       "        vertical-align: top;\n",
       "    }\n",
       "\n",
       "    .dataframe thead th {\n",
       "        text-align: right;\n",
       "    }\n",
       "</style>\n",
       "<table border=\"1\" class=\"dataframe\">\n",
       "  <thead>\n",
       "    <tr style=\"text-align: right;\">\n",
       "      <th></th>\n",
       "      <th>city</th>\n",
       "      <th>id</th>\n",
       "      <th>temperature</th>\n",
       "      <th>humidity</th>\n",
       "      <th>weather</th>\n",
       "      <th>hotel</th>\n",
       "      <th>website</th>\n",
       "      <th>score</th>\n",
       "      <th>description</th>\n",
       "      <th>lat</th>\n",
       "      <th>lon</th>\n",
       "    </tr>\n",
       "  </thead>\n",
       "  <tbody>\n",
       "    <tr>\n",
       "      <th>0</th>\n",
       "      <td>Bormes les Mimosas</td>\n",
       "      <td>341</td>\n",
       "      <td>23</td>\n",
       "      <td>53</td>\n",
       "      <td>Clear</td>\n",
       "      <td>Hotel des Arts - Cite Bergere</td>\n",
       "      <td>https://www.booking.com/hotel/fr/des-arts-pari...</td>\n",
       "      <td>2 sur 5</td>\n",
       "      <td>L'Hotel des Arts est situé dans le centre de P...</td>\n",
       "      <td>48.871880</td>\n",
       "      <td>2.344655</td>\n",
       "    </tr>\n",
       "    <tr>\n",
       "      <th>1</th>\n",
       "      <td>Aigues Mortes</td>\n",
       "      <td>481</td>\n",
       "      <td>22</td>\n",
       "      <td>53</td>\n",
       "      <td>Clear</td>\n",
       "      <td>None</td>\n",
       "      <td>None</td>\n",
       "      <td>None</td>\n",
       "      <td>None</td>\n",
       "      <td>NaN</td>\n",
       "      <td>NaN</td>\n",
       "    </tr>\n",
       "    <tr>\n",
       "      <th>2</th>\n",
       "      <td>Saintes Maries de la mer</td>\n",
       "      <td>482</td>\n",
       "      <td>22</td>\n",
       "      <td>57</td>\n",
       "      <td>Clear</td>\n",
       "      <td>Hotel Mas des Lys</td>\n",
       "      <td>https://www.booking.com/hotel/fr/mas-des-lys-l...</td>\n",
       "      <td>3 sur 5</td>\n",
       "      <td>L'Hôtel Mas des Lys est situé à Saintes-Maries...</td>\n",
       "      <td>43.474188</td>\n",
       "      <td>4.410206</td>\n",
       "    </tr>\n",
       "    <tr>\n",
       "      <th>3</th>\n",
       "      <td>Marseille</td>\n",
       "      <td>381</td>\n",
       "      <td>22</td>\n",
       "      <td>59</td>\n",
       "      <td>Clear</td>\n",
       "      <td>Love room Jacuzzi Sauna Privatif Marseille</td>\n",
       "      <td>https://www.booking.com/hotel/fr/loft-love-roo...</td>\n",
       "      <td>3 sur 5</td>\n",
       "      <td>Hébergement géré par un particulier</td>\n",
       "      <td>43.296098</td>\n",
       "      <td>5.487121</td>\n",
       "    </tr>\n",
       "    <tr>\n",
       "      <th>4</th>\n",
       "      <td>Collioure</td>\n",
       "      <td>502</td>\n",
       "      <td>21</td>\n",
       "      <td>55</td>\n",
       "      <td>Clear</td>\n",
       "      <td>Grand Hotel des Balcons</td>\n",
       "      <td>https://www.booking.com/hotel/fr/grand-des-bal...</td>\n",
       "      <td>2 sur 5</td>\n",
       "      <td>Situé dans le quartier chic de Saint-Germain à...</td>\n",
       "      <td>48.850422</td>\n",
       "      <td>2.339299</td>\n",
       "    </tr>\n",
       "  </tbody>\n",
       "</table>\n",
       "</div>"
      ],
      "text/plain": [
       "                       city   id  temperature  humidity weather  \\\n",
       "0        Bormes les Mimosas  341           23        53   Clear   \n",
       "1             Aigues Mortes  481           22        53   Clear   \n",
       "2  Saintes Maries de la mer  482           22        57   Clear   \n",
       "3                 Marseille  381           22        59   Clear   \n",
       "4                 Collioure  502           21        55   Clear   \n",
       "\n",
       "                                        hotel  \\\n",
       "0               Hotel des Arts - Cite Bergere   \n",
       "1                                        None   \n",
       "2                           Hotel Mas des Lys   \n",
       "3  Love room Jacuzzi Sauna Privatif Marseille   \n",
       "4                     Grand Hotel des Balcons   \n",
       "\n",
       "                                             website    score  \\\n",
       "0  https://www.booking.com/hotel/fr/des-arts-pari...  2 sur 5   \n",
       "1                                               None     None   \n",
       "2  https://www.booking.com/hotel/fr/mas-des-lys-l...  3 sur 5   \n",
       "3  https://www.booking.com/hotel/fr/loft-love-roo...  3 sur 5   \n",
       "4  https://www.booking.com/hotel/fr/grand-des-bal...  2 sur 5   \n",
       "\n",
       "                                         description        lat       lon  \n",
       "0  L'Hotel des Arts est situé dans le centre de P...  48.871880  2.344655  \n",
       "1                                               None        NaN       NaN  \n",
       "2  L'Hôtel Mas des Lys est situé à Saintes-Maries...  43.474188  4.410206  \n",
       "3                Hébergement géré par un particulier  43.296098  5.487121  \n",
       "4  Situé dans le quartier chic de Saint-Germain à...  48.850422  2.339299  "
      ]
     },
     "execution_count": 249,
     "metadata": {},
     "output_type": "execute_result"
    }
   ],
   "source": [
    "# Best weather\n",
    "filtered_df = df_fichier_final[(df_fichier_final[\"weather\"] == \"Clear\") | (df_fichier_final[\"weather\"] == \"light rain\")]\n",
    "\n",
    "# Then group by 'city', select the first entry, sort by 'temperature', and take the top 5\n",
    "df_top_five = filtered_df.groupby(by='city').first().sort_values(by=['temperature'], ascending=False).reset_index().head(10)\n",
    "\n",
    "df_top_five.head()"
   ]
  },
  {
   "cell_type": "code",
   "execution_count": 250,
   "metadata": {},
   "outputs": [
    {
     "name": "stdout",
     "output_type": "stream",
     "text": [
      "City: Bormes les Mimosas, Temperature : 23°C, Weather: Clear\n",
      "City: Aigues Mortes, Temperature : 22°C, Weather: Clear\n",
      "City: Saintes Maries de la mer, Temperature : 22°C, Weather: Clear\n",
      "City: Marseille, Temperature : 22°C, Weather: Clear\n",
      "City: Collioure, Temperature : 21°C, Weather: Clear\n",
      "City: Avignon, Temperature : 21°C, Weather: Clear\n",
      "City: Nimes, Temperature : 21°C, Weather: Clear\n",
      "City: Uzes, Temperature : 20°C, Weather: Clear\n",
      "City: Colmar, Temperature : 18°C, Weather: Clear\n",
      "City: Eguisheim, Temperature : 18°C, Weather: Clear\n",
      "Les résultats ont été enregistrés dans 'meteo_data.csv'\n"
     ]
    }
   ],
   "source": [
    "csv_filename = \"top_five_weather.csv\"\n",
    "\n",
    "# Créer un fichier CSV\n",
    "with open(csv_filename, 'w', newline='') as csvfile:\n",
    "    fieldnames = ['City', 'Temperature (°C)', 'Weather']\n",
    "    writer = csv.DictWriter(csvfile, fieldnames=fieldnames)\n",
    "    writer.writeheader()\n",
    "\n",
    "    # Parcourir les lignes du DataFrame\n",
    "    for index, row in df_top_five.iterrows():\n",
    "        city = row['city']\n",
    "        temperature = row['temperature']\n",
    "        weather = row['weather']\n",
    "        writer.writerow({'City': city, 'Temperature (°C)': temperature, 'Weather': weather})\n",
    "        print(f\"City: {city}, Temperature : {temperature}°C, Weather: {weather}\")\n",
    "   \n",
    "\n",
    "print(\"Les résultats ont été enregistrés dans 'meteo_data.csv'\")"
   ]
  },
  {
   "cell_type": "markdown",
   "metadata": {},
   "source": [
    "Top 5 map"
   ]
  },
  {
   "cell_type": "code",
   "execution_count": 301,
   "metadata": {},
   "outputs": [
    {
     "data": {
      "text/html": [
       "<div>\n",
       "<style scoped>\n",
       "    .dataframe tbody tr th:only-of-type {\n",
       "        vertical-align: middle;\n",
       "    }\n",
       "\n",
       "    .dataframe tbody tr th {\n",
       "        vertical-align: top;\n",
       "    }\n",
       "\n",
       "    .dataframe thead th {\n",
       "        text-align: right;\n",
       "    }\n",
       "</style>\n",
       "<table border=\"1\" class=\"dataframe\">\n",
       "  <thead>\n",
       "    <tr style=\"text-align: right;\">\n",
       "      <th></th>\n",
       "      <th>city</th>\n",
       "      <th>id</th>\n",
       "      <th>temperature</th>\n",
       "      <th>humidity</th>\n",
       "      <th>weather</th>\n",
       "      <th>hotel</th>\n",
       "      <th>website</th>\n",
       "      <th>score</th>\n",
       "      <th>description</th>\n",
       "      <th>lat</th>\n",
       "      <th>lon</th>\n",
       "    </tr>\n",
       "  </thead>\n",
       "  <tbody>\n",
       "    <tr>\n",
       "      <th>0</th>\n",
       "      <td>Bormes les Mimosas</td>\n",
       "      <td>341</td>\n",
       "      <td>23</td>\n",
       "      <td>53</td>\n",
       "      <td>Clear</td>\n",
       "      <td>Hotel des Arts - Cite Bergere</td>\n",
       "      <td>https://www.booking.com/hotel/fr/des-arts-pari...</td>\n",
       "      <td>2 sur 5</td>\n",
       "      <td>L'Hotel des Arts est situé dans le centre de P...</td>\n",
       "      <td>48.871880</td>\n",
       "      <td>2.344655</td>\n",
       "    </tr>\n",
       "    <tr>\n",
       "      <th>1</th>\n",
       "      <td>Aigues Mortes</td>\n",
       "      <td>481</td>\n",
       "      <td>22</td>\n",
       "      <td>53</td>\n",
       "      <td>Clear</td>\n",
       "      <td>None</td>\n",
       "      <td>None</td>\n",
       "      <td>None</td>\n",
       "      <td>None</td>\n",
       "      <td>NaN</td>\n",
       "      <td>NaN</td>\n",
       "    </tr>\n",
       "    <tr>\n",
       "      <th>2</th>\n",
       "      <td>Saintes Maries de la mer</td>\n",
       "      <td>482</td>\n",
       "      <td>22</td>\n",
       "      <td>57</td>\n",
       "      <td>Clear</td>\n",
       "      <td>Hotel Mas des Lys</td>\n",
       "      <td>https://www.booking.com/hotel/fr/mas-des-lys-l...</td>\n",
       "      <td>3 sur 5</td>\n",
       "      <td>L'Hôtel Mas des Lys est situé à Saintes-Maries...</td>\n",
       "      <td>43.474188</td>\n",
       "      <td>4.410206</td>\n",
       "    </tr>\n",
       "    <tr>\n",
       "      <th>3</th>\n",
       "      <td>Marseille</td>\n",
       "      <td>381</td>\n",
       "      <td>22</td>\n",
       "      <td>59</td>\n",
       "      <td>Clear</td>\n",
       "      <td>Love room Jacuzzi Sauna Privatif Marseille</td>\n",
       "      <td>https://www.booking.com/hotel/fr/loft-love-roo...</td>\n",
       "      <td>3 sur 5</td>\n",
       "      <td>Hébergement géré par un particulier</td>\n",
       "      <td>43.296098</td>\n",
       "      <td>5.487121</td>\n",
       "    </tr>\n",
       "    <tr>\n",
       "      <th>4</th>\n",
       "      <td>Collioure</td>\n",
       "      <td>502</td>\n",
       "      <td>21</td>\n",
       "      <td>55</td>\n",
       "      <td>Clear</td>\n",
       "      <td>Grand Hotel des Balcons</td>\n",
       "      <td>https://www.booking.com/hotel/fr/grand-des-bal...</td>\n",
       "      <td>2 sur 5</td>\n",
       "      <td>Situé dans le quartier chic de Saint-Germain à...</td>\n",
       "      <td>48.850422</td>\n",
       "      <td>2.339299</td>\n",
       "    </tr>\n",
       "  </tbody>\n",
       "</table>\n",
       "</div>"
      ],
      "text/plain": [
       "                       city   id  temperature  humidity weather  \\\n",
       "0        Bormes les Mimosas  341           23        53   Clear   \n",
       "1             Aigues Mortes  481           22        53   Clear   \n",
       "2  Saintes Maries de la mer  482           22        57   Clear   \n",
       "3                 Marseille  381           22        59   Clear   \n",
       "4                 Collioure  502           21        55   Clear   \n",
       "\n",
       "                                        hotel  \\\n",
       "0               Hotel des Arts - Cite Bergere   \n",
       "1                                        None   \n",
       "2                           Hotel Mas des Lys   \n",
       "3  Love room Jacuzzi Sauna Privatif Marseille   \n",
       "4                     Grand Hotel des Balcons   \n",
       "\n",
       "                                             website    score  \\\n",
       "0  https://www.booking.com/hotel/fr/des-arts-pari...  2 sur 5   \n",
       "1                                               None     None   \n",
       "2  https://www.booking.com/hotel/fr/mas-des-lys-l...  3 sur 5   \n",
       "3  https://www.booking.com/hotel/fr/loft-love-roo...  3 sur 5   \n",
       "4  https://www.booking.com/hotel/fr/grand-des-bal...  2 sur 5   \n",
       "\n",
       "                                         description        lat       lon  \n",
       "0  L'Hotel des Arts est situé dans le centre de P...  48.871880  2.344655  \n",
       "1                                               None        NaN       NaN  \n",
       "2  L'Hôtel Mas des Lys est situé à Saintes-Maries...  43.474188  4.410206  \n",
       "3                Hébergement géré par un particulier  43.296098  5.487121  \n",
       "4  Situé dans le quartier chic de Saint-Germain à...  48.850422  2.339299  "
      ]
     },
     "execution_count": 301,
     "metadata": {},
     "output_type": "execute_result"
    }
   ],
   "source": [
    "df_top_five.head()"
   ]
  },
  {
   "cell_type": "code",
   "execution_count": 355,
   "metadata": {},
   "outputs": [
    {
     "data": {
      "application/vnd.plotly.v1+json": {
       "config": {
        "plotlyServerURL": "https://plot.ly"
       },
       "data": [
        {
         "hovertemplate": "humidity=%{marker.size}<br>lat=%{lat}<br>lon=%{lon}<br>temperature=%{marker.color}<extra></extra>",
         "lat": [
          48.87188026,
          null,
          43.47418844,
          43.296098,
          48.85042234,
          43.9454205,
          43.8306183,
          44.0119373,
          48.06517112,
          48.0418229
         ],
         "legendgroup": "",
         "lon": [
          2.34465466,
          null,
          4.41020608,
          5.487121,
          2.33929932,
          4.8042644,
          4.3695378,
          4.4131642,
          7.36302316,
          7.30527944
         ],
         "marker": {
          "color": [
           23,
           22,
           22,
           22,
           21,
           21,
           21,
           20,
           18,
           18
          ],
          "coloraxis": "coloraxis",
          "size": [
           53,
           53,
           57,
           59,
           55,
           64,
           56,
           52,
           86,
           86
          ],
          "sizemode": "area",
          "sizeref": 0.215
         },
         "mode": "markers",
         "name": "",
         "showlegend": false,
         "subplot": "mapbox",
         "type": "scattermapbox"
        }
       ],
       "layout": {
        "coloraxis": {
         "colorbar": {
          "title": {
           "text": "temperature"
          }
         },
         "colorscale": [
          [
           0,
           "rgb(57, 162, 225)"
          ],
          [
           1,
           "rgb(234, 32, 41)"
          ]
         ]
        },
        "height": 510,
        "legend": {
         "itemsizing": "constant",
         "tracegroupgap": 0
        },
        "mapbox": {
         "center": {
          "lat": 45.82083990666667,
          "lon": 4.759616673333333
         },
         "domain": {
          "x": [
           0,
           1
          ],
          "y": [
           0,
           1
          ]
         },
         "style": "open-street-map",
         "zoom": 4
        },
        "margin": {
         "t": 60
        },
        "template": {
         "data": {
          "bar": [
           {
            "error_x": {
             "color": "#2a3f5f"
            },
            "error_y": {
             "color": "#2a3f5f"
            },
            "marker": {
             "line": {
              "color": "#E5ECF6",
              "width": 0.5
             },
             "pattern": {
              "fillmode": "overlay",
              "size": 10,
              "solidity": 0.2
             }
            },
            "type": "bar"
           }
          ],
          "barpolar": [
           {
            "marker": {
             "line": {
              "color": "#E5ECF6",
              "width": 0.5
             },
             "pattern": {
              "fillmode": "overlay",
              "size": 10,
              "solidity": 0.2
             }
            },
            "type": "barpolar"
           }
          ],
          "carpet": [
           {
            "aaxis": {
             "endlinecolor": "#2a3f5f",
             "gridcolor": "white",
             "linecolor": "white",
             "minorgridcolor": "white",
             "startlinecolor": "#2a3f5f"
            },
            "baxis": {
             "endlinecolor": "#2a3f5f",
             "gridcolor": "white",
             "linecolor": "white",
             "minorgridcolor": "white",
             "startlinecolor": "#2a3f5f"
            },
            "type": "carpet"
           }
          ],
          "choropleth": [
           {
            "colorbar": {
             "outlinewidth": 0,
             "ticks": ""
            },
            "type": "choropleth"
           }
          ],
          "contour": [
           {
            "colorbar": {
             "outlinewidth": 0,
             "ticks": ""
            },
            "colorscale": [
             [
              0,
              "#0d0887"
             ],
             [
              0.1111111111111111,
              "#46039f"
             ],
             [
              0.2222222222222222,
              "#7201a8"
             ],
             [
              0.3333333333333333,
              "#9c179e"
             ],
             [
              0.4444444444444444,
              "#bd3786"
             ],
             [
              0.5555555555555556,
              "#d8576b"
             ],
             [
              0.6666666666666666,
              "#ed7953"
             ],
             [
              0.7777777777777778,
              "#fb9f3a"
             ],
             [
              0.8888888888888888,
              "#fdca26"
             ],
             [
              1,
              "#f0f921"
             ]
            ],
            "type": "contour"
           }
          ],
          "contourcarpet": [
           {
            "colorbar": {
             "outlinewidth": 0,
             "ticks": ""
            },
            "type": "contourcarpet"
           }
          ],
          "heatmap": [
           {
            "colorbar": {
             "outlinewidth": 0,
             "ticks": ""
            },
            "colorscale": [
             [
              0,
              "#0d0887"
             ],
             [
              0.1111111111111111,
              "#46039f"
             ],
             [
              0.2222222222222222,
              "#7201a8"
             ],
             [
              0.3333333333333333,
              "#9c179e"
             ],
             [
              0.4444444444444444,
              "#bd3786"
             ],
             [
              0.5555555555555556,
              "#d8576b"
             ],
             [
              0.6666666666666666,
              "#ed7953"
             ],
             [
              0.7777777777777778,
              "#fb9f3a"
             ],
             [
              0.8888888888888888,
              "#fdca26"
             ],
             [
              1,
              "#f0f921"
             ]
            ],
            "type": "heatmap"
           }
          ],
          "heatmapgl": [
           {
            "colorbar": {
             "outlinewidth": 0,
             "ticks": ""
            },
            "colorscale": [
             [
              0,
              "#0d0887"
             ],
             [
              0.1111111111111111,
              "#46039f"
             ],
             [
              0.2222222222222222,
              "#7201a8"
             ],
             [
              0.3333333333333333,
              "#9c179e"
             ],
             [
              0.4444444444444444,
              "#bd3786"
             ],
             [
              0.5555555555555556,
              "#d8576b"
             ],
             [
              0.6666666666666666,
              "#ed7953"
             ],
             [
              0.7777777777777778,
              "#fb9f3a"
             ],
             [
              0.8888888888888888,
              "#fdca26"
             ],
             [
              1,
              "#f0f921"
             ]
            ],
            "type": "heatmapgl"
           }
          ],
          "histogram": [
           {
            "marker": {
             "pattern": {
              "fillmode": "overlay",
              "size": 10,
              "solidity": 0.2
             }
            },
            "type": "histogram"
           }
          ],
          "histogram2d": [
           {
            "colorbar": {
             "outlinewidth": 0,
             "ticks": ""
            },
            "colorscale": [
             [
              0,
              "#0d0887"
             ],
             [
              0.1111111111111111,
              "#46039f"
             ],
             [
              0.2222222222222222,
              "#7201a8"
             ],
             [
              0.3333333333333333,
              "#9c179e"
             ],
             [
              0.4444444444444444,
              "#bd3786"
             ],
             [
              0.5555555555555556,
              "#d8576b"
             ],
             [
              0.6666666666666666,
              "#ed7953"
             ],
             [
              0.7777777777777778,
              "#fb9f3a"
             ],
             [
              0.8888888888888888,
              "#fdca26"
             ],
             [
              1,
              "#f0f921"
             ]
            ],
            "type": "histogram2d"
           }
          ],
          "histogram2dcontour": [
           {
            "colorbar": {
             "outlinewidth": 0,
             "ticks": ""
            },
            "colorscale": [
             [
              0,
              "#0d0887"
             ],
             [
              0.1111111111111111,
              "#46039f"
             ],
             [
              0.2222222222222222,
              "#7201a8"
             ],
             [
              0.3333333333333333,
              "#9c179e"
             ],
             [
              0.4444444444444444,
              "#bd3786"
             ],
             [
              0.5555555555555556,
              "#d8576b"
             ],
             [
              0.6666666666666666,
              "#ed7953"
             ],
             [
              0.7777777777777778,
              "#fb9f3a"
             ],
             [
              0.8888888888888888,
              "#fdca26"
             ],
             [
              1,
              "#f0f921"
             ]
            ],
            "type": "histogram2dcontour"
           }
          ],
          "mesh3d": [
           {
            "colorbar": {
             "outlinewidth": 0,
             "ticks": ""
            },
            "type": "mesh3d"
           }
          ],
          "parcoords": [
           {
            "line": {
             "colorbar": {
              "outlinewidth": 0,
              "ticks": ""
             }
            },
            "type": "parcoords"
           }
          ],
          "pie": [
           {
            "automargin": true,
            "type": "pie"
           }
          ],
          "scatter": [
           {
            "fillpattern": {
             "fillmode": "overlay",
             "size": 10,
             "solidity": 0.2
            },
            "type": "scatter"
           }
          ],
          "scatter3d": [
           {
            "line": {
             "colorbar": {
              "outlinewidth": 0,
              "ticks": ""
             }
            },
            "marker": {
             "colorbar": {
              "outlinewidth": 0,
              "ticks": ""
             }
            },
            "type": "scatter3d"
           }
          ],
          "scattercarpet": [
           {
            "marker": {
             "colorbar": {
              "outlinewidth": 0,
              "ticks": ""
             }
            },
            "type": "scattercarpet"
           }
          ],
          "scattergeo": [
           {
            "marker": {
             "colorbar": {
              "outlinewidth": 0,
              "ticks": ""
             }
            },
            "type": "scattergeo"
           }
          ],
          "scattergl": [
           {
            "marker": {
             "colorbar": {
              "outlinewidth": 0,
              "ticks": ""
             }
            },
            "type": "scattergl"
           }
          ],
          "scattermapbox": [
           {
            "marker": {
             "colorbar": {
              "outlinewidth": 0,
              "ticks": ""
             }
            },
            "type": "scattermapbox"
           }
          ],
          "scatterpolar": [
           {
            "marker": {
             "colorbar": {
              "outlinewidth": 0,
              "ticks": ""
             }
            },
            "type": "scatterpolar"
           }
          ],
          "scatterpolargl": [
           {
            "marker": {
             "colorbar": {
              "outlinewidth": 0,
              "ticks": ""
             }
            },
            "type": "scatterpolargl"
           }
          ],
          "scatterternary": [
           {
            "marker": {
             "colorbar": {
              "outlinewidth": 0,
              "ticks": ""
             }
            },
            "type": "scatterternary"
           }
          ],
          "surface": [
           {
            "colorbar": {
             "outlinewidth": 0,
             "ticks": ""
            },
            "colorscale": [
             [
              0,
              "#0d0887"
             ],
             [
              0.1111111111111111,
              "#46039f"
             ],
             [
              0.2222222222222222,
              "#7201a8"
             ],
             [
              0.3333333333333333,
              "#9c179e"
             ],
             [
              0.4444444444444444,
              "#bd3786"
             ],
             [
              0.5555555555555556,
              "#d8576b"
             ],
             [
              0.6666666666666666,
              "#ed7953"
             ],
             [
              0.7777777777777778,
              "#fb9f3a"
             ],
             [
              0.8888888888888888,
              "#fdca26"
             ],
             [
              1,
              "#f0f921"
             ]
            ],
            "type": "surface"
           }
          ],
          "table": [
           {
            "cells": {
             "fill": {
              "color": "#EBF0F8"
             },
             "line": {
              "color": "white"
             }
            },
            "header": {
             "fill": {
              "color": "#C8D4E3"
             },
             "line": {
              "color": "white"
             }
            },
            "type": "table"
           }
          ]
         },
         "layout": {
          "annotationdefaults": {
           "arrowcolor": "#2a3f5f",
           "arrowhead": 0,
           "arrowwidth": 1
          },
          "autotypenumbers": "strict",
          "coloraxis": {
           "colorbar": {
            "outlinewidth": 0,
            "ticks": ""
           }
          },
          "colorscale": {
           "diverging": [
            [
             0,
             "#8e0152"
            ],
            [
             0.1,
             "#c51b7d"
            ],
            [
             0.2,
             "#de77ae"
            ],
            [
             0.3,
             "#f1b6da"
            ],
            [
             0.4,
             "#fde0ef"
            ],
            [
             0.5,
             "#f7f7f7"
            ],
            [
             0.6,
             "#e6f5d0"
            ],
            [
             0.7,
             "#b8e186"
            ],
            [
             0.8,
             "#7fbc41"
            ],
            [
             0.9,
             "#4d9221"
            ],
            [
             1,
             "#276419"
            ]
           ],
           "sequential": [
            [
             0,
             "#0d0887"
            ],
            [
             0.1111111111111111,
             "#46039f"
            ],
            [
             0.2222222222222222,
             "#7201a8"
            ],
            [
             0.3333333333333333,
             "#9c179e"
            ],
            [
             0.4444444444444444,
             "#bd3786"
            ],
            [
             0.5555555555555556,
             "#d8576b"
            ],
            [
             0.6666666666666666,
             "#ed7953"
            ],
            [
             0.7777777777777778,
             "#fb9f3a"
            ],
            [
             0.8888888888888888,
             "#fdca26"
            ],
            [
             1,
             "#f0f921"
            ]
           ],
           "sequentialminus": [
            [
             0,
             "#0d0887"
            ],
            [
             0.1111111111111111,
             "#46039f"
            ],
            [
             0.2222222222222222,
             "#7201a8"
            ],
            [
             0.3333333333333333,
             "#9c179e"
            ],
            [
             0.4444444444444444,
             "#bd3786"
            ],
            [
             0.5555555555555556,
             "#d8576b"
            ],
            [
             0.6666666666666666,
             "#ed7953"
            ],
            [
             0.7777777777777778,
             "#fb9f3a"
            ],
            [
             0.8888888888888888,
             "#fdca26"
            ],
            [
             1,
             "#f0f921"
            ]
           ]
          },
          "colorway": [
           "#636efa",
           "#EF553B",
           "#00cc96",
           "#ab63fa",
           "#FFA15A",
           "#19d3f3",
           "#FF6692",
           "#B6E880",
           "#FF97FF",
           "#FECB52"
          ],
          "font": {
           "color": "#2a3f5f"
          },
          "geo": {
           "bgcolor": "white",
           "lakecolor": "white",
           "landcolor": "#E5ECF6",
           "showlakes": true,
           "showland": true,
           "subunitcolor": "white"
          },
          "hoverlabel": {
           "align": "left"
          },
          "hovermode": "closest",
          "mapbox": {
           "style": "light"
          },
          "paper_bgcolor": "white",
          "plot_bgcolor": "#E5ECF6",
          "polar": {
           "angularaxis": {
            "gridcolor": "white",
            "linecolor": "white",
            "ticks": ""
           },
           "bgcolor": "#E5ECF6",
           "radialaxis": {
            "gridcolor": "white",
            "linecolor": "white",
            "ticks": ""
           }
          },
          "scene": {
           "xaxis": {
            "backgroundcolor": "#E5ECF6",
            "gridcolor": "white",
            "gridwidth": 2,
            "linecolor": "white",
            "showbackground": true,
            "ticks": "",
            "zerolinecolor": "white"
           },
           "yaxis": {
            "backgroundcolor": "#E5ECF6",
            "gridcolor": "white",
            "gridwidth": 2,
            "linecolor": "white",
            "showbackground": true,
            "ticks": "",
            "zerolinecolor": "white"
           },
           "zaxis": {
            "backgroundcolor": "#E5ECF6",
            "gridcolor": "white",
            "gridwidth": 2,
            "linecolor": "white",
            "showbackground": true,
            "ticks": "",
            "zerolinecolor": "white"
           }
          },
          "shapedefaults": {
           "line": {
            "color": "#2a3f5f"
           }
          },
          "ternary": {
           "aaxis": {
            "gridcolor": "white",
            "linecolor": "white",
            "ticks": ""
           },
           "baxis": {
            "gridcolor": "white",
            "linecolor": "white",
            "ticks": ""
           },
           "bgcolor": "#E5ECF6",
           "caxis": {
            "gridcolor": "white",
            "linecolor": "white",
            "ticks": ""
           }
          },
          "title": {
           "x": 0.05
          },
          "xaxis": {
           "automargin": true,
           "gridcolor": "white",
           "linecolor": "white",
           "ticks": "",
           "title": {
            "standoff": 15
           },
           "zerolinecolor": "white",
           "zerolinewidth": 2
          },
          "yaxis": {
           "automargin": true,
           "gridcolor": "white",
           "linecolor": "white",
           "ticks": "",
           "title": {
            "standoff": 15
           },
           "zerolinecolor": "white",
           "zerolinewidth": 2
          }
         }
        },
        "width": 700
       }
      }
     },
     "metadata": {},
     "output_type": "display_data"
    }
   ],
   "source": [
    "colorscale = [\n",
    "[0, 'rgb(57, 162, 225)'],\n",
    "[1, 'rgb(234, 32, 41)']\n",
    "]\n",
    "fig = px.scatter_mapbox(df_top_five, lat=\"lat\", lon=\"lon\", color=\"temperature\", size=\"humidity\",\n",
    "                         mapbox_style=\"open-street-map\", zoom = 4, color_continuous_scale=colorscale, height=510, width=700)\n",
    "fig.show()"
   ]
  },
  {
   "cell_type": "markdown",
   "metadata": {},
   "source": [
    "Top 20 map"
   ]
  },
  {
   "cell_type": "code",
   "execution_count": 293,
   "metadata": {},
   "outputs": [],
   "source": [
    "pd.set_option('display.max_rows', None)"
   ]
  },
  {
   "cell_type": "code",
   "execution_count": 339,
   "metadata": {},
   "outputs": [
    {
     "data": {
      "text/html": [
       "<div>\n",
       "<style scoped>\n",
       "    .dataframe tbody tr th:only-of-type {\n",
       "        vertical-align: middle;\n",
       "    }\n",
       "\n",
       "    .dataframe tbody tr th {\n",
       "        vertical-align: top;\n",
       "    }\n",
       "\n",
       "    .dataframe thead th {\n",
       "        text-align: right;\n",
       "    }\n",
       "</style>\n",
       "<table border=\"1\" class=\"dataframe\">\n",
       "  <thead>\n",
       "    <tr style=\"text-align: right;\">\n",
       "      <th></th>\n",
       "      <th>city</th>\n",
       "      <th>hotel</th>\n",
       "      <th>score</th>\n",
       "      <th>lat</th>\n",
       "      <th>lon</th>\n",
       "      <th>temperature</th>\n",
       "    </tr>\n",
       "  </thead>\n",
       "  <tbody>\n",
       "    <tr>\n",
       "      <th>181</th>\n",
       "      <td>Colmar</td>\n",
       "      <td>Greet Hotel Colmar</td>\n",
       "      <td>3 sur 5</td>\n",
       "      <td>48.06517112</td>\n",
       "      <td>7.36302316</td>\n",
       "      <td>18</td>\n",
       "    </tr>\n",
       "    <tr>\n",
       "      <th>182</th>\n",
       "      <td>Colmar</td>\n",
       "      <td>Le grand gîte du Sorcier ! Logement magique</td>\n",
       "      <td>3 sur 5</td>\n",
       "      <td>48.06972050</td>\n",
       "      <td>7.35878970</td>\n",
       "      <td>18</td>\n",
       "    </tr>\n",
       "    <tr>\n",
       "      <th>183</th>\n",
       "      <td>Colmar</td>\n",
       "      <td>Aux Bijoux de Colmar - Le Saphir - 1 PARKING G...</td>\n",
       "      <td>3 sur 5</td>\n",
       "      <td>48.07733814</td>\n",
       "      <td>7.35609418</td>\n",
       "      <td>18</td>\n",
       "    </tr>\n",
       "    <tr>\n",
       "      <th>184</th>\n",
       "      <td>Colmar</td>\n",
       "      <td>Hôtel Turenne</td>\n",
       "      <td>3 sur 5</td>\n",
       "      <td>48.07192026</td>\n",
       "      <td>7.36053944</td>\n",
       "      <td>18</td>\n",
       "    </tr>\n",
       "    <tr>\n",
       "      <th>185</th>\n",
       "      <td>Colmar</td>\n",
       "      <td>Bel appartement neuf garage, parking et terrasse</td>\n",
       "      <td>3 sur 5</td>\n",
       "      <td>48.06907980</td>\n",
       "      <td>7.37845130</td>\n",
       "      <td>18</td>\n",
       "    </tr>\n",
       "  </tbody>\n",
       "</table>\n",
       "</div>"
      ],
      "text/plain": [
       "       city                                              hotel    score  \\\n",
       "181  Colmar                                 Greet Hotel Colmar  3 sur 5   \n",
       "182  Colmar        Le grand gîte du Sorcier ! Logement magique  3 sur 5   \n",
       "183  Colmar  Aux Bijoux de Colmar - Le Saphir - 1 PARKING G...  3 sur 5   \n",
       "184  Colmar                                      Hôtel Turenne  3 sur 5   \n",
       "185  Colmar   Bel appartement neuf garage, parking et terrasse  3 sur 5   \n",
       "\n",
       "             lat         lon  temperature  \n",
       "181  48.06517112  7.36302316           18  \n",
       "182  48.06972050  7.35878970           18  \n",
       "183  48.07733814  7.35609418           18  \n",
       "184  48.07192026  7.36053944           18  \n",
       "185  48.06907980  7.37845130           18  "
      ]
     },
     "execution_count": 339,
     "metadata": {},
     "output_type": "execute_result"
    }
   ],
   "source": [
    "df_top_20 =  df_final[df_final['city'].isin(df_top_five.loc[:,'city'].to_list())].loc[1:,['city', 'hotel', 'score', 'lat', 'lon', 'temperature']]\n",
    "df_top_20.head()"
   ]
  },
  {
   "cell_type": "code",
   "execution_count": 340,
   "metadata": {},
   "outputs": [
    {
     "data": {
      "text/html": [
       "<div>\n",
       "<style scoped>\n",
       "    .dataframe tbody tr th:only-of-type {\n",
       "        vertical-align: middle;\n",
       "    }\n",
       "\n",
       "    .dataframe tbody tr th {\n",
       "        vertical-align: top;\n",
       "    }\n",
       "\n",
       "    .dataframe thead th {\n",
       "        text-align: right;\n",
       "    }\n",
       "</style>\n",
       "<table border=\"1\" class=\"dataframe\">\n",
       "  <thead>\n",
       "    <tr style=\"text-align: right;\">\n",
       "      <th></th>\n",
       "      <th>city</th>\n",
       "      <th>hotel</th>\n",
       "      <th>score</th>\n",
       "      <th>lat</th>\n",
       "      <th>lon</th>\n",
       "      <th>temperature</th>\n",
       "    </tr>\n",
       "  </thead>\n",
       "  <tbody>\n",
       "    <tr>\n",
       "      <th>181</th>\n",
       "      <td>Colmar</td>\n",
       "      <td>Greet Hotel Colmar</td>\n",
       "      <td>3.0</td>\n",
       "      <td>48.06517112</td>\n",
       "      <td>7.36302316</td>\n",
       "      <td>18</td>\n",
       "    </tr>\n",
       "    <tr>\n",
       "      <th>182</th>\n",
       "      <td>Colmar</td>\n",
       "      <td>Le grand gîte du Sorcier ! Logement magique</td>\n",
       "      <td>3.0</td>\n",
       "      <td>48.06972050</td>\n",
       "      <td>7.35878970</td>\n",
       "      <td>18</td>\n",
       "    </tr>\n",
       "    <tr>\n",
       "      <th>183</th>\n",
       "      <td>Colmar</td>\n",
       "      <td>Aux Bijoux de Colmar - Le Saphir - 1 PARKING G...</td>\n",
       "      <td>3.0</td>\n",
       "      <td>48.07733814</td>\n",
       "      <td>7.35609418</td>\n",
       "      <td>18</td>\n",
       "    </tr>\n",
       "    <tr>\n",
       "      <th>184</th>\n",
       "      <td>Colmar</td>\n",
       "      <td>Hôtel Turenne</td>\n",
       "      <td>3.0</td>\n",
       "      <td>48.07192026</td>\n",
       "      <td>7.36053944</td>\n",
       "      <td>18</td>\n",
       "    </tr>\n",
       "    <tr>\n",
       "      <th>185</th>\n",
       "      <td>Colmar</td>\n",
       "      <td>Bel appartement neuf garage, parking et terrasse</td>\n",
       "      <td>3.0</td>\n",
       "      <td>48.06907980</td>\n",
       "      <td>7.37845130</td>\n",
       "      <td>18</td>\n",
       "    </tr>\n",
       "  </tbody>\n",
       "</table>\n",
       "</div>"
      ],
      "text/plain": [
       "       city                                              hotel  score  \\\n",
       "181  Colmar                                 Greet Hotel Colmar    3.0   \n",
       "182  Colmar        Le grand gîte du Sorcier ! Logement magique    3.0   \n",
       "183  Colmar  Aux Bijoux de Colmar - Le Saphir - 1 PARKING G...    3.0   \n",
       "184  Colmar                                      Hôtel Turenne    3.0   \n",
       "185  Colmar   Bel appartement neuf garage, parking et terrasse    3.0   \n",
       "\n",
       "             lat         lon  temperature  \n",
       "181  48.06517112  7.36302316           18  \n",
       "182  48.06972050  7.35878970           18  \n",
       "183  48.07733814  7.35609418           18  \n",
       "184  48.07192026  7.36053944           18  \n",
       "185  48.06907980  7.37845130           18  "
      ]
     },
     "execution_count": 340,
     "metadata": {},
     "output_type": "execute_result"
    }
   ],
   "source": [
    "df_top_20['score'] = df_top_20['score'].astype(str).str[0]\n",
    "df_top_20['score'] = pd.to_numeric(df_top_20['score'], errors='coerce')\n",
    "df_top_20.head()\n"
   ]
  },
  {
   "cell_type": "code",
   "execution_count": 353,
   "metadata": {},
   "outputs": [],
   "source": [
    "df_top_20['lat'] = pd.to_numeric(df_top_20['lat'], errors='coerce')\n",
    "df_top_20['lon'] = pd.to_numeric(df_top_20['lon'], errors='coerce')"
   ]
  },
  {
   "cell_type": "code",
   "execution_count": 367,
   "metadata": {},
   "outputs": [
    {
     "data": {
      "application/vnd.plotly.v1+json": {
       "config": {
        "plotlyServerURL": "https://plot.ly"
       },
       "data": [
        {
         "customdata": [
          [
           "Colmar",
           "Greet Hotel Colmar",
           48.06517112,
           7.36302316
          ],
          [
           "Colmar",
           "Le grand gîte du Sorcier ! Logement magique",
           48.0697205,
           7.3587897
          ],
          [
           "Colmar",
           "Aux Bijoux de Colmar - Le Saphir - 1 PARKING GRATUIT",
           48.07733814,
           7.35609418
          ],
          [
           "Colmar",
           "Hôtel Turenne",
           48.07192026,
           7.36053944
          ],
          [
           "Colmar",
           "Bel appartement neuf garage, parking et terrasse",
           48.0690798,
           7.3784513
          ],
          [
           "Colmar",
           "La Mariana - Old Town Cosy Apartments",
           48.078129,
           7.361633
          ],
          [
           "Colmar",
           "HAPPY MAMA COLMAR with PARKING",
           48.0800695,
           7.3565921
          ],
          [
           "Colmar",
           "Deluxe Design - City Center Cosy Apartments",
           48.07536124,
           7.3470819
          ],
          [
           "Colmar",
           "Appartement de Prestige au centre avec jardin privé",
           48.077116,
           7.3667839
          ],
          [
           "Colmar",
           "LUCKY PLACE - PARKING - CENTRE - BALCON",
           48.0819572,
           7.3535124
          ],
          [
           "Colmar",
           "Cosy Corner",
           48.07198787,
           7.36855002
          ],
          [
           "Colmar",
           "Colmar Hotel",
           48.07080074,
           7.34638973
          ],
          [
           "Colmar",
           "Résidence Le Parc COLMAR",
           48.086305,
           7.361828
          ],
          [
           "Colmar",
           "Les Souvenirs d'Alsace",
           48.076806,
           7.3655232
          ],
          [
           "Colmar",
           "Gite l'Ame d'Antan",
           48.07519738,
           7.35821951
          ],
          [
           "Colmar",
           "Le gîte du Moulin",
           48.08156846,
           7.35212973
          ],
          [
           "Colmar",
           "Hotel Arc-En-Ciel Colmar Contact Hotel",
           48.08745399,
           7.36068696
          ],
          [
           "Colmar",
           "Les Hauts de Colmar",
           48.07856728,
           7.35292046
          ],
          [
           "Colmar",
           "Sous les toits du Zinc - Climatisé",
           48.074822,
           7.357553
          ],
          [
           "Colmar",
           "Rose",
           48.08619471,
           7.33953695
          ],
          [
           "Eguisheim",
           "Gîte le Petit Muscat à Eguisheim",
           48.0418229,
           7.30527944
          ],
          [
           "Eguisheim",
           "Gîte de charme sur les remparts",
           48.0437864,
           7.3057051
          ],
          [
           "Eguisheim",
           "notre maison à Eguisheim",
           48.041599,
           7.306161
          ],
          [
           "Eguisheim",
           "L'Hostellerie du Château",
           48.04242043,
           7.30631925
          ],
          [
           "Eguisheim",
           "Gite Le Petit Malsbach Eguisheim",
           48.04224054,
           7.3127051
          ],
          [
           "Eguisheim",
           "Résidence Vénus",
           48.04363894,
           7.30606377
          ],
          [
           "Eguisheim",
           "Résidence Pierre & Vacances Le Clos d'Eguisheim",
           48.04502734,
           7.31185466
          ],
          [
           "Eguisheim",
           "Chambre Pin Up Wings",
           48.0424275,
           7.308131
          ],
          [
           "Eguisheim",
           "Les chambres du domaine",
           48.042963,
           7.307216
          ],
          [
           "Eguisheim",
           "Hôtel L'Auberge Alsacienne",
           48.04223841,
           7.30916776
          ],
          [
           "Eguisheim",
           "L Oriel du Rempart Nord",
           48.0437022,
           7.30599767
          ],
          [
           "Eguisheim",
           "Au nid des remparts à Eguisheim",
           48.0430187,
           7.3043542
          ],
          [
           "Eguisheim",
           "Eguisheim village préféré des français grand studio",
           48.0476831,
           7.3132915
          ],
          [
           "Eguisheim",
           "Fleur de Vigne",
           48.0461134,
           7.3051632
          ],
          [
           "Eguisheim",
           "Gite St Léon à Eguisheim",
           48.0428645,
           7.3061238
          ],
          [
           "Eguisheim",
           "Chez Jade et Ambre",
           48.0437697,
           7.3054
          ],
          [
           "Eguisheim",
           "Le Nature d'Eguisheim",
           48.0427072,
           7.3044255
          ],
          [
           "Eguisheim",
           "Au pied des remparts à Eguisheim",
           48.043006,
           7.3043162
          ],
          [
           "Eguisheim",
           "Auberge des Trois Châteaux",
           48.0430391,
           7.30580762
          ],
          [
           "Eguisheim",
           "Hotel Colmar Vignes Eguisheim",
           48.04327133,
           7.30412185
          ],
          [
           "Bormes les Mimosas",
           "Hotel des Arts - Cite Bergere",
           48.87188026,
           2.34465466
          ],
          [
           "Bormes les Mimosas",
           "Hotel Audran",
           48.88532693,
           2.33602367
          ],
          [
           "Bormes les Mimosas",
           "Hôtel De Venise",
           48.84527191,
           2.3836121
          ],
          [
           "Bormes les Mimosas",
           "Hotel De La Cite Rougemont",
           48.87209209,
           2.3452886
          ],
          [
           "Bormes les Mimosas",
           "Boutik Boheme L'Atelier Père Lachaise",
           48.8666892,
           2.3853924
          ],
          [
           "Bormes les Mimosas",
           "Beautiful 1BR6P - Montorgueil RDC",
           48.8667668,
           2.351618
          ],
          [
           "Bormes les Mimosas",
           "District Nation",
           48.8513107,
           2.3924126
          ],
          [
           "Bormes les Mimosas",
           "Hotel Diana Paris",
           48.84989342,
           2.34510066
          ],
          [
           "Bormes les Mimosas",
           "HIGHSTAY - Luxury Serviced Apartments - Le Marais Area",
           48.8630868,
           2.3565614
          ],
          [
           "Bormes les Mimosas",
           "The Sleeping Lion",
           48.852282,
           2.362531
          ],
          [
           "Bormes les Mimosas",
           "NOTRE DAME - STYLISH APARTMENT",
           48.853042,
           2.344922
          ],
          [
           "Bormes les Mimosas",
           "Boutik Boheme - Triplex Monceau",
           48.8848111,
           2.316965
          ],
          [
           "Bormes les Mimosas",
           "Boutik Boheme Le jardin Montmartre",
           48.886861,
           2.339863
          ],
          [
           "Bormes les Mimosas",
           "Newly Refurbished Home in the Heart of Paris",
           48.8674554,
           2.33622
          ],
          [
           "Bormes les Mimosas",
           "Boutik Boheme Le Loft Batignolles",
           48.8884738,
           2.3207222
          ],
          [
           "Bormes les Mimosas",
           "Apt full of charm with a terrace -15th Paris",
           48.8431455,
           2.2998398
          ],
          [
           "Bormes les Mimosas",
           "GuestReady - Modern flat near Latin Quarter!",
           48.8317994,
           2.3467405
          ],
          [
           "Bormes les Mimosas",
           "Résidence Palais Étoile",
           48.87838937,
           2.28467211
          ],
          [
           "Bormes les Mimosas",
           "Hotel Zora",
           48.86645888,
           2.34674074
          ],
          [
           "Bormes les Mimosas",
           "Hôtel Marignan",
           48.8499233,
           2.3465272
          ],
          [
           "Marseille",
           "Love room Jacuzzi Sauna Privatif Marseille",
           43.296098,
           5.487121
          ],
          [
           "Marseille",
           "Villa d'architecte avec piscine et grand jardin",
           43.35369652,
           5.43803366
          ],
          [
           "Marseille",
           "CMG - Marseille / Opéra",
           43.293005,
           5.3768201
          ],
          [
           "Marseille",
           "Côté mer au Vieux-Port Marseille proche Flamme olympique et Jeux olympiques 2024 appartement jusqu'à 6 personnes",
           43.2967904,
           5.3664856
          ],
          [
           "Marseille",
           "Appartement tout équipé",
           43.274493,
           5.4101133
          ],
          [
           "Marseille",
           "Casa Cacao près plage et vélodrome",
           43.2711791,
           5.3831269
          ],
          [
           "Marseille",
           "Vieux Port République Cannebiére",
           43.29594971,
           5.37455259
          ],
          [
           "Marseille",
           "Staycity Aparthotels Marseille Centre Vieux Port",
           43.30046625,
           5.37444157
          ],
          [
           "Marseille",
           "Marseillement votre",
           43.30020105,
           5.38260245
          ],
          [
           "Marseille",
           "Superbe appart 3 p, 10 mn de la plage avec piscine et parking",
           43.2505303,
           5.3814817
          ],
          [
           "Marseille",
           "SUD PASSION - Sakakini - calme - 3 chambres - lumineux - fibre",
           43.299162,
           5.401543
          ],
          [
           "Marseille",
           "Le Borély: Appartement climatisé avec 2 chambres, à 800m de la plage",
           43.2552348,
           5.3835876
          ],
          [
           "Marseille",
           "Appartement Vieux-Port de Marseille - Davso",
           43.2933393,
           5.3765135
          ],
          [
           "Marseille",
           "Marseille City Chambres&Appartements",
           43.30195653,
           5.37229434
          ],
          [
           "Marseille",
           "La LUNA of MARSEILLE - VILLA D'ARCHITECTE B&B",
           43.27857845,
           5.35831802
          ],
          [
           "Marseille",
           "Elana - Bel appartement dans la quartier du Camas",
           43.2971674,
           5.3912804
          ],
          [
           "Marseille",
           "NOCNOC - L'Haussmanien",
           43.300655,
           5.381292
          ],
          [
           "Marseille",
           "Hôtel Hermès",
           43.29655283,
           5.37188329
          ],
          [
           "Marseille",
           "B&B HOTEL Marseille Centre La Timone",
           43.29152194,
           5.40403225
          ],
          [
           "Marseille",
           "Apartment L'Atelier by Interhome",
           43.2963499,
           5.3656487
          ],
          [
           "Avignon",
           "Le Saint-Laurent - Parking Gratuit - Terrasse - Wi-Fi",
           43.9454205,
           4.8042644
          ],
          [
           "Avignon",
           "L'Olivier - 2 terrasses - Clim AC - WIFI - PROCHE THEATRES",
           43.9457524,
           4.8140567
          ],
          [
           "Avignon",
           "L'Oriflamme",
           43.9496041,
           4.8115416
          ],
          [
           "Avignon",
           "Maison d'hôtes L'îlot bambou",
           43.95108984,
           4.79801933
          ],
          [
           "Avignon",
           "Duplex-Ceiling height 1,9m-Free private parking-Netflix-Self check in !! Duplex climatisé-Hauteur sous plafond 1,9m-Parking privé gratuit-Netflix-Arrivée autonome !!",
           43.9465116,
           4.8035118
          ],
          [
           "Avignon",
           "Le Magnan",
           43.94362946,
           4.81217131
          ],
          [
           "Avignon",
           "My Pad Provence 2",
           43.95140587,
           4.80340572
          ],
          [
           "Avignon",
           "Maison XIXe et Jardin en Intramuros",
           43.95034438,
           4.81153785
          ],
          [
           "Avignon",
           "Maison Rascas",
           43.9503586,
           4.8167692
          ],
          [
           "Avignon",
           "CLIMATISATION-Hypercentre-PARKING-COSY CARNOT-AVIGNONSMILE",
           43.94917757,
           4.81083119
          ],
          [
           "Avignon",
           "Les petits poissons",
           43.9361955,
           4.82600075
          ],
          [
           "Avignon",
           "Chambre et appartements entre le Pont d Avignon et le Palais des Papes",
           43.9507095,
           4.8033843
          ],
          [
           "Avignon",
           "CLIM - 4 chambres 4 salles de bains - Spacieux Appartement - 113m",
           43.9431856,
           4.8194008
          ],
          [
           "Avignon",
           "Au cœur des Papes, dans bâtisse de charme studios & appartements en cœur de ville",
           43.9461706,
           4.8101887
          ],
          [
           "Avignon",
           "LE PETIT AVIGNONNAIS - APHRODITE - INTRAMUROS - CENTER -",
           43.9451596,
           4.8081572
          ],
          [
           "Avignon",
           "Aventure Avignonnaise - AUTHENTIQUE - INTRAMUROS - CITY CENTER",
           43.94459,
           4.810002
          ],
          [
           "Avignon",
           "Aventure Avignonnaise - ROOFTOP TERRASSE - INTRAMUROS - CITY CENTER",
           43.94459,
           4.810002
          ],
          [
           "Avignon",
           "La BONNETERIE - LES HALLES - HYPERCENTRE - AVIGNONSMILE",
           43.9469767,
           4.8102906
          ],
          [
           "Avignon",
           "55 VERNET",
           43.947347,
           4.803461
          ],
          [
           "Avignon",
           "LE PALAIS DES PAPES - AVIGNONSMILE",
           43.95130865,
           4.81073503
          ],
          [
           "Uzes",
           "appartement en résidence très bien situé",
           44.0119373,
           4.4131642
          ],
          [
           "Uzes",
           "Résidence La Bastide d'Uzes",
           44.001412,
           4.419783
          ],
          [
           "Uzes",
           "GOLF CLUB D'UZES",
           43.982419,
           4.437963
          ],
          [
           "Uzes",
           "La Taverne",
           44.014659,
           4.4200515
          ],
          [
           "Uzes",
           "Le Pré Aux Cigales",
           44.01544515,
           4.40987
          ],
          [
           "Uzes",
           "La Casita - Studio Confort avec Parking privé - Lit douillet - Centre Uzès, Pont du Gard",
           44.0121521,
           4.4169701
          ],
          [
           "Uzes",
           "Les Gîtes de Cayenne - Gîte Olivia",
           44.0121786,
           4.4063181
          ],
          [
           "Uzes",
           "Appartement Ulysse",
           44.0132239,
           4.4222682
          ],
          [
           "Uzes",
           "Le Cherche Midi - Appartement centre historique d'Uzès",
           44.0127104,
           4.4185003
          ],
          [
           "Uzes",
           "Appartement moderne central avec piscine, garage privé et terrasse sud",
           44.0127652,
           4.4143231
          ],
          [
           "Uzes",
           "Maison de Roche-Uzès Centre Historique L' Ucetia",
           44.0112246,
           4.4199226
          ],
          [
           "Uzes",
           "La bohème place aux herbes",
           44.01167638,
           4.41908838
          ],
          [
           "Uzes",
           "Coeur d'Uzès",
           44.0133411,
           4.419716
          ],
          [
           "Uzes",
           "Une chambre à Uzès",
           44.0118323,
           4.4185005
          ],
          [
           "Uzes",
           "Le trente trois",
           44.00964195,
           4.41788524
          ],
          [
           "Uzes",
           "Hôtel Le Saint-Geniès",
           44.02305334,
           4.42047223
          ],
          [
           "Uzes",
           "Les cèdres",
           44.01184741,
           4.41413619
          ],
          [
           "Uzes",
           "La DAME de FLAUX",
           44.0120504,
           4.4192438
          ],
          [
           "Uzes",
           "appartement 3 min a pied du centre d'Uzès parking piscine",
           44.012765,
           4.414323
          ],
          [
           "Uzes",
           "LOGIS HOTEL RESTAURANT L' Auberge d'Uzes",
           43.99277827,
           4.42427516
          ],
          [
           "Nimes",
           "Superbe appartement avec Patio",
           43.8306183,
           4.3695378
          ],
          [
           "Nimes",
           "Chambres d'Hôtes Lovely Planette",
           43.857101,
           4.347915
          ],
          [
           "Nimes",
           "L'escapade Nîmoise",
           43.8311178,
           4.3558908
          ],
          [
           "Nimes",
           "Loft calme à la Maison Carrée - Une Nuit à Nîmes",
           43.8375758,
           4.3561496
          ],
          [
           "Nimes",
           "entre arènes et maison carrée",
           43.83628985,
           4.35639625
          ],
          [
           "Nimes",
           "Nîmes Centre - A 5 minutes des Arènes",
           43.83305972,
           4.35522823
          ],
          [
           "Nimes",
           "L'Ecluse - Clim - Parking - Central",
           43.837507,
           4.3651684
          ],
          [
           "Nimes",
           "Superbe appartement avec parking sur place",
           43.8379994,
           4.3709063
          ],
          [
           "Nimes",
           "Maison dans les Arbres, SPA, Tennis, Parking",
           43.764496,
           4.363017
          ],
          [
           "Nimes",
           "Hôtel De L'Amphithéâtre",
           43.83581534,
           4.35914017
          ],
          [
           "Nimes",
           "Spa Nimeslodge",
           43.81742735,
           4.30728994
          ],
          [
           "Nimes",
           "Les Madones",
           43.7646229,
           4.360898
          ],
          [
           "Nimes",
           "Nîmes Appartement de charme Terracotta",
           43.8359086,
           4.3582994
          ],
          [
           "Nimes",
           "Hotel Majestic",
           43.83436329,
           4.36533675
          ],
          [
           "Nimes",
           "Royal Hôtel",
           43.8388151,
           4.35481846
          ],
          [
           "Nimes",
           "ibis budget Nimes Centre Gare",
           43.8320559,
           4.3673645
          ],
          [
           "Nimes",
           "Appart Le Massillon Arenes Centre",
           43.83149498,
           4.35929775
          ],
          [
           "Nimes",
           "Appart Cosy Terrasse gare de Nîmes",
           43.8302457,
           4.3644799
          ],
          [
           "Nimes",
           "Les Gites du Mas des Cigales",
           43.8495003,
           4.3276656
          ],
          [
           "Nimes",
           "Mezza'Nîmes",
           43.8389888,
           4.3684168
          ],
          [
           "Aigues Mortes",
           null,
           null,
           null
          ],
          [
           "Saintes Maries de la mer",
           "Hotel Mas des Lys",
           43.47418844,
           4.41020608
          ],
          [
           "Saintes Maries de la mer",
           "Clamador",
           43.46821258,
           4.3956323
          ],
          [
           "Saintes Maries de la mer",
           "L'auberge Camarguaise",
           43.47184235,
           4.41156596
          ],
          [
           "Saintes Maries de la mer",
           "Hôtel du Pont Blanc",
           43.45705076,
           4.42464903
          ],
          [
           "Saintes Maries de la mer",
           "Mas Des Salicornes",
           43.45687142,
           4.42617595
          ],
          [
           "Saintes Maries de la mer",
           "Résidence La Palma",
           43.45105644,
           4.42515671
          ],
          [
           "Saintes Maries de la mer",
           "Hôtel Les Arcades",
           43.4526278,
           4.43076655
          ],
          [
           "Saintes Maries de la mer",
           "Les Rizières",
           43.47103999,
           4.41058695
          ],
          [
           "Saintes Maries de la mer",
           "Hôtel Le Mirage",
           43.45310192,
           4.4305855
          ],
          [
           "Saintes Maries de la mer",
           "Manade Cavallini - Mas de Pioch",
           43.52955573,
           4.40055013
          ],
          [
           "Saintes Maries de la mer",
           "Les Aigrettes 6",
           43.45270936,
           4.42869102
          ],
          [
           "Saintes Maries de la mer",
           "Hôtel Casa Marina",
           43.451133,
           4.430953
          ],
          [
           "Saintes Maries de la mer",
           "Appartement calme à deux pas de la mer",
           43.45563851,
           4.43499494
          ],
          [
           "Saintes Maries de la mer",
           "Le Fangassier",
           43.45449604,
           4.43070754
          ],
          [
           "Saintes Maries de la mer",
           "Le Dauphin Bleu",
           43.45233086,
           4.43364993
          ],
          [
           "Saintes Maries de la mer",
           "Le Maset",
           43.45656073,
           4.42670293
          ],
          [
           "Saintes Maries de la mer",
           "Hotel Lou Marquès",
           43.45512494,
           4.42874014
          ],
          [
           "Saintes Maries de la mer",
           "Hotel Camille",
           43.45039148,
           4.42991227
          ],
          [
           "Saintes Maries de la mer",
           "Le mas des mourguettes",
           43.51820734,
           4.37478617
          ],
          [
           "Saintes Maries de la mer",
           "Hotel Les Palmiers En Camargue",
           43.45106618,
           4.42509368
          ],
          [
           "Collioure",
           "Grand Hotel des Balcons",
           48.85042234,
           2.33929932
          ],
          [
           "Collioure",
           "Hotel des Arts - Cite Bergere",
           48.87188026,
           2.34465466
          ],
          [
           "Collioure",
           "Hôtel de la Place des Alpes",
           48.83215691,
           2.35884726
          ],
          [
           "Collioure",
           "Hotel France Albion",
           48.87749886,
           2.33832166
          ],
          [
           "Collioure",
           "Hôtel De Venise",
           48.84527191,
           2.3836121
          ],
          [
           "Collioure",
           "Au Pacific Hotel",
           48.84866308,
           2.29187276
          ],
          [
           "Collioure",
           "NOTRE DAME - STYLISH APARTMENT",
           48.853042,
           2.344922
          ],
          [
           "Collioure",
           "Apt full of charm with a terrace -15th Paris",
           48.8431455,
           2.2998398
          ],
          [
           "Collioure",
           "HIGHSTAY - Luxury Serviced Apartments - Le Marais Area",
           48.8630868,
           2.3565614
          ],
          [
           "Collioure",
           "Boutik Boheme L'Atelier Père Lachaise",
           48.8666892,
           2.3853924
          ],
          [
           "Collioure",
           "Newly Refurbished Home in the Heart of Paris",
           48.8674554,
           2.33622
          ],
          [
           "Collioure",
           "GuestReady - Modern flat near Latin Quarter!",
           48.8317994,
           2.3467405
          ],
          [
           "Collioure",
           "Boutik Boheme - Triplex Monceau",
           48.8848111,
           2.316965
          ],
          [
           "Collioure",
           "Boutik Boheme Le jardin Montmartre",
           48.886861,
           2.339863
          ],
          [
           "Collioure",
           "Boutik Boheme Le Loft Batignolles",
           48.8884738,
           2.3207222
          ],
          [
           "Collioure",
           "Beautiful 1BR6P - Montorgueil RDC",
           48.8667668,
           2.351618
          ],
          [
           "Collioure",
           "The Sleeping Lion",
           48.852282,
           2.362531
          ],
          [
           "Collioure",
           "Résidence Palais Étoile",
           48.87838937,
           2.28467211
          ],
          [
           "Collioure",
           "Hôtel Marignan",
           48.8499233,
           2.3465272
          ],
          [
           "Collioure",
           "Hotel Zora",
           48.86645888,
           2.34674074
          ]
         ],
         "hovertemplate": "temperature=%{marker.size}<br>city=%{customdata[0]}<br>hotel=%{customdata[1]}<br>score=%{marker.color}<extra></extra>",
         "lat": [
          48.06517112,
          48.0697205,
          48.07733814,
          48.07192026,
          48.0690798,
          48.078129,
          48.0800695,
          48.07536124,
          48.077116,
          48.0819572,
          48.07198787,
          48.07080074,
          48.086305,
          48.076806,
          48.07519738,
          48.08156846,
          48.08745399,
          48.07856728,
          48.074822,
          48.08619471,
          48.0418229,
          48.0437864,
          48.041599,
          48.04242043,
          48.04224054,
          48.04363894,
          48.04502734,
          48.0424275,
          48.042963,
          48.04223841,
          48.0437022,
          48.0430187,
          48.0476831,
          48.0461134,
          48.0428645,
          48.0437697,
          48.0427072,
          48.043006,
          48.0430391,
          48.04327133,
          48.87188026,
          48.88532693,
          48.84527191,
          48.87209209,
          48.8666892,
          48.8667668,
          48.8513107,
          48.84989342,
          48.8630868,
          48.852282,
          48.853042,
          48.8848111,
          48.886861,
          48.8674554,
          48.8884738,
          48.8431455,
          48.8317994,
          48.87838937,
          48.86645888,
          48.8499233,
          43.296098,
          43.35369652,
          43.293005,
          43.2967904,
          43.274493,
          43.2711791,
          43.29594971,
          43.30046625,
          43.30020105,
          43.2505303,
          43.299162,
          43.2552348,
          43.2933393,
          43.30195653,
          43.27857845,
          43.2971674,
          43.300655,
          43.29655283,
          43.29152194,
          43.2963499,
          43.9454205,
          43.9457524,
          43.9496041,
          43.95108984,
          43.9465116,
          43.94362946,
          43.95140587,
          43.95034438,
          43.9503586,
          43.94917757,
          43.9361955,
          43.9507095,
          43.9431856,
          43.9461706,
          43.9451596,
          43.94459,
          43.94459,
          43.9469767,
          43.947347,
          43.95130865,
          44.0119373,
          44.001412,
          43.982419,
          44.014659,
          44.01544515,
          44.0121521,
          44.0121786,
          44.0132239,
          44.0127104,
          44.0127652,
          44.0112246,
          44.01167638,
          44.0133411,
          44.0118323,
          44.00964195,
          44.02305334,
          44.01184741,
          44.0120504,
          44.012765,
          43.99277827,
          43.8306183,
          43.857101,
          43.8311178,
          43.8375758,
          43.83628985,
          43.83305972,
          43.837507,
          43.8379994,
          43.764496,
          43.83581534,
          43.81742735,
          43.7646229,
          43.8359086,
          43.83436329,
          43.8388151,
          43.8320559,
          43.83149498,
          43.8302457,
          43.8495003,
          43.8389888,
          null,
          43.47418844,
          43.46821258,
          43.47184235,
          43.45705076,
          43.45687142,
          43.45105644,
          43.4526278,
          43.47103999,
          43.45310192,
          43.52955573,
          43.45270936,
          43.451133,
          43.45563851,
          43.45449604,
          43.45233086,
          43.45656073,
          43.45512494,
          43.45039148,
          43.51820734,
          43.45106618,
          48.85042234,
          48.87188026,
          48.83215691,
          48.87749886,
          48.84527191,
          48.84866308,
          48.853042,
          48.8431455,
          48.8630868,
          48.8666892,
          48.8674554,
          48.8317994,
          48.8848111,
          48.886861,
          48.8884738,
          48.8667668,
          48.852282,
          48.87838937,
          48.8499233,
          48.86645888
         ],
         "legendgroup": "",
         "lon": [
          7.36302316,
          7.3587897,
          7.35609418,
          7.36053944,
          7.3784513,
          7.361633,
          7.3565921,
          7.3470819,
          7.3667839,
          7.3535124,
          7.36855002,
          7.34638973,
          7.361828,
          7.3655232,
          7.35821951,
          7.35212973,
          7.36068696,
          7.35292046,
          7.357553,
          7.33953695,
          7.30527944,
          7.3057051,
          7.306161,
          7.30631925,
          7.3127051,
          7.30606377,
          7.31185466,
          7.308131,
          7.307216,
          7.30916776,
          7.30599767,
          7.3043542,
          7.3132915,
          7.3051632,
          7.3061238,
          7.3054,
          7.3044255,
          7.3043162,
          7.30580762,
          7.30412185,
          2.34465466,
          2.33602367,
          2.3836121,
          2.3452886,
          2.3853924,
          2.351618,
          2.3924126,
          2.34510066,
          2.3565614,
          2.362531,
          2.344922,
          2.316965,
          2.339863,
          2.33622,
          2.3207222,
          2.2998398,
          2.3467405,
          2.28467211,
          2.34674074,
          2.3465272,
          5.487121,
          5.43803366,
          5.3768201,
          5.3664856,
          5.4101133,
          5.3831269,
          5.37455259,
          5.37444157,
          5.38260245,
          5.3814817,
          5.401543,
          5.3835876,
          5.3765135,
          5.37229434,
          5.35831802,
          5.3912804,
          5.381292,
          5.37188329,
          5.40403225,
          5.3656487,
          4.8042644,
          4.8140567,
          4.8115416,
          4.79801933,
          4.8035118,
          4.81217131,
          4.80340572,
          4.81153785,
          4.8167692,
          4.81083119,
          4.82600075,
          4.8033843,
          4.8194008,
          4.8101887,
          4.8081572,
          4.810002,
          4.810002,
          4.8102906,
          4.803461,
          4.81073503,
          4.4131642,
          4.419783,
          4.437963,
          4.4200515,
          4.40987,
          4.4169701,
          4.4063181,
          4.4222682,
          4.4185003,
          4.4143231,
          4.4199226,
          4.41908838,
          4.419716,
          4.4185005,
          4.41788524,
          4.42047223,
          4.41413619,
          4.4192438,
          4.414323,
          4.42427516,
          4.3695378,
          4.347915,
          4.3558908,
          4.3561496,
          4.35639625,
          4.35522823,
          4.3651684,
          4.3709063,
          4.363017,
          4.35914017,
          4.30728994,
          4.360898,
          4.3582994,
          4.36533675,
          4.35481846,
          4.3673645,
          4.35929775,
          4.3644799,
          4.3276656,
          4.3684168,
          null,
          4.41020608,
          4.3956323,
          4.41156596,
          4.42464903,
          4.42617595,
          4.42515671,
          4.43076655,
          4.41058695,
          4.4305855,
          4.40055013,
          4.42869102,
          4.430953,
          4.43499494,
          4.43070754,
          4.43364993,
          4.42670293,
          4.42874014,
          4.42991227,
          4.37478617,
          4.42509368,
          2.33929932,
          2.34465466,
          2.35884726,
          2.33832166,
          2.3836121,
          2.29187276,
          2.344922,
          2.2998398,
          2.3565614,
          2.3853924,
          2.33622,
          2.3467405,
          2.316965,
          2.339863,
          2.3207222,
          2.351618,
          2.362531,
          2.28467211,
          2.3465272,
          2.34674074
         ],
         "marker": {
          "color": [
           3,
           3,
           3,
           3,
           3,
           null,
           3,
           3,
           3,
           3,
           3,
           3,
           2,
           3,
           2,
           2,
           2,
           2,
           1,
           1,
           3,
           3,
           3,
           3,
           3,
           3,
           3,
           3,
           3,
           3,
           3,
           3,
           3,
           3,
           3,
           3,
           3,
           2,
           2,
           2,
           2,
           2,
           2,
           2,
           1,
           1,
           2,
           2,
           1,
           1,
           null,
           1,
           1,
           1,
           1,
           1,
           1,
           1,
           1,
           1,
           3,
           3,
           3,
           3,
           3,
           3,
           3,
           3,
           3,
           3,
           3,
           3,
           3,
           3,
           3,
           2,
           1,
           2,
           2,
           2,
           3,
           3,
           3,
           3,
           3,
           3,
           3,
           3,
           3,
           3,
           3,
           3,
           3,
           3,
           2,
           2,
           2,
           2,
           2,
           2,
           3,
           3,
           3,
           2,
           3,
           3,
           3,
           3,
           3,
           3,
           3,
           3,
           3,
           3,
           3,
           3,
           3,
           3,
           3,
           2,
           3,
           3,
           3,
           3,
           3,
           3,
           3,
           3,
           3,
           3,
           3,
           3,
           3,
           3,
           3,
           2,
           2,
           2,
           1,
           1,
           null,
           3,
           3,
           3,
           3,
           3,
           3,
           3,
           3,
           3,
           3,
           2,
           3,
           3,
           2,
           3,
           2,
           2,
           2,
           1,
           2,
           2,
           2,
           2,
           2,
           2,
           2,
           null,
           1,
           1,
           1,
           1,
           1,
           1,
           1,
           1,
           1,
           1,
           1,
           1,
           1
          ],
          "coloraxis": "coloraxis",
          "size": [
           18,
           18,
           18,
           18,
           18,
           18,
           18,
           18,
           18,
           18,
           18,
           18,
           18,
           18,
           18,
           18,
           18,
           18,
           18,
           18,
           18,
           18,
           18,
           18,
           18,
           18,
           18,
           18,
           18,
           18,
           18,
           18,
           18,
           18,
           18,
           18,
           18,
           18,
           18,
           18,
           23,
           23,
           23,
           23,
           23,
           23,
           23,
           23,
           23,
           23,
           23,
           23,
           23,
           23,
           23,
           23,
           23,
           23,
           23,
           23,
           22,
           22,
           22,
           22,
           22,
           22,
           22,
           22,
           22,
           22,
           22,
           22,
           22,
           22,
           22,
           22,
           22,
           22,
           22,
           22,
           21,
           21,
           21,
           21,
           21,
           21,
           21,
           21,
           21,
           21,
           21,
           21,
           21,
           21,
           21,
           21,
           21,
           21,
           21,
           21,
           20,
           20,
           20,
           20,
           20,
           20,
           20,
           20,
           20,
           20,
           20,
           20,
           20,
           20,
           20,
           20,
           20,
           20,
           20,
           20,
           21,
           21,
           21,
           21,
           21,
           21,
           21,
           21,
           21,
           21,
           21,
           21,
           21,
           21,
           21,
           21,
           21,
           21,
           21,
           21,
           22,
           22,
           22,
           22,
           22,
           22,
           22,
           22,
           22,
           22,
           22,
           22,
           22,
           22,
           22,
           22,
           22,
           22,
           22,
           22,
           22,
           21,
           21,
           21,
           21,
           21,
           21,
           21,
           21,
           21,
           21,
           21,
           21,
           21,
           21,
           21,
           21,
           21,
           21,
           21,
           21
          ],
          "sizemode": "area",
          "sizeref": 0.0575
         },
         "mode": "markers",
         "name": "",
         "showlegend": false,
         "subplot": "mapbox",
         "type": "scattermapbox"
        }
       ],
       "layout": {
        "coloraxis": {
         "colorbar": {
          "title": {
           "text": "score"
          }
         },
         "colorscale": [
          [
           0,
           "rgb(255,245,235)"
          ],
          [
           0.125,
           "rgb(254,230,206)"
          ],
          [
           0.25,
           "rgb(253,208,162)"
          ],
          [
           0.375,
           "rgb(253,174,107)"
          ],
          [
           0.5,
           "rgb(253,141,60)"
          ],
          [
           0.625,
           "rgb(241,105,19)"
          ],
          [
           0.75,
           "rgb(217,72,1)"
          ],
          [
           0.875,
           "rgb(166,54,3)"
          ],
          [
           1,
           "rgb(127,39,4)"
          ]
         ]
        },
        "height": 510,
        "legend": {
         "itemsizing": "constant",
         "tracegroupgap": 0
        },
        "mapbox": {
         "center": {
          "lat": 45.82079289444444,
          "lon": 4.749304308277777
         },
         "domain": {
          "x": [
           0,
           1
          ],
          "y": [
           0,
           1
          ]
         },
         "style": "open-street-map",
         "zoom": 10
        },
        "margin": {
         "t": 60
        },
        "template": {
         "data": {
          "bar": [
           {
            "error_x": {
             "color": "#2a3f5f"
            },
            "error_y": {
             "color": "#2a3f5f"
            },
            "marker": {
             "line": {
              "color": "#E5ECF6",
              "width": 0.5
             },
             "pattern": {
              "fillmode": "overlay",
              "size": 10,
              "solidity": 0.2
             }
            },
            "type": "bar"
           }
          ],
          "barpolar": [
           {
            "marker": {
             "line": {
              "color": "#E5ECF6",
              "width": 0.5
             },
             "pattern": {
              "fillmode": "overlay",
              "size": 10,
              "solidity": 0.2
             }
            },
            "type": "barpolar"
           }
          ],
          "carpet": [
           {
            "aaxis": {
             "endlinecolor": "#2a3f5f",
             "gridcolor": "white",
             "linecolor": "white",
             "minorgridcolor": "white",
             "startlinecolor": "#2a3f5f"
            },
            "baxis": {
             "endlinecolor": "#2a3f5f",
             "gridcolor": "white",
             "linecolor": "white",
             "minorgridcolor": "white",
             "startlinecolor": "#2a3f5f"
            },
            "type": "carpet"
           }
          ],
          "choropleth": [
           {
            "colorbar": {
             "outlinewidth": 0,
             "ticks": ""
            },
            "type": "choropleth"
           }
          ],
          "contour": [
           {
            "colorbar": {
             "outlinewidth": 0,
             "ticks": ""
            },
            "colorscale": [
             [
              0,
              "#0d0887"
             ],
             [
              0.1111111111111111,
              "#46039f"
             ],
             [
              0.2222222222222222,
              "#7201a8"
             ],
             [
              0.3333333333333333,
              "#9c179e"
             ],
             [
              0.4444444444444444,
              "#bd3786"
             ],
             [
              0.5555555555555556,
              "#d8576b"
             ],
             [
              0.6666666666666666,
              "#ed7953"
             ],
             [
              0.7777777777777778,
              "#fb9f3a"
             ],
             [
              0.8888888888888888,
              "#fdca26"
             ],
             [
              1,
              "#f0f921"
             ]
            ],
            "type": "contour"
           }
          ],
          "contourcarpet": [
           {
            "colorbar": {
             "outlinewidth": 0,
             "ticks": ""
            },
            "type": "contourcarpet"
           }
          ],
          "heatmap": [
           {
            "colorbar": {
             "outlinewidth": 0,
             "ticks": ""
            },
            "colorscale": [
             [
              0,
              "#0d0887"
             ],
             [
              0.1111111111111111,
              "#46039f"
             ],
             [
              0.2222222222222222,
              "#7201a8"
             ],
             [
              0.3333333333333333,
              "#9c179e"
             ],
             [
              0.4444444444444444,
              "#bd3786"
             ],
             [
              0.5555555555555556,
              "#d8576b"
             ],
             [
              0.6666666666666666,
              "#ed7953"
             ],
             [
              0.7777777777777778,
              "#fb9f3a"
             ],
             [
              0.8888888888888888,
              "#fdca26"
             ],
             [
              1,
              "#f0f921"
             ]
            ],
            "type": "heatmap"
           }
          ],
          "heatmapgl": [
           {
            "colorbar": {
             "outlinewidth": 0,
             "ticks": ""
            },
            "colorscale": [
             [
              0,
              "#0d0887"
             ],
             [
              0.1111111111111111,
              "#46039f"
             ],
             [
              0.2222222222222222,
              "#7201a8"
             ],
             [
              0.3333333333333333,
              "#9c179e"
             ],
             [
              0.4444444444444444,
              "#bd3786"
             ],
             [
              0.5555555555555556,
              "#d8576b"
             ],
             [
              0.6666666666666666,
              "#ed7953"
             ],
             [
              0.7777777777777778,
              "#fb9f3a"
             ],
             [
              0.8888888888888888,
              "#fdca26"
             ],
             [
              1,
              "#f0f921"
             ]
            ],
            "type": "heatmapgl"
           }
          ],
          "histogram": [
           {
            "marker": {
             "pattern": {
              "fillmode": "overlay",
              "size": 10,
              "solidity": 0.2
             }
            },
            "type": "histogram"
           }
          ],
          "histogram2d": [
           {
            "colorbar": {
             "outlinewidth": 0,
             "ticks": ""
            },
            "colorscale": [
             [
              0,
              "#0d0887"
             ],
             [
              0.1111111111111111,
              "#46039f"
             ],
             [
              0.2222222222222222,
              "#7201a8"
             ],
             [
              0.3333333333333333,
              "#9c179e"
             ],
             [
              0.4444444444444444,
              "#bd3786"
             ],
             [
              0.5555555555555556,
              "#d8576b"
             ],
             [
              0.6666666666666666,
              "#ed7953"
             ],
             [
              0.7777777777777778,
              "#fb9f3a"
             ],
             [
              0.8888888888888888,
              "#fdca26"
             ],
             [
              1,
              "#f0f921"
             ]
            ],
            "type": "histogram2d"
           }
          ],
          "histogram2dcontour": [
           {
            "colorbar": {
             "outlinewidth": 0,
             "ticks": ""
            },
            "colorscale": [
             [
              0,
              "#0d0887"
             ],
             [
              0.1111111111111111,
              "#46039f"
             ],
             [
              0.2222222222222222,
              "#7201a8"
             ],
             [
              0.3333333333333333,
              "#9c179e"
             ],
             [
              0.4444444444444444,
              "#bd3786"
             ],
             [
              0.5555555555555556,
              "#d8576b"
             ],
             [
              0.6666666666666666,
              "#ed7953"
             ],
             [
              0.7777777777777778,
              "#fb9f3a"
             ],
             [
              0.8888888888888888,
              "#fdca26"
             ],
             [
              1,
              "#f0f921"
             ]
            ],
            "type": "histogram2dcontour"
           }
          ],
          "mesh3d": [
           {
            "colorbar": {
             "outlinewidth": 0,
             "ticks": ""
            },
            "type": "mesh3d"
           }
          ],
          "parcoords": [
           {
            "line": {
             "colorbar": {
              "outlinewidth": 0,
              "ticks": ""
             }
            },
            "type": "parcoords"
           }
          ],
          "pie": [
           {
            "automargin": true,
            "type": "pie"
           }
          ],
          "scatter": [
           {
            "fillpattern": {
             "fillmode": "overlay",
             "size": 10,
             "solidity": 0.2
            },
            "type": "scatter"
           }
          ],
          "scatter3d": [
           {
            "line": {
             "colorbar": {
              "outlinewidth": 0,
              "ticks": ""
             }
            },
            "marker": {
             "colorbar": {
              "outlinewidth": 0,
              "ticks": ""
             }
            },
            "type": "scatter3d"
           }
          ],
          "scattercarpet": [
           {
            "marker": {
             "colorbar": {
              "outlinewidth": 0,
              "ticks": ""
             }
            },
            "type": "scattercarpet"
           }
          ],
          "scattergeo": [
           {
            "marker": {
             "colorbar": {
              "outlinewidth": 0,
              "ticks": ""
             }
            },
            "type": "scattergeo"
           }
          ],
          "scattergl": [
           {
            "marker": {
             "colorbar": {
              "outlinewidth": 0,
              "ticks": ""
             }
            },
            "type": "scattergl"
           }
          ],
          "scattermapbox": [
           {
            "marker": {
             "colorbar": {
              "outlinewidth": 0,
              "ticks": ""
             }
            },
            "type": "scattermapbox"
           }
          ],
          "scatterpolar": [
           {
            "marker": {
             "colorbar": {
              "outlinewidth": 0,
              "ticks": ""
             }
            },
            "type": "scatterpolar"
           }
          ],
          "scatterpolargl": [
           {
            "marker": {
             "colorbar": {
              "outlinewidth": 0,
              "ticks": ""
             }
            },
            "type": "scatterpolargl"
           }
          ],
          "scatterternary": [
           {
            "marker": {
             "colorbar": {
              "outlinewidth": 0,
              "ticks": ""
             }
            },
            "type": "scatterternary"
           }
          ],
          "surface": [
           {
            "colorbar": {
             "outlinewidth": 0,
             "ticks": ""
            },
            "colorscale": [
             [
              0,
              "#0d0887"
             ],
             [
              0.1111111111111111,
              "#46039f"
             ],
             [
              0.2222222222222222,
              "#7201a8"
             ],
             [
              0.3333333333333333,
              "#9c179e"
             ],
             [
              0.4444444444444444,
              "#bd3786"
             ],
             [
              0.5555555555555556,
              "#d8576b"
             ],
             [
              0.6666666666666666,
              "#ed7953"
             ],
             [
              0.7777777777777778,
              "#fb9f3a"
             ],
             [
              0.8888888888888888,
              "#fdca26"
             ],
             [
              1,
              "#f0f921"
             ]
            ],
            "type": "surface"
           }
          ],
          "table": [
           {
            "cells": {
             "fill": {
              "color": "#EBF0F8"
             },
             "line": {
              "color": "white"
             }
            },
            "header": {
             "fill": {
              "color": "#C8D4E3"
             },
             "line": {
              "color": "white"
             }
            },
            "type": "table"
           }
          ]
         },
         "layout": {
          "annotationdefaults": {
           "arrowcolor": "#2a3f5f",
           "arrowhead": 0,
           "arrowwidth": 1
          },
          "autotypenumbers": "strict",
          "coloraxis": {
           "colorbar": {
            "outlinewidth": 0,
            "ticks": ""
           }
          },
          "colorscale": {
           "diverging": [
            [
             0,
             "#8e0152"
            ],
            [
             0.1,
             "#c51b7d"
            ],
            [
             0.2,
             "#de77ae"
            ],
            [
             0.3,
             "#f1b6da"
            ],
            [
             0.4,
             "#fde0ef"
            ],
            [
             0.5,
             "#f7f7f7"
            ],
            [
             0.6,
             "#e6f5d0"
            ],
            [
             0.7,
             "#b8e186"
            ],
            [
             0.8,
             "#7fbc41"
            ],
            [
             0.9,
             "#4d9221"
            ],
            [
             1,
             "#276419"
            ]
           ],
           "sequential": [
            [
             0,
             "#0d0887"
            ],
            [
             0.1111111111111111,
             "#46039f"
            ],
            [
             0.2222222222222222,
             "#7201a8"
            ],
            [
             0.3333333333333333,
             "#9c179e"
            ],
            [
             0.4444444444444444,
             "#bd3786"
            ],
            [
             0.5555555555555556,
             "#d8576b"
            ],
            [
             0.6666666666666666,
             "#ed7953"
            ],
            [
             0.7777777777777778,
             "#fb9f3a"
            ],
            [
             0.8888888888888888,
             "#fdca26"
            ],
            [
             1,
             "#f0f921"
            ]
           ],
           "sequentialminus": [
            [
             0,
             "#0d0887"
            ],
            [
             0.1111111111111111,
             "#46039f"
            ],
            [
             0.2222222222222222,
             "#7201a8"
            ],
            [
             0.3333333333333333,
             "#9c179e"
            ],
            [
             0.4444444444444444,
             "#bd3786"
            ],
            [
             0.5555555555555556,
             "#d8576b"
            ],
            [
             0.6666666666666666,
             "#ed7953"
            ],
            [
             0.7777777777777778,
             "#fb9f3a"
            ],
            [
             0.8888888888888888,
             "#fdca26"
            ],
            [
             1,
             "#f0f921"
            ]
           ]
          },
          "colorway": [
           "#636efa",
           "#EF553B",
           "#00cc96",
           "#ab63fa",
           "#FFA15A",
           "#19d3f3",
           "#FF6692",
           "#B6E880",
           "#FF97FF",
           "#FECB52"
          ],
          "font": {
           "color": "#2a3f5f"
          },
          "geo": {
           "bgcolor": "white",
           "lakecolor": "white",
           "landcolor": "#E5ECF6",
           "showlakes": true,
           "showland": true,
           "subunitcolor": "white"
          },
          "hoverlabel": {
           "align": "left"
          },
          "hovermode": "closest",
          "mapbox": {
           "style": "light"
          },
          "paper_bgcolor": "white",
          "plot_bgcolor": "#E5ECF6",
          "polar": {
           "angularaxis": {
            "gridcolor": "white",
            "linecolor": "white",
            "ticks": ""
           },
           "bgcolor": "#E5ECF6",
           "radialaxis": {
            "gridcolor": "white",
            "linecolor": "white",
            "ticks": ""
           }
          },
          "scene": {
           "xaxis": {
            "backgroundcolor": "#E5ECF6",
            "gridcolor": "white",
            "gridwidth": 2,
            "linecolor": "white",
            "showbackground": true,
            "ticks": "",
            "zerolinecolor": "white"
           },
           "yaxis": {
            "backgroundcolor": "#E5ECF6",
            "gridcolor": "white",
            "gridwidth": 2,
            "linecolor": "white",
            "showbackground": true,
            "ticks": "",
            "zerolinecolor": "white"
           },
           "zaxis": {
            "backgroundcolor": "#E5ECF6",
            "gridcolor": "white",
            "gridwidth": 2,
            "linecolor": "white",
            "showbackground": true,
            "ticks": "",
            "zerolinecolor": "white"
           }
          },
          "shapedefaults": {
           "line": {
            "color": "#2a3f5f"
           }
          },
          "ternary": {
           "aaxis": {
            "gridcolor": "white",
            "linecolor": "white",
            "ticks": ""
           },
           "baxis": {
            "gridcolor": "white",
            "linecolor": "white",
            "ticks": ""
           },
           "bgcolor": "#E5ECF6",
           "caxis": {
            "gridcolor": "white",
            "linecolor": "white",
            "ticks": ""
           }
          },
          "title": {
           "x": 0.05
          },
          "xaxis": {
           "automargin": true,
           "gridcolor": "white",
           "linecolor": "white",
           "ticks": "",
           "title": {
            "standoff": 15
           },
           "zerolinecolor": "white",
           "zerolinewidth": 2
          },
          "yaxis": {
           "automargin": true,
           "gridcolor": "white",
           "linecolor": "white",
           "ticks": "",
           "title": {
            "standoff": 15
           },
           "zerolinecolor": "white",
           "zerolinewidth": 2
          }
         }
        },
        "width": 700
       }
      }
     },
     "metadata": {},
     "output_type": "display_data"
    }
   ],
   "source": [
    "fig = px.scatter_mapbox(df_top_20, lat=\"lat\", lon=\"lon\", color=\"score\", mapbox_style=\"open-street-map\", zoom = 10, size = \"temperature\", color_continuous_scale=\"oranges\", \n",
    "                        hover_data={\"city\": True, \"hotel\": True, \"lat\": False, \"lon\": False}, height=510, width=700)\n",
    "fig.show()"
   ]
  }
 ],
 "metadata": {
  "kernelspec": {
   "display_name": "base",
   "language": "python",
   "name": "python3"
  },
  "language_info": {
   "codemirror_mode": {
    "name": "ipython",
    "version": 3
   },
   "file_extension": ".py",
   "mimetype": "text/x-python",
   "name": "python",
   "nbconvert_exporter": "python",
   "pygments_lexer": "ipython3",
   "version": "3.11.5"
  }
 },
 "nbformat": 4,
 "nbformat_minor": 2
}
