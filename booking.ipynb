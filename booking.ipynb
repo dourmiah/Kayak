{
  "cells": [
    {
      "cell_type": "markdown",
      "metadata": {
        "colab_type": "text",
        "id": "view-in-github"
      },
      "source": [
        "<a href=\"https://colab.research.google.com/github/Qv-code-Qv/kayak_data/blob/main/booking.ipynb\" target=\"_parent\"><img src=\"https://colab.research.google.com/assets/colab-badge.svg\" alt=\"Open In Colab\"/></a>"
      ]
    },
    {
      "cell_type": "code",
      "execution_count": null,
      "metadata": {
        "colab": {
          "base_uri": "https://localhost:8080/"
        },
        "id": "3a8QJAtQRvHR",
        "outputId": "bf509097-aef8-4019-f617-478ac2a3df97"
      },
      "outputs": [],
      "source": [
        "!pip install scrapy"
      ]
    },
    {
      "cell_type": "code",
      "execution_count": null,
      "metadata": {
        "colab": {
          "base_uri": "https://localhost:8080/"
        },
        "id": "LeHCTzE8R9zm",
        "outputId": "a371afea-03bf-4a32-a713-ec9d4b72a44f"
      },
      "outputs": [],
      "source": [
        "!python booking.py"
      ]
    },
    {
      "cell_type": "code",
      "execution_count": 1,
      "metadata": {},
      "outputs": [],
      "source": [
        "import plotly.express as px\n",
        "from plotly.subplots import make_subplots\n",
        "import plotly.graph_objects as go\n",
        "import pandas as pd"
      ]
    },
    {
      "cell_type": "code",
      "execution_count": 44,
      "metadata": {},
      "outputs": [
        {
          "data": {
            "application/vnd.plotly.v1+json": {
              "config": {
                "plotlyServerURL": "https://plot.ly"
              },
              "data": [
                {
                  "coloraxis": "coloraxis",
                  "hovertemplate": "Latitude=%{lat}<br>Longitude=%{lon}<extra></extra>",
                  "lat": [
                    48.6359541,
                    48.649518,
                    49.2764624,
                    49.4938975,
                    49.4404591,
                    48.8588897,
                    49.8941708,
                    50.6365654,
                    48.584614,
                    48.249489800000006,
                    48.0777517,
                    48.0447968,
                    47.2380222,
                    47.3215806,
                    45.8992348,
                    45.1875602,
                    45.7578137,
                    43.7496562,
                    43.1506968,
                    43.2140359,
                    43.2961743,
                    43.5298424,
                    43.9492493,
                    44.0121279,
                    43.8374249,
                    43.5661521,
                    43.4515922,
                    42.52505,
                    43.2130358,
                    42.9455368,
                    43.6044622,
                    44.0175835,
                    43.47114375,
                    43.4945144,
                    46.1591126
                  ],
                  "lon": [
                    -1.511459954959514,
                    -2.0260409,
                    -0.7024738,
                    0.1079732,
                    1.0939658,
                    2.3200410217200766,
                    2.2956951,
                    3.0635282,
                    7.7507127,
                    7.34429620253195,
                    7.3579641,
                    7.3079618,
                    6.0243622,
                    5.0414701,
                    6.1288847,
                    5.7357819,
                    4.8320114,
                    6.3285616,
                    6.3419285,
                    5.5396318,
                    5.3699525,
                    5.4474738,
                    4.8059012,
                    4.4196718,
                    4.3600687,
                    4.19154,
                    4.4277202,
                    3.0831554,
                    2.3491069,
                    1.4065544156065486,
                    1.4442469,
                    1.3549991,
                    -1.552726590666314,
                    -1.4736657,
                    -1.1520434
                  ],
                  "name": "",
                  "opacity": 1,
                  "subplot": "mapbox",
                  "type": "densitymapbox"
                }
              ],
              "layout": {
                "coloraxis": {
                  "colorscale": [
                    [
                      0,
                      "#0d0887"
                    ],
                    [
                      0.1111111111111111,
                      "#46039f"
                    ],
                    [
                      0.2222222222222222,
                      "#7201a8"
                    ],
                    [
                      0.3333333333333333,
                      "#9c179e"
                    ],
                    [
                      0.4444444444444444,
                      "#bd3786"
                    ],
                    [
                      0.5555555555555556,
                      "#d8576b"
                    ],
                    [
                      0.6666666666666666,
                      "#ed7953"
                    ],
                    [
                      0.7777777777777778,
                      "#fb9f3a"
                    ],
                    [
                      0.8888888888888888,
                      "#fdca26"
                    ],
                    [
                      1,
                      "#f0f921"
                    ]
                  ]
                },
                "height": 450,
                "legend": {
                  "tracegroupgap": 0
                },
                "mapbox": {
                  "center": {
                    "lat": 45.84097633857144,
                    "lon": 3.39590716840665
                  },
                  "domain": {
                    "x": [
                      0,
                      1
                    ],
                    "y": [
                      0,
                      1
                    ]
                  },
                  "style": "open-street-map",
                  "zoom": 4
                },
                "template": {
                  "data": {
                    "bar": [
                      {
                        "error_x": {
                          "color": "#2a3f5f"
                        },
                        "error_y": {
                          "color": "#2a3f5f"
                        },
                        "marker": {
                          "line": {
                            "color": "#E5ECF6",
                            "width": 0.5
                          },
                          "pattern": {
                            "fillmode": "overlay",
                            "size": 10,
                            "solidity": 0.2
                          }
                        },
                        "type": "bar"
                      }
                    ],
                    "barpolar": [
                      {
                        "marker": {
                          "line": {
                            "color": "#E5ECF6",
                            "width": 0.5
                          },
                          "pattern": {
                            "fillmode": "overlay",
                            "size": 10,
                            "solidity": 0.2
                          }
                        },
                        "type": "barpolar"
                      }
                    ],
                    "carpet": [
                      {
                        "aaxis": {
                          "endlinecolor": "#2a3f5f",
                          "gridcolor": "white",
                          "linecolor": "white",
                          "minorgridcolor": "white",
                          "startlinecolor": "#2a3f5f"
                        },
                        "baxis": {
                          "endlinecolor": "#2a3f5f",
                          "gridcolor": "white",
                          "linecolor": "white",
                          "minorgridcolor": "white",
                          "startlinecolor": "#2a3f5f"
                        },
                        "type": "carpet"
                      }
                    ],
                    "choropleth": [
                      {
                        "colorbar": {
                          "outlinewidth": 0,
                          "ticks": ""
                        },
                        "type": "choropleth"
                      }
                    ],
                    "contour": [
                      {
                        "colorbar": {
                          "outlinewidth": 0,
                          "ticks": ""
                        },
                        "colorscale": [
                          [
                            0,
                            "#0d0887"
                          ],
                          [
                            0.1111111111111111,
                            "#46039f"
                          ],
                          [
                            0.2222222222222222,
                            "#7201a8"
                          ],
                          [
                            0.3333333333333333,
                            "#9c179e"
                          ],
                          [
                            0.4444444444444444,
                            "#bd3786"
                          ],
                          [
                            0.5555555555555556,
                            "#d8576b"
                          ],
                          [
                            0.6666666666666666,
                            "#ed7953"
                          ],
                          [
                            0.7777777777777778,
                            "#fb9f3a"
                          ],
                          [
                            0.8888888888888888,
                            "#fdca26"
                          ],
                          [
                            1,
                            "#f0f921"
                          ]
                        ],
                        "type": "contour"
                      }
                    ],
                    "contourcarpet": [
                      {
                        "colorbar": {
                          "outlinewidth": 0,
                          "ticks": ""
                        },
                        "type": "contourcarpet"
                      }
                    ],
                    "heatmap": [
                      {
                        "colorbar": {
                          "outlinewidth": 0,
                          "ticks": ""
                        },
                        "colorscale": [
                          [
                            0,
                            "#0d0887"
                          ],
                          [
                            0.1111111111111111,
                            "#46039f"
                          ],
                          [
                            0.2222222222222222,
                            "#7201a8"
                          ],
                          [
                            0.3333333333333333,
                            "#9c179e"
                          ],
                          [
                            0.4444444444444444,
                            "#bd3786"
                          ],
                          [
                            0.5555555555555556,
                            "#d8576b"
                          ],
                          [
                            0.6666666666666666,
                            "#ed7953"
                          ],
                          [
                            0.7777777777777778,
                            "#fb9f3a"
                          ],
                          [
                            0.8888888888888888,
                            "#fdca26"
                          ],
                          [
                            1,
                            "#f0f921"
                          ]
                        ],
                        "type": "heatmap"
                      }
                    ],
                    "heatmapgl": [
                      {
                        "colorbar": {
                          "outlinewidth": 0,
                          "ticks": ""
                        },
                        "colorscale": [
                          [
                            0,
                            "#0d0887"
                          ],
                          [
                            0.1111111111111111,
                            "#46039f"
                          ],
                          [
                            0.2222222222222222,
                            "#7201a8"
                          ],
                          [
                            0.3333333333333333,
                            "#9c179e"
                          ],
                          [
                            0.4444444444444444,
                            "#bd3786"
                          ],
                          [
                            0.5555555555555556,
                            "#d8576b"
                          ],
                          [
                            0.6666666666666666,
                            "#ed7953"
                          ],
                          [
                            0.7777777777777778,
                            "#fb9f3a"
                          ],
                          [
                            0.8888888888888888,
                            "#fdca26"
                          ],
                          [
                            1,
                            "#f0f921"
                          ]
                        ],
                        "type": "heatmapgl"
                      }
                    ],
                    "histogram": [
                      {
                        "marker": {
                          "pattern": {
                            "fillmode": "overlay",
                            "size": 10,
                            "solidity": 0.2
                          }
                        },
                        "type": "histogram"
                      }
                    ],
                    "histogram2d": [
                      {
                        "colorbar": {
                          "outlinewidth": 0,
                          "ticks": ""
                        },
                        "colorscale": [
                          [
                            0,
                            "#0d0887"
                          ],
                          [
                            0.1111111111111111,
                            "#46039f"
                          ],
                          [
                            0.2222222222222222,
                            "#7201a8"
                          ],
                          [
                            0.3333333333333333,
                            "#9c179e"
                          ],
                          [
                            0.4444444444444444,
                            "#bd3786"
                          ],
                          [
                            0.5555555555555556,
                            "#d8576b"
                          ],
                          [
                            0.6666666666666666,
                            "#ed7953"
                          ],
                          [
                            0.7777777777777778,
                            "#fb9f3a"
                          ],
                          [
                            0.8888888888888888,
                            "#fdca26"
                          ],
                          [
                            1,
                            "#f0f921"
                          ]
                        ],
                        "type": "histogram2d"
                      }
                    ],
                    "histogram2dcontour": [
                      {
                        "colorbar": {
                          "outlinewidth": 0,
                          "ticks": ""
                        },
                        "colorscale": [
                          [
                            0,
                            "#0d0887"
                          ],
                          [
                            0.1111111111111111,
                            "#46039f"
                          ],
                          [
                            0.2222222222222222,
                            "#7201a8"
                          ],
                          [
                            0.3333333333333333,
                            "#9c179e"
                          ],
                          [
                            0.4444444444444444,
                            "#bd3786"
                          ],
                          [
                            0.5555555555555556,
                            "#d8576b"
                          ],
                          [
                            0.6666666666666666,
                            "#ed7953"
                          ],
                          [
                            0.7777777777777778,
                            "#fb9f3a"
                          ],
                          [
                            0.8888888888888888,
                            "#fdca26"
                          ],
                          [
                            1,
                            "#f0f921"
                          ]
                        ],
                        "type": "histogram2dcontour"
                      }
                    ],
                    "mesh3d": [
                      {
                        "colorbar": {
                          "outlinewidth": 0,
                          "ticks": ""
                        },
                        "type": "mesh3d"
                      }
                    ],
                    "parcoords": [
                      {
                        "line": {
                          "colorbar": {
                            "outlinewidth": 0,
                            "ticks": ""
                          }
                        },
                        "type": "parcoords"
                      }
                    ],
                    "pie": [
                      {
                        "automargin": true,
                        "type": "pie"
                      }
                    ],
                    "scatter": [
                      {
                        "fillpattern": {
                          "fillmode": "overlay",
                          "size": 10,
                          "solidity": 0.2
                        },
                        "type": "scatter"
                      }
                    ],
                    "scatter3d": [
                      {
                        "line": {
                          "colorbar": {
                            "outlinewidth": 0,
                            "ticks": ""
                          }
                        },
                        "marker": {
                          "colorbar": {
                            "outlinewidth": 0,
                            "ticks": ""
                          }
                        },
                        "type": "scatter3d"
                      }
                    ],
                    "scattercarpet": [
                      {
                        "marker": {
                          "colorbar": {
                            "outlinewidth": 0,
                            "ticks": ""
                          }
                        },
                        "type": "scattercarpet"
                      }
                    ],
                    "scattergeo": [
                      {
                        "marker": {
                          "colorbar": {
                            "outlinewidth": 0,
                            "ticks": ""
                          }
                        },
                        "type": "scattergeo"
                      }
                    ],
                    "scattergl": [
                      {
                        "marker": {
                          "colorbar": {
                            "outlinewidth": 0,
                            "ticks": ""
                          }
                        },
                        "type": "scattergl"
                      }
                    ],
                    "scattermapbox": [
                      {
                        "marker": {
                          "colorbar": {
                            "outlinewidth": 0,
                            "ticks": ""
                          }
                        },
                        "type": "scattermapbox"
                      }
                    ],
                    "scatterpolar": [
                      {
                        "marker": {
                          "colorbar": {
                            "outlinewidth": 0,
                            "ticks": ""
                          }
                        },
                        "type": "scatterpolar"
                      }
                    ],
                    "scatterpolargl": [
                      {
                        "marker": {
                          "colorbar": {
                            "outlinewidth": 0,
                            "ticks": ""
                          }
                        },
                        "type": "scatterpolargl"
                      }
                    ],
                    "scatterternary": [
                      {
                        "marker": {
                          "colorbar": {
                            "outlinewidth": 0,
                            "ticks": ""
                          }
                        },
                        "type": "scatterternary"
                      }
                    ],
                    "surface": [
                      {
                        "colorbar": {
                          "outlinewidth": 0,
                          "ticks": ""
                        },
                        "colorscale": [
                          [
                            0,
                            "#0d0887"
                          ],
                          [
                            0.1111111111111111,
                            "#46039f"
                          ],
                          [
                            0.2222222222222222,
                            "#7201a8"
                          ],
                          [
                            0.3333333333333333,
                            "#9c179e"
                          ],
                          [
                            0.4444444444444444,
                            "#bd3786"
                          ],
                          [
                            0.5555555555555556,
                            "#d8576b"
                          ],
                          [
                            0.6666666666666666,
                            "#ed7953"
                          ],
                          [
                            0.7777777777777778,
                            "#fb9f3a"
                          ],
                          [
                            0.8888888888888888,
                            "#fdca26"
                          ],
                          [
                            1,
                            "#f0f921"
                          ]
                        ],
                        "type": "surface"
                      }
                    ],
                    "table": [
                      {
                        "cells": {
                          "fill": {
                            "color": "#EBF0F8"
                          },
                          "line": {
                            "color": "white"
                          }
                        },
                        "header": {
                          "fill": {
                            "color": "#C8D4E3"
                          },
                          "line": {
                            "color": "white"
                          }
                        },
                        "type": "table"
                      }
                    ]
                  },
                  "layout": {
                    "annotationdefaults": {
                      "arrowcolor": "#2a3f5f",
                      "arrowhead": 0,
                      "arrowwidth": 1
                    },
                    "autotypenumbers": "strict",
                    "coloraxis": {
                      "colorbar": {
                        "outlinewidth": 0,
                        "ticks": ""
                      }
                    },
                    "colorscale": {
                      "diverging": [
                        [
                          0,
                          "#8e0152"
                        ],
                        [
                          0.1,
                          "#c51b7d"
                        ],
                        [
                          0.2,
                          "#de77ae"
                        ],
                        [
                          0.3,
                          "#f1b6da"
                        ],
                        [
                          0.4,
                          "#fde0ef"
                        ],
                        [
                          0.5,
                          "#f7f7f7"
                        ],
                        [
                          0.6,
                          "#e6f5d0"
                        ],
                        [
                          0.7,
                          "#b8e186"
                        ],
                        [
                          0.8,
                          "#7fbc41"
                        ],
                        [
                          0.9,
                          "#4d9221"
                        ],
                        [
                          1,
                          "#276419"
                        ]
                      ],
                      "sequential": [
                        [
                          0,
                          "#0d0887"
                        ],
                        [
                          0.1111111111111111,
                          "#46039f"
                        ],
                        [
                          0.2222222222222222,
                          "#7201a8"
                        ],
                        [
                          0.3333333333333333,
                          "#9c179e"
                        ],
                        [
                          0.4444444444444444,
                          "#bd3786"
                        ],
                        [
                          0.5555555555555556,
                          "#d8576b"
                        ],
                        [
                          0.6666666666666666,
                          "#ed7953"
                        ],
                        [
                          0.7777777777777778,
                          "#fb9f3a"
                        ],
                        [
                          0.8888888888888888,
                          "#fdca26"
                        ],
                        [
                          1,
                          "#f0f921"
                        ]
                      ],
                      "sequentialminus": [
                        [
                          0,
                          "#0d0887"
                        ],
                        [
                          0.1111111111111111,
                          "#46039f"
                        ],
                        [
                          0.2222222222222222,
                          "#7201a8"
                        ],
                        [
                          0.3333333333333333,
                          "#9c179e"
                        ],
                        [
                          0.4444444444444444,
                          "#bd3786"
                        ],
                        [
                          0.5555555555555556,
                          "#d8576b"
                        ],
                        [
                          0.6666666666666666,
                          "#ed7953"
                        ],
                        [
                          0.7777777777777778,
                          "#fb9f3a"
                        ],
                        [
                          0.8888888888888888,
                          "#fdca26"
                        ],
                        [
                          1,
                          "#f0f921"
                        ]
                      ]
                    },
                    "colorway": [
                      "#636efa",
                      "#EF553B",
                      "#00cc96",
                      "#ab63fa",
                      "#FFA15A",
                      "#19d3f3",
                      "#FF6692",
                      "#B6E880",
                      "#FF97FF",
                      "#FECB52"
                    ],
                    "font": {
                      "color": "#2a3f5f"
                    },
                    "geo": {
                      "bgcolor": "white",
                      "lakecolor": "white",
                      "landcolor": "#E5ECF6",
                      "showlakes": true,
                      "showland": true,
                      "subunitcolor": "white"
                    },
                    "hoverlabel": {
                      "align": "left"
                    },
                    "hovermode": "closest",
                    "mapbox": {
                      "style": "light"
                    },
                    "paper_bgcolor": "white",
                    "plot_bgcolor": "#E5ECF6",
                    "polar": {
                      "angularaxis": {
                        "gridcolor": "white",
                        "linecolor": "white",
                        "ticks": ""
                      },
                      "bgcolor": "#E5ECF6",
                      "radialaxis": {
                        "gridcolor": "white",
                        "linecolor": "white",
                        "ticks": ""
                      }
                    },
                    "scene": {
                      "xaxis": {
                        "backgroundcolor": "#E5ECF6",
                        "gridcolor": "white",
                        "gridwidth": 2,
                        "linecolor": "white",
                        "showbackground": true,
                        "ticks": "",
                        "zerolinecolor": "white"
                      },
                      "yaxis": {
                        "backgroundcolor": "#E5ECF6",
                        "gridcolor": "white",
                        "gridwidth": 2,
                        "linecolor": "white",
                        "showbackground": true,
                        "ticks": "",
                        "zerolinecolor": "white"
                      },
                      "zaxis": {
                        "backgroundcolor": "#E5ECF6",
                        "gridcolor": "white",
                        "gridwidth": 2,
                        "linecolor": "white",
                        "showbackground": true,
                        "ticks": "",
                        "zerolinecolor": "white"
                      }
                    },
                    "shapedefaults": {
                      "line": {
                        "color": "#2a3f5f"
                      }
                    },
                    "ternary": {
                      "aaxis": {
                        "gridcolor": "white",
                        "linecolor": "white",
                        "ticks": ""
                      },
                      "baxis": {
                        "gridcolor": "white",
                        "linecolor": "white",
                        "ticks": ""
                      },
                      "bgcolor": "#E5ECF6",
                      "caxis": {
                        "gridcolor": "white",
                        "linecolor": "white",
                        "ticks": ""
                      }
                    },
                    "title": {
                      "x": 0.05
                    },
                    "xaxis": {
                      "automargin": true,
                      "gridcolor": "white",
                      "linecolor": "white",
                      "ticks": "",
                      "title": {
                        "standoff": 15
                      },
                      "zerolinecolor": "white",
                      "zerolinewidth": 2
                    },
                    "yaxis": {
                      "automargin": true,
                      "gridcolor": "white",
                      "linecolor": "white",
                      "ticks": "",
                      "title": {
                        "standoff": 15
                      },
                      "zerolinecolor": "white",
                      "zerolinewidth": 2
                    }
                  }
                },
                "title": {
                  "text": "Météo de la semaine :"
                },
                "width": 716
              }
            }
          },
          "metadata": {},
          "output_type": "display_data"
        },
        {
          "data": {
            "application/vnd.plotly.v1+json": {
              "config": {
                "plotlyServerURL": "https://plot.ly"
              },
              "data": [
                {
                  "hovertemplate": "Ville=Lille<br>Hotel=%{text}<br>Latitude=%{lat}<br>Longitude=%{lon}<extra></extra>",
                  "lat": [
                    50.63624596
                  ],
                  "legendgroup": "Lille",
                  "lon": [
                    3.06924239
                  ],
                  "marker": {
                    "color": "#636efa",
                    "opacity": 1
                  },
                  "mode": "markers+text",
                  "name": "Lille",
                  "showlegend": true,
                  "subplot": "mapbox",
                  "text": [
                    "Hotel Chagnot"
                  ],
                  "type": "scattermapbox"
                },
                {
                  "hovertemplate": "Ville=Marseille<br>Hotel=%{text}<br>Latitude=%{lat}<br>Longitude=%{lon}<extra></extra>",
                  "lat": [
                    43.29655283,
                    43.300655
                  ],
                  "legendgroup": "Marseille",
                  "lon": [
                    5.37188329,
                    5.381292
                  ],
                  "marker": {
                    "color": "#EF553B",
                    "opacity": 1
                  },
                  "mode": "markers+text",
                  "name": "Marseille",
                  "showlegend": true,
                  "subplot": "mapbox",
                  "text": [
                    "Hôtel Hermès",
                    "NOCNOC - L'Haussmanien"
                  ],
                  "type": "scattermapbox"
                }
              ],
              "layout": {
                "height": 450,
                "legend": {
                  "title": {
                    "text": "Ville"
                  },
                  "tracegroupgap": 0
                },
                "mapbox": {
                  "center": {
                    "lat": 45.744484596666666,
                    "lon": 4.607472560000001
                  },
                  "domain": {
                    "x": [
                      0,
                      1
                    ],
                    "y": [
                      0,
                      1
                    ]
                  },
                  "style": "open-street-map",
                  "zoom": 4
                },
                "template": {
                  "data": {
                    "bar": [
                      {
                        "error_x": {
                          "color": "#2a3f5f"
                        },
                        "error_y": {
                          "color": "#2a3f5f"
                        },
                        "marker": {
                          "line": {
                            "color": "#E5ECF6",
                            "width": 0.5
                          },
                          "pattern": {
                            "fillmode": "overlay",
                            "size": 10,
                            "solidity": 0.2
                          }
                        },
                        "type": "bar"
                      }
                    ],
                    "barpolar": [
                      {
                        "marker": {
                          "line": {
                            "color": "#E5ECF6",
                            "width": 0.5
                          },
                          "pattern": {
                            "fillmode": "overlay",
                            "size": 10,
                            "solidity": 0.2
                          }
                        },
                        "type": "barpolar"
                      }
                    ],
                    "carpet": [
                      {
                        "aaxis": {
                          "endlinecolor": "#2a3f5f",
                          "gridcolor": "white",
                          "linecolor": "white",
                          "minorgridcolor": "white",
                          "startlinecolor": "#2a3f5f"
                        },
                        "baxis": {
                          "endlinecolor": "#2a3f5f",
                          "gridcolor": "white",
                          "linecolor": "white",
                          "minorgridcolor": "white",
                          "startlinecolor": "#2a3f5f"
                        },
                        "type": "carpet"
                      }
                    ],
                    "choropleth": [
                      {
                        "colorbar": {
                          "outlinewidth": 0,
                          "ticks": ""
                        },
                        "type": "choropleth"
                      }
                    ],
                    "contour": [
                      {
                        "colorbar": {
                          "outlinewidth": 0,
                          "ticks": ""
                        },
                        "colorscale": [
                          [
                            0,
                            "#0d0887"
                          ],
                          [
                            0.1111111111111111,
                            "#46039f"
                          ],
                          [
                            0.2222222222222222,
                            "#7201a8"
                          ],
                          [
                            0.3333333333333333,
                            "#9c179e"
                          ],
                          [
                            0.4444444444444444,
                            "#bd3786"
                          ],
                          [
                            0.5555555555555556,
                            "#d8576b"
                          ],
                          [
                            0.6666666666666666,
                            "#ed7953"
                          ],
                          [
                            0.7777777777777778,
                            "#fb9f3a"
                          ],
                          [
                            0.8888888888888888,
                            "#fdca26"
                          ],
                          [
                            1,
                            "#f0f921"
                          ]
                        ],
                        "type": "contour"
                      }
                    ],
                    "contourcarpet": [
                      {
                        "colorbar": {
                          "outlinewidth": 0,
                          "ticks": ""
                        },
                        "type": "contourcarpet"
                      }
                    ],
                    "heatmap": [
                      {
                        "colorbar": {
                          "outlinewidth": 0,
                          "ticks": ""
                        },
                        "colorscale": [
                          [
                            0,
                            "#0d0887"
                          ],
                          [
                            0.1111111111111111,
                            "#46039f"
                          ],
                          [
                            0.2222222222222222,
                            "#7201a8"
                          ],
                          [
                            0.3333333333333333,
                            "#9c179e"
                          ],
                          [
                            0.4444444444444444,
                            "#bd3786"
                          ],
                          [
                            0.5555555555555556,
                            "#d8576b"
                          ],
                          [
                            0.6666666666666666,
                            "#ed7953"
                          ],
                          [
                            0.7777777777777778,
                            "#fb9f3a"
                          ],
                          [
                            0.8888888888888888,
                            "#fdca26"
                          ],
                          [
                            1,
                            "#f0f921"
                          ]
                        ],
                        "type": "heatmap"
                      }
                    ],
                    "heatmapgl": [
                      {
                        "colorbar": {
                          "outlinewidth": 0,
                          "ticks": ""
                        },
                        "colorscale": [
                          [
                            0,
                            "#0d0887"
                          ],
                          [
                            0.1111111111111111,
                            "#46039f"
                          ],
                          [
                            0.2222222222222222,
                            "#7201a8"
                          ],
                          [
                            0.3333333333333333,
                            "#9c179e"
                          ],
                          [
                            0.4444444444444444,
                            "#bd3786"
                          ],
                          [
                            0.5555555555555556,
                            "#d8576b"
                          ],
                          [
                            0.6666666666666666,
                            "#ed7953"
                          ],
                          [
                            0.7777777777777778,
                            "#fb9f3a"
                          ],
                          [
                            0.8888888888888888,
                            "#fdca26"
                          ],
                          [
                            1,
                            "#f0f921"
                          ]
                        ],
                        "type": "heatmapgl"
                      }
                    ],
                    "histogram": [
                      {
                        "marker": {
                          "pattern": {
                            "fillmode": "overlay",
                            "size": 10,
                            "solidity": 0.2
                          }
                        },
                        "type": "histogram"
                      }
                    ],
                    "histogram2d": [
                      {
                        "colorbar": {
                          "outlinewidth": 0,
                          "ticks": ""
                        },
                        "colorscale": [
                          [
                            0,
                            "#0d0887"
                          ],
                          [
                            0.1111111111111111,
                            "#46039f"
                          ],
                          [
                            0.2222222222222222,
                            "#7201a8"
                          ],
                          [
                            0.3333333333333333,
                            "#9c179e"
                          ],
                          [
                            0.4444444444444444,
                            "#bd3786"
                          ],
                          [
                            0.5555555555555556,
                            "#d8576b"
                          ],
                          [
                            0.6666666666666666,
                            "#ed7953"
                          ],
                          [
                            0.7777777777777778,
                            "#fb9f3a"
                          ],
                          [
                            0.8888888888888888,
                            "#fdca26"
                          ],
                          [
                            1,
                            "#f0f921"
                          ]
                        ],
                        "type": "histogram2d"
                      }
                    ],
                    "histogram2dcontour": [
                      {
                        "colorbar": {
                          "outlinewidth": 0,
                          "ticks": ""
                        },
                        "colorscale": [
                          [
                            0,
                            "#0d0887"
                          ],
                          [
                            0.1111111111111111,
                            "#46039f"
                          ],
                          [
                            0.2222222222222222,
                            "#7201a8"
                          ],
                          [
                            0.3333333333333333,
                            "#9c179e"
                          ],
                          [
                            0.4444444444444444,
                            "#bd3786"
                          ],
                          [
                            0.5555555555555556,
                            "#d8576b"
                          ],
                          [
                            0.6666666666666666,
                            "#ed7953"
                          ],
                          [
                            0.7777777777777778,
                            "#fb9f3a"
                          ],
                          [
                            0.8888888888888888,
                            "#fdca26"
                          ],
                          [
                            1,
                            "#f0f921"
                          ]
                        ],
                        "type": "histogram2dcontour"
                      }
                    ],
                    "mesh3d": [
                      {
                        "colorbar": {
                          "outlinewidth": 0,
                          "ticks": ""
                        },
                        "type": "mesh3d"
                      }
                    ],
                    "parcoords": [
                      {
                        "line": {
                          "colorbar": {
                            "outlinewidth": 0,
                            "ticks": ""
                          }
                        },
                        "type": "parcoords"
                      }
                    ],
                    "pie": [
                      {
                        "automargin": true,
                        "type": "pie"
                      }
                    ],
                    "scatter": [
                      {
                        "fillpattern": {
                          "fillmode": "overlay",
                          "size": 10,
                          "solidity": 0.2
                        },
                        "type": "scatter"
                      }
                    ],
                    "scatter3d": [
                      {
                        "line": {
                          "colorbar": {
                            "outlinewidth": 0,
                            "ticks": ""
                          }
                        },
                        "marker": {
                          "colorbar": {
                            "outlinewidth": 0,
                            "ticks": ""
                          }
                        },
                        "type": "scatter3d"
                      }
                    ],
                    "scattercarpet": [
                      {
                        "marker": {
                          "colorbar": {
                            "outlinewidth": 0,
                            "ticks": ""
                          }
                        },
                        "type": "scattercarpet"
                      }
                    ],
                    "scattergeo": [
                      {
                        "marker": {
                          "colorbar": {
                            "outlinewidth": 0,
                            "ticks": ""
                          }
                        },
                        "type": "scattergeo"
                      }
                    ],
                    "scattergl": [
                      {
                        "marker": {
                          "colorbar": {
                            "outlinewidth": 0,
                            "ticks": ""
                          }
                        },
                        "type": "scattergl"
                      }
                    ],
                    "scattermapbox": [
                      {
                        "marker": {
                          "colorbar": {
                            "outlinewidth": 0,
                            "ticks": ""
                          }
                        },
                        "type": "scattermapbox"
                      }
                    ],
                    "scatterpolar": [
                      {
                        "marker": {
                          "colorbar": {
                            "outlinewidth": 0,
                            "ticks": ""
                          }
                        },
                        "type": "scatterpolar"
                      }
                    ],
                    "scatterpolargl": [
                      {
                        "marker": {
                          "colorbar": {
                            "outlinewidth": 0,
                            "ticks": ""
                          }
                        },
                        "type": "scatterpolargl"
                      }
                    ],
                    "scatterternary": [
                      {
                        "marker": {
                          "colorbar": {
                            "outlinewidth": 0,
                            "ticks": ""
                          }
                        },
                        "type": "scatterternary"
                      }
                    ],
                    "surface": [
                      {
                        "colorbar": {
                          "outlinewidth": 0,
                          "ticks": ""
                        },
                        "colorscale": [
                          [
                            0,
                            "#0d0887"
                          ],
                          [
                            0.1111111111111111,
                            "#46039f"
                          ],
                          [
                            0.2222222222222222,
                            "#7201a8"
                          ],
                          [
                            0.3333333333333333,
                            "#9c179e"
                          ],
                          [
                            0.4444444444444444,
                            "#bd3786"
                          ],
                          [
                            0.5555555555555556,
                            "#d8576b"
                          ],
                          [
                            0.6666666666666666,
                            "#ed7953"
                          ],
                          [
                            0.7777777777777778,
                            "#fb9f3a"
                          ],
                          [
                            0.8888888888888888,
                            "#fdca26"
                          ],
                          [
                            1,
                            "#f0f921"
                          ]
                        ],
                        "type": "surface"
                      }
                    ],
                    "table": [
                      {
                        "cells": {
                          "fill": {
                            "color": "#EBF0F8"
                          },
                          "line": {
                            "color": "white"
                          }
                        },
                        "header": {
                          "fill": {
                            "color": "#C8D4E3"
                          },
                          "line": {
                            "color": "white"
                          }
                        },
                        "type": "table"
                      }
                    ]
                  },
                  "layout": {
                    "annotationdefaults": {
                      "arrowcolor": "#2a3f5f",
                      "arrowhead": 0,
                      "arrowwidth": 1
                    },
                    "autotypenumbers": "strict",
                    "coloraxis": {
                      "colorbar": {
                        "outlinewidth": 0,
                        "ticks": ""
                      }
                    },
                    "colorscale": {
                      "diverging": [
                        [
                          0,
                          "#8e0152"
                        ],
                        [
                          0.1,
                          "#c51b7d"
                        ],
                        [
                          0.2,
                          "#de77ae"
                        ],
                        [
                          0.3,
                          "#f1b6da"
                        ],
                        [
                          0.4,
                          "#fde0ef"
                        ],
                        [
                          0.5,
                          "#f7f7f7"
                        ],
                        [
                          0.6,
                          "#e6f5d0"
                        ],
                        [
                          0.7,
                          "#b8e186"
                        ],
                        [
                          0.8,
                          "#7fbc41"
                        ],
                        [
                          0.9,
                          "#4d9221"
                        ],
                        [
                          1,
                          "#276419"
                        ]
                      ],
                      "sequential": [
                        [
                          0,
                          "#0d0887"
                        ],
                        [
                          0.1111111111111111,
                          "#46039f"
                        ],
                        [
                          0.2222222222222222,
                          "#7201a8"
                        ],
                        [
                          0.3333333333333333,
                          "#9c179e"
                        ],
                        [
                          0.4444444444444444,
                          "#bd3786"
                        ],
                        [
                          0.5555555555555556,
                          "#d8576b"
                        ],
                        [
                          0.6666666666666666,
                          "#ed7953"
                        ],
                        [
                          0.7777777777777778,
                          "#fb9f3a"
                        ],
                        [
                          0.8888888888888888,
                          "#fdca26"
                        ],
                        [
                          1,
                          "#f0f921"
                        ]
                      ],
                      "sequentialminus": [
                        [
                          0,
                          "#0d0887"
                        ],
                        [
                          0.1111111111111111,
                          "#46039f"
                        ],
                        [
                          0.2222222222222222,
                          "#7201a8"
                        ],
                        [
                          0.3333333333333333,
                          "#9c179e"
                        ],
                        [
                          0.4444444444444444,
                          "#bd3786"
                        ],
                        [
                          0.5555555555555556,
                          "#d8576b"
                        ],
                        [
                          0.6666666666666666,
                          "#ed7953"
                        ],
                        [
                          0.7777777777777778,
                          "#fb9f3a"
                        ],
                        [
                          0.8888888888888888,
                          "#fdca26"
                        ],
                        [
                          1,
                          "#f0f921"
                        ]
                      ]
                    },
                    "colorway": [
                      "#636efa",
                      "#EF553B",
                      "#00cc96",
                      "#ab63fa",
                      "#FFA15A",
                      "#19d3f3",
                      "#FF6692",
                      "#B6E880",
                      "#FF97FF",
                      "#FECB52"
                    ],
                    "font": {
                      "color": "#2a3f5f"
                    },
                    "geo": {
                      "bgcolor": "white",
                      "lakecolor": "white",
                      "landcolor": "#E5ECF6",
                      "showlakes": true,
                      "showland": true,
                      "subunitcolor": "white"
                    },
                    "hoverlabel": {
                      "align": "left"
                    },
                    "hovermode": "closest",
                    "mapbox": {
                      "style": "light"
                    },
                    "paper_bgcolor": "white",
                    "plot_bgcolor": "#E5ECF6",
                    "polar": {
                      "angularaxis": {
                        "gridcolor": "white",
                        "linecolor": "white",
                        "ticks": ""
                      },
                      "bgcolor": "#E5ECF6",
                      "radialaxis": {
                        "gridcolor": "white",
                        "linecolor": "white",
                        "ticks": ""
                      }
                    },
                    "scene": {
                      "xaxis": {
                        "backgroundcolor": "#E5ECF6",
                        "gridcolor": "white",
                        "gridwidth": 2,
                        "linecolor": "white",
                        "showbackground": true,
                        "ticks": "",
                        "zerolinecolor": "white"
                      },
                      "yaxis": {
                        "backgroundcolor": "#E5ECF6",
                        "gridcolor": "white",
                        "gridwidth": 2,
                        "linecolor": "white",
                        "showbackground": true,
                        "ticks": "",
                        "zerolinecolor": "white"
                      },
                      "zaxis": {
                        "backgroundcolor": "#E5ECF6",
                        "gridcolor": "white",
                        "gridwidth": 2,
                        "linecolor": "white",
                        "showbackground": true,
                        "ticks": "",
                        "zerolinecolor": "white"
                      }
                    },
                    "shapedefaults": {
                      "line": {
                        "color": "#2a3f5f"
                      }
                    },
                    "ternary": {
                      "aaxis": {
                        "gridcolor": "white",
                        "linecolor": "white",
                        "ticks": ""
                      },
                      "baxis": {
                        "gridcolor": "white",
                        "linecolor": "white",
                        "ticks": ""
                      },
                      "bgcolor": "#E5ECF6",
                      "caxis": {
                        "gridcolor": "white",
                        "linecolor": "white",
                        "ticks": ""
                      }
                    },
                    "title": {
                      "x": 0.05
                    },
                    "xaxis": {
                      "automargin": true,
                      "gridcolor": "white",
                      "linecolor": "white",
                      "ticks": "",
                      "title": {
                        "standoff": 15
                      },
                      "zerolinecolor": "white",
                      "zerolinewidth": 2
                    },
                    "yaxis": {
                      "automargin": true,
                      "gridcolor": "white",
                      "linecolor": "white",
                      "ticks": "",
                      "title": {
                        "standoff": 15
                      },
                      "zerolinecolor": "white",
                      "zerolinewidth": 2
                    }
                  }
                },
                "title": {
                  "text": "Nos meilleurs destinations pour le week-end :"
                },
                "width": 716
              }
            }
          },
          "metadata": {},
          "output_type": "display_data"
        },
        {
          "data": {
            "text/plain": [
              "'\\nfig.add_trace(\\n    fig1.data[0],\\n    row=1,\\n    col=1\\n)\\nfig.add_trace(\\n    fig2.data[0],\\n    row=1,\\n    col=2\\n)\\nfig\\n'"
            ]
          },
          "execution_count": 44,
          "metadata": {},
          "output_type": "execute_result"
        }
      ],
      "source": [
        "df2 = pd.read_csv('gps_data_1.csv')\n",
        "df2.head()\n",
        "df1 = pd.read_csv('gps_data.csv')\n",
        "df1.head()\n",
        "\n",
        "fig = make_subplots(rows=1, cols=2)\n",
        "\n",
        "fig1 = px.density_mapbox(df1, opacity=1, title=\"Météo de la semaine :\", lat=\"Latitude\", lon=\"Longitude\",\n",
        "                        zoom=4, mapbox_style=\"open-street-map\")\n",
        "\n",
        "\n",
        "fig2 = px.scatter_mapbox(df2, opacity=1, title=\"Nos meilleurs destinations pour le week-end :\", color=\"Ville\", text=\"Hotel\",  lat=\"Latitude\", lon=\"Longitude\",\n",
        "                        zoom=4, mapbox_style=\"open-street-map\")\n",
        "\n",
        "#fig = fig1.add_trace(fig2.data[0])\n",
        "fig1.update_layout(height=450, width=716, title_text=\"Météo de la semaine :\")\n",
        "\n",
        "fig2.update_layout(height=450, width=716, title_text=\"Nos meilleurs destinations pour le week-end :\")\n",
        "#fig.show()\n",
        "fig1.show()\n",
        "fig2.show()\n",
        "\"\"\"\n",
        "fig.add_trace(\n",
        "    fig1.data[0],\n",
        "    row=1,\n",
        "    col=1\n",
        ")\n",
        "fig.add_trace(\n",
        "    fig2.data[0],\n",
        "    row=1,\n",
        "    col=2\n",
        ")\n",
        "fig\n",
        "\"\"\""
      ]
    },
    {
      "cell_type": "code",
      "execution_count": null,
      "metadata": {},
      "outputs": [],
      "source": [
        "import os \n",
        "import logging\n",
        "import boto3.session\n",
        "import my_key as key\n",
        "import pandas as pd\n",
        "import logging\n",
        "import boto3\n",
        "import sqlite3\n",
        "\n",
        "AWS_ACCESS_KEY_ID = key.aws_access_key_id\n",
        "AWS_SECRET_ACCESS_KEY =key.aws_secret_access_key\n",
        "REGION_NAME = \"eu-west-3\"\n",
        "BUCKET_NAME =\"jehda-2024-ps-kayak.project\"\n",
        "\n",
        "booking_json = open('fichier_final/booking.json', 'rb')\n",
        "\n",
        "#sauvegarde du résultat dans data lake (aws-s3)\n",
        "logging.getLogger('botocore').setLevel(logging.INFO)\n",
        "logging.getLogger('boto3').setLevel(logging.INFO)\n",
        "session =   boto3.Session(aws_access_key_id = AWS_ACCESS_KEY_ID,\n",
        "                        aws_secret_access_key = AWS_SECRET_ACCESS_KEY,\n",
        "                        region_name= REGION_NAME)                  \n",
        "s3_kayak = session.resource(\"s3\")\n",
        "\n",
        "\"\"\" CREATE BUCKET AND UPLOAD FILE \"\"\"\n",
        "bucket_kayak = s3_kayak.create_bucket(Bucket=BUCKET_NAME,\n",
        "                          CreateBucketConfiguration={'LocationConstraint':REGION_NAME})\n",
        "print(\"Création du bucket Jedha dans AWS :\", bucket_kayak, \"\\n\")\n",
        "bucket_kayak.upload_file(\"fichier_final/booking.json\",\"files/booking.json\")\n",
        "\n",
        "\"\"\" DOWNLOAD JSON FILE FROM S3 AND READ AS  DATAFRAME \"\"\"\n",
        "s3_obj = s3_kayak.Bucket(BUCKET_NAME).Object(\"files/booking.json\").get()\n",
        "booking_df = pd.read_json(s3_obj['Body'])\n",
        "print(booking_df.head())"
      ]
    },
    {
      "cell_type": "code",
      "execution_count": null,
      "metadata": {},
      "outputs": [],
      "source": [
        "#CREATE Database booking\n",
        "conn = sqlite3.connect(':memory:')\n",
        "c= conn.cursor()\n",
        "\n",
        "#CREATE TABLE booking\n",
        "booking_df.to_sql('booking', conn, if_exists='replace', index = False)\n",
        "c.execute('SELECT ville, name, score FROM booking LIMIT 5')\n",
        "for row in c.fetchall():\n",
        "    print (row)\n",
        "conn.close()"
      ]
    },
    {
      "cell_type": "code",
      "execution_count": null,
      "metadata": {},
      "outputs": [],
      "source": [
        "\"\"\" SUPPRESSION JSON FILE in AWS  \"\"\"\n",
        "response = bucket_kayak.delete_objects(\n",
        "    Delete={\n",
        "        'Objects': [\n",
        "            {\n",
        "                'Key': \"files/booking.json\"\n",
        "            }\n",
        "        ]\n",
        "    }\n",
        ")\n",
        "print (\"\\nconfirmation suppression booking.json file dans AWS\", response, \"\\n\")\n",
        "\n",
        "response = bucket_kayak.delete()\n",
        "print (\"confirmation suppression bucket jedha-bucketdeletion dans AWS\", response, \"\\n\")"
      ]
    },
    {
      "cell_type": "code",
      "execution_count": 72,
      "metadata": {},
      "outputs": [
        {
          "name": "stdout",
          "output_type": "stream",
          "text": [
            "                                               ville  \\\n",
            "257  Aigues-Mortes%2C+Languedoc-Roussillon%2C+France   \n",
            "254  Aigues-Mortes%2C+Languedoc-Roussillon%2C+France   \n",
            "255  Aigues-Mortes%2C+Languedoc-Roussillon%2C+France   \n",
            "286  Aigues-Mortes%2C+Languedoc-Roussillon%2C+France   \n",
            "256  Aigues-Mortes%2C+Languedoc-Roussillon%2C+France   \n",
            "..                                               ...   \n",
            "394                                             Uzes   \n",
            "395                                             Uzes   \n",
            "396                                             Uzes   \n",
            "387                                             Uzes   \n",
            "377                                             Uzes   \n",
            "\n",
            "                                                  name  \\\n",
            "257                                  le dit vin secret   \n",
            "254                                  La Maison de Lyna   \n",
            "255                               Ô 36 Rempart Sud B&B   \n",
            "286                                  Hôtel Le Médiéval   \n",
            "256                               Maison des Croisades   \n",
            "..                                                 ...   \n",
            "394                              Hôtel Le Saint-Geniès   \n",
            "395                                    Le trente trois   \n",
            "396                                         La Taverne   \n",
            "387  Le Cherche Midi - Appartement centre historiqu...   \n",
            "377  Appartement moderne central avec piscine, gara...   \n",
            "\n",
            "                                               website    score  \\\n",
            "257  https://www.booking.com/hotel/fr/le-dit-vin-se...  3 sur 5   \n",
            "254  https://www.booking.com/hotel/fr/la-maison-de-...  3 sur 5   \n",
            "255  https://www.booking.com/hotel/fr/o-36-rempart-...  3 sur 5   \n",
            "286  https://www.booking.com/hotel/fr/le-medieval.f...  2 sur 5   \n",
            "256  https://www.booking.com/hotel/fr/des-croisades...  3 sur 5   \n",
            "..                                                 ...      ...   \n",
            "394  https://www.booking.com/hotel/fr/le-saint-geni...  3 sur 5   \n",
            "395  https://www.booking.com/hotel/fr/le-trente-tro...  3 sur 5   \n",
            "396  https://www.booking.com/hotel/fr/la-taverne.fr...  2 sur 5   \n",
            "387  https://www.booking.com/hotel/fr/appartement-c...  3 sur 5   \n",
            "377  https://www.booking.com/hotel/fr/le-petit-oliv...  3 sur 5   \n",
            "\n",
            "                                                  desc        lat       lon  \n",
            "257                Hébergement géré par un particulier  43.566769  4.189113  \n",
            "254  Situé à Aigues-Mortes, à 24 km de la salle omn...  43.566018  4.192353  \n",
            "255                Hébergement géré par un particulier  43.565764  4.188757  \n",
            "286  L'Hôtel Le Médiéval est situé sur les rives du...  43.571866  4.193662  \n",
            "256  Située à Aigues-Mortes, la Maison des Croisade...  43.568997  4.188298  \n",
            "..                                                 ...        ...       ...  \n",
            "394  Cet hôtel à la gestion familiale est situé au ...  44.023053  4.420472  \n",
            "395  Situé à Uzès, l'établissement Le trente trois ...  44.009642  4.417885  \n",
            "396  La Taverne est située à Uzès, dans une rue pié...  44.014659  4.420051  \n",
            "387                Hébergement géré par un particulier  44.012710  4.418500  \n",
            "377  Situé à Uzès, l'Appartement moderne central av...  44.012765  4.414323  \n",
            "\n",
            "[700 rows x 7 columns]\n"
          ]
        },
        {
          "data": {
            "text/html": [
              "<div>\n",
              "<style scoped>\n",
              "    .dataframe tbody tr th:only-of-type {\n",
              "        vertical-align: middle;\n",
              "    }\n",
              "\n",
              "    .dataframe tbody tr th {\n",
              "        vertical-align: top;\n",
              "    }\n",
              "\n",
              "    .dataframe thead th {\n",
              "        text-align: right;\n",
              "    }\n",
              "</style>\n",
              "<table border=\"1\" class=\"dataframe\">\n",
              "  <thead>\n",
              "    <tr style=\"text-align: right;\">\n",
              "      <th></th>\n",
              "      <th>ville</th>\n",
              "      <th>name</th>\n",
              "      <th>website</th>\n",
              "      <th>score</th>\n",
              "      <th>desc</th>\n",
              "      <th>lat</th>\n",
              "      <th>lon</th>\n",
              "    </tr>\n",
              "  </thead>\n",
              "  <tbody>\n",
              "    <tr>\n",
              "      <th>0</th>\n",
              "      <td>Aigues-Mortes%2C+Languedoc-Roussillon%2C+France</td>\n",
              "      <td>le dit vin secret</td>\n",
              "      <td>https://www.booking.com/hotel/fr/le-dit-vin-se...</td>\n",
              "      <td>3 sur 5</td>\n",
              "      <td>Hébergement géré par un particulier</td>\n",
              "      <td>43.566769</td>\n",
              "      <td>4.189113</td>\n",
              "    </tr>\n",
              "    <tr>\n",
              "      <th>1</th>\n",
              "      <td>Aigues-Mortes%2C+Languedoc-Roussillon%2C+France</td>\n",
              "      <td>La Maison de Lyna</td>\n",
              "      <td>https://www.booking.com/hotel/fr/la-maison-de-...</td>\n",
              "      <td>3 sur 5</td>\n",
              "      <td>Situé à Aigues-Mortes, à 24 km de la salle omn...</td>\n",
              "      <td>43.566018</td>\n",
              "      <td>4.192353</td>\n",
              "    </tr>\n",
              "    <tr>\n",
              "      <th>2</th>\n",
              "      <td>Aigues-Mortes%2C+Languedoc-Roussillon%2C+France</td>\n",
              "      <td>Ô 36 Rempart Sud B&amp;B</td>\n",
              "      <td>https://www.booking.com/hotel/fr/o-36-rempart-...</td>\n",
              "      <td>3 sur 5</td>\n",
              "      <td>Hébergement géré par un particulier</td>\n",
              "      <td>43.565764</td>\n",
              "      <td>4.188757</td>\n",
              "    </tr>\n",
              "    <tr>\n",
              "      <th>3</th>\n",
              "      <td>Aigues-Mortes%2C+Languedoc-Roussillon%2C+France</td>\n",
              "      <td>Hôtel Le Médiéval</td>\n",
              "      <td>https://www.booking.com/hotel/fr/le-medieval.f...</td>\n",
              "      <td>2 sur 5</td>\n",
              "      <td>L'Hôtel Le Médiéval est situé sur les rives du...</td>\n",
              "      <td>43.571866</td>\n",
              "      <td>4.193662</td>\n",
              "    </tr>\n",
              "    <tr>\n",
              "      <th>4</th>\n",
              "      <td>Aigues-Mortes%2C+Languedoc-Roussillon%2C+France</td>\n",
              "      <td>Maison des Croisades</td>\n",
              "      <td>https://www.booking.com/hotel/fr/des-croisades...</td>\n",
              "      <td>3 sur 5</td>\n",
              "      <td>Située à Aigues-Mortes, la Maison des Croisade...</td>\n",
              "      <td>43.568997</td>\n",
              "      <td>4.188298</td>\n",
              "    </tr>\n",
              "    <tr>\n",
              "      <th>...</th>\n",
              "      <td>...</td>\n",
              "      <td>...</td>\n",
              "      <td>...</td>\n",
              "      <td>...</td>\n",
              "      <td>...</td>\n",
              "      <td>...</td>\n",
              "      <td>...</td>\n",
              "    </tr>\n",
              "    <tr>\n",
              "      <th>695</th>\n",
              "      <td>Uzes</td>\n",
              "      <td>Hôtel Le Saint-Geniès</td>\n",
              "      <td>https://www.booking.com/hotel/fr/le-saint-geni...</td>\n",
              "      <td>3 sur 5</td>\n",
              "      <td>Cet hôtel à la gestion familiale est situé au ...</td>\n",
              "      <td>44.023053</td>\n",
              "      <td>4.420472</td>\n",
              "    </tr>\n",
              "    <tr>\n",
              "      <th>696</th>\n",
              "      <td>Uzes</td>\n",
              "      <td>Le trente trois</td>\n",
              "      <td>https://www.booking.com/hotel/fr/le-trente-tro...</td>\n",
              "      <td>3 sur 5</td>\n",
              "      <td>Situé à Uzès, l'établissement Le trente trois ...</td>\n",
              "      <td>44.009642</td>\n",
              "      <td>4.417885</td>\n",
              "    </tr>\n",
              "    <tr>\n",
              "      <th>697</th>\n",
              "      <td>Uzes</td>\n",
              "      <td>La Taverne</td>\n",
              "      <td>https://www.booking.com/hotel/fr/la-taverne.fr...</td>\n",
              "      <td>2 sur 5</td>\n",
              "      <td>La Taverne est située à Uzès, dans une rue pié...</td>\n",
              "      <td>44.014659</td>\n",
              "      <td>4.420051</td>\n",
              "    </tr>\n",
              "    <tr>\n",
              "      <th>698</th>\n",
              "      <td>Uzes</td>\n",
              "      <td>Le Cherche Midi - Appartement centre historiqu...</td>\n",
              "      <td>https://www.booking.com/hotel/fr/appartement-c...</td>\n",
              "      <td>3 sur 5</td>\n",
              "      <td>Hébergement géré par un particulier</td>\n",
              "      <td>44.012710</td>\n",
              "      <td>4.418500</td>\n",
              "    </tr>\n",
              "    <tr>\n",
              "      <th>699</th>\n",
              "      <td>Uzes</td>\n",
              "      <td>Appartement moderne central avec piscine, gara...</td>\n",
              "      <td>https://www.booking.com/hotel/fr/le-petit-oliv...</td>\n",
              "      <td>3 sur 5</td>\n",
              "      <td>Situé à Uzès, l'Appartement moderne central av...</td>\n",
              "      <td>44.012765</td>\n",
              "      <td>4.414323</td>\n",
              "    </tr>\n",
              "  </tbody>\n",
              "</table>\n",
              "<p>700 rows × 7 columns</p>\n",
              "</div>"
            ],
            "text/plain": [
              "                                               ville  \\\n",
              "0    Aigues-Mortes%2C+Languedoc-Roussillon%2C+France   \n",
              "1    Aigues-Mortes%2C+Languedoc-Roussillon%2C+France   \n",
              "2    Aigues-Mortes%2C+Languedoc-Roussillon%2C+France   \n",
              "3    Aigues-Mortes%2C+Languedoc-Roussillon%2C+France   \n",
              "4    Aigues-Mortes%2C+Languedoc-Roussillon%2C+France   \n",
              "..                                               ...   \n",
              "695                                             Uzes   \n",
              "696                                             Uzes   \n",
              "697                                             Uzes   \n",
              "698                                             Uzes   \n",
              "699                                             Uzes   \n",
              "\n",
              "                                                  name  \\\n",
              "0                                    le dit vin secret   \n",
              "1                                    La Maison de Lyna   \n",
              "2                                 Ô 36 Rempart Sud B&B   \n",
              "3                                    Hôtel Le Médiéval   \n",
              "4                                 Maison des Croisades   \n",
              "..                                                 ...   \n",
              "695                              Hôtel Le Saint-Geniès   \n",
              "696                                    Le trente trois   \n",
              "697                                         La Taverne   \n",
              "698  Le Cherche Midi - Appartement centre historiqu...   \n",
              "699  Appartement moderne central avec piscine, gara...   \n",
              "\n",
              "                                               website    score  \\\n",
              "0    https://www.booking.com/hotel/fr/le-dit-vin-se...  3 sur 5   \n",
              "1    https://www.booking.com/hotel/fr/la-maison-de-...  3 sur 5   \n",
              "2    https://www.booking.com/hotel/fr/o-36-rempart-...  3 sur 5   \n",
              "3    https://www.booking.com/hotel/fr/le-medieval.f...  2 sur 5   \n",
              "4    https://www.booking.com/hotel/fr/des-croisades...  3 sur 5   \n",
              "..                                                 ...      ...   \n",
              "695  https://www.booking.com/hotel/fr/le-saint-geni...  3 sur 5   \n",
              "696  https://www.booking.com/hotel/fr/le-trente-tro...  3 sur 5   \n",
              "697  https://www.booking.com/hotel/fr/la-taverne.fr...  2 sur 5   \n",
              "698  https://www.booking.com/hotel/fr/appartement-c...  3 sur 5   \n",
              "699  https://www.booking.com/hotel/fr/le-petit-oliv...  3 sur 5   \n",
              "\n",
              "                                                  desc        lat       lon  \n",
              "0                  Hébergement géré par un particulier  43.566769  4.189113  \n",
              "1    Situé à Aigues-Mortes, à 24 km de la salle omn...  43.566018  4.192353  \n",
              "2                  Hébergement géré par un particulier  43.565764  4.188757  \n",
              "3    L'Hôtel Le Médiéval est situé sur les rives du...  43.571866  4.193662  \n",
              "4    Située à Aigues-Mortes, la Maison des Croisade...  43.568997  4.188298  \n",
              "..                                                 ...        ...       ...  \n",
              "695  Cet hôtel à la gestion familiale est situé au ...  44.023053  4.420472  \n",
              "696  Situé à Uzès, l'établissement Le trente trois ...  44.009642  4.417885  \n",
              "697  La Taverne est située à Uzès, dans une rue pié...  44.014659  4.420051  \n",
              "698                Hébergement géré par un particulier  44.012710  4.418500  \n",
              "699  Situé à Uzès, l'Appartement moderne central av...  44.012765  4.414323  \n",
              "\n",
              "[700 rows x 7 columns]"
            ]
          },
          "execution_count": 72,
          "metadata": {},
          "output_type": "execute_result"
        }
      ],
      "source": [
        "import pandas as pd\n",
        "import json\n",
        "from operator import itemgetter\n",
        "booking_in = pd.read_json(\"booking1.json\")\n",
        "tmp =booking_in.sort_values(\"ville\")\n",
        "print(tmp)\n",
        "tmp.to_json(\"booking2.json\", orient=\"records\")\n",
        "booking_sorted = pd.read_json(\"booking2.json\")\n",
        "booking_sorted\n"
      ]
    }
  ],
  "metadata": {
    "colab": {
      "authorship_tag": "ABX9TyNfllJod/n+osgQHQAB04I7",
      "include_colab_link": true,
      "mount_file_id": "https://github.com/Qv-code-Qv/kayak_data/blob/main/booking.ipynb",
      "provenance": []
    },
    "kernelspec": {
      "display_name": "Python 3",
      "name": "python3"
    },
    "language_info": {
      "codemirror_mode": {
        "name": "ipython",
        "version": 3
      },
      "file_extension": ".py",
      "mimetype": "text/x-python",
      "name": "python",
      "nbconvert_exporter": "python",
      "pygments_lexer": "ipython3",
      "version": "3.11.8"
    }
  },
  "nbformat": 4,
  "nbformat_minor": 0
}
