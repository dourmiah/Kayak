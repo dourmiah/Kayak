{
 "cells": [
  {
   "cell_type": "code",
   "execution_count": 1,
   "metadata": {},
   "outputs": [],
   "source": [
    "import boto3\n",
    "import my_key as key\n",
    "import pandas as pd"
   ]
  },
  {
   "cell_type": "code",
   "execution_count": 2,
   "metadata": {},
   "outputs": [],
   "source": [
    "access_key = key.aws_access_key_id\n",
    "secret_key = key.aws_secret_access_key\n",
    "session = boto3.Session(aws_access_key_id=access_key, aws_secret_access_key=secret_key)"
   ]
  },
  {
   "cell_type": "code",
   "execution_count": 3,
   "metadata": {},
   "outputs": [],
   "source": [
    "s3 = session.resource('s3')"
   ]
  },
  {
   "cell_type": "code",
   "execution_count": 4,
   "metadata": {},
   "outputs": [
    {
     "data": {
      "text/plain": [
       "s3.Object(bucket_name='dom-bucket-jedha', key='data_final.csv')"
      ]
     },
     "execution_count": 4,
     "metadata": {},
     "output_type": "execute_result"
    }
   ],
   "source": [
    "s3.Bucket('dom-bucket-jedha').put_object(Key='data_final.csv', Body='data_final.csv')"
   ]
  },
  {
   "cell_type": "code",
   "execution_count": 6,
   "metadata": {},
   "outputs": [],
   "source": [
    "# !pip install psycopg2-binary # For PostgreSQL engines\n",
    "# !pip install sqlalchemy==2.0.0\n",
    "import psycopg2"
   ]
  },
  {
   "cell_type": "code",
   "execution_count": 3,
   "metadata": {},
   "outputs": [],
   "source": [
    "DBHOST = \"dom-db-jedha.ctgeygkomqnb.eu-west-3.rds.amazonaws.com\" # Host DB Instance  in AWS RDS\n",
    "DBUSER = \"***********\" # Master user db in AWS RDS\n",
    "DBPASS = \"***********\" # Master user password  in AWS RDS\n",
    "DBNAME = \"postgres\" # DB name in AWS RDS\n",
    "PORT = \"5432\" # DB port in AWS RSS"
   ]
  },
  {
   "cell_type": "code",
   "execution_count": 4,
   "metadata": {},
   "outputs": [],
   "source": [
    "from sqlalchemy import create_engine\n",
    "from sqlalchemy import Column, Integer, String, Table, MetaData\n",
    "engine = create_engine(f\"postgresql+psycopg2://{DBUSER}:{DBPASS}@{DBHOST}/{DBNAME}\", echo=True)"
   ]
  },
  {
   "cell_type": "code",
   "execution_count": 2,
   "metadata": {},
   "outputs": [
    {
     "data": {
      "text/html": [
       "<div>\n",
       "<style scoped>\n",
       "    .dataframe tbody tr th:only-of-type {\n",
       "        vertical-align: middle;\n",
       "    }\n",
       "\n",
       "    .dataframe tbody tr th {\n",
       "        vertical-align: top;\n",
       "    }\n",
       "\n",
       "    .dataframe thead th {\n",
       "        text-align: right;\n",
       "    }\n",
       "</style>\n",
       "<table border=\"1\" class=\"dataframe\">\n",
       "  <thead>\n",
       "    <tr style=\"text-align: right;\">\n",
       "      <th></th>\n",
       "      <th>id</th>\n",
       "      <th>city</th>\n",
       "      <th>temperature</th>\n",
       "      <th>humidity</th>\n",
       "      <th>weather</th>\n",
       "      <th>hotel</th>\n",
       "      <th>website</th>\n",
       "      <th>score</th>\n",
       "      <th>description</th>\n",
       "      <th>lat</th>\n",
       "      <th>lon</th>\n",
       "    </tr>\n",
       "  </thead>\n",
       "  <tbody>\n",
       "    <tr>\n",
       "      <th>0</th>\n",
       "      <td>0</td>\n",
       "      <td>Mont Saint Michel</td>\n",
       "      <td>16</td>\n",
       "      <td>89</td>\n",
       "      <td>Clouds</td>\n",
       "      <td>Hôtel Vert</td>\n",
       "      <td>https://www.booking.com/hotel/fr/vert.fr.html?...</td>\n",
       "      <td>2 sur 5</td>\n",
       "      <td>L’Hotel Vert vous propose des chambres décorée...</td>\n",
       "      <td>48.614700</td>\n",
       "      <td>-1.509617</td>\n",
       "    </tr>\n",
       "    <tr>\n",
       "      <th>1</th>\n",
       "      <td>1</td>\n",
       "      <td>Mont Saint Michel</td>\n",
       "      <td>16</td>\n",
       "      <td>89</td>\n",
       "      <td>Clouds</td>\n",
       "      <td>La Greve Saint Michel</td>\n",
       "      <td>https://www.booking.com/hotel/fr/la-greve-sain...</td>\n",
       "      <td>3 sur 5</td>\n",
       "      <td>Hébergement géré par un particulier</td>\n",
       "      <td>48.597758</td>\n",
       "      <td>-1.512284</td>\n",
       "    </tr>\n",
       "    <tr>\n",
       "      <th>2</th>\n",
       "      <td>2</td>\n",
       "      <td>Mont Saint Michel</td>\n",
       "      <td>16</td>\n",
       "      <td>89</td>\n",
       "      <td>Clouds</td>\n",
       "      <td>Maison au pied du Mont Saint Michel 2</td>\n",
       "      <td>https://www.booking.com/hotel/fr/maison-au-pie...</td>\n",
       "      <td>3 sur 5</td>\n",
       "      <td>Hébergement géré par un particulier</td>\n",
       "      <td>48.615612</td>\n",
       "      <td>-1.488512</td>\n",
       "    </tr>\n",
       "    <tr>\n",
       "      <th>3</th>\n",
       "      <td>3</td>\n",
       "      <td>Mont Saint Michel</td>\n",
       "      <td>16</td>\n",
       "      <td>89</td>\n",
       "      <td>Clouds</td>\n",
       "      <td>Gîte Caribou</td>\n",
       "      <td>https://www.booking.com/hotel/fr/gite-caribou....</td>\n",
       "      <td>3 sur 5</td>\n",
       "      <td>Hébergement géré par un particulier</td>\n",
       "      <td>48.622594</td>\n",
       "      <td>-1.390503</td>\n",
       "    </tr>\n",
       "    <tr>\n",
       "      <th>4</th>\n",
       "      <td>4</td>\n",
       "      <td>Mont Saint Michel</td>\n",
       "      <td>16</td>\n",
       "      <td>89</td>\n",
       "      <td>Clouds</td>\n",
       "      <td>Les Hortensias</td>\n",
       "      <td>https://www.booking.com/hotel/fr/les-hortensia...</td>\n",
       "      <td>3 sur 5</td>\n",
       "      <td>Hébergement géré par un particulier</td>\n",
       "      <td>48.594563</td>\n",
       "      <td>-1.617725</td>\n",
       "    </tr>\n",
       "  </tbody>\n",
       "</table>\n",
       "</div>"
      ],
      "text/plain": [
       "   id               city  temperature  humidity weather  \\\n",
       "0   0  Mont Saint Michel           16        89  Clouds   \n",
       "1   1  Mont Saint Michel           16        89  Clouds   \n",
       "2   2  Mont Saint Michel           16        89  Clouds   \n",
       "3   3  Mont Saint Michel           16        89  Clouds   \n",
       "4   4  Mont Saint Michel           16        89  Clouds   \n",
       "\n",
       "                                   hotel  \\\n",
       "0                             Hôtel Vert   \n",
       "1                  La Greve Saint Michel   \n",
       "2  Maison au pied du Mont Saint Michel 2   \n",
       "3                           Gîte Caribou   \n",
       "4                         Les Hortensias   \n",
       "\n",
       "                                             website    score  \\\n",
       "0  https://www.booking.com/hotel/fr/vert.fr.html?...  2 sur 5   \n",
       "1  https://www.booking.com/hotel/fr/la-greve-sain...  3 sur 5   \n",
       "2  https://www.booking.com/hotel/fr/maison-au-pie...  3 sur 5   \n",
       "3  https://www.booking.com/hotel/fr/gite-caribou....  3 sur 5   \n",
       "4  https://www.booking.com/hotel/fr/les-hortensia...  3 sur 5   \n",
       "\n",
       "                                         description        lat       lon  \n",
       "0  L’Hotel Vert vous propose des chambres décorée...  48.614700 -1.509617  \n",
       "1                Hébergement géré par un particulier  48.597758 -1.512284  \n",
       "2                Hébergement géré par un particulier  48.615612 -1.488512  \n",
       "3                Hébergement géré par un particulier  48.622594 -1.390503  \n",
       "4                Hébergement géré par un particulier  48.594563 -1.617725  "
      ]
     },
     "execution_count": 2,
     "metadata": {},
     "output_type": "execute_result"
    }
   ],
   "source": [
    "df = pd.read_csv(\"data_final.csv\")\n",
    "df.head()"
   ]
  },
  {
   "cell_type": "code",
   "execution_count": 6,
   "metadata": {},
   "outputs": [],
   "source": [
    "meta = MetaData()"
   ]
  },
  {
   "cell_type": "code",
   "execution_count": 8,
   "metadata": {},
   "outputs": [],
   "source": [
    "data_final = Table(\n",
    "    'data_final', meta,\n",
    "     Column(\"id\", Integer, primary_key=True),\n",
    "     Column(\"city\", String),\n",
    "     Column(\"temperature\", String),\n",
    "     Column(\"humidity\", String),\n",
    "     Column(\"weather\", String),\n",
    "     Column(\"hotel\", String),\n",
    "     Column(\"website\", String),\n",
    "     Column(\"score\", String),\n",
    "     Column(\"description\", String),\n",
    "     Column(\"lat\", String),\n",
    "     Column(\"lon\", String)\n",
    ")"
   ]
  },
  {
   "cell_type": "code",
   "execution_count": null,
   "metadata": {},
   "outputs": [],
   "source": [
    "meta.create_all(engine)"
   ]
  },
  {
   "cell_type": "code",
   "execution_count": 14,
   "metadata": {},
   "outputs": [
    {
     "name": "stdout",
     "output_type": "stream",
     "text": [
      "2024-09-12 19:04:18,783 INFO sqlalchemy.engine.Engine BEGIN (implicit)\n",
      "2024-09-12 19:04:18,789 INFO sqlalchemy.engine.Engine SELECT pg_catalog.pg_class.relname \n",
      "FROM pg_catalog.pg_class JOIN pg_catalog.pg_namespace ON pg_catalog.pg_namespace.oid = pg_catalog.pg_class.relnamespace \n",
      "WHERE pg_catalog.pg_class.relname = %(table_name)s AND pg_catalog.pg_class.relkind = ANY (ARRAY[%(param_1)s, %(param_2)s, %(param_3)s, %(param_4)s, %(param_5)s]) AND pg_catalog.pg_table_is_visible(pg_catalog.pg_class.oid) AND pg_catalog.pg_namespace.nspname != %(nspname_1)s\n",
      "2024-09-12 19:04:18,791 INFO sqlalchemy.engine.Engine [cached since 372s ago] {'table_name': 'data_final', 'param_1': 'r', 'param_2': 'p', 'param_3': 'f', 'param_4': 'v', 'param_5': 'm', 'nspname_1': 'pg_catalog'}\n",
      "2024-09-12 19:04:18,808 INFO sqlalchemy.engine.Engine \n",
      "CREATE TABLE data_final (\n",
      "\tindex BIGINT, \n",
      "\tid BIGINT, \n",
      "\tcity TEXT, \n",
      "\ttemperature BIGINT, \n",
      "\thumidity BIGINT, \n",
      "\tweather TEXT, \n",
      "\thotel TEXT, \n",
      "\twebsite TEXT, \n",
      "\tscore TEXT, \n",
      "\tdescription TEXT, \n",
      "\tlat FLOAT(53), \n",
      "\tlon FLOAT(53)\n",
      ")\n",
      "\n",
      "\n",
      "2024-09-12 19:04:18,810 INFO sqlalchemy.engine.Engine [no key 0.00107s] {}\n",
      "2024-09-12 19:04:18,825 INFO sqlalchemy.engine.Engine CREATE INDEX ix_data_final_index ON data_final (index)\n",
      "2024-09-12 19:04:18,825 INFO sqlalchemy.engine.Engine [no key 0.00073s] {}\n",
      "2024-09-12 19:04:18,852 INFO sqlalchemy.engine.Engine INSERT INTO data_final (index, id, city, temperature, humidity, weather, hotel, website, score, description, lat, lon) VALUES (%(index__0)s, %(id__0)s, %(city__0)s, %(temperature__0)s, %(humidity__0)s, %(weather__0)s, %(hotel__0)s, %(website__0)s, %( ... 134164 characters truncated ...  %(hotel__661)s, %(website__661)s, %(score__661)s, %(description__661)s, %(lat__661)s, %(lon__661)s)\n",
      "2024-09-12 19:04:18,853 INFO sqlalchemy.engine.Engine [generated in 0.00348s (insertmanyvalues)] {'index__0': 0, 'city__0': 'Mont Saint Michel', 'lon__0': -1.50961697, 'score__0': '2 sur 5', 'humidity__0': 89, 'hotel__0': 'Hôtel Vert', 'weather__0': 'Clouds', 'website__0': 'https://www.booking.com/hotel/fr/vert.fr.html?label=gen173nr-1FCAEoggI46AdIDVgEaE2IAQGYAQ24ARfIAQzYAQHoAQH4AQKIAgGoAgO4AvGX0LAGwAIB0gIkMzJhZGM0ZjAtMW ... (174 characters truncated) ... hpos=1&hapos=1&sr_order=class_asc&nflt=review_score%3D80&srpvid=f2536e5d861e02ac&srepoch=1713368507&from_sustainable_property_sr=1&from=searchresults', 'id__0': 0, 'description__0': 'L’Hotel Vert vous propose des chambres décorées dans des tons pastel, dotées d’une salle de bains privative, d’une télévision ainsi que d’une connexion Wi-Fi gratuite. ', 'temperature__0': 16, 'lat__0': 48.61470049, 'index__1': 1, 'city__1': 'Mont Saint Michel', 'lon__1': -1.51228422, 'score__1': '3 sur 5', 'humidity__1': 89, 'hotel__1': 'La Greve Saint Michel', 'weather__1': 'Clouds', 'website__1': 'https://www.booking.com/hotel/fr/la-greve-saint-michel.fr.html?label=gen173nr-1FCAEoggI46AdIDVgEaE2IAQGYAQ24ARfIAQzYAQHoAQH4AQKIAgGoAgO4AvGX0LAGwAIB0 ... (162 characters truncated) ... up_children=0&req_children=0&hpos=20&hapos=20&sr_order=class_asc&nflt=review_score%3D80&srpvid=f2536e5d861e02ac&srepoch=1713368507&from=searchresults', 'id__1': 1, 'description__1': 'Hébergement géré par un particulier', 'temperature__1': 16, 'lat__1': 48.59775819, 'index__2': 2, 'city__2': 'Mont Saint Michel', 'lon__2': -1.4885121, 'score__2': '3 sur 5', 'humidity__2': 89, 'hotel__2': 'Maison au pied du Mont Saint Michel 2', 'weather__2': 'Clouds', 'website__2': 'https://www.booking.com/hotel/fr/maison-au-pied-du-mont-saint-michel-2.fr.html?label=gen173nr-1FCAEoggI46AdIDVgEaE2IAQGYAQ24ARfIAQzYAQHoAQH4AQKIAgGoA ... (178 characters truncated) ... up_children=0&req_children=0&hpos=19&hapos=19&sr_order=class_asc&nflt=review_score%3D80&srpvid=f2536e5d861e02ac&srepoch=1713368507&from=searchresults', 'id__2': 2, 'description__2': 'Hébergement géré par un particulier', 'temperature__2': 16, 'lat__2': 48.6156117, 'index__3': 3, 'city__3': 'Mont Saint Michel', 'lon__3': -1.39050267, 'score__3': '3 sur 5', 'humidity__3': 89, 'hotel__3': 'Gîte Caribou', 'weather__3': 'Clouds', 'website__3': 'https://www.booking.com/hotel/fr/gite-caribou.fr.html?label=gen173nr-1FCAEoggI46AdIDVgEaE2IAQGYAQ24ARfIAQzYAQHoAQH4AQKIAgGoAgO4AvGX0LAGwAIB0gIkMzJhZG ... (153 characters truncated) ... up_children=0&req_children=0&hpos=18&hapos=18&sr_order=class_asc&nflt=review_score%3D80&srpvid=f2536e5d861e02ac&srepoch=1713368507&from=searchresults', 'id__3': 3, 'description__3': 'Hébergement géré par un particulier', 'temperature__3': 16, 'lat__3': 48.62259438, 'index__4': 4, 'city__4': 'Mont Saint Michel' ... 7844 parameters truncated ... 'temperature__657': 17, 'lat__657': 46.15687677, 'index__658': 658, 'city__658': 'La Rochelle', 'lon__658': -1.16604209, 'score__658': '2 sur 5', 'humidity__658': 87, 'hotel__658': 'Accostage Hôtel Plage de la Concurrence', 'weather__658': 'Clouds', 'website__658': 'https://www.booking.com/hotel/fr/accostage.fr.html?label=gen173nr-1FCAEoggI46AdIDVgEaE2IAQGYAQ24ARfIAQzYAQHoAQH4AQKIAgGoAgO4AvGX0LAGwAIB0gIkMzJhZGM0Z ... (157 characters truncated) ... ren=0&req_children=0&hpos=5&hapos=5&sr_order=class_asc&nflt=review_score%3D80&srpvid=2a546e5cb97e01a1&srepoch=1713368507&from=searchresults#hotelTmpl', 'id__658': 658, 'description__658': \"L'Accostage Hôtel Plage de la Concurrence est situé à 50 mètres du casino Barrière et à 100 mètres de la plage de La Concurrence et de la promenade du Mail. \", 'temperature__658': 17, 'lat__658': 46.15712387, 'index__659': 659, 'city__659': 'La Rochelle', 'lon__659': -1.15412772, 'score__659': '2 sur 5', 'humidity__659': 87, 'hotel__659': \"Hôtel de l'Océan\", 'weather__659': 'Clouds', 'website__659': 'https://www.booking.com/hotel/fr/de-l-ocean-la-rochelle.fr.html?label=gen173nr-1FCAEoggI46AdIDVgEaE2IAQGYAQ24ARfIAQzYAQHoAQH4AQKIAgGoAgO4AvGX0LAGwAIB ... (170 characters truncated) ... ren=0&req_children=0&hpos=2&hapos=2&sr_order=class_asc&nflt=review_score%3D80&srpvid=2a546e5cb97e01a1&srepoch=1713368507&from=searchresults#hotelTmpl', 'id__659': 659, 'description__659': \"Construit en 1646, l'Hôtel de l'Océan se trouve dans le quartier du Vieux Port, au cœur de La Rochelle. Il propose des chambres insonorisées avec climatisation et connexion Wi-Fi gratuite. \", 'temperature__659': 17, 'lat__659': 46.15701983, 'index__660': 660, 'city__660': 'La Rochelle', 'lon__660': -1.15267055, 'score__660': '2 sur 5', 'humidity__660': 87, 'hotel__660': 'Hotel La Marine, Vieux Port', 'weather__660': 'Clouds', 'website__660': 'https://www.booking.com/hotel/fr/la-marine-la-rochelle.fr.html?label=gen173nr-1FCAEoggI46AdIDVgEaE2IAQGYAQ24ARfIAQzYAQHoAQH4AQKIAgGoAgO4AvGX0LAGwAIB0 ... (200 characters truncated) ... os=3&sr_order=class_asc&nflt=review_score%3D80&srpvid=2a546e5cb97e01a1&srepoch=1713368507&from_sustainable_property_sr=1&from=searchresults#hotelTmpl', 'id__660': 660, 'description__660': \"L'Hôtel La Marine est situé dans le centre-ville de La Rochelle, dans le quartier du Vieux-Port, en face des tours médiévales. Non-fumeurs, ses chambres disposent toutes d'une connexion Wi-Fi...\", 'temperature__660': 17, 'lat__660': 46.15815872, 'index__661': 661, 'city__661': 'La Rochelle', 'lon__661': -1.165159, 'score__661': '1 sur 5', 'humidity__661': 87, 'hotel__661': 'Appartement La Rochelle, 2 pièces, 4 personnes - FR-1-246-571', 'weather__661': 'Clouds', 'website__661': 'https://www.booking.com/hotel/fr/appartement-la-rochelle-2-pieces-1-personne-fr-1-246-571.fr.html?label=gen173nr-1FCAEoggI46AdIDVgEaE2IAQGYAQ24ARfIAQ ... (235 characters truncated) ... os=1&sr_order=class_asc&nflt=review_score%3D80&srpvid=2a546e5cb97e01a1&srepoch=1713368507&from_sustainable_property_sr=1&from=searchresults#hotelTmpl', 'id__661': 661, 'description__661': \"L'Appartement La Rochelle, 2 pièces, 4 personnes - FR-1-246-571 est situé à La Rochelle, à 2,2 km de l'Espace Encan, à 2,7 km de la gare et à 3,3 km du parc des expositions. \", 'temperature__661': 17, 'lat__661': 46.14113}\n",
      "2024-09-12 19:04:18,910 INFO sqlalchemy.engine.Engine COMMIT\n"
     ]
    },
    {
     "data": {
      "text/plain": [
       "662"
      ]
     },
     "execution_count": 14,
     "metadata": {},
     "output_type": "execute_result"
    }
   ],
   "source": [
    "df.to_sql('data_final', engine)"
   ]
  }
 ],
 "metadata": {
  "kernelspec": {
   "display_name": "base",
   "language": "python",
   "name": "python3"
  },
  "language_info": {
   "codemirror_mode": {
    "name": "ipython",
    "version": 3
   },
   "file_extension": ".py",
   "mimetype": "text/x-python",
   "name": "python",
   "nbconvert_exporter": "python",
   "pygments_lexer": "ipython3",
   "version": "3.12.4"
  }
 },
 "nbformat": 4,
 "nbformat_minor": 2
}
